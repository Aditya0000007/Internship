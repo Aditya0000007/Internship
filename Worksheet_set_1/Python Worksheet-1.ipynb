{
 "cells": [
  {
   "cell_type": "markdown",
   "id": "3922b0b4",
   "metadata": {},
   "source": [
    "# Python Worksheet 1"
   ]
  },
  {
   "cell_type": "markdown",
   "id": "3723ebb9",
   "metadata": {},
   "source": [
    "1. Write a python program to find the factorial of a number.\n"
   ]
  },
  {
   "cell_type": "code",
   "execution_count": 8,
   "id": "e1d12338",
   "metadata": {},
   "outputs": [
    {
     "name": "stdout",
     "output_type": "stream",
     "text": [
      "Enter a number: 4\n",
      "The factorial of 4 is 24\n"
     ]
    }
   ],
   "source": [
    "# To take input from the user\n",
    "num = int(input(\"Enter a number: \"))\n",
    "\n",
    "fact = 1\n",
    "\n",
    "# check if the number is negative, positive or zero\n",
    "if num < 0:\n",
    "   print(\"Factorial does not exist for negative values\")\n",
    "elif num == 0:\n",
    "   print(\"The factorial of 0 is 1\") #for 0 we are defaultining it at 0\n",
    "else:  #creating loop to calculate the factorial of number\n",
    "   for i in range(1,num + 1):\n",
    "       fact = fact*i\n",
    "   print(\"The factorial of\",num,\"is\",fact)"
   ]
  },
  {
   "cell_type": "markdown",
   "id": "e8daa467",
   "metadata": {},
   "source": [
    "2. Write a python program to find whether a number is prime or composite.\n"
   ]
  },
  {
   "cell_type": "code",
   "execution_count": 6,
   "id": "efc21573",
   "metadata": {},
   "outputs": [
    {
     "name": "stdout",
     "output_type": "stream",
     "text": [
      "Enter a number: 7\n",
      "7 is a prime number\n"
     ]
    }
   ],
   "source": [
    "# To take input from the user\n",
    "num1 = int(input(\"Enter a number: \"))\n",
    "\n",
    "# prime numbers are greater than 1\n",
    "if num1 > 1:\n",
    "   # check for factors\n",
    "   for i in range(2,num1):\n",
    "       if (num1 % i) == 0:\n",
    "           print(num1,\"is not a prime number\")\n",
    "            \n",
    "           break\n",
    "   else:\n",
    "       print(num1,\"is a prime number\")\n",
    "       \n",
    "# if input number is less than\n",
    "# or equal to 1, it is not prime\n",
    "else:\n",
    "   print(num1,\"is not a prime number\")"
   ]
  },
  {
   "cell_type": "markdown",
   "id": "b052ee45",
   "metadata": {},
   "source": [
    "3. Write a python program to check whether a given string is palindrome or not"
   ]
  },
  {
   "cell_type": "code",
   "execution_count": 7,
   "id": "ca018907",
   "metadata": {},
   "outputs": [
    {
     "name": "stdout",
     "output_type": "stream",
     "text": [
      "Enter a string:121\n",
      "The string is a palindrome\n"
     ]
    }
   ],
   "source": [
    "# To take input from the user\n",
    "string=input((\"Enter a string:\"))\n",
    "\n",
    "if(string==string[::-1]):  #checking if reverse string is equal to given string or not.\n",
    "      print(\"The string is a palindrome\")\n",
    "else:\n",
    "      print(\"Not a palindrome\")"
   ]
  },
  {
   "cell_type": "markdown",
   "id": "92d639b8",
   "metadata": {},
   "source": [
    "4. Write a Python program to get the third side of right-angled triangle from two given sides."
   ]
  },
  {
   "cell_type": "code",
   "execution_count": 19,
   "id": "b051e944",
   "metadata": {},
   "outputs": [
    {
     "name": "stdout",
     "output_type": "stream",
     "text": [
      "Enter base: 2\n",
      "Enter height: 2\n",
      "Hypotenuse = 2.8284271247461903\n"
     ]
    }
   ],
   "source": [
    "#importing math library to use sqrt function\n",
    "import math \n",
    "\n",
    "# To take input of base from the user\n",
    "a = float(input(\"Enter base: \"))\n",
    "# To take input of height from the user\n",
    "b = float(input(\"Enter height: \"))\n",
    "\n",
    "c = math.sqrt(a ** 2 + b ** 2) #(Hypotenuse)2 = (Perpendicular)2 + (Base)2\n",
    "\n",
    "print(\"Hypotenuse =\", c)"
   ]
  },
  {
   "cell_type": "markdown",
   "id": "43422be6",
   "metadata": {},
   "source": [
    "5. Write a python program to print the frequency of each of the characters present in a given string"
   ]
  },
  {
   "cell_type": "code",
   "execution_count": 1,
   "id": "baf96627",
   "metadata": {},
   "outputs": [
    {
     "name": "stdout",
     "output_type": "stream",
     "text": [
      "Enter the string: Hello World\n",
      "{'H': 1, 'e': 1, 'l': 3, 'o': 2, ' ': 1, 'W': 1, 'r': 1, 'd': 1}\n"
     ]
    }
   ],
   "source": [
    "# To take input of base from the user\n",
    "str1 = input (\"Enter the string: \")\n",
    "d = dict()\n",
    "for c in str1:  #Using fot loop to check each letters \n",
    "    if c in d:\n",
    "        d[c] = d[c] + 1\n",
    "    else:\n",
    "        d[c] = 1\n",
    "print(d)"
   ]
  },
  {
   "cell_type": "code",
   "execution_count": null,
   "id": "6c54deb6",
   "metadata": {},
   "outputs": [],
   "source": []
  },
  {
   "cell_type": "code",
   "execution_count": null,
   "id": "258ae643",
   "metadata": {},
   "outputs": [],
   "source": []
  }
 ],
 "metadata": {
  "kernelspec": {
   "display_name": "Python 3",
   "language": "python",
   "name": "python3"
  },
  "language_info": {
   "codemirror_mode": {
    "name": "ipython",
    "version": 3
   },
   "file_extension": ".py",
   "mimetype": "text/x-python",
   "name": "python",
   "nbconvert_exporter": "python",
   "pygments_lexer": "ipython3",
   "version": "3.8.8"
  }
 },
 "nbformat": 4,
 "nbformat_minor": 5
}
