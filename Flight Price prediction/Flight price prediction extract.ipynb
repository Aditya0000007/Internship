{
 "cells": [
  {
   "cell_type": "markdown",
   "id": "b0fd412f",
   "metadata": {},
   "source": [
    "# Importing libraries"
   ]
  },
  {
   "cell_type": "code",
   "execution_count": 1,
   "id": "a45de16e",
   "metadata": {},
   "outputs": [],
   "source": [
    "import selenium\n",
    "from selenium import webdriver\n",
    "import pandas as pd\n",
    "import warnings\n",
    "warnings.filterwarnings(\"ignore\")\n",
    "import time\n",
    "import numpy as np\n",
    "from selenium.common.exceptions import *"
   ]
  },
  {
   "cell_type": "markdown",
   "id": "faacfdcb",
   "metadata": {},
   "source": [
    "# Opening web driver"
   ]
  },
  {
   "cell_type": "code",
   "execution_count": 2,
   "id": "69e1f8b9",
   "metadata": {},
   "outputs": [],
   "source": [
    "driver = webdriver.Chrome(r'C:\\Users\\Blade\\Desktop\\Flip Robo\\chromedriver1.exe')"
   ]
  },
  {
   "cell_type": "markdown",
   "id": "a594cf4f",
   "metadata": {},
   "source": [
    "## Function for driver"
   ]
  },
  {
   "cell_type": "code",
   "execution_count": 3,
   "id": "a4026840",
   "metadata": {},
   "outputs": [],
   "source": [
    "def drive():\n",
    "    driver.get(url)\n",
    "    driver.maximize_window()"
   ]
  },
  {
   "cell_type": "markdown",
   "id": "5b3a7e3e",
   "metadata": {},
   "source": [
    "## Function to scroll the page till last"
   ]
  },
  {
   "cell_type": "code",
   "execution_count": 4,
   "id": "da308f99",
   "metadata": {},
   "outputs": [],
   "source": [
    "def scroll():\n",
    "    delay=10\n",
    "    SCROLL_PAUSE_TIME = 0.7\n",
    "\n",
    "# Get scroll height\n",
    "    last_height = driver.execute_script(\"return document.body.scrollHeight\")\n",
    "\n",
    "    while True:\n",
    "    # Scroll down to bottom\n",
    "        driver.execute_script(\"window.scrollTo(0, document.body.scrollHeight);\")\n",
    "\n",
    "    # Wait to load page\n",
    "        time.sleep(SCROLL_PAUSE_TIME)\n",
    "\n",
    "    # Calculate new scroll height and compare with last scroll height\n",
    "        new_height = driver.execute_script(\"return document.body.scrollHeight\")\n",
    "        if new_height == last_height:\n",
    "            break\n",
    "        last_height = new_height"
   ]
  },
  {
   "cell_type": "markdown",
   "id": "b39c5c46",
   "metadata": {},
   "source": [
    "# List initialization"
   ]
  },
  {
   "cell_type": "code",
   "execution_count": 12,
   "id": "462395b6",
   "metadata": {},
   "outputs": [],
   "source": [
    "name=[]\n",
    "str_time=[]\n",
    "arr_time=[]\n",
    "to_from=[]\n",
    "flight_time=[]\n",
    "stops=[]\n",
    "price=[]\n",
    "dt=[]\n",
    "month=[]\n",
    "day=[]\n",
    "frm=[]\n",
    "to=[]"
   ]
  },
  {
   "cell_type": "markdown",
   "id": "fc1a0eca",
   "metadata": {},
   "source": [
    "## Function for flight name"
   ]
  },
  {
   "cell_type": "code",
   "execution_count": 6,
   "id": "776c648d",
   "metadata": {},
   "outputs": [],
   "source": [
    "def fname():\n",
    "    flight_name = driver.find_elements_by_xpath('//span[@class=\"i-b text ellipsis\"]')\n",
    "    date= driver.find_element_by_xpath('//div[@class=\"day-li text-center cursor-pointer pr active font-primary-color\"]')\n",
    "    for i in flight_name:\n",
    "        try:\n",
    "            name.append(i.text)\n",
    "            dt.append(date.text.split()[1])\n",
    "            month.append(date.text.split()[2])\n",
    "            day.append(date.text.split()[0])\n",
    "        except IndexError:\n",
    "            name.append(np.nan)\n",
    "        except NoSuchElementException:\n",
    "            name.append(np.nan)"
   ]
  },
  {
   "cell_type": "code",
   "execution_count": 156,
   "id": "48069bfa",
   "metadata": {},
   "outputs": [],
   "source": [
    "date= driver.find_element_by_xpath('//div[@class=\"day-li text-center cursor-pointer pr active font-primary-color\"]')\n",
    "dt.append(date.text.splitlines()[0])"
   ]
  },
  {
   "cell_type": "markdown",
   "id": "6c49c82e",
   "metadata": {},
   "source": [
    "## Function for Start Time"
   ]
  },
  {
   "cell_type": "code",
   "execution_count": 7,
   "id": "1aaf2e22",
   "metadata": {},
   "outputs": [],
   "source": [
    "\n",
    "def start_time():\n",
    "    start = driver.find_elements_by_xpath('//div[@class=\"i-b pr\"]')\n",
    "    for i in start:\n",
    "        try:\n",
    "            str_time.append(i.text)\n",
    "        except IndexError:\n",
    "            str_time.append(np.nan)\n",
    "        except NoSuchElementException:\n",
    "            str_time.append(np.nan)"
   ]
  },
  {
   "cell_type": "markdown",
   "id": "a3763c85",
   "metadata": {},
   "source": [
    "## Function for fArrival time"
   ]
  },
  {
   "cell_type": "code",
   "execution_count": 8,
   "id": "ceef1951",
   "metadata": {},
   "outputs": [],
   "source": [
    "\n",
    "def end_time():\n",
    "    end = driver.find_elements_by_xpath('//p[@class=\"bold fs-15 mb-2 pr time\"]')\n",
    "    for i in end:\n",
    "        try:\n",
    "            arr_time.append(i.text.splitlines()[0])\n",
    "        except IndexError:\n",
    "            arr_time.append(np.nan)\n",
    "        except NoSuchElementException:\n",
    "            arr_time.append(np.nan)"
   ]
  },
  {
   "cell_type": "markdown",
   "id": "168b53bd",
   "metadata": {},
   "source": [
    "## Function for To and From details"
   ]
  },
  {
   "cell_type": "code",
   "execution_count": 9,
   "id": "926f3ce9",
   "metadata": {},
   "outputs": [],
   "source": [
    "\n",
    "def to_fro():\n",
    "    end = driver.find_elements_by_xpath('//p[@class=\"fs-10 font-lightgrey no-wrap city ellipsis\"]')\n",
    "    for i in end:\n",
    "        try:\n",
    "            to_from.append(i.text)\n",
    "        except IndexError:\n",
    "            to_from.append(np.nan)\n",
    "        except NoSuchElementException:\n",
    "            to_from.append(np.nan)\n",
    "    "
   ]
  },
  {
   "cell_type": "code",
   "execution_count": 85,
   "id": "427d763e",
   "metadata": {},
   "outputs": [],
   "source": [
    "to_fro()"
   ]
  },
  {
   "cell_type": "markdown",
   "id": "da3e8665",
   "metadata": {},
   "source": [
    "## Diveding To and From and appending in different list"
   ]
  },
  {
   "cell_type": "code",
   "execution_count": 164,
   "id": "ec314df2",
   "metadata": {},
   "outputs": [],
   "source": [
    "def abc():\n",
    "    for i in range(0, len(to_from)):\n",
    "        if i % 2:\n",
    "            to.append(to_from[i])\n",
    "        else :\n",
    "            frm.append(to_from[i])"
   ]
  },
  {
   "cell_type": "code",
   "execution_count": 165,
   "id": "16c16b47",
   "metadata": {},
   "outputs": [],
   "source": [
    "abc()"
   ]
  },
  {
   "cell_type": "markdown",
   "id": "47e37396",
   "metadata": {},
   "source": [
    "### Extracting total flight time"
   ]
  },
  {
   "cell_type": "code",
   "execution_count": 14,
   "id": "9bb5bd6c",
   "metadata": {},
   "outputs": [],
   "source": [
    "\n",
    "def flig_time():\n",
    "    end = driver.find_elements_by_xpath('//p[@class=\"fs-12 bold du mb-2\"]')\n",
    "    for i in end:\n",
    "        try:\n",
    "            flight_time.append(i.text)\n",
    "        except IndexError:\n",
    "            flight_time.append(np.nan)\n",
    "        except NoSuchElementException:\n",
    "            flight_time.append(np.nan)"
   ]
  },
  {
   "cell_type": "markdown",
   "id": "94be557c",
   "metadata": {},
   "source": [
    "## Function for no. of Stops"
   ]
  },
  {
   "cell_type": "code",
   "execution_count": 15,
   "id": "6e8bc434",
   "metadata": {},
   "outputs": [],
   "source": [
    "\n",
    "def stop():\n",
    "    end = driver.find_elements_by_xpath('//div[@class=\" font-lightgrey fs-10 tipsy i-b fs-10\"]')\n",
    "    for i in end:\n",
    "        try:\n",
    "            stops.append(i.text)\n",
    "        except IndexError:\n",
    "            stops.append(np.nan)\n",
    "        except NoSuchElementException:\n",
    "            stops.append(np.nan)"
   ]
  },
  {
   "cell_type": "markdown",
   "id": "07406054",
   "metadata": {},
   "source": [
    "## Function for Price"
   ]
  },
  {
   "cell_type": "code",
   "execution_count": 16,
   "id": "e07abf5c",
   "metadata": {},
   "outputs": [],
   "source": [
    "\n",
    "def pri():\n",
    "    end = driver.find_elements_by_xpath('//div[@class=\"i-b tipsy fare-summary-tooltip fs-18\"]')\n",
    "    for i in end:\n",
    "        try:\n",
    "            price.append(i.text)\n",
    "        except IndexError:\n",
    "            price.append(np.nan)\n",
    "        except NoSuchElementException:\n",
    "            price.append(np.nan)"
   ]
  },
  {
   "cell_type": "markdown",
   "id": "11eece00",
   "metadata": {},
   "source": [
    "# FInal data extraction"
   ]
  },
  {
   "cell_type": "markdown",
   "id": "803707ad",
   "metadata": {},
   "source": [
    "#### Changing the Url and calling the below funtions"
   ]
  },
  {
   "cell_type": "code",
   "execution_count": 159,
   "id": "c7dbbd07",
   "metadata": {},
   "outputs": [],
   "source": [
    "url='https://flight.yatra.com/air-search-ui/dom2/trigger?ADT=1&CHD=0&INF=0&class=Economy&destination=SXR&destinationCountry=IN&flexi=0&flight_depart_date=25%2F12%2F2022&hb=0&noOfSegments=1&origin=CCU&originCountry=IN&type=O&unique=1212818337363&version=1.1&viewName=normal'\n",
    "drive()"
   ]
  },
  {
   "cell_type": "code",
   "execution_count": 160,
   "id": "e684fc71",
   "metadata": {},
   "outputs": [],
   "source": [
    "# run this code for 2-3 time to load the page properly \n",
    "delay= 10\n",
    "scroll()"
   ]
  },
  {
   "cell_type": "code",
   "execution_count": 161,
   "id": "70416db5",
   "metadata": {},
   "outputs": [],
   "source": [
    "fname()\n",
    "delay= 5\n",
    "start_time()\n",
    "delay= 5\n",
    "end_time()\n",
    "delay= 5\n",
    "to_fro()\n",
    "delay= 5\n",
    "#abc()\n",
    "#delay=5\n",
    "flig_time()\n",
    "delay= 5\n",
    "stop()\n",
    "delay= 5\n",
    "pri()"
   ]
  },
  {
   "cell_type": "code",
   "execution_count": 54,
   "id": "8de77f45",
   "metadata": {},
   "outputs": [],
   "source": [
    "#name=[]\n",
    "#str_time=[]\n",
    "#arr_time=[]\n",
    "#to_from=[]\n",
    "#flight_time=[]\n",
    "#stops=[]\n",
    "#price=[]\n",
    "#dt=[]\n",
    "#month=[]\n",
    "#day=[]\n",
    "#to=[]\n",
    "#frm=[]"
   ]
  },
  {
   "cell_type": "code",
   "execution_count": 162,
   "id": "96e3ea63",
   "metadata": {},
   "outputs": [
    {
     "name": "stdout",
     "output_type": "stream",
     "text": [
      "2469 2469 2469 2469 2469 2469 2469 2469 2469 4938\n"
     ]
    }
   ],
   "source": [
    "print(len(name),len(str_time),len(arr_time),len(flight_time),len(stops),len(price),len(dt),len(month),len(day),len(to_from))"
   ]
  },
  {
   "cell_type": "code",
   "execution_count": 168,
   "id": "2e26f196",
   "metadata": {},
   "outputs": [],
   "source": [
    "# Final Dataset\n",
    "dataset_final= pd.DataFrame({'Flight Name' :name,'Departure':str_time,'Arrival':arr_time,'Source':frm,'Destinaton':to,'Total flight time':flight_time,'Stops':stops,'Date':dt,'Month':month,'Day':day,'Price':price})"
   ]
  },
  {
   "cell_type": "code",
   "execution_count": 169,
   "id": "d74d84ec",
   "metadata": {},
   "outputs": [
    {
     "data": {
      "text/html": [
       "<div>\n",
       "<style scoped>\n",
       "    .dataframe tbody tr th:only-of-type {\n",
       "        vertical-align: middle;\n",
       "    }\n",
       "\n",
       "    .dataframe tbody tr th {\n",
       "        vertical-align: top;\n",
       "    }\n",
       "\n",
       "    .dataframe thead th {\n",
       "        text-align: right;\n",
       "    }\n",
       "</style>\n",
       "<table border=\"1\" class=\"dataframe\">\n",
       "  <thead>\n",
       "    <tr style=\"text-align: right;\">\n",
       "      <th></th>\n",
       "      <th>Flight Name</th>\n",
       "      <th>Departure</th>\n",
       "      <th>Arrival</th>\n",
       "      <th>Source</th>\n",
       "      <th>Destinaton</th>\n",
       "      <th>Total flight time</th>\n",
       "      <th>Stops</th>\n",
       "      <th>Date</th>\n",
       "      <th>Month</th>\n",
       "      <th>Day</th>\n",
       "      <th>Price</th>\n",
       "    </tr>\n",
       "  </thead>\n",
       "  <tbody>\n",
       "    <tr>\n",
       "      <th>0</th>\n",
       "      <td>IndiGo</td>\n",
       "      <td>11:10</td>\n",
       "      <td>16:45</td>\n",
       "      <td>Kolkata</td>\n",
       "      <td>New Delhi</td>\n",
       "      <td>5h 35m</td>\n",
       "      <td>1 Stop</td>\n",
       "      <td>18</td>\n",
       "      <td>Jun</td>\n",
       "      <td>Sat,</td>\n",
       "      <td>6,612</td>\n",
       "    </tr>\n",
       "    <tr>\n",
       "      <th>1</th>\n",
       "      <td>Vistara</td>\n",
       "      <td>07:10</td>\n",
       "      <td>09:35</td>\n",
       "      <td>Kolkata</td>\n",
       "      <td>New Delhi</td>\n",
       "      <td>2h 25m</td>\n",
       "      <td>Non Stop</td>\n",
       "      <td>18</td>\n",
       "      <td>Jun</td>\n",
       "      <td>Sat,</td>\n",
       "      <td>7,078</td>\n",
       "    </tr>\n",
       "    <tr>\n",
       "      <th>2</th>\n",
       "      <td>Vistara</td>\n",
       "      <td>18:45</td>\n",
       "      <td>21:10</td>\n",
       "      <td>Kolkata</td>\n",
       "      <td>New Delhi</td>\n",
       "      <td>2h 25m</td>\n",
       "      <td>Non Stop</td>\n",
       "      <td>18</td>\n",
       "      <td>Jun</td>\n",
       "      <td>Sat,</td>\n",
       "      <td>7,078</td>\n",
       "    </tr>\n",
       "    <tr>\n",
       "      <th>3</th>\n",
       "      <td>Vistara</td>\n",
       "      <td>20:20</td>\n",
       "      <td>22:45</td>\n",
       "      <td>Kolkata</td>\n",
       "      <td>New Delhi</td>\n",
       "      <td>2h 25m</td>\n",
       "      <td>Non Stop</td>\n",
       "      <td>18</td>\n",
       "      <td>Jun</td>\n",
       "      <td>Sat,</td>\n",
       "      <td>7,078</td>\n",
       "    </tr>\n",
       "    <tr>\n",
       "      <th>4</th>\n",
       "      <td>SpiceJet</td>\n",
       "      <td>15:30</td>\n",
       "      <td>17:45</td>\n",
       "      <td>Kolkata</td>\n",
       "      <td>New Delhi</td>\n",
       "      <td>2h 15m</td>\n",
       "      <td>Non Stop</td>\n",
       "      <td>18</td>\n",
       "      <td>Jun</td>\n",
       "      <td>Sat,</td>\n",
       "      <td>7,136</td>\n",
       "    </tr>\n",
       "    <tr>\n",
       "      <th>...</th>\n",
       "      <td>...</td>\n",
       "      <td>...</td>\n",
       "      <td>...</td>\n",
       "      <td>...</td>\n",
       "      <td>...</td>\n",
       "      <td>...</td>\n",
       "      <td>...</td>\n",
       "      <td>...</td>\n",
       "      <td>...</td>\n",
       "      <td>...</td>\n",
       "      <td>...</td>\n",
       "    </tr>\n",
       "    <tr>\n",
       "      <th>2464</th>\n",
       "      <td>Vistara</td>\n",
       "      <td>17:35</td>\n",
       "      <td>12:00</td>\n",
       "      <td>Kolkata</td>\n",
       "      <td>Srinagar</td>\n",
       "      <td>18h 25m</td>\n",
       "      <td>2 Stop(s)</td>\n",
       "      <td>25</td>\n",
       "      <td>Dec</td>\n",
       "      <td>Sun,</td>\n",
       "      <td>19,527</td>\n",
       "    </tr>\n",
       "    <tr>\n",
       "      <th>2465</th>\n",
       "      <td>Vistara</td>\n",
       "      <td>17:35</td>\n",
       "      <td>13:10</td>\n",
       "      <td>Kolkata</td>\n",
       "      <td>Srinagar</td>\n",
       "      <td>19h 35m</td>\n",
       "      <td>2 Stop(s)</td>\n",
       "      <td>25</td>\n",
       "      <td>Dec</td>\n",
       "      <td>Sun,</td>\n",
       "      <td>19,527</td>\n",
       "    </tr>\n",
       "    <tr>\n",
       "      <th>2466</th>\n",
       "      <td>Go First</td>\n",
       "      <td>06:00</td>\n",
       "      <td>13:20</td>\n",
       "      <td>Kolkata</td>\n",
       "      <td>Srinagar</td>\n",
       "      <td>7h 20m</td>\n",
       "      <td>1 Stop</td>\n",
       "      <td>25</td>\n",
       "      <td>Dec</td>\n",
       "      <td>Sun,</td>\n",
       "      <td>19,867</td>\n",
       "    </tr>\n",
       "    <tr>\n",
       "      <th>2467</th>\n",
       "      <td>Go First</td>\n",
       "      <td>06:00</td>\n",
       "      <td>15:15</td>\n",
       "      <td>Kolkata</td>\n",
       "      <td>Srinagar</td>\n",
       "      <td>9h 15m</td>\n",
       "      <td>1 Stop</td>\n",
       "      <td>25</td>\n",
       "      <td>Dec</td>\n",
       "      <td>Sun,</td>\n",
       "      <td>19,867</td>\n",
       "    </tr>\n",
       "    <tr>\n",
       "      <th>2468</th>\n",
       "      <td>SpiceJet</td>\n",
       "      <td>21:55</td>\n",
       "      <td>12:45</td>\n",
       "      <td>Kolkata</td>\n",
       "      <td>Srinagar</td>\n",
       "      <td>14h 50m</td>\n",
       "      <td>1 Stop</td>\n",
       "      <td>25</td>\n",
       "      <td>Dec</td>\n",
       "      <td>Sun,</td>\n",
       "      <td>21,280</td>\n",
       "    </tr>\n",
       "  </tbody>\n",
       "</table>\n",
       "<p>2469 rows × 11 columns</p>\n",
       "</div>"
      ],
      "text/plain": [
       "     Flight Name Departure Arrival   Source Destinaton Total flight time  \\\n",
       "0         IndiGo     11:10   16:45  Kolkata  New Delhi            5h 35m   \n",
       "1        Vistara     07:10   09:35  Kolkata  New Delhi            2h 25m   \n",
       "2        Vistara     18:45   21:10  Kolkata  New Delhi            2h 25m   \n",
       "3        Vistara     20:20   22:45  Kolkata  New Delhi            2h 25m   \n",
       "4       SpiceJet     15:30   17:45  Kolkata  New Delhi            2h 15m   \n",
       "...          ...       ...     ...      ...        ...               ...   \n",
       "2464     Vistara     17:35   12:00  Kolkata   Srinagar           18h 25m   \n",
       "2465     Vistara     17:35   13:10  Kolkata   Srinagar           19h 35m   \n",
       "2466    Go First     06:00   13:20  Kolkata   Srinagar            7h 20m   \n",
       "2467    Go First     06:00   15:15  Kolkata   Srinagar            9h 15m   \n",
       "2468    SpiceJet     21:55   12:45  Kolkata   Srinagar           14h 50m   \n",
       "\n",
       "          Stops Date Month   Day   Price  \n",
       "0        1 Stop   18   Jun  Sat,   6,612  \n",
       "1      Non Stop   18   Jun  Sat,   7,078  \n",
       "2      Non Stop   18   Jun  Sat,   7,078  \n",
       "3      Non Stop   18   Jun  Sat,   7,078  \n",
       "4      Non Stop   18   Jun  Sat,   7,136  \n",
       "...         ...  ...   ...   ...     ...  \n",
       "2464  2 Stop(s)   25   Dec  Sun,  19,527  \n",
       "2465  2 Stop(s)   25   Dec  Sun,  19,527  \n",
       "2466     1 Stop   25   Dec  Sun,  19,867  \n",
       "2467     1 Stop   25   Dec  Sun,  19,867  \n",
       "2468     1 Stop   25   Dec  Sun,  21,280  \n",
       "\n",
       "[2469 rows x 11 columns]"
      ]
     },
     "execution_count": 169,
     "metadata": {},
     "output_type": "execute_result"
    }
   ],
   "source": [
    "dataset_final"
   ]
  },
  {
   "cell_type": "markdown",
   "id": "96c974c3",
   "metadata": {},
   "source": [
    "# Extracting the dataset to excel file"
   ]
  },
  {
   "cell_type": "code",
   "execution_count": 171,
   "id": "4f89ae67",
   "metadata": {},
   "outputs": [],
   "source": [
    "dataset_final.to_excel (r'C:\\Users\\Blade\\Desktop\\Flip Robo\\Flight_price2_dataframe.xlsx', index = False, header=True)"
   ]
  },
  {
   "cell_type": "code",
   "execution_count": null,
   "id": "e9b39589",
   "metadata": {},
   "outputs": [],
   "source": []
  }
 ],
 "metadata": {
  "kernelspec": {
   "display_name": "Python 3",
   "language": "python",
   "name": "python3"
  },
  "language_info": {
   "codemirror_mode": {
    "name": "ipython",
    "version": 3
   },
   "file_extension": ".py",
   "mimetype": "text/x-python",
   "name": "python",
   "nbconvert_exporter": "python",
   "pygments_lexer": "ipython3",
   "version": "3.8.8"
  }
 },
 "nbformat": 4,
 "nbformat_minor": 5
}
