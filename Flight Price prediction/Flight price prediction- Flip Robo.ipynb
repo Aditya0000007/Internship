{
 "cells": [
  {
   "cell_type": "markdown",
   "id": "602bebee",
   "metadata": {},
   "source": [
    "# Importing Necessary Libraries"
   ]
  },
  {
   "cell_type": "code",
   "execution_count": 1,
   "id": "69527dc7",
   "metadata": {},
   "outputs": [
    {
     "name": "stdout",
     "output_type": "stream",
     "text": [
      "######################################\n",
      "       Import Key Packages            \n",
      "######################################\n"
     ]
    }
   ],
   "source": [
    "print(\"######################################\")\n",
    "print(\"       Import Key Packages            \")\n",
    "print(\"######################################\")\n",
    "import pandas as pd\n",
    "import numpy as np\n",
    "import matplotlib.pyplot as plt\n",
    "import seaborn as sns\n",
    "from IPython.display import display\n",
    "import statsmodels as sm\n",
    "from statsmodels.stats.outliers_influence import variance_inflation_factor\n",
    "from sklearn.model_selection import train_test_split,GridSearchCV,RandomizedSearchCV\n",
    "from sklearn.linear_model import LinearRegression,Ridge,Lasso\n",
    "from sklearn.tree import DecisionTreeRegressor\n",
    "from sklearn.ensemble import RandomForestRegressor,GradientBoostingRegressor\n",
    "from sklearn.metrics import r2_score,mean_squared_error\n",
    "from sklearn import preprocessing\n",
    "import warnings\n",
    "from statsmodels.stats.outliers_influence import variance_inflation_factor\n",
    "warnings.filterwarnings('ignore')\n",
    "from scipy import stats\n",
    "import statsmodels.api as sm\n"
   ]
  },
  {
   "cell_type": "markdown",
   "id": "9fb58649",
   "metadata": {},
   "source": [
    "# Importing Dataset"
   ]
  },
  {
   "cell_type": "code",
   "execution_count": 105,
   "id": "3b9224ff",
   "metadata": {},
   "outputs": [],
   "source": [
    "df = pd.read_excel(\"Flight_price2_dataframe.xlsx\")"
   ]
  },
  {
   "cell_type": "code",
   "execution_count": 106,
   "id": "84e359b5",
   "metadata": {},
   "outputs": [
    {
     "data": {
      "text/html": [
       "<div>\n",
       "<style scoped>\n",
       "    .dataframe tbody tr th:only-of-type {\n",
       "        vertical-align: middle;\n",
       "    }\n",
       "\n",
       "    .dataframe tbody tr th {\n",
       "        vertical-align: top;\n",
       "    }\n",
       "\n",
       "    .dataframe thead th {\n",
       "        text-align: right;\n",
       "    }\n",
       "</style>\n",
       "<table border=\"1\" class=\"dataframe\">\n",
       "  <thead>\n",
       "    <tr style=\"text-align: right;\">\n",
       "      <th></th>\n",
       "      <th>Flight Name</th>\n",
       "      <th>Departure</th>\n",
       "      <th>Arrival</th>\n",
       "      <th>Source</th>\n",
       "      <th>Destinaton</th>\n",
       "      <th>Total flight time</th>\n",
       "      <th>Stops</th>\n",
       "      <th>Date</th>\n",
       "      <th>Month</th>\n",
       "      <th>Day</th>\n",
       "      <th>Price</th>\n",
       "    </tr>\n",
       "  </thead>\n",
       "  <tbody>\n",
       "    <tr>\n",
       "      <th>0</th>\n",
       "      <td>IndiGo</td>\n",
       "      <td>11:10</td>\n",
       "      <td>16:45</td>\n",
       "      <td>Kolkata</td>\n",
       "      <td>New Delhi</td>\n",
       "      <td>5h 35m</td>\n",
       "      <td>1 Stop</td>\n",
       "      <td>18</td>\n",
       "      <td>Jun</td>\n",
       "      <td>Sat,</td>\n",
       "      <td>6,612</td>\n",
       "    </tr>\n",
       "    <tr>\n",
       "      <th>1</th>\n",
       "      <td>Vistara</td>\n",
       "      <td>07:10</td>\n",
       "      <td>09:35</td>\n",
       "      <td>Kolkata</td>\n",
       "      <td>New Delhi</td>\n",
       "      <td>2h 25m</td>\n",
       "      <td>Non Stop</td>\n",
       "      <td>18</td>\n",
       "      <td>Jun</td>\n",
       "      <td>Sat,</td>\n",
       "      <td>7,078</td>\n",
       "    </tr>\n",
       "    <tr>\n",
       "      <th>2</th>\n",
       "      <td>Vistara</td>\n",
       "      <td>18:45</td>\n",
       "      <td>21:10</td>\n",
       "      <td>Kolkata</td>\n",
       "      <td>New Delhi</td>\n",
       "      <td>2h 25m</td>\n",
       "      <td>Non Stop</td>\n",
       "      <td>18</td>\n",
       "      <td>Jun</td>\n",
       "      <td>Sat,</td>\n",
       "      <td>7,078</td>\n",
       "    </tr>\n",
       "    <tr>\n",
       "      <th>3</th>\n",
       "      <td>Vistara</td>\n",
       "      <td>20:20</td>\n",
       "      <td>22:45</td>\n",
       "      <td>Kolkata</td>\n",
       "      <td>New Delhi</td>\n",
       "      <td>2h 25m</td>\n",
       "      <td>Non Stop</td>\n",
       "      <td>18</td>\n",
       "      <td>Jun</td>\n",
       "      <td>Sat,</td>\n",
       "      <td>7,078</td>\n",
       "    </tr>\n",
       "    <tr>\n",
       "      <th>4</th>\n",
       "      <td>SpiceJet</td>\n",
       "      <td>15:30</td>\n",
       "      <td>17:45</td>\n",
       "      <td>Kolkata</td>\n",
       "      <td>New Delhi</td>\n",
       "      <td>2h 15m</td>\n",
       "      <td>Non Stop</td>\n",
       "      <td>18</td>\n",
       "      <td>Jun</td>\n",
       "      <td>Sat,</td>\n",
       "      <td>7,136</td>\n",
       "    </tr>\n",
       "    <tr>\n",
       "      <th>...</th>\n",
       "      <td>...</td>\n",
       "      <td>...</td>\n",
       "      <td>...</td>\n",
       "      <td>...</td>\n",
       "      <td>...</td>\n",
       "      <td>...</td>\n",
       "      <td>...</td>\n",
       "      <td>...</td>\n",
       "      <td>...</td>\n",
       "      <td>...</td>\n",
       "      <td>...</td>\n",
       "    </tr>\n",
       "    <tr>\n",
       "      <th>2464</th>\n",
       "      <td>Vistara</td>\n",
       "      <td>17:35</td>\n",
       "      <td>12:00</td>\n",
       "      <td>Kolkata</td>\n",
       "      <td>Srinagar</td>\n",
       "      <td>18h 25m</td>\n",
       "      <td>2 Stop(s)</td>\n",
       "      <td>25</td>\n",
       "      <td>Dec</td>\n",
       "      <td>Sun,</td>\n",
       "      <td>19,527</td>\n",
       "    </tr>\n",
       "    <tr>\n",
       "      <th>2465</th>\n",
       "      <td>Vistara</td>\n",
       "      <td>17:35</td>\n",
       "      <td>13:10</td>\n",
       "      <td>Kolkata</td>\n",
       "      <td>Srinagar</td>\n",
       "      <td>19h 35m</td>\n",
       "      <td>2 Stop(s)</td>\n",
       "      <td>25</td>\n",
       "      <td>Dec</td>\n",
       "      <td>Sun,</td>\n",
       "      <td>19,527</td>\n",
       "    </tr>\n",
       "    <tr>\n",
       "      <th>2466</th>\n",
       "      <td>Go First</td>\n",
       "      <td>06:00</td>\n",
       "      <td>13:20</td>\n",
       "      <td>Kolkata</td>\n",
       "      <td>Srinagar</td>\n",
       "      <td>7h 20m</td>\n",
       "      <td>1 Stop</td>\n",
       "      <td>25</td>\n",
       "      <td>Dec</td>\n",
       "      <td>Sun,</td>\n",
       "      <td>19,867</td>\n",
       "    </tr>\n",
       "    <tr>\n",
       "      <th>2467</th>\n",
       "      <td>Go First</td>\n",
       "      <td>06:00</td>\n",
       "      <td>15:15</td>\n",
       "      <td>Kolkata</td>\n",
       "      <td>Srinagar</td>\n",
       "      <td>9h 15m</td>\n",
       "      <td>1 Stop</td>\n",
       "      <td>25</td>\n",
       "      <td>Dec</td>\n",
       "      <td>Sun,</td>\n",
       "      <td>19,867</td>\n",
       "    </tr>\n",
       "    <tr>\n",
       "      <th>2468</th>\n",
       "      <td>SpiceJet</td>\n",
       "      <td>21:55</td>\n",
       "      <td>12:45</td>\n",
       "      <td>Kolkata</td>\n",
       "      <td>Srinagar</td>\n",
       "      <td>14h 50m</td>\n",
       "      <td>1 Stop</td>\n",
       "      <td>25</td>\n",
       "      <td>Dec</td>\n",
       "      <td>Sun,</td>\n",
       "      <td>21,280</td>\n",
       "    </tr>\n",
       "  </tbody>\n",
       "</table>\n",
       "<p>2469 rows × 11 columns</p>\n",
       "</div>"
      ],
      "text/plain": [
       "     Flight Name Departure Arrival   Source Destinaton Total flight time  \\\n",
       "0         IndiGo     11:10   16:45  Kolkata  New Delhi            5h 35m   \n",
       "1        Vistara     07:10   09:35  Kolkata  New Delhi            2h 25m   \n",
       "2        Vistara     18:45   21:10  Kolkata  New Delhi            2h 25m   \n",
       "3        Vistara     20:20   22:45  Kolkata  New Delhi            2h 25m   \n",
       "4       SpiceJet     15:30   17:45  Kolkata  New Delhi            2h 15m   \n",
       "...          ...       ...     ...      ...        ...               ...   \n",
       "2464     Vistara     17:35   12:00  Kolkata   Srinagar           18h 25m   \n",
       "2465     Vistara     17:35   13:10  Kolkata   Srinagar           19h 35m   \n",
       "2466    Go First     06:00   13:20  Kolkata   Srinagar            7h 20m   \n",
       "2467    Go First     06:00   15:15  Kolkata   Srinagar            9h 15m   \n",
       "2468    SpiceJet     21:55   12:45  Kolkata   Srinagar           14h 50m   \n",
       "\n",
       "          Stops  Date Month   Day   Price  \n",
       "0        1 Stop    18   Jun  Sat,   6,612  \n",
       "1      Non Stop    18   Jun  Sat,   7,078  \n",
       "2      Non Stop    18   Jun  Sat,   7,078  \n",
       "3      Non Stop    18   Jun  Sat,   7,078  \n",
       "4      Non Stop    18   Jun  Sat,   7,136  \n",
       "...         ...   ...   ...   ...     ...  \n",
       "2464  2 Stop(s)    25   Dec  Sun,  19,527  \n",
       "2465  2 Stop(s)    25   Dec  Sun,  19,527  \n",
       "2466     1 Stop    25   Dec  Sun,  19,867  \n",
       "2467     1 Stop    25   Dec  Sun,  19,867  \n",
       "2468     1 Stop    25   Dec  Sun,  21,280  \n",
       "\n",
       "[2469 rows x 11 columns]"
      ]
     },
     "execution_count": 106,
     "metadata": {},
     "output_type": "execute_result"
    }
   ],
   "source": [
    "df"
   ]
  },
  {
   "cell_type": "markdown",
   "id": "ce5df642",
   "metadata": {},
   "source": [
    "# Checking Null values"
   ]
  },
  {
   "cell_type": "code",
   "execution_count": 107,
   "id": "3d73b15c",
   "metadata": {},
   "outputs": [
    {
     "name": "stdout",
     "output_type": "stream",
     "text": [
      "<class 'pandas.core.frame.DataFrame'>\n",
      "RangeIndex: 2469 entries, 0 to 2468\n",
      "Data columns (total 11 columns):\n",
      " #   Column             Non-Null Count  Dtype \n",
      "---  ------             --------------  ----- \n",
      " 0   Flight Name        2469 non-null   object\n",
      " 1   Departure          2469 non-null   object\n",
      " 2   Arrival            2469 non-null   object\n",
      " 3   Source             2469 non-null   object\n",
      " 4   Destinaton         2469 non-null   object\n",
      " 5   Total flight time  2469 non-null   object\n",
      " 6   Stops              2469 non-null   object\n",
      " 7   Date               2469 non-null   int64 \n",
      " 8   Month              2469 non-null   object\n",
      " 9   Day                2469 non-null   object\n",
      " 10  Price              2469 non-null   object\n",
      "dtypes: int64(1), object(10)\n",
      "memory usage: 212.3+ KB\n"
     ]
    }
   ],
   "source": [
    "df.info()"
   ]
  },
  {
   "cell_type": "code",
   "execution_count": 108,
   "id": "4dfabc68",
   "metadata": {},
   "outputs": [
    {
     "data": {
      "text/plain": [
       "Flight Name          0\n",
       "Departure            0\n",
       "Arrival              0\n",
       "Source               0\n",
       "Destinaton           0\n",
       "Total flight time    0\n",
       "Stops                0\n",
       "Date                 0\n",
       "Month                0\n",
       "Day                  0\n",
       "Price                0\n",
       "dtype: int64"
      ]
     },
     "execution_count": 108,
     "metadata": {},
     "output_type": "execute_result"
    }
   ],
   "source": [
    "df.isnull().sum()"
   ]
  },
  {
   "cell_type": "markdown",
   "id": "59c6b2dc",
   "metadata": {},
   "source": [
    "Observation-\n",
    "- No Null values Present"
   ]
  },
  {
   "cell_type": "markdown",
   "id": "72222ac7",
   "metadata": {},
   "source": [
    "# EDA"
   ]
  },
  {
   "cell_type": "markdown",
   "id": "a9154f16",
   "metadata": {},
   "source": [
    "### Lets check the departure time column"
   ]
  },
  {
   "cell_type": "code",
   "execution_count": 109,
   "id": "beae2c50",
   "metadata": {},
   "outputs": [
    {
     "data": {
      "text/plain": [
       "dtype('O')"
      ]
     },
     "execution_count": 109,
     "metadata": {},
     "output_type": "execute_result"
    }
   ],
   "source": [
    "df['Departure'].dtypes"
   ]
  },
  {
   "cell_type": "code",
   "execution_count": 110,
   "id": "f0629f8f",
   "metadata": {},
   "outputs": [],
   "source": [
    "df[\"Departure hour\"] = pd.to_datetime(df[\"Departure\"]).dt.hour"
   ]
  },
  {
   "cell_type": "code",
   "execution_count": 111,
   "id": "d99c7b0c",
   "metadata": {},
   "outputs": [],
   "source": [
    "df.drop([\"Departure\"], axis = 1, inplace = True)"
   ]
  },
  {
   "cell_type": "markdown",
   "id": "08da87d4",
   "metadata": {},
   "source": [
    "### Same way I will work with arival time as well"
   ]
  },
  {
   "cell_type": "code",
   "execution_count": 112,
   "id": "9e30325c",
   "metadata": {},
   "outputs": [],
   "source": [
    "df[\"Arrival hour\"] = pd.to_datetime(df[\"Arrival\"]).dt.hour"
   ]
  },
  {
   "cell_type": "code",
   "execution_count": 113,
   "id": "e6e6e16f",
   "metadata": {},
   "outputs": [],
   "source": [
    "df[\"Arrival min\"] = pd.to_datetime(df[\"Arrival\"]).dt.minute"
   ]
  },
  {
   "cell_type": "code",
   "execution_count": 114,
   "id": "98fddee6",
   "metadata": {},
   "outputs": [],
   "source": [
    "df.drop([\"Arrival\"], axis = 1, inplace = True)"
   ]
  },
  {
   "cell_type": "code",
   "execution_count": 115,
   "id": "bba23bab",
   "metadata": {},
   "outputs": [
    {
     "data": {
      "text/html": [
       "<div>\n",
       "<style scoped>\n",
       "    .dataframe tbody tr th:only-of-type {\n",
       "        vertical-align: middle;\n",
       "    }\n",
       "\n",
       "    .dataframe tbody tr th {\n",
       "        vertical-align: top;\n",
       "    }\n",
       "\n",
       "    .dataframe thead th {\n",
       "        text-align: right;\n",
       "    }\n",
       "</style>\n",
       "<table border=\"1\" class=\"dataframe\">\n",
       "  <thead>\n",
       "    <tr style=\"text-align: right;\">\n",
       "      <th></th>\n",
       "      <th>Flight Name</th>\n",
       "      <th>Source</th>\n",
       "      <th>Destinaton</th>\n",
       "      <th>Total flight time</th>\n",
       "      <th>Stops</th>\n",
       "      <th>Date</th>\n",
       "      <th>Month</th>\n",
       "      <th>Day</th>\n",
       "      <th>Price</th>\n",
       "      <th>Departure hour</th>\n",
       "      <th>Arrival hour</th>\n",
       "      <th>Arrival min</th>\n",
       "    </tr>\n",
       "  </thead>\n",
       "  <tbody>\n",
       "    <tr>\n",
       "      <th>0</th>\n",
       "      <td>IndiGo</td>\n",
       "      <td>Kolkata</td>\n",
       "      <td>New Delhi</td>\n",
       "      <td>5h 35m</td>\n",
       "      <td>1 Stop</td>\n",
       "      <td>18</td>\n",
       "      <td>Jun</td>\n",
       "      <td>Sat,</td>\n",
       "      <td>6,612</td>\n",
       "      <td>11</td>\n",
       "      <td>16</td>\n",
       "      <td>45</td>\n",
       "    </tr>\n",
       "    <tr>\n",
       "      <th>1</th>\n",
       "      <td>Vistara</td>\n",
       "      <td>Kolkata</td>\n",
       "      <td>New Delhi</td>\n",
       "      <td>2h 25m</td>\n",
       "      <td>Non Stop</td>\n",
       "      <td>18</td>\n",
       "      <td>Jun</td>\n",
       "      <td>Sat,</td>\n",
       "      <td>7,078</td>\n",
       "      <td>7</td>\n",
       "      <td>9</td>\n",
       "      <td>35</td>\n",
       "    </tr>\n",
       "    <tr>\n",
       "      <th>2</th>\n",
       "      <td>Vistara</td>\n",
       "      <td>Kolkata</td>\n",
       "      <td>New Delhi</td>\n",
       "      <td>2h 25m</td>\n",
       "      <td>Non Stop</td>\n",
       "      <td>18</td>\n",
       "      <td>Jun</td>\n",
       "      <td>Sat,</td>\n",
       "      <td>7,078</td>\n",
       "      <td>18</td>\n",
       "      <td>21</td>\n",
       "      <td>10</td>\n",
       "    </tr>\n",
       "    <tr>\n",
       "      <th>3</th>\n",
       "      <td>Vistara</td>\n",
       "      <td>Kolkata</td>\n",
       "      <td>New Delhi</td>\n",
       "      <td>2h 25m</td>\n",
       "      <td>Non Stop</td>\n",
       "      <td>18</td>\n",
       "      <td>Jun</td>\n",
       "      <td>Sat,</td>\n",
       "      <td>7,078</td>\n",
       "      <td>20</td>\n",
       "      <td>22</td>\n",
       "      <td>45</td>\n",
       "    </tr>\n",
       "    <tr>\n",
       "      <th>4</th>\n",
       "      <td>SpiceJet</td>\n",
       "      <td>Kolkata</td>\n",
       "      <td>New Delhi</td>\n",
       "      <td>2h 15m</td>\n",
       "      <td>Non Stop</td>\n",
       "      <td>18</td>\n",
       "      <td>Jun</td>\n",
       "      <td>Sat,</td>\n",
       "      <td>7,136</td>\n",
       "      <td>15</td>\n",
       "      <td>17</td>\n",
       "      <td>45</td>\n",
       "    </tr>\n",
       "  </tbody>\n",
       "</table>\n",
       "</div>"
      ],
      "text/plain": [
       "  Flight Name   Source Destinaton Total flight time     Stops  Date Month  \\\n",
       "0      IndiGo  Kolkata  New Delhi            5h 35m    1 Stop    18   Jun   \n",
       "1     Vistara  Kolkata  New Delhi            2h 25m  Non Stop    18   Jun   \n",
       "2     Vistara  Kolkata  New Delhi            2h 25m  Non Stop    18   Jun   \n",
       "3     Vistara  Kolkata  New Delhi            2h 25m  Non Stop    18   Jun   \n",
       "4    SpiceJet  Kolkata  New Delhi            2h 15m  Non Stop    18   Jun   \n",
       "\n",
       "    Day  Price  Departure hour  Arrival hour  Arrival min  \n",
       "0  Sat,  6,612              11            16           45  \n",
       "1  Sat,  7,078               7             9           35  \n",
       "2  Sat,  7,078              18            21           10  \n",
       "3  Sat,  7,078              20            22           45  \n",
       "4  Sat,  7,136              15            17           45  "
      ]
     },
     "execution_count": 115,
     "metadata": {},
     "output_type": "execute_result"
    }
   ],
   "source": [
    "df.head(5)"
   ]
  },
  {
   "cell_type": "markdown",
   "id": "e7695781",
   "metadata": {},
   "source": [
    "### Let check the Total flight time column"
   ]
  },
  {
   "cell_type": "markdown",
   "id": "e2088c4b",
   "metadata": {},
   "source": [
    "#### Observation- As I can see that Duration is also in object type so I will make a seperte column which will contain the total duration in minutes and drop the duration column"
   ]
  },
  {
   "cell_type": "code",
   "execution_count": 116,
   "id": "9a45b0d5",
   "metadata": {},
   "outputs": [],
   "source": [
    "d= list(df[\"Total flight time\"])"
   ]
  },
  {
   "cell_type": "markdown",
   "id": "0c73ae64",
   "metadata": {},
   "source": [
    "I am adding the 0 mins if no mins is present in the data so that we dont get out of range error"
   ]
  },
  {
   "cell_type": "code",
   "execution_count": 117,
   "id": "acbc7da8",
   "metadata": {},
   "outputs": [],
   "source": [
    "for i in range(len(d)):\n",
    "    if len(d[i].split()) != 2:    \n",
    "        if \"h\" in d[i]:\n",
    "            d[i] = d[i].strip() + \" 0m\"  \n",
    "        else:\n",
    "            d[i] = \"0h \" + d[i]"
   ]
  },
  {
   "cell_type": "code",
   "execution_count": 118,
   "id": "649fa3ae",
   "metadata": {},
   "outputs": [],
   "source": [
    "dh = []\n",
    "for i in range(len(d)):\n",
    "    dh.append((int(d[i].split(sep = \"h\")[0])*60)+(int(d[i].split(sep = \"m\")[0].split()[-1])))  "
   ]
  },
  {
   "cell_type": "code",
   "execution_count": 119,
   "id": "7c64a5f7",
   "metadata": {},
   "outputs": [],
   "source": [
    "df[\"Duration(mins)\"] = dh"
   ]
  },
  {
   "cell_type": "code",
   "execution_count": 120,
   "id": "a24f8105",
   "metadata": {},
   "outputs": [],
   "source": [
    "df.drop([\"Total flight time\"], axis = 1, inplace = True)"
   ]
  },
  {
   "cell_type": "code",
   "execution_count": 121,
   "id": "7939dab8",
   "metadata": {},
   "outputs": [
    {
     "data": {
      "text/html": [
       "<div>\n",
       "<style scoped>\n",
       "    .dataframe tbody tr th:only-of-type {\n",
       "        vertical-align: middle;\n",
       "    }\n",
       "\n",
       "    .dataframe tbody tr th {\n",
       "        vertical-align: top;\n",
       "    }\n",
       "\n",
       "    .dataframe thead th {\n",
       "        text-align: right;\n",
       "    }\n",
       "</style>\n",
       "<table border=\"1\" class=\"dataframe\">\n",
       "  <thead>\n",
       "    <tr style=\"text-align: right;\">\n",
       "      <th></th>\n",
       "      <th>Flight Name</th>\n",
       "      <th>Source</th>\n",
       "      <th>Destinaton</th>\n",
       "      <th>Stops</th>\n",
       "      <th>Date</th>\n",
       "      <th>Month</th>\n",
       "      <th>Day</th>\n",
       "      <th>Price</th>\n",
       "      <th>Departure hour</th>\n",
       "      <th>Arrival hour</th>\n",
       "      <th>Arrival min</th>\n",
       "      <th>Duration(mins)</th>\n",
       "    </tr>\n",
       "  </thead>\n",
       "  <tbody>\n",
       "    <tr>\n",
       "      <th>0</th>\n",
       "      <td>IndiGo</td>\n",
       "      <td>Kolkata</td>\n",
       "      <td>New Delhi</td>\n",
       "      <td>1 Stop</td>\n",
       "      <td>18</td>\n",
       "      <td>Jun</td>\n",
       "      <td>Sat,</td>\n",
       "      <td>6,612</td>\n",
       "      <td>11</td>\n",
       "      <td>16</td>\n",
       "      <td>45</td>\n",
       "      <td>335</td>\n",
       "    </tr>\n",
       "    <tr>\n",
       "      <th>1</th>\n",
       "      <td>Vistara</td>\n",
       "      <td>Kolkata</td>\n",
       "      <td>New Delhi</td>\n",
       "      <td>Non Stop</td>\n",
       "      <td>18</td>\n",
       "      <td>Jun</td>\n",
       "      <td>Sat,</td>\n",
       "      <td>7,078</td>\n",
       "      <td>7</td>\n",
       "      <td>9</td>\n",
       "      <td>35</td>\n",
       "      <td>145</td>\n",
       "    </tr>\n",
       "    <tr>\n",
       "      <th>2</th>\n",
       "      <td>Vistara</td>\n",
       "      <td>Kolkata</td>\n",
       "      <td>New Delhi</td>\n",
       "      <td>Non Stop</td>\n",
       "      <td>18</td>\n",
       "      <td>Jun</td>\n",
       "      <td>Sat,</td>\n",
       "      <td>7,078</td>\n",
       "      <td>18</td>\n",
       "      <td>21</td>\n",
       "      <td>10</td>\n",
       "      <td>145</td>\n",
       "    </tr>\n",
       "    <tr>\n",
       "      <th>3</th>\n",
       "      <td>Vistara</td>\n",
       "      <td>Kolkata</td>\n",
       "      <td>New Delhi</td>\n",
       "      <td>Non Stop</td>\n",
       "      <td>18</td>\n",
       "      <td>Jun</td>\n",
       "      <td>Sat,</td>\n",
       "      <td>7,078</td>\n",
       "      <td>20</td>\n",
       "      <td>22</td>\n",
       "      <td>45</td>\n",
       "      <td>145</td>\n",
       "    </tr>\n",
       "    <tr>\n",
       "      <th>4</th>\n",
       "      <td>SpiceJet</td>\n",
       "      <td>Kolkata</td>\n",
       "      <td>New Delhi</td>\n",
       "      <td>Non Stop</td>\n",
       "      <td>18</td>\n",
       "      <td>Jun</td>\n",
       "      <td>Sat,</td>\n",
       "      <td>7,136</td>\n",
       "      <td>15</td>\n",
       "      <td>17</td>\n",
       "      <td>45</td>\n",
       "      <td>135</td>\n",
       "    </tr>\n",
       "    <tr>\n",
       "      <th>...</th>\n",
       "      <td>...</td>\n",
       "      <td>...</td>\n",
       "      <td>...</td>\n",
       "      <td>...</td>\n",
       "      <td>...</td>\n",
       "      <td>...</td>\n",
       "      <td>...</td>\n",
       "      <td>...</td>\n",
       "      <td>...</td>\n",
       "      <td>...</td>\n",
       "      <td>...</td>\n",
       "      <td>...</td>\n",
       "    </tr>\n",
       "    <tr>\n",
       "      <th>2464</th>\n",
       "      <td>Vistara</td>\n",
       "      <td>Kolkata</td>\n",
       "      <td>Srinagar</td>\n",
       "      <td>2 Stop(s)</td>\n",
       "      <td>25</td>\n",
       "      <td>Dec</td>\n",
       "      <td>Sun,</td>\n",
       "      <td>19,527</td>\n",
       "      <td>17</td>\n",
       "      <td>12</td>\n",
       "      <td>0</td>\n",
       "      <td>1105</td>\n",
       "    </tr>\n",
       "    <tr>\n",
       "      <th>2465</th>\n",
       "      <td>Vistara</td>\n",
       "      <td>Kolkata</td>\n",
       "      <td>Srinagar</td>\n",
       "      <td>2 Stop(s)</td>\n",
       "      <td>25</td>\n",
       "      <td>Dec</td>\n",
       "      <td>Sun,</td>\n",
       "      <td>19,527</td>\n",
       "      <td>17</td>\n",
       "      <td>13</td>\n",
       "      <td>10</td>\n",
       "      <td>1175</td>\n",
       "    </tr>\n",
       "    <tr>\n",
       "      <th>2466</th>\n",
       "      <td>Go First</td>\n",
       "      <td>Kolkata</td>\n",
       "      <td>Srinagar</td>\n",
       "      <td>1 Stop</td>\n",
       "      <td>25</td>\n",
       "      <td>Dec</td>\n",
       "      <td>Sun,</td>\n",
       "      <td>19,867</td>\n",
       "      <td>6</td>\n",
       "      <td>13</td>\n",
       "      <td>20</td>\n",
       "      <td>440</td>\n",
       "    </tr>\n",
       "    <tr>\n",
       "      <th>2467</th>\n",
       "      <td>Go First</td>\n",
       "      <td>Kolkata</td>\n",
       "      <td>Srinagar</td>\n",
       "      <td>1 Stop</td>\n",
       "      <td>25</td>\n",
       "      <td>Dec</td>\n",
       "      <td>Sun,</td>\n",
       "      <td>19,867</td>\n",
       "      <td>6</td>\n",
       "      <td>15</td>\n",
       "      <td>15</td>\n",
       "      <td>555</td>\n",
       "    </tr>\n",
       "    <tr>\n",
       "      <th>2468</th>\n",
       "      <td>SpiceJet</td>\n",
       "      <td>Kolkata</td>\n",
       "      <td>Srinagar</td>\n",
       "      <td>1 Stop</td>\n",
       "      <td>25</td>\n",
       "      <td>Dec</td>\n",
       "      <td>Sun,</td>\n",
       "      <td>21,280</td>\n",
       "      <td>21</td>\n",
       "      <td>12</td>\n",
       "      <td>45</td>\n",
       "      <td>890</td>\n",
       "    </tr>\n",
       "  </tbody>\n",
       "</table>\n",
       "<p>2469 rows × 12 columns</p>\n",
       "</div>"
      ],
      "text/plain": [
       "     Flight Name   Source Destinaton      Stops  Date Month   Day   Price  \\\n",
       "0         IndiGo  Kolkata  New Delhi     1 Stop    18   Jun  Sat,   6,612   \n",
       "1        Vistara  Kolkata  New Delhi   Non Stop    18   Jun  Sat,   7,078   \n",
       "2        Vistara  Kolkata  New Delhi   Non Stop    18   Jun  Sat,   7,078   \n",
       "3        Vistara  Kolkata  New Delhi   Non Stop    18   Jun  Sat,   7,078   \n",
       "4       SpiceJet  Kolkata  New Delhi   Non Stop    18   Jun  Sat,   7,136   \n",
       "...          ...      ...        ...        ...   ...   ...   ...     ...   \n",
       "2464     Vistara  Kolkata   Srinagar  2 Stop(s)    25   Dec  Sun,  19,527   \n",
       "2465     Vistara  Kolkata   Srinagar  2 Stop(s)    25   Dec  Sun,  19,527   \n",
       "2466    Go First  Kolkata   Srinagar     1 Stop    25   Dec  Sun,  19,867   \n",
       "2467    Go First  Kolkata   Srinagar     1 Stop    25   Dec  Sun,  19,867   \n",
       "2468    SpiceJet  Kolkata   Srinagar     1 Stop    25   Dec  Sun,  21,280   \n",
       "\n",
       "      Departure hour  Arrival hour  Arrival min  Duration(mins)  \n",
       "0                 11            16           45             335  \n",
       "1                  7             9           35             145  \n",
       "2                 18            21           10             145  \n",
       "3                 20            22           45             145  \n",
       "4                 15            17           45             135  \n",
       "...              ...           ...          ...             ...  \n",
       "2464              17            12            0            1105  \n",
       "2465              17            13           10            1175  \n",
       "2466               6            13           20             440  \n",
       "2467               6            15           15             555  \n",
       "2468              21            12           45             890  \n",
       "\n",
       "[2469 rows x 12 columns]"
      ]
     },
     "execution_count": 121,
     "metadata": {},
     "output_type": "execute_result"
    }
   ],
   "source": [
    "df"
   ]
  },
  {
   "cell_type": "code",
   "execution_count": 122,
   "id": "f1535ceb",
   "metadata": {},
   "outputs": [
    {
     "name": "stdout",
     "output_type": "stream",
     "text": [
      "<class 'pandas.core.frame.DataFrame'>\n",
      "RangeIndex: 2469 entries, 0 to 2468\n",
      "Data columns (total 12 columns):\n",
      " #   Column          Non-Null Count  Dtype \n",
      "---  ------          --------------  ----- \n",
      " 0   Flight Name     2469 non-null   object\n",
      " 1   Source          2469 non-null   object\n",
      " 2   Destinaton      2469 non-null   object\n",
      " 3   Stops           2469 non-null   object\n",
      " 4   Date            2469 non-null   int64 \n",
      " 5   Month           2469 non-null   object\n",
      " 6   Day             2469 non-null   object\n",
      " 7   Price           2469 non-null   object\n",
      " 8   Departure hour  2469 non-null   int64 \n",
      " 9   Arrival hour    2469 non-null   int64 \n",
      " 10  Arrival min     2469 non-null   int64 \n",
      " 11  Duration(mins)  2469 non-null   int64 \n",
      "dtypes: int64(5), object(7)\n",
      "memory usage: 231.6+ KB\n"
     ]
    }
   ],
   "source": [
    "df.info()"
   ]
  },
  {
   "cell_type": "markdown",
   "id": "23dcc3a0",
   "metadata": {},
   "source": [
    "### Lets check the Price column"
   ]
  },
  {
   "cell_type": "code",
   "execution_count": 123,
   "id": "4414945f",
   "metadata": {},
   "outputs": [
    {
     "data": {
      "text/plain": [
       "dtype('O')"
      ]
     },
     "execution_count": 123,
     "metadata": {},
     "output_type": "execute_result"
    }
   ],
   "source": [
    "df['Price'].dtypes"
   ]
  },
  {
   "cell_type": "markdown",
   "id": "fea3faf9",
   "metadata": {},
   "source": [
    "#### It is in object type so converting it to integer type"
   ]
  },
  {
   "cell_type": "code",
   "execution_count": 124,
   "id": "6307b822",
   "metadata": {},
   "outputs": [],
   "source": [
    "df['Price'] = df['Price'].replace('[\\$\\,\\.]', '', regex=True).astype(int)"
   ]
  },
  {
   "cell_type": "code",
   "execution_count": 125,
   "id": "9ca4b803",
   "metadata": {},
   "outputs": [
    {
     "data": {
      "text/plain": [
       "dtype('int32')"
      ]
     },
     "execution_count": 125,
     "metadata": {},
     "output_type": "execute_result"
    }
   ],
   "source": [
    "df['Price'].dtypes"
   ]
  },
  {
   "cell_type": "code",
   "execution_count": 126,
   "id": "851d2310",
   "metadata": {},
   "outputs": [
    {
     "name": "stdout",
     "output_type": "stream",
     "text": [
      "<class 'pandas.core.frame.DataFrame'>\n",
      "RangeIndex: 2469 entries, 0 to 2468\n",
      "Data columns (total 12 columns):\n",
      " #   Column          Non-Null Count  Dtype \n",
      "---  ------          --------------  ----- \n",
      " 0   Flight Name     2469 non-null   object\n",
      " 1   Source          2469 non-null   object\n",
      " 2   Destinaton      2469 non-null   object\n",
      " 3   Stops           2469 non-null   object\n",
      " 4   Date            2469 non-null   int64 \n",
      " 5   Month           2469 non-null   object\n",
      " 6   Day             2469 non-null   object\n",
      " 7   Price           2469 non-null   int32 \n",
      " 8   Departure hour  2469 non-null   int64 \n",
      " 9   Arrival hour    2469 non-null   int64 \n",
      " 10  Arrival min     2469 non-null   int64 \n",
      " 11  Duration(mins)  2469 non-null   int64 \n",
      "dtypes: int32(1), int64(5), object(6)\n",
      "memory usage: 221.9+ KB\n"
     ]
    }
   ],
   "source": [
    "df.info()"
   ]
  },
  {
   "cell_type": "markdown",
   "id": "5a9cbb41",
   "metadata": {},
   "source": [
    "### Lets work with Month and Day"
   ]
  },
  {
   "cell_type": "markdown",
   "id": "121d8bd9",
   "metadata": {},
   "source": [
    "#### Month-"
   ]
  },
  {
   "cell_type": "code",
   "execution_count": 127,
   "id": "3ee1f655",
   "metadata": {},
   "outputs": [],
   "source": [
    "d = {'Jan':1, 'Feb':2, 'Mar':3, 'Apr':4,'May':5,'Jun':6, 'Jul':7, 'Aug':8, 'Sep':9, 'Oct':10, 'Nov':11, 'Dec':12 }"
   ]
  },
  {
   "cell_type": "code",
   "execution_count": 128,
   "id": "a961ea45",
   "metadata": {},
   "outputs": [
    {
     "data": {
      "text/plain": [
       "array(['Jun', 'Sep', 'Oct', 'Dec', 'Aug', 'Jul'], dtype=object)"
      ]
     },
     "execution_count": 128,
     "metadata": {},
     "output_type": "execute_result"
    }
   ],
   "source": [
    "df['Month'].unique()"
   ]
  },
  {
   "cell_type": "code",
   "execution_count": 129,
   "id": "9a4fc5ec",
   "metadata": {},
   "outputs": [],
   "source": [
    "df.Month = df.Month.map(d)"
   ]
  },
  {
   "cell_type": "code",
   "execution_count": 130,
   "id": "b93435c2",
   "metadata": {},
   "outputs": [
    {
     "data": {
      "text/html": [
       "<div>\n",
       "<style scoped>\n",
       "    .dataframe tbody tr th:only-of-type {\n",
       "        vertical-align: middle;\n",
       "    }\n",
       "\n",
       "    .dataframe tbody tr th {\n",
       "        vertical-align: top;\n",
       "    }\n",
       "\n",
       "    .dataframe thead th {\n",
       "        text-align: right;\n",
       "    }\n",
       "</style>\n",
       "<table border=\"1\" class=\"dataframe\">\n",
       "  <thead>\n",
       "    <tr style=\"text-align: right;\">\n",
       "      <th></th>\n",
       "      <th>Flight Name</th>\n",
       "      <th>Source</th>\n",
       "      <th>Destinaton</th>\n",
       "      <th>Stops</th>\n",
       "      <th>Date</th>\n",
       "      <th>Month</th>\n",
       "      <th>Day</th>\n",
       "      <th>Price</th>\n",
       "      <th>Departure hour</th>\n",
       "      <th>Arrival hour</th>\n",
       "      <th>Arrival min</th>\n",
       "      <th>Duration(mins)</th>\n",
       "    </tr>\n",
       "  </thead>\n",
       "  <tbody>\n",
       "    <tr>\n",
       "      <th>0</th>\n",
       "      <td>IndiGo</td>\n",
       "      <td>Kolkata</td>\n",
       "      <td>New Delhi</td>\n",
       "      <td>1 Stop</td>\n",
       "      <td>18</td>\n",
       "      <td>6</td>\n",
       "      <td>Sat,</td>\n",
       "      <td>6612</td>\n",
       "      <td>11</td>\n",
       "      <td>16</td>\n",
       "      <td>45</td>\n",
       "      <td>335</td>\n",
       "    </tr>\n",
       "    <tr>\n",
       "      <th>1</th>\n",
       "      <td>Vistara</td>\n",
       "      <td>Kolkata</td>\n",
       "      <td>New Delhi</td>\n",
       "      <td>Non Stop</td>\n",
       "      <td>18</td>\n",
       "      <td>6</td>\n",
       "      <td>Sat,</td>\n",
       "      <td>7078</td>\n",
       "      <td>7</td>\n",
       "      <td>9</td>\n",
       "      <td>35</td>\n",
       "      <td>145</td>\n",
       "    </tr>\n",
       "    <tr>\n",
       "      <th>2</th>\n",
       "      <td>Vistara</td>\n",
       "      <td>Kolkata</td>\n",
       "      <td>New Delhi</td>\n",
       "      <td>Non Stop</td>\n",
       "      <td>18</td>\n",
       "      <td>6</td>\n",
       "      <td>Sat,</td>\n",
       "      <td>7078</td>\n",
       "      <td>18</td>\n",
       "      <td>21</td>\n",
       "      <td>10</td>\n",
       "      <td>145</td>\n",
       "    </tr>\n",
       "    <tr>\n",
       "      <th>3</th>\n",
       "      <td>Vistara</td>\n",
       "      <td>Kolkata</td>\n",
       "      <td>New Delhi</td>\n",
       "      <td>Non Stop</td>\n",
       "      <td>18</td>\n",
       "      <td>6</td>\n",
       "      <td>Sat,</td>\n",
       "      <td>7078</td>\n",
       "      <td>20</td>\n",
       "      <td>22</td>\n",
       "      <td>45</td>\n",
       "      <td>145</td>\n",
       "    </tr>\n",
       "    <tr>\n",
       "      <th>4</th>\n",
       "      <td>SpiceJet</td>\n",
       "      <td>Kolkata</td>\n",
       "      <td>New Delhi</td>\n",
       "      <td>Non Stop</td>\n",
       "      <td>18</td>\n",
       "      <td>6</td>\n",
       "      <td>Sat,</td>\n",
       "      <td>7136</td>\n",
       "      <td>15</td>\n",
       "      <td>17</td>\n",
       "      <td>45</td>\n",
       "      <td>135</td>\n",
       "    </tr>\n",
       "    <tr>\n",
       "      <th>...</th>\n",
       "      <td>...</td>\n",
       "      <td>...</td>\n",
       "      <td>...</td>\n",
       "      <td>...</td>\n",
       "      <td>...</td>\n",
       "      <td>...</td>\n",
       "      <td>...</td>\n",
       "      <td>...</td>\n",
       "      <td>...</td>\n",
       "      <td>...</td>\n",
       "      <td>...</td>\n",
       "      <td>...</td>\n",
       "    </tr>\n",
       "    <tr>\n",
       "      <th>2464</th>\n",
       "      <td>Vistara</td>\n",
       "      <td>Kolkata</td>\n",
       "      <td>Srinagar</td>\n",
       "      <td>2 Stop(s)</td>\n",
       "      <td>25</td>\n",
       "      <td>12</td>\n",
       "      <td>Sun,</td>\n",
       "      <td>19527</td>\n",
       "      <td>17</td>\n",
       "      <td>12</td>\n",
       "      <td>0</td>\n",
       "      <td>1105</td>\n",
       "    </tr>\n",
       "    <tr>\n",
       "      <th>2465</th>\n",
       "      <td>Vistara</td>\n",
       "      <td>Kolkata</td>\n",
       "      <td>Srinagar</td>\n",
       "      <td>2 Stop(s)</td>\n",
       "      <td>25</td>\n",
       "      <td>12</td>\n",
       "      <td>Sun,</td>\n",
       "      <td>19527</td>\n",
       "      <td>17</td>\n",
       "      <td>13</td>\n",
       "      <td>10</td>\n",
       "      <td>1175</td>\n",
       "    </tr>\n",
       "    <tr>\n",
       "      <th>2466</th>\n",
       "      <td>Go First</td>\n",
       "      <td>Kolkata</td>\n",
       "      <td>Srinagar</td>\n",
       "      <td>1 Stop</td>\n",
       "      <td>25</td>\n",
       "      <td>12</td>\n",
       "      <td>Sun,</td>\n",
       "      <td>19867</td>\n",
       "      <td>6</td>\n",
       "      <td>13</td>\n",
       "      <td>20</td>\n",
       "      <td>440</td>\n",
       "    </tr>\n",
       "    <tr>\n",
       "      <th>2467</th>\n",
       "      <td>Go First</td>\n",
       "      <td>Kolkata</td>\n",
       "      <td>Srinagar</td>\n",
       "      <td>1 Stop</td>\n",
       "      <td>25</td>\n",
       "      <td>12</td>\n",
       "      <td>Sun,</td>\n",
       "      <td>19867</td>\n",
       "      <td>6</td>\n",
       "      <td>15</td>\n",
       "      <td>15</td>\n",
       "      <td>555</td>\n",
       "    </tr>\n",
       "    <tr>\n",
       "      <th>2468</th>\n",
       "      <td>SpiceJet</td>\n",
       "      <td>Kolkata</td>\n",
       "      <td>Srinagar</td>\n",
       "      <td>1 Stop</td>\n",
       "      <td>25</td>\n",
       "      <td>12</td>\n",
       "      <td>Sun,</td>\n",
       "      <td>21280</td>\n",
       "      <td>21</td>\n",
       "      <td>12</td>\n",
       "      <td>45</td>\n",
       "      <td>890</td>\n",
       "    </tr>\n",
       "  </tbody>\n",
       "</table>\n",
       "<p>2469 rows × 12 columns</p>\n",
       "</div>"
      ],
      "text/plain": [
       "     Flight Name   Source Destinaton      Stops  Date  Month   Day  Price  \\\n",
       "0         IndiGo  Kolkata  New Delhi     1 Stop    18      6  Sat,   6612   \n",
       "1        Vistara  Kolkata  New Delhi   Non Stop    18      6  Sat,   7078   \n",
       "2        Vistara  Kolkata  New Delhi   Non Stop    18      6  Sat,   7078   \n",
       "3        Vistara  Kolkata  New Delhi   Non Stop    18      6  Sat,   7078   \n",
       "4       SpiceJet  Kolkata  New Delhi   Non Stop    18      6  Sat,   7136   \n",
       "...          ...      ...        ...        ...   ...    ...   ...    ...   \n",
       "2464     Vistara  Kolkata   Srinagar  2 Stop(s)    25     12  Sun,  19527   \n",
       "2465     Vistara  Kolkata   Srinagar  2 Stop(s)    25     12  Sun,  19527   \n",
       "2466    Go First  Kolkata   Srinagar     1 Stop    25     12  Sun,  19867   \n",
       "2467    Go First  Kolkata   Srinagar     1 Stop    25     12  Sun,  19867   \n",
       "2468    SpiceJet  Kolkata   Srinagar     1 Stop    25     12  Sun,  21280   \n",
       "\n",
       "      Departure hour  Arrival hour  Arrival min  Duration(mins)  \n",
       "0                 11            16           45             335  \n",
       "1                  7             9           35             145  \n",
       "2                 18            21           10             145  \n",
       "3                 20            22           45             145  \n",
       "4                 15            17           45             135  \n",
       "...              ...           ...          ...             ...  \n",
       "2464              17            12            0            1105  \n",
       "2465              17            13           10            1175  \n",
       "2466               6            13           20             440  \n",
       "2467               6            15           15             555  \n",
       "2468              21            12           45             890  \n",
       "\n",
       "[2469 rows x 12 columns]"
      ]
     },
     "execution_count": 130,
     "metadata": {},
     "output_type": "execute_result"
    }
   ],
   "source": [
    "df"
   ]
  },
  {
   "cell_type": "markdown",
   "id": "b1e717d3",
   "metadata": {},
   "source": [
    "#### Day -"
   ]
  },
  {
   "cell_type": "code",
   "execution_count": 131,
   "id": "12149509",
   "metadata": {},
   "outputs": [
    {
     "data": {
      "text/plain": [
       "dtype('O')"
      ]
     },
     "execution_count": 131,
     "metadata": {},
     "output_type": "execute_result"
    }
   ],
   "source": [
    "df['Day'].dtypes"
   ]
  },
  {
   "cell_type": "code",
   "execution_count": 132,
   "id": "254d8169",
   "metadata": {},
   "outputs": [
    {
     "data": {
      "text/plain": [
       "array(['Sat,', 'Wed,', 'Mon,', 'Sun,', 'Thu,', 'Fri,'], dtype=object)"
      ]
     },
     "execution_count": 132,
     "metadata": {},
     "output_type": "execute_result"
    }
   ],
   "source": [
    "df['Day'].unique()"
   ]
  },
  {
   "cell_type": "code",
   "execution_count": 133,
   "id": "3823d6ff",
   "metadata": {},
   "outputs": [],
   "source": [
    "day = {'Sun,':1, 'Mon,':2, 'Tue,':3, 'Wed,':4,'Thu,':5,'Fri,':6, 'Sat,':7}"
   ]
  },
  {
   "cell_type": "code",
   "execution_count": 134,
   "id": "41c10819",
   "metadata": {},
   "outputs": [],
   "source": [
    "df.Day = df.Day.map(day)"
   ]
  },
  {
   "cell_type": "code",
   "execution_count": 135,
   "id": "f8293138",
   "metadata": {},
   "outputs": [
    {
     "data": {
      "text/html": [
       "<div>\n",
       "<style scoped>\n",
       "    .dataframe tbody tr th:only-of-type {\n",
       "        vertical-align: middle;\n",
       "    }\n",
       "\n",
       "    .dataframe tbody tr th {\n",
       "        vertical-align: top;\n",
       "    }\n",
       "\n",
       "    .dataframe thead th {\n",
       "        text-align: right;\n",
       "    }\n",
       "</style>\n",
       "<table border=\"1\" class=\"dataframe\">\n",
       "  <thead>\n",
       "    <tr style=\"text-align: right;\">\n",
       "      <th></th>\n",
       "      <th>Flight Name</th>\n",
       "      <th>Source</th>\n",
       "      <th>Destinaton</th>\n",
       "      <th>Stops</th>\n",
       "      <th>Date</th>\n",
       "      <th>Month</th>\n",
       "      <th>Day</th>\n",
       "      <th>Price</th>\n",
       "      <th>Departure hour</th>\n",
       "      <th>Arrival hour</th>\n",
       "      <th>Arrival min</th>\n",
       "      <th>Duration(mins)</th>\n",
       "    </tr>\n",
       "  </thead>\n",
       "  <tbody>\n",
       "    <tr>\n",
       "      <th>0</th>\n",
       "      <td>IndiGo</td>\n",
       "      <td>Kolkata</td>\n",
       "      <td>New Delhi</td>\n",
       "      <td>1 Stop</td>\n",
       "      <td>18</td>\n",
       "      <td>6</td>\n",
       "      <td>7</td>\n",
       "      <td>6612</td>\n",
       "      <td>11</td>\n",
       "      <td>16</td>\n",
       "      <td>45</td>\n",
       "      <td>335</td>\n",
       "    </tr>\n",
       "    <tr>\n",
       "      <th>1</th>\n",
       "      <td>Vistara</td>\n",
       "      <td>Kolkata</td>\n",
       "      <td>New Delhi</td>\n",
       "      <td>Non Stop</td>\n",
       "      <td>18</td>\n",
       "      <td>6</td>\n",
       "      <td>7</td>\n",
       "      <td>7078</td>\n",
       "      <td>7</td>\n",
       "      <td>9</td>\n",
       "      <td>35</td>\n",
       "      <td>145</td>\n",
       "    </tr>\n",
       "    <tr>\n",
       "      <th>2</th>\n",
       "      <td>Vistara</td>\n",
       "      <td>Kolkata</td>\n",
       "      <td>New Delhi</td>\n",
       "      <td>Non Stop</td>\n",
       "      <td>18</td>\n",
       "      <td>6</td>\n",
       "      <td>7</td>\n",
       "      <td>7078</td>\n",
       "      <td>18</td>\n",
       "      <td>21</td>\n",
       "      <td>10</td>\n",
       "      <td>145</td>\n",
       "    </tr>\n",
       "    <tr>\n",
       "      <th>3</th>\n",
       "      <td>Vistara</td>\n",
       "      <td>Kolkata</td>\n",
       "      <td>New Delhi</td>\n",
       "      <td>Non Stop</td>\n",
       "      <td>18</td>\n",
       "      <td>6</td>\n",
       "      <td>7</td>\n",
       "      <td>7078</td>\n",
       "      <td>20</td>\n",
       "      <td>22</td>\n",
       "      <td>45</td>\n",
       "      <td>145</td>\n",
       "    </tr>\n",
       "    <tr>\n",
       "      <th>4</th>\n",
       "      <td>SpiceJet</td>\n",
       "      <td>Kolkata</td>\n",
       "      <td>New Delhi</td>\n",
       "      <td>Non Stop</td>\n",
       "      <td>18</td>\n",
       "      <td>6</td>\n",
       "      <td>7</td>\n",
       "      <td>7136</td>\n",
       "      <td>15</td>\n",
       "      <td>17</td>\n",
       "      <td>45</td>\n",
       "      <td>135</td>\n",
       "    </tr>\n",
       "    <tr>\n",
       "      <th>...</th>\n",
       "      <td>...</td>\n",
       "      <td>...</td>\n",
       "      <td>...</td>\n",
       "      <td>...</td>\n",
       "      <td>...</td>\n",
       "      <td>...</td>\n",
       "      <td>...</td>\n",
       "      <td>...</td>\n",
       "      <td>...</td>\n",
       "      <td>...</td>\n",
       "      <td>...</td>\n",
       "      <td>...</td>\n",
       "    </tr>\n",
       "    <tr>\n",
       "      <th>2464</th>\n",
       "      <td>Vistara</td>\n",
       "      <td>Kolkata</td>\n",
       "      <td>Srinagar</td>\n",
       "      <td>2 Stop(s)</td>\n",
       "      <td>25</td>\n",
       "      <td>12</td>\n",
       "      <td>1</td>\n",
       "      <td>19527</td>\n",
       "      <td>17</td>\n",
       "      <td>12</td>\n",
       "      <td>0</td>\n",
       "      <td>1105</td>\n",
       "    </tr>\n",
       "    <tr>\n",
       "      <th>2465</th>\n",
       "      <td>Vistara</td>\n",
       "      <td>Kolkata</td>\n",
       "      <td>Srinagar</td>\n",
       "      <td>2 Stop(s)</td>\n",
       "      <td>25</td>\n",
       "      <td>12</td>\n",
       "      <td>1</td>\n",
       "      <td>19527</td>\n",
       "      <td>17</td>\n",
       "      <td>13</td>\n",
       "      <td>10</td>\n",
       "      <td>1175</td>\n",
       "    </tr>\n",
       "    <tr>\n",
       "      <th>2466</th>\n",
       "      <td>Go First</td>\n",
       "      <td>Kolkata</td>\n",
       "      <td>Srinagar</td>\n",
       "      <td>1 Stop</td>\n",
       "      <td>25</td>\n",
       "      <td>12</td>\n",
       "      <td>1</td>\n",
       "      <td>19867</td>\n",
       "      <td>6</td>\n",
       "      <td>13</td>\n",
       "      <td>20</td>\n",
       "      <td>440</td>\n",
       "    </tr>\n",
       "    <tr>\n",
       "      <th>2467</th>\n",
       "      <td>Go First</td>\n",
       "      <td>Kolkata</td>\n",
       "      <td>Srinagar</td>\n",
       "      <td>1 Stop</td>\n",
       "      <td>25</td>\n",
       "      <td>12</td>\n",
       "      <td>1</td>\n",
       "      <td>19867</td>\n",
       "      <td>6</td>\n",
       "      <td>15</td>\n",
       "      <td>15</td>\n",
       "      <td>555</td>\n",
       "    </tr>\n",
       "    <tr>\n",
       "      <th>2468</th>\n",
       "      <td>SpiceJet</td>\n",
       "      <td>Kolkata</td>\n",
       "      <td>Srinagar</td>\n",
       "      <td>1 Stop</td>\n",
       "      <td>25</td>\n",
       "      <td>12</td>\n",
       "      <td>1</td>\n",
       "      <td>21280</td>\n",
       "      <td>21</td>\n",
       "      <td>12</td>\n",
       "      <td>45</td>\n",
       "      <td>890</td>\n",
       "    </tr>\n",
       "  </tbody>\n",
       "</table>\n",
       "<p>2469 rows × 12 columns</p>\n",
       "</div>"
      ],
      "text/plain": [
       "     Flight Name   Source Destinaton      Stops  Date  Month  Day  Price  \\\n",
       "0         IndiGo  Kolkata  New Delhi     1 Stop    18      6    7   6612   \n",
       "1        Vistara  Kolkata  New Delhi   Non Stop    18      6    7   7078   \n",
       "2        Vistara  Kolkata  New Delhi   Non Stop    18      6    7   7078   \n",
       "3        Vistara  Kolkata  New Delhi   Non Stop    18      6    7   7078   \n",
       "4       SpiceJet  Kolkata  New Delhi   Non Stop    18      6    7   7136   \n",
       "...          ...      ...        ...        ...   ...    ...  ...    ...   \n",
       "2464     Vistara  Kolkata   Srinagar  2 Stop(s)    25     12    1  19527   \n",
       "2465     Vistara  Kolkata   Srinagar  2 Stop(s)    25     12    1  19527   \n",
       "2466    Go First  Kolkata   Srinagar     1 Stop    25     12    1  19867   \n",
       "2467    Go First  Kolkata   Srinagar     1 Stop    25     12    1  19867   \n",
       "2468    SpiceJet  Kolkata   Srinagar     1 Stop    25     12    1  21280   \n",
       "\n",
       "      Departure hour  Arrival hour  Arrival min  Duration(mins)  \n",
       "0                 11            16           45             335  \n",
       "1                  7             9           35             145  \n",
       "2                 18            21           10             145  \n",
       "3                 20            22           45             145  \n",
       "4                 15            17           45             135  \n",
       "...              ...           ...          ...             ...  \n",
       "2464              17            12            0            1105  \n",
       "2465              17            13           10            1175  \n",
       "2466               6            13           20             440  \n",
       "2467               6            15           15             555  \n",
       "2468              21            12           45             890  \n",
       "\n",
       "[2469 rows x 12 columns]"
      ]
     },
     "execution_count": 135,
     "metadata": {},
     "output_type": "execute_result"
    }
   ],
   "source": [
    "df"
   ]
  },
  {
   "cell_type": "code",
   "execution_count": 136,
   "id": "27acead0",
   "metadata": {},
   "outputs": [
    {
     "name": "stdout",
     "output_type": "stream",
     "text": [
      "<class 'pandas.core.frame.DataFrame'>\n",
      "RangeIndex: 2469 entries, 0 to 2468\n",
      "Data columns (total 12 columns):\n",
      " #   Column          Non-Null Count  Dtype \n",
      "---  ------          --------------  ----- \n",
      " 0   Flight Name     2469 non-null   object\n",
      " 1   Source          2469 non-null   object\n",
      " 2   Destinaton      2469 non-null   object\n",
      " 3   Stops           2469 non-null   object\n",
      " 4   Date            2469 non-null   int64 \n",
      " 5   Month           2469 non-null   int64 \n",
      " 6   Day             2469 non-null   int64 \n",
      " 7   Price           2469 non-null   int32 \n",
      " 8   Departure hour  2469 non-null   int64 \n",
      " 9   Arrival hour    2469 non-null   int64 \n",
      " 10  Arrival min     2469 non-null   int64 \n",
      " 11  Duration(mins)  2469 non-null   int64 \n",
      "dtypes: int32(1), int64(7), object(4)\n",
      "memory usage: 221.9+ KB\n"
     ]
    }
   ],
   "source": [
    "df.info()"
   ]
  },
  {
   "cell_type": "markdown",
   "id": "6e83703d",
   "metadata": {},
   "source": [
    "# Data Visualization"
   ]
  },
  {
   "cell_type": "markdown",
   "id": "a97cf2d4",
   "metadata": {},
   "source": [
    "### Plotting Price vs Airline Name"
   ]
  },
  {
   "cell_type": "code",
   "execution_count": 137,
   "id": "73ca1c77",
   "metadata": {},
   "outputs": [
    {
     "data": {
      "image/png": "[encoded data removed]",
      "text/plain": [
       "<Figure size 1728x576 with 1 Axes>"
      ]
     },
     "metadata": {
      "needs_background": "light"
     },
     "output_type": "display_data"
    }
   ],
   "source": [
    "sns.catplot(y = \"Price\", x = \"Flight Name\", data = df.sort_values(\"Price\", ascending = False), kind=\"boxen\", height = 8, aspect = 3)\n",
    "plt.show()"
   ]
  },
  {
   "cell_type": "markdown",
   "id": "c10b2f4f",
   "metadata": {},
   "source": [
    "### Observation-\n",
    "Here with the help of the cat plot we are trying to plot the boxplot between the price of the flight and airline and we can conclude that Air India has the most outliers in terms of price."
   ]
  },
  {
   "cell_type": "markdown",
   "id": "e0b689e8",
   "metadata": {},
   "source": [
    "### Plotting Violin plot for Price vs Source"
   ]
  },
  {
   "cell_type": "code",
   "execution_count": 138,
   "id": "138547d7",
   "metadata": {},
   "outputs": [
    {
     "data": {
      "image/png": "[encoded data removed]",
      "text/plain": [
       "<Figure size 864x288 with 1 Axes>"
      ]
     },
     "metadata": {
      "needs_background": "light"
     },
     "output_type": "display_data"
    }
   ],
   "source": [
    "sns.catplot(y = \"Price\", x = \"Source\", data = df.sort_values(\"Price\", ascending = False), kind=\"violin\", height = 4, aspect = 3)\n",
    "plt.show()"
   ]
  },
  {
   "cell_type": "code",
   "execution_count": null,
   "id": "5ebbd09a",
   "metadata": {},
   "outputs": [],
   "source": []
  },
  {
   "cell_type": "markdown",
   "id": "f7098901",
   "metadata": {},
   "source": [
    "## Plotting Box plot for Price vs Destination"
   ]
  },
  {
   "cell_type": "code",
   "execution_count": 141,
   "id": "70a04d03",
   "metadata": {},
   "outputs": [
    {
     "data": {
      "image/png": "[encoded data removed]",
      "text/plain": [
       "<Figure size 864x288 with 1 Axes>"
      ]
     },
     "metadata": {
      "needs_background": "light"
     },
     "output_type": "display_data"
    }
   ],
   "source": [
    "sns.catplot(y = \"Price\", x = \"Destinaton\", data = df.sort_values(\"Price\", ascending = False), kind=\"box\", height = 4, aspect = 3)\n",
    "plt.show()"
   ]
  },
  {
   "cell_type": "markdown",
   "id": "8e8628fa",
   "metadata": {},
   "source": [
    "### Observation-\n",
    "Here we are plotting the box plot with the help of a cat plot between the price of the flight and the destination to which the passenger is travelling and figured out that Mumbai has the most outliers and Goa has the least."
   ]
  },
  {
   "cell_type": "markdown",
   "id": "893924fa",
   "metadata": {},
   "source": [
    "### Plotting Bar chart for Months (Duration) vs Number of Flights"
   ]
  },
  {
   "cell_type": "code",
   "execution_count": 143,
   "id": "88f71ef4",
   "metadata": {},
   "outputs": [
    {
     "data": {
      "image/png": "[encoded data removed]",
      "text/plain": [
       "<Figure size 720x360 with 1 Axes>"
      ]
     },
     "metadata": {
      "needs_background": "light"
     },
     "output_type": "display_data"
    }
   ],
   "source": [
    "plt.figure(figsize = (10, 5))\n",
    "plt.title('Count of flights month wise')\n",
    "ax=sns.countplot(x = 'Month', data = df)\n",
    "plt.xlabel('Month')\n",
    "plt.ylabel('Count of flights')\n",
    "for p in ax.patches:\n",
    "    ax.annotate(int(p.get_height()), (p.get_x()+0.25, p.get_height()+1), va='bottom', color= 'black')"
   ]
  },
  {
   "cell_type": "markdown",
   "id": "6b2fa5a6",
   "metadata": {},
   "source": [
    "### Observation- \n",
    "Here in the above graph we have plotted the count plot for journey in a month vs several flights and got to see that June has the most number of flights."
   ]
  },
  {
   "cell_type": "markdown",
   "id": "0447ac6a",
   "metadata": {},
   "source": [
    "## Plotting Bar chart for Types of Airline vs Number of Flights"
   ]
  },
  {
   "cell_type": "code",
   "execution_count": 145,
   "id": "99cc4dfb",
   "metadata": {},
   "outputs": [
    {
     "data": {
      "image/png": "[encoded data removed]",
      "text/plain": [
       "<Figure size 1440x360 with 1 Axes>"
      ]
     },
     "metadata": {
      "needs_background": "light"
     },
     "output_type": "display_data"
    }
   ],
   "source": [
    "plt.figure(figsize = (20,5))\n",
    "plt.title('Count of flights with different Airlines')\n",
    "ax=sns.countplot(x = 'Flight Name', data =df)\n",
    "plt.xlabel('Airline')\n",
    "plt.ylabel('Count of flights')\n",
    "plt.xticks(rotation = 45)\n",
    "for p in ax.patches:\n",
    "    ax.annotate(int(p.get_height()), (p.get_x()+0.25, p.get_height()+1), va='bottom', color= 'black')"
   ]
  },
  {
   "cell_type": "markdown",
   "id": "813ac15b",
   "metadata": {},
   "source": [
    "### Observation-\n",
    "Now from the above graph we can see that between the type of airline and count of flights we can see that Indigo has the most flight boarded"
   ]
  },
  {
   "cell_type": "markdown",
   "id": "06d2f970",
   "metadata": {},
   "source": [
    "## Plotting Ticket Prices VS Airlines"
   ]
  },
  {
   "cell_type": "code",
   "execution_count": 147,
   "id": "da68b069",
   "metadata": {},
   "outputs": [
    {
     "data": {
      "text/plain": [
       "([0, 1, 2, 3, 4, 5],\n",
       " [Text(0, 0, ''),\n",
       "  Text(0, 0, ''),\n",
       "  Text(0, 0, ''),\n",
       "  Text(0, 0, ''),\n",
       "  Text(0, 0, ''),\n",
       "  Text(0, 0, '')])"
      ]
     },
     "execution_count": 147,
     "metadata": {},
     "output_type": "execute_result"
    },
    {
     "data": {
      "image/png": "[encoded data removed]",
      "text/plain": [
       "<Figure size 1080x288 with 1 Axes>"
      ]
     },
     "metadata": {
      "needs_background": "light"
     },
     "output_type": "display_data"
    }
   ],
   "source": [
    "plt.figure(figsize = (15,4))\n",
    "plt.title('Price VS Airlines')\n",
    "plt.scatter(df['Flight Name'], df['Price'])\n",
    "plt.xticks\n",
    "plt.xlabel('Airline')\n",
    "plt.ylabel('Price of ticket')\n",
    "plt.xticks(rotation = 90)"
   ]
  },
  {
   "cell_type": "markdown",
   "id": "e8ee97ce",
   "metadata": {},
   "source": [
    "## Plotting Box plot for Price vs Day"
   ]
  },
  {
   "cell_type": "code",
   "execution_count": 148,
   "id": "8603b99f",
   "metadata": {},
   "outputs": [
    {
     "data": {
      "image/png": "[encoded data removed]",
      "text/plain": [
       "<Figure size 864x288 with 1 Axes>"
      ]
     },
     "metadata": {
      "needs_background": "light"
     },
     "output_type": "display_data"
    }
   ],
   "source": [
    "sns.catplot(y = \"Price\", x = \"Day\", data = df.sort_values(\"Price\", ascending = False), kind=\"box\", height = 4, aspect = 3)\n",
    "plt.show()"
   ]
  },
  {
   "cell_type": "markdown",
   "id": "32aa753d",
   "metadata": {},
   "source": [
    "### Observation-\n",
    "Here we are plotting the box plot with the help of a cat plot between the price of the flight and the day to which the passenger is travelling and figured out that Wednesday has the most outliers and Friday has the least."
   ]
  },
  {
   "cell_type": "markdown",
   "id": "47b07ed0",
   "metadata": {},
   "source": [
    "## Plotting Box plot for Price vs Stops"
   ]
  },
  {
   "cell_type": "code",
   "execution_count": 151,
   "id": "f9eeb645",
   "metadata": {},
   "outputs": [
    {
     "data": {
      "image/png": "[encoded data removed]",
      "text/plain": [
       "<Figure size 864x288 with 1 Axes>"
      ]
     },
     "metadata": {
      "needs_background": "light"
     },
     "output_type": "display_data"
    }
   ],
   "source": [
    "sns.catplot(y = \"Price\", x = \"Stops\", data = df.sort_values(\"Price\", ascending = False), kind=\"box\", height = 4, aspect = 3)\n",
    "plt.show()"
   ]
  },
  {
   "cell_type": "markdown",
   "id": "47b1abba",
   "metadata": {},
   "source": [
    "### Observation-\n",
    "Here we are plotting the box plot with the help of a cat plot between the price of the flight and number of stops to reach the destination and figured out that price is increasing with number of stops."
   ]
  },
  {
   "cell_type": "markdown",
   "id": "d41747a4",
   "metadata": {},
   "source": [
    "## Plotting Ticket Prices VS Destination"
   ]
  },
  {
   "cell_type": "code",
   "execution_count": 160,
   "id": "6991a996",
   "metadata": {},
   "outputs": [
    {
     "data": {
      "image/png": "[encoded data removed]",
      "text/plain": [
       "<Figure size 432x288 with 1 Axes>"
      ]
     },
     "metadata": {
      "needs_background": "light"
     },
     "output_type": "display_data"
    }
   ],
   "source": [
    "x = df['Destinaton']\n",
    "y = df['Price']\n",
    "\n",
    "plt.scatter(x, y)\n",
    "plt.show()"
   ]
  },
  {
   "cell_type": "markdown",
   "id": "c7a54c17",
   "metadata": {},
   "source": [
    "### Observation-\n",
    "Here we are plotting the scatter plot between the price of the flight and Destination and figured out that flight to Mumbai is most costly."
   ]
  },
  {
   "cell_type": "markdown",
   "id": "070f1aff",
   "metadata": {},
   "source": [
    "# Label Encoder to convert the dataset to numerical"
   ]
  },
  {
   "cell_type": "code",
   "execution_count": 50,
   "id": "432f49a4",
   "metadata": {},
   "outputs": [],
   "source": [
    "from sklearn.preprocessing import LabelEncoder\n",
    "le = LabelEncoder()"
   ]
  },
  {
   "cell_type": "code",
   "execution_count": 51,
   "id": "ac8ca2e5",
   "metadata": {},
   "outputs": [],
   "source": [
    "for col in df.columns:\n",
    "    if df[col].dtypes == 'object':\n",
    "        df[col] = le.fit_transform(df[col])"
   ]
  },
  {
   "cell_type": "code",
   "execution_count": 52,
   "id": "10d5d28d",
   "metadata": {},
   "outputs": [
    {
     "data": {
      "text/plain": [
       "Flight Name       int32\n",
       "Source            int32\n",
       "Destinaton        int32\n",
       "Stops             int32\n",
       "Date              int64\n",
       "Month             int64\n",
       "Day               int64\n",
       "Price             int32\n",
       "Departure hour    int64\n",
       "Departure min     int64\n",
       "Arrival hour      int64\n",
       "Arrival min       int64\n",
       "Duration(mins)    int64\n",
       "dtype: object"
      ]
     },
     "execution_count": 52,
     "metadata": {},
     "output_type": "execute_result"
    }
   ],
   "source": [
    "df.dtypes"
   ]
  },
  {
   "cell_type": "markdown",
   "id": "34880989",
   "metadata": {},
   "source": [
    "# Checking the Skewness"
   ]
  },
  {
   "cell_type": "code",
   "execution_count": 53,
   "id": "535d74a6",
   "metadata": {},
   "outputs": [
    {
     "data": {
      "text/plain": [
       "Flight Name      -0.198922\n",
       "Source            0.000000\n",
       "Destinaton       -0.048346\n",
       "Stops             1.987780\n",
       "Date             -0.112819\n",
       "Month             0.830480\n",
       "Day              -0.328448\n",
       "Price             1.101115\n",
       "Departure hour    0.067003\n",
       "Departure min    -0.027390\n",
       "Arrival hour     -0.593494\n",
       "Arrival min       0.047893\n",
       "Duration(mins)    0.802329\n",
       "dtype: float64"
      ]
     },
     "execution_count": 53,
     "metadata": {},
     "output_type": "execute_result"
    }
   ],
   "source": [
    "df.skew()"
   ]
  },
  {
   "cell_type": "code",
   "execution_count": 80,
   "id": "cb0879b7",
   "metadata": {},
   "outputs": [],
   "source": [
    "features = df.drop('Price', axis=1)\n",
    "label = df['Price']"
   ]
  },
  {
   "cell_type": "markdown",
   "id": "d8ed4f69",
   "metadata": {},
   "source": [
    "### Using numpy.log1p() to remove the skewness nearest to 0.55\n",
    "\n",
    "This mathematical function helps user to calculate natural logarithmic value of x+1 where x belongs to all the input array elements.\n",
    "\n",
    "- log1p is reverse of exp(x) – 1"
   ]
  },
  {
   "cell_type": "code",
   "execution_count": 81,
   "id": "d62aadb9",
   "metadata": {},
   "outputs": [],
   "source": [
    "for col in features:\n",
    "    if df.skew().loc[col]>0.55:\n",
    "        df[col] = np.log1p(df[col])"
   ]
  },
  {
   "cell_type": "code",
   "execution_count": 82,
   "id": "ff64d1f8",
   "metadata": {},
   "outputs": [
    {
     "data": {
      "text/plain": [
       "Flight Name      -0.198922\n",
       "Source            0.000000\n",
       "Destinaton       -0.048346\n",
       "Stops             1.602518\n",
       "Date             -0.112819\n",
       "Month             0.614637\n",
       "Day              -0.328448\n",
       "Price             1.101115\n",
       "Departure hour    0.067003\n",
       "Departure min    -0.027390\n",
       "Arrival hour     -0.593494\n",
       "Arrival min       0.047893\n",
       "Duration(mins)   -0.468110\n",
       "dtype: float64"
      ]
     },
     "execution_count": 82,
     "metadata": {},
     "output_type": "execute_result"
    }
   ],
   "source": [
    "df.skew()"
   ]
  },
  {
   "cell_type": "markdown",
   "id": "024a2938",
   "metadata": {},
   "source": [
    "# Using Boxplot to check the outliers"
   ]
  },
  {
   "cell_type": "code",
   "execution_count": 83,
   "id": "db3236b5",
   "metadata": {},
   "outputs": [
    {
     "data": {
      "text/plain": [
       "Flight Name          AxesSubplot(0.125,0.749828;0.0945122x0.130172)\n",
       "Source            AxesSubplot(0.238415,0.749828;0.0945122x0.130172)\n",
       "Destinaton        AxesSubplot(0.351829,0.749828;0.0945122x0.130172)\n",
       "Stops             AxesSubplot(0.465244,0.749828;0.0945122x0.130172)\n",
       "Date              AxesSubplot(0.578659,0.749828;0.0945122x0.130172)\n",
       "Month             AxesSubplot(0.692073,0.749828;0.0945122x0.130172)\n",
       "Day               AxesSubplot(0.805488,0.749828;0.0945122x0.130172)\n",
       "Price                AxesSubplot(0.125,0.593621;0.0945122x0.130172)\n",
       "Departure hour    AxesSubplot(0.238415,0.593621;0.0945122x0.130172)\n",
       "Departure min     AxesSubplot(0.351829,0.593621;0.0945122x0.130172)\n",
       "Arrival hour      AxesSubplot(0.465244,0.593621;0.0945122x0.130172)\n",
       "Arrival min       AxesSubplot(0.578659,0.593621;0.0945122x0.130172)\n",
       "Duration(mins)    AxesSubplot(0.692073,0.593621;0.0945122x0.130172)\n",
       "dtype: object"
      ]
     },
     "execution_count": 83,
     "metadata": {},
     "output_type": "execute_result"
    },
    {
     "data": {
      "image/png": "[encoded data removed]",
      "text/plain": [
       "<Figure size 1080x720 with 35 Axes>"
      ]
     },
     "metadata": {
      "needs_background": "light"
     },
     "output_type": "display_data"
    }
   ],
   "source": [
    "df.plot(kind='box',subplots=True, layout=(5,7),figsize=(15,10))"
   ]
  },
  {
   "cell_type": "markdown",
   "id": "bf6ed986",
   "metadata": {},
   "source": [
    "# Heatmap to check the correlation"
   ]
  },
  {
   "cell_type": "code",
   "execution_count": 84,
   "id": "cf80a135",
   "metadata": {},
   "outputs": [
    {
     "data": {
      "image/png": "[encoded data removed]",
      "text/plain": [
       "<Figure size 1440x504 with 2 Axes>"
      ]
     },
     "metadata": {
      "needs_background": "light"
     },
     "output_type": "display_data"
    }
   ],
   "source": [
    "plt.figure(figsize=(20,7))\n",
    "cor=df.corr()\n",
    "sns.heatmap(cor,annot=True,cmap=plt.cm.CMRmap_r)\n",
    "plt.show()"
   ]
  },
  {
   "cell_type": "markdown",
   "id": "6f823ee7",
   "metadata": {},
   "source": [
    "# Finding the unique value for all columns"
   ]
  },
  {
   "cell_type": "code",
   "execution_count": 85,
   "id": "5090753d",
   "metadata": {},
   "outputs": [
    {
     "name": "stdout",
     "output_type": "stream",
     "text": [
      "Flight Name 6\n",
      "Source 1\n",
      "Destinaton 7\n",
      "Stops 4\n",
      "Date 12\n",
      "Month 6\n",
      "Day 6\n",
      "Price 552\n",
      "Departure hour 21\n",
      "Departure min 12\n",
      "Arrival hour 24\n",
      "Arrival min 13\n",
      "Duration(mins) 290\n"
     ]
    }
   ],
   "source": [
    "for i in df:\n",
    "    print(i , len(df[i].unique()))"
   ]
  },
  {
   "cell_type": "markdown",
   "id": "ef5d7ae7",
   "metadata": {},
   "source": [
    "# Checking VIF"
   ]
  },
  {
   "cell_type": "code",
   "execution_count": 86,
   "id": "18c1684b",
   "metadata": {},
   "outputs": [],
   "source": [
    "names = list(df.drop(columns=[\"Price\"]))"
   ]
  },
  {
   "cell_type": "code",
   "execution_count": 87,
   "id": "c9e471da",
   "metadata": {},
   "outputs": [
    {
     "name": "stdout",
     "output_type": "stream",
     "text": [
      "R Square value of Flight Name column is 0.77 keeping all other columns as independent features\n",
      "Variance Inflation Factor of Flight Name column is 4.43 n\n",
      "\n",
      "R Square value of Source column is nan keeping all other columns as independent features\n",
      "Variance Inflation Factor of Source column is nan n\n",
      "\n",
      "R Square value of Destinaton column is 0.67 keeping all other columns as independent features\n",
      "Variance Inflation Factor of Destinaton column is 3.06 n\n",
      "\n",
      "R Square value of Stops column is 0.32 keeping all other columns as independent features\n",
      "Variance Inflation Factor of Stops column is 1.48 n\n",
      "\n",
      "R Square value of Date column is 0.8 keeping all other columns as independent features\n",
      "Variance Inflation Factor of Date column is 4.91 n\n",
      "\n",
      "R Square value of Month column is 0.99 keeping all other columns as independent features\n",
      "Variance Inflation Factor of Month column is 75.76 n\n",
      "\n",
      "R Square value of Day column is 0.89 keeping all other columns as independent features\n",
      "Variance Inflation Factor of Day column is 9.09 n\n",
      "\n",
      "R Square value of Departure hour column is 0.86 keeping all other columns as independent features\n",
      "Variance Inflation Factor of Departure hour column is 6.91 n\n",
      "\n",
      "R Square value of Departure min column is 0.76 keeping all other columns as independent features\n",
      "Variance Inflation Factor of Departure min column is 4.18 n\n",
      "\n",
      "R Square value of Arrival hour column is 0.85 keeping all other columns as independent features\n",
      "Variance Inflation Factor of Arrival hour column is 6.58 n\n",
      "\n",
      "R Square value of Arrival min column is 0.72 keeping all other columns as independent features\n",
      "Variance Inflation Factor of Arrival min column is 3.53 n\n",
      "\n",
      "R Square value of Duration(mins) column is 0.99 keeping all other columns as independent features\n",
      "Variance Inflation Factor of Duration(mins) column is 115.16 n\n",
      "\n"
     ]
    }
   ],
   "source": [
    "for index in range(0, len(names)):\n",
    "            y = df.loc[:, df.columns == names[index]]\n",
    "            x = df.loc[:, df.columns != names[index]]\n",
    "            model = sm.OLS(y, x)                       #Fit ordinary least squares methodhttp://localhost:8888/notebooks/baseball%20predict.ipynb#\n",
    "            results = model.fit()\n",
    "            rsq = results.rsquared\n",
    "            vif = round(1 / (1 - rsq), 2)\n",
    "            print(\"R Square value of {} column is {} keeping all other columns as independent features\".format(\n",
    "              names [index], (round(rsq, 2))\n",
    "                    )\n",
    "            )\n",
    "            print(\"Variance Inflation Factor of {} column is {} n\".format(\n",
    "                 names[index], vif)\n",
    "          )\n",
    "            print()\n"
   ]
  },
  {
   "cell_type": "markdown",
   "id": "063701a5",
   "metadata": {},
   "source": [
    "#### Observation- VIF of each columns are looking good (setting 10 as limit)"
   ]
  },
  {
   "cell_type": "markdown",
   "id": "41fc865f",
   "metadata": {},
   "source": [
    "# Model Building"
   ]
  },
  {
   "cell_type": "code",
   "execution_count": 88,
   "id": "15795bcd",
   "metadata": {},
   "outputs": [],
   "source": [
    "from sklearn.linear_model import LinearRegression, Ridge\n",
    "from sklearn.ensemble import RandomForestRegressor, GradientBoostingRegressor\n",
    "from sklearn.neighbors import KNeighborsRegressor\n",
    "from sklearn.tree import DecisionTreeRegressor\n",
    "\n",
    "from sklearn.model_selection import train_test_split\n",
    "from sklearn.preprocessing import StandardScaler\n",
    "\n",
    "\n",
    "X = df.drop('Price', axis=1)\n",
    "y = df['Price']\n",
    "\n",
    "scaler = StandardScaler()\n",
    "X_scaled = scaler.fit_transform(X)\n",
    "\n",
    "X_train, X_test, y_train, y_test = train_test_split(X_scaled, y, test_size=0.3, random_state=0)"
   ]
  },
  {
   "cell_type": "markdown",
   "id": "b7d3525a",
   "metadata": {},
   "source": [
    "## Linear Regression"
   ]
  },
  {
   "cell_type": "code",
   "execution_count": 89,
   "id": "345f5c82",
   "metadata": {},
   "outputs": [
    {
     "name": "stdout",
     "output_type": "stream",
     "text": [
      "Train Score : 0.3583\n",
      "Test Score : 0.3257\n"
     ]
    }
   ],
   "source": [
    "model = LinearRegression()\n",
    "model.fit(X_train, y_train)\n",
    "print('Train Score : {:.4f}'.format(model.score(X_train, y_train)))\n",
    "print('Test Score : {:.4f}'.format(model.score(X_test, y_test)))"
   ]
  },
  {
   "cell_type": "markdown",
   "id": "79692125",
   "metadata": {},
   "source": [
    "## Ridge"
   ]
  },
  {
   "cell_type": "code",
   "execution_count": 90,
   "id": "2d28e338",
   "metadata": {},
   "outputs": [
    {
     "name": "stdout",
     "output_type": "stream",
     "text": [
      "Train Score : 0.3583\n",
      "Test Score : 0.3257\n"
     ]
    }
   ],
   "source": [
    "model = Ridge()\n",
    "model.fit(X_train, y_train)\n",
    "print('Train Score : {:.4f}'.format(model.score(X_train, y_train)))\n",
    "print('Test Score : {:.4f}'.format(model.score(X_test, y_test)))"
   ]
  },
  {
   "cell_type": "markdown",
   "id": "4eec1a6d",
   "metadata": {},
   "source": [
    "## Gradient Boost"
   ]
  },
  {
   "cell_type": "code",
   "execution_count": 91,
   "id": "294cf9d0",
   "metadata": {},
   "outputs": [
    {
     "name": "stdout",
     "output_type": "stream",
     "text": [
      "Train Score : 0.7655\n",
      "Test Score : 0.6805\n"
     ]
    }
   ],
   "source": [
    "model = GradientBoostingRegressor()\n",
    "model.fit(X_train, y_train)\n",
    "print('Train Score : {:.4f}'.format(model.score(X_train, y_train)))\n",
    "print('Test Score : {:.4f}'.format(model.score(X_test, y_test)))"
   ]
  },
  {
   "cell_type": "markdown",
   "id": "4d74d0a6",
   "metadata": {},
   "source": [
    "## K-Nearest Neighbors"
   ]
  },
  {
   "cell_type": "code",
   "execution_count": 92,
   "id": "67eb7e4d",
   "metadata": {},
   "outputs": [
    {
     "name": "stdout",
     "output_type": "stream",
     "text": [
      "Train Score : 0.7397\n",
      "Test Score : 0.5767\n"
     ]
    }
   ],
   "source": [
    "model = KNeighborsRegressor()\n",
    "model.fit(X_train, y_train)\n",
    "print('Train Score : {:.4f}'.format(model.score(X_train, y_train)))\n",
    "print('Test Score : {:.4f}'.format(model.score(X_test, y_test)))"
   ]
  },
  {
   "cell_type": "markdown",
   "id": "1cac327d",
   "metadata": {},
   "source": [
    "## Random Forest"
   ]
  },
  {
   "cell_type": "code",
   "execution_count": 93,
   "id": "ef1f6506",
   "metadata": {},
   "outputs": [
    {
     "name": "stdout",
     "output_type": "stream",
     "text": [
      "Train Score : 0.9680\n",
      "Test Score : 0.7261\n"
     ]
    }
   ],
   "source": [
    "model = RandomForestRegressor()\n",
    "model.fit(X_train, y_train)\n",
    "print('Train Score : {:.4f}'.format(model.score(X_train, y_train)))\n",
    "print('Test Score : {:.4f}'.format(model.score(X_test, y_test)))"
   ]
  },
  {
   "cell_type": "markdown",
   "id": "e4e4b6cd",
   "metadata": {},
   "source": [
    "## Decision Tree"
   ]
  },
  {
   "cell_type": "code",
   "execution_count": 94,
   "id": "b9f31b82",
   "metadata": {},
   "outputs": [
    {
     "name": "stdout",
     "output_type": "stream",
     "text": [
      "Train Score : 0.9999\n",
      "Test Score : 0.5017\n"
     ]
    }
   ],
   "source": [
    "model = DecisionTreeRegressor()\n",
    "model.fit(X_train, y_train)\n",
    "print('Train Score : {:.4f}'.format(model.score(X_train, y_train)))\n",
    "print('Test Score : {:.4f}'.format(model.score(X_test, y_test)))"
   ]
  },
  {
   "cell_type": "markdown",
   "id": "984f9bcd",
   "metadata": {},
   "source": [
    "# Hyperparameter Tuning"
   ]
  },
  {
   "cell_type": "code",
   "execution_count": 95,
   "id": "ef8fdfc5",
   "metadata": {},
   "outputs": [],
   "source": [
    "from sklearn.model_selection import GridSearchCV\n",
    "\n",
    "models = []\n",
    "scores = []"
   ]
  },
  {
   "cell_type": "markdown",
   "id": "7f2e5fd6",
   "metadata": {},
   "source": [
    "## Ridge"
   ]
  },
  {
   "cell_type": "code",
   "execution_count": 96,
   "id": "9da13661",
   "metadata": {},
   "outputs": [
    {
     "name": "stdout",
     "output_type": "stream",
     "text": [
      "Test Score : 0.3257\n",
      "Best Parameters : {'alpha': 10}\n",
      "Best CV Score : 0.3445\n"
     ]
    }
   ],
   "source": [
    "param_grid = {'alpha' : [0.0001, 0.0001, 0.001, 0.01, 0.1, 1, 10, 100]}\n",
    "model = Ridge()\n",
    "\n",
    "grid_search = GridSearchCV(model, param_grid, cv=5)\n",
    "grid_search.fit(X_train, y_train)\n",
    "ridge_score = grid_search.score(X_test, y_test)\n",
    "\n",
    "print('Test Score : {:.4f}'.format(ridge_score))\n",
    "print('Best Parameters :', grid_search.best_params_)\n",
    "print('Best CV Score : {:.4f}'.format(grid_search.best_score_))\n",
    "\n",
    "models.append('Ridge')\n",
    "scores.append(ridge_score)"
   ]
  },
  {
   "cell_type": "markdown",
   "id": "753df682",
   "metadata": {},
   "source": [
    "## Gradient Boost¶"
   ]
  },
  {
   "cell_type": "code",
   "execution_count": 97,
   "id": "0f7cdf87",
   "metadata": {},
   "outputs": [
    {
     "name": "stdout",
     "output_type": "stream",
     "text": [
      "Test Score : 0.7212\n",
      "Best Parameters : {'max_depth': 7}\n",
      "Best CV Score : 0.7709\n"
     ]
    }
   ],
   "source": [
    "param_grid = {'max_depth' : [2, 3, 4, 5, 6, 7, 8, 9,10,11,12]}\n",
    "model = GradientBoostingRegressor()\n",
    "\n",
    "grid_search = GridSearchCV(model, param_grid, cv=5)\n",
    "grid_search.fit(X_train, y_train)\n",
    "gb_score = grid_search.score(X_test, y_test)\n",
    "  \n",
    "\n",
    "print('Test Score : {:.4f}'.format(gb_score))\n",
    "print('Best Parameters :', grid_search.best_params_)\n",
    "print('Best CV Score : {:.4f}'.format(grid_search.best_score_))\n",
    "\n",
    "models.append('Gradient Boost')\n",
    "scores.append(gb_score)"
   ]
  },
  {
   "cell_type": "markdown",
   "id": "4faffb3a",
   "metadata": {},
   "source": [
    "## K-Nearest Neighbors"
   ]
  },
  {
   "cell_type": "code",
   "execution_count": 98,
   "id": "0977bbc7",
   "metadata": {},
   "outputs": [
    {
     "name": "stdout",
     "output_type": "stream",
     "text": [
      "Test Score : 0.5515\n",
      "Best Parameters : {'n_neighbors': 4}\n",
      "Best CV Score : 0.5799\n"
     ]
    }
   ],
   "source": [
    "param_grid = {'n_neighbors' : range(1, 20)}\n",
    "model = KNeighborsRegressor()\n",
    "\n",
    "grid_search = GridSearchCV(model, param_grid, cv=5)\n",
    "grid_search.fit(X_train, y_train)\n",
    "knr_score = grid_search.score(X_test, y_test)\n",
    "\n",
    "print('Test Score : {:.4f}'.format(knr_score))\n",
    "print('Best Parameters :', grid_search.best_params_)\n",
    "print('Best CV Score : {:.4f}'.format(grid_search.best_score_))\n",
    "\n",
    "models.append('K-Nearest Neighbors')\n",
    "scores.append(knr_score)"
   ]
  },
  {
   "cell_type": "markdown",
   "id": "cce8dca5",
   "metadata": {},
   "source": [
    "## Random Forest"
   ]
  },
  {
   "cell_type": "code",
   "execution_count": 99,
   "id": "b6d11bef",
   "metadata": {},
   "outputs": [
    {
     "name": "stdout",
     "output_type": "stream",
     "text": [
      "Test Score : 0.7241\n",
      "Best Parameters : {'max_depth': 20}\n",
      "Best CV Score : 0.7480\n"
     ]
    }
   ],
   "source": [
    "param_grid = {'max_depth' : [5, 10, 15, 20, 25, 30]}\n",
    "model = RandomForestRegressor()\n",
    "\n",
    "grid_search = GridSearchCV(model, param_grid, cv=5)\n",
    "grid_search.fit(X_train, y_train)\n",
    "rf_score = grid_search.score(X_test, y_test)\n",
    "\n",
    "print('Test Score : {:.4f}'.format(rf_score))\n",
    "print('Best Parameters :', grid_search.best_params_)\n",
    "print('Best CV Score : {:.4f}'.format(grid_search.best_score_))\n",
    "\n",
    "models.append('Random Forest')\n",
    "scores.append(rf_score)"
   ]
  },
  {
   "cell_type": "markdown",
   "id": "4a4d4f17",
   "metadata": {},
   "source": [
    "## Decision Tree"
   ]
  },
  {
   "cell_type": "code",
   "execution_count": 100,
   "id": "feda00fc",
   "metadata": {},
   "outputs": [
    {
     "name": "stdout",
     "output_type": "stream",
     "text": [
      "Test Score : 0.5717\n",
      "Best Parameters : {'max_depth': 10}\n",
      "Best CV Score : 0.6135\n"
     ]
    }
   ],
   "source": [
    "am_grid = {'max_depth' : range(2, 20), \"min_samples_leaf\" : range(2, 10)}\n",
    "model = DecisionTreeRegressor()\n",
    "\n",
    "grid_search = GridSearchCV(model, param_grid, cv=5)\n",
    "grid_search.fit(X_train, y_train)\n",
    "dt_score = grid_search.score(X_test, y_test)\n",
    "\n",
    "print('Test Score : {:.4f}'.format(dt_score))\n",
    "print('Best Parameters :', grid_search.best_params_)\n",
    "print('Best CV Score : {:.4f}'.format(grid_search.best_score_))\n",
    "\n",
    "models.append('Decision Tree')\n",
    "scores.append(dt_score)"
   ]
  },
  {
   "cell_type": "markdown",
   "id": "aa73a7ab",
   "metadata": {},
   "source": [
    "## Result"
   ]
  },
  {
   "cell_type": "code",
   "execution_count": 101,
   "id": "8ccc54c1",
   "metadata": {},
   "outputs": [
    {
     "data": {
      "text/html": [
       "<div>\n",
       "<style scoped>\n",
       "    .dataframe tbody tr th:only-of-type {\n",
       "        vertical-align: middle;\n",
       "    }\n",
       "\n",
       "    .dataframe tbody tr th {\n",
       "        vertical-align: top;\n",
       "    }\n",
       "\n",
       "    .dataframe thead th {\n",
       "        text-align: right;\n",
       "    }\n",
       "</style>\n",
       "<table border=\"1\" class=\"dataframe\">\n",
       "  <thead>\n",
       "    <tr style=\"text-align: right;\">\n",
       "      <th></th>\n",
       "      <th>Model</th>\n",
       "      <th>Score</th>\n",
       "    </tr>\n",
       "  </thead>\n",
       "  <tbody>\n",
       "    <tr>\n",
       "      <th>0</th>\n",
       "      <td>Ridge</td>\n",
       "      <td>0.325661</td>\n",
       "    </tr>\n",
       "    <tr>\n",
       "      <th>1</th>\n",
       "      <td>Gradient Boost</td>\n",
       "      <td>0.721151</td>\n",
       "    </tr>\n",
       "    <tr>\n",
       "      <th>2</th>\n",
       "      <td>K-Nearest Neighbors</td>\n",
       "      <td>0.551548</td>\n",
       "    </tr>\n",
       "    <tr>\n",
       "      <th>3</th>\n",
       "      <td>Random Forest</td>\n",
       "      <td>0.724100</td>\n",
       "    </tr>\n",
       "    <tr>\n",
       "      <th>4</th>\n",
       "      <td>Decision Tree</td>\n",
       "      <td>0.571747</td>\n",
       "    </tr>\n",
       "  </tbody>\n",
       "</table>\n",
       "</div>"
      ],
      "text/plain": [
       "                 Model     Score\n",
       "0                Ridge  0.325661\n",
       "1       Gradient Boost  0.721151\n",
       "2  K-Nearest Neighbors  0.551548\n",
       "3        Random Forest  0.724100\n",
       "4        Decision Tree  0.571747"
      ]
     },
     "execution_count": 101,
     "metadata": {},
     "output_type": "execute_result"
    }
   ],
   "source": [
    "df_result = pd.DataFrame({'Model' : models, 'Score' : scores})\n",
    "df_result"
   ]
  },
  {
   "cell_type": "code",
   "execution_count": null,
   "id": "c179e7a1",
   "metadata": {},
   "outputs": [],
   "source": []
  }
 ],
 "metadata": {
  "kernelspec": {
   "display_name": "Python 3",
   "language": "python",
   "name": "python3"
  },
  "language_info": {
   "codemirror_mode": {
    "name": "ipython",
    "version": 3
   },
   "file_extension": ".py",
   "mimetype": "text/x-python",
   "name": "python",
   "nbconvert_exporter": "python",
   "pygments_lexer": "ipython3",
   "version": "3.8.8"
  }
 },
 "nbformat": 4,
 "nbformat_minor": 5
}
