{
 "cells": [
  {
   "cell_type": "markdown",
   "id": "31997328",
   "metadata": {},
   "source": [
    "# WEB SCRAPING – ASSIGNMENT 4"
   ]
  },
  {
   "cell_type": "markdown",
   "id": "05dba14f",
   "metadata": {},
   "source": [
    "## Question 1"
   ]
  },
  {
   "cell_type": "code",
   "execution_count": 500,
   "id": "831b644f",
   "metadata": {},
   "outputs": [],
   "source": [
    "import selenium\n",
    "from selenium import webdriver\n",
    "import pandas as pd\n",
    "import warnings\n",
    "warnings.filterwarnings(\"ignore\")\n",
    "import time\n",
    "from selenium.common.exceptions import *\n",
    "import pandas as pd # library for data analysis\n",
    "import requests # library to handle requests\n",
    "from bs4 import BeautifulSoup # library to parse HTML documents"
   ]
  },
  {
   "cell_type": "code",
   "execution_count": 498,
   "id": "53e5ebd3",
   "metadata": {},
   "outputs": [],
   "source": [
    "driver = webdriver.Chrome(r'C:\\Users\\Blade\\Desktop\\Flip Robo\\chromedriver_win32\\chromedriver.exe')"
   ]
  },
  {
   "cell_type": "code",
   "execution_count": 501,
   "id": "a6f42553",
   "metadata": {},
   "outputs": [],
   "source": [
    "url = 'https://en.wikipedia.org/wiki/List_of_most-viewed_YouTube_videos'\n",
    "driver.get(url)"
   ]
  },
  {
   "cell_type": "code",
   "execution_count": 502,
   "id": "076c3784",
   "metadata": {},
   "outputs": [],
   "source": [
    "current_url=driver.current_url"
   ]
  },
  {
   "cell_type": "code",
   "execution_count": 503,
   "id": "888db4b7",
   "metadata": {},
   "outputs": [
    {
     "name": "stdout",
     "output_type": "stream",
     "text": [
      "200\n"
     ]
    }
   ],
   "source": [
    "wikiurl= current_url\n",
    "table_class=\"wikitable sortable jquery-tablesorter\"\n",
    "response=requests.get(wikiurl)\n",
    "print(response.status_code)"
   ]
  },
  {
   "cell_type": "code",
   "execution_count": 504,
   "id": "abbe9f3d",
   "metadata": {},
   "outputs": [],
   "source": [
    "# parse data from the html into a beautifulsoup object\n",
    "soup = BeautifulSoup(response.text, 'html.parser')\n",
    "indiatable=soup.find('table',{'class':\"wikitable\"})"
   ]
  },
  {
   "cell_type": "code",
   "execution_count": 505,
   "id": "ac92a6df",
   "metadata": {},
   "outputs": [],
   "source": [
    "df=pd.read_html(str(indiatable))\n",
    "# convert list to dataframe\n",
    "df=pd.DataFrame(df[0])\n",
    "df.drop(df.columns[[6]], axis=1, inplace=True)\n",
    "df.drop(['Note'], axis=1, inplace=True)"
   ]
  },
  {
   "cell_type": "code",
   "execution_count": 506,
   "id": "5d6edc52",
   "metadata": {},
   "outputs": [
    {
     "data": {
      "text/html": [
       "<div>\n",
       "<style scoped>\n",
       "    .dataframe tbody tr th:only-of-type {\n",
       "        vertical-align: middle;\n",
       "    }\n",
       "\n",
       "    .dataframe tbody tr th {\n",
       "        vertical-align: top;\n",
       "    }\n",
       "\n",
       "    .dataframe thead th {\n",
       "        text-align: right;\n",
       "    }\n",
       "</style>\n",
       "<table border=\"1\" class=\"dataframe\">\n",
       "  <thead>\n",
       "    <tr style=\"text-align: right;\">\n",
       "      <th></th>\n",
       "      <th>No.</th>\n",
       "      <th>Video name</th>\n",
       "      <th>Uploader</th>\n",
       "      <th>Views (billions)</th>\n",
       "      <th>Upload date</th>\n",
       "    </tr>\n",
       "  </thead>\n",
       "  <tbody>\n",
       "    <tr>\n",
       "      <th>0</th>\n",
       "      <td>1.</td>\n",
       "      <td>\"Baby Shark Dance\"[3]</td>\n",
       "      <td>Pinkfong Baby Shark - Kids' Songs &amp; Stories</td>\n",
       "      <td>10.35</td>\n",
       "      <td>June 17, 2016</td>\n",
       "    </tr>\n",
       "    <tr>\n",
       "      <th>1</th>\n",
       "      <td>2.</td>\n",
       "      <td>\"Despacito\"[6]</td>\n",
       "      <td>Luis Fonsi</td>\n",
       "      <td>7.79</td>\n",
       "      <td>January 12, 2017</td>\n",
       "    </tr>\n",
       "    <tr>\n",
       "      <th>2</th>\n",
       "      <td>3.</td>\n",
       "      <td>\"Johny Johny Yes Papa\"[12]</td>\n",
       "      <td>LooLoo Kids</td>\n",
       "      <td>6.24</td>\n",
       "      <td>October 8, 2016</td>\n",
       "    </tr>\n",
       "    <tr>\n",
       "      <th>3</th>\n",
       "      <td>4.</td>\n",
       "      <td>\"Shape of You\"[13]</td>\n",
       "      <td>Ed Sheeran</td>\n",
       "      <td>5.65</td>\n",
       "      <td>January 30, 2017</td>\n",
       "    </tr>\n",
       "    <tr>\n",
       "      <th>4</th>\n",
       "      <td>5.</td>\n",
       "      <td>\"See You Again\"[15]</td>\n",
       "      <td>Wiz Khalifa</td>\n",
       "      <td>5.45</td>\n",
       "      <td>April 6, 2015</td>\n",
       "    </tr>\n",
       "    <tr>\n",
       "      <th>5</th>\n",
       "      <td>6.</td>\n",
       "      <td>\"Bath Song\"[20]</td>\n",
       "      <td>Cocomelon – Nursery Rhymes</td>\n",
       "      <td>5.12</td>\n",
       "      <td>May 2, 2018</td>\n",
       "    </tr>\n",
       "    <tr>\n",
       "      <th>6</th>\n",
       "      <td>7.</td>\n",
       "      <td>\"Learning Colors – Colorful Eggs on a Farm\"[21]</td>\n",
       "      <td>Miroshka TV</td>\n",
       "      <td>4.56</td>\n",
       "      <td>February 27, 2018</td>\n",
       "    </tr>\n",
       "    <tr>\n",
       "      <th>7</th>\n",
       "      <td>8.</td>\n",
       "      <td>\"Phonics Song with Two Words\"[22]</td>\n",
       "      <td>ChuChu TV</td>\n",
       "      <td>4.52</td>\n",
       "      <td>March 6, 2014</td>\n",
       "    </tr>\n",
       "    <tr>\n",
       "      <th>8</th>\n",
       "      <td>9.</td>\n",
       "      <td>\"Uptown Funk\"[23]</td>\n",
       "      <td>Mark Ronson</td>\n",
       "      <td>4.50</td>\n",
       "      <td>November 19, 2014</td>\n",
       "    </tr>\n",
       "    <tr>\n",
       "      <th>9</th>\n",
       "      <td>10.</td>\n",
       "      <td>\"Masha and the Bear – Recipe for Disaster\"[24]</td>\n",
       "      <td>Get Movies</td>\n",
       "      <td>4.49</td>\n",
       "      <td>January 31, 2012</td>\n",
       "    </tr>\n",
       "    <tr>\n",
       "      <th>10</th>\n",
       "      <td>11.</td>\n",
       "      <td>\"Gangnam Style\"[25]</td>\n",
       "      <td>Psy</td>\n",
       "      <td>4.37</td>\n",
       "      <td>July 15, 2012</td>\n",
       "    </tr>\n",
       "    <tr>\n",
       "      <th>11</th>\n",
       "      <td>12.</td>\n",
       "      <td>\"Dame Tu Cosita\"[30]</td>\n",
       "      <td>El Chombo</td>\n",
       "      <td>3.89</td>\n",
       "      <td>April 5, 2018</td>\n",
       "    </tr>\n",
       "    <tr>\n",
       "      <th>12</th>\n",
       "      <td>13.</td>\n",
       "      <td>\"Wheels on the Bus\"[31]</td>\n",
       "      <td>Cocomelon – Nursery Rhymes</td>\n",
       "      <td>3.82</td>\n",
       "      <td>May 24, 2018</td>\n",
       "    </tr>\n",
       "    <tr>\n",
       "      <th>13</th>\n",
       "      <td>14.</td>\n",
       "      <td>\"Sugar\"[32]</td>\n",
       "      <td>Maroon 5</td>\n",
       "      <td>3.66</td>\n",
       "      <td>January 14, 2015</td>\n",
       "    </tr>\n",
       "    <tr>\n",
       "      <th>14</th>\n",
       "      <td>15.</td>\n",
       "      <td>\"Roar\"[33]</td>\n",
       "      <td>Katy Perry</td>\n",
       "      <td>3.54</td>\n",
       "      <td>September 5, 2013</td>\n",
       "    </tr>\n",
       "    <tr>\n",
       "      <th>15</th>\n",
       "      <td>16.</td>\n",
       "      <td>\"Counting Stars\"[34]</td>\n",
       "      <td>OneRepublic</td>\n",
       "      <td>3.53</td>\n",
       "      <td>May 31, 2013</td>\n",
       "    </tr>\n",
       "    <tr>\n",
       "      <th>16</th>\n",
       "      <td>17.</td>\n",
       "      <td>\"Sorry\"[35]</td>\n",
       "      <td>Justin Bieber</td>\n",
       "      <td>3.52</td>\n",
       "      <td>October 22, 2015</td>\n",
       "    </tr>\n",
       "    <tr>\n",
       "      <th>17</th>\n",
       "      <td>18.</td>\n",
       "      <td>\"Thinking Out Loud\"[36]</td>\n",
       "      <td>Ed Sheeran</td>\n",
       "      <td>3.42</td>\n",
       "      <td>October 7, 2014</td>\n",
       "    </tr>\n",
       "    <tr>\n",
       "      <th>18</th>\n",
       "      <td>19.</td>\n",
       "      <td>\"Axel F\"[37]</td>\n",
       "      <td>Crazy Frog</td>\n",
       "      <td>3.28</td>\n",
       "      <td>June 16, 2009</td>\n",
       "    </tr>\n",
       "    <tr>\n",
       "      <th>19</th>\n",
       "      <td>20.</td>\n",
       "      <td>\"Girls Like You\"[38]</td>\n",
       "      <td>Maroon 5</td>\n",
       "      <td>3.25</td>\n",
       "      <td>May 31, 2018</td>\n",
       "    </tr>\n",
       "    <tr>\n",
       "      <th>20</th>\n",
       "      <td>21.</td>\n",
       "      <td>\"Faded\"[39]</td>\n",
       "      <td>Alan Walker</td>\n",
       "      <td>3.25</td>\n",
       "      <td>December 3, 2015</td>\n",
       "    </tr>\n",
       "    <tr>\n",
       "      <th>21</th>\n",
       "      <td>22.</td>\n",
       "      <td>\"Dark Horse\"[40]</td>\n",
       "      <td>Katy Perry</td>\n",
       "      <td>3.24</td>\n",
       "      <td>February 20, 2014</td>\n",
       "    </tr>\n",
       "    <tr>\n",
       "      <th>22</th>\n",
       "      <td>23.</td>\n",
       "      <td>\"Let Her Go\"[41]</td>\n",
       "      <td>Passenger</td>\n",
       "      <td>3.19</td>\n",
       "      <td>July 25, 2012</td>\n",
       "    </tr>\n",
       "    <tr>\n",
       "      <th>23</th>\n",
       "      <td>24.</td>\n",
       "      <td>\"Bailando\"[42]</td>\n",
       "      <td>Enrique Iglesias</td>\n",
       "      <td>3.18</td>\n",
       "      <td>April 11, 2014</td>\n",
       "    </tr>\n",
       "    <tr>\n",
       "      <th>24</th>\n",
       "      <td>25.</td>\n",
       "      <td>\"Lean On\"[43]</td>\n",
       "      <td>Major Lazer</td>\n",
       "      <td>3.18</td>\n",
       "      <td>March 22, 2015</td>\n",
       "    </tr>\n",
       "    <tr>\n",
       "      <th>25</th>\n",
       "      <td>26.</td>\n",
       "      <td>\"Baa Baa Black Sheep\"[44]</td>\n",
       "      <td>Cocomelon – Nursery Rhymes</td>\n",
       "      <td>3.17</td>\n",
       "      <td>June 25, 2018</td>\n",
       "    </tr>\n",
       "    <tr>\n",
       "      <th>26</th>\n",
       "      <td>27.</td>\n",
       "      <td>\"Shake It Off\"[45]</td>\n",
       "      <td>Taylor Swift</td>\n",
       "      <td>3.15</td>\n",
       "      <td>August 18, 2014</td>\n",
       "    </tr>\n",
       "    <tr>\n",
       "      <th>27</th>\n",
       "      <td>28.</td>\n",
       "      <td>\"Perfect\"[46]</td>\n",
       "      <td>Ed Sheeran</td>\n",
       "      <td>3.12</td>\n",
       "      <td>November 9, 2017</td>\n",
       "    </tr>\n",
       "    <tr>\n",
       "      <th>28</th>\n",
       "      <td>29.</td>\n",
       "      <td>\"Waka Waka (This Time for Africa)\"[47]</td>\n",
       "      <td>Shakira</td>\n",
       "      <td>3.09</td>\n",
       "      <td>June 4, 2010</td>\n",
       "    </tr>\n",
       "    <tr>\n",
       "      <th>29</th>\n",
       "      <td>30.</td>\n",
       "      <td>\"Mi Gente\"[48]</td>\n",
       "      <td>J Balvin</td>\n",
       "      <td>3.05</td>\n",
       "      <td>June 29, 2017</td>\n",
       "    </tr>\n",
       "    <tr>\n",
       "      <th>30</th>\n",
       "      <td>As of March 20, 2022</td>\n",
       "      <td>As of March 20, 2022</td>\n",
       "      <td>As of March 20, 2022</td>\n",
       "      <td>As of March 20, 2022</td>\n",
       "      <td>As of March 20, 2022</td>\n",
       "    </tr>\n",
       "  </tbody>\n",
       "</table>\n",
       "</div>"
      ],
      "text/plain": [
       "                     No.                                       Video name  \\\n",
       "0                     1.                            \"Baby Shark Dance\"[3]   \n",
       "1                     2.                                   \"Despacito\"[6]   \n",
       "2                     3.                       \"Johny Johny Yes Papa\"[12]   \n",
       "3                     4.                               \"Shape of You\"[13]   \n",
       "4                     5.                              \"See You Again\"[15]   \n",
       "5                     6.                                  \"Bath Song\"[20]   \n",
       "6                     7.  \"Learning Colors – Colorful Eggs on a Farm\"[21]   \n",
       "7                     8.                \"Phonics Song with Two Words\"[22]   \n",
       "8                     9.                                \"Uptown Funk\"[23]   \n",
       "9                    10.   \"Masha and the Bear – Recipe for Disaster\"[24]   \n",
       "10                   11.                              \"Gangnam Style\"[25]   \n",
       "11                   12.                             \"Dame Tu Cosita\"[30]   \n",
       "12                   13.                          \"Wheels on the Bus\"[31]   \n",
       "13                   14.                                      \"Sugar\"[32]   \n",
       "14                   15.                                       \"Roar\"[33]   \n",
       "15                   16.                             \"Counting Stars\"[34]   \n",
       "16                   17.                                      \"Sorry\"[35]   \n",
       "17                   18.                          \"Thinking Out Loud\"[36]   \n",
       "18                   19.                                     \"Axel F\"[37]   \n",
       "19                   20.                             \"Girls Like You\"[38]   \n",
       "20                   21.                                      \"Faded\"[39]   \n",
       "21                   22.                                 \"Dark Horse\"[40]   \n",
       "22                   23.                                 \"Let Her Go\"[41]   \n",
       "23                   24.                                   \"Bailando\"[42]   \n",
       "24                   25.                                    \"Lean On\"[43]   \n",
       "25                   26.                        \"Baa Baa Black Sheep\"[44]   \n",
       "26                   27.                               \"Shake It Off\"[45]   \n",
       "27                   28.                                    \"Perfect\"[46]   \n",
       "28                   29.           \"Waka Waka (This Time for Africa)\"[47]   \n",
       "29                   30.                                   \"Mi Gente\"[48]   \n",
       "30  As of March 20, 2022                             As of March 20, 2022   \n",
       "\n",
       "                                       Uploader      Views (billions)  \\\n",
       "0   Pinkfong Baby Shark - Kids' Songs & Stories                 10.35   \n",
       "1                                    Luis Fonsi                  7.79   \n",
       "2                                   LooLoo Kids                  6.24   \n",
       "3                                    Ed Sheeran                  5.65   \n",
       "4                                   Wiz Khalifa                  5.45   \n",
       "5                    Cocomelon – Nursery Rhymes                  5.12   \n",
       "6                                   Miroshka TV                  4.56   \n",
       "7                                     ChuChu TV                  4.52   \n",
       "8                                   Mark Ronson                  4.50   \n",
       "9                                    Get Movies                  4.49   \n",
       "10                                          Psy                  4.37   \n",
       "11                                    El Chombo                  3.89   \n",
       "12                   Cocomelon – Nursery Rhymes                  3.82   \n",
       "13                                     Maroon 5                  3.66   \n",
       "14                                   Katy Perry                  3.54   \n",
       "15                                  OneRepublic                  3.53   \n",
       "16                                Justin Bieber                  3.52   \n",
       "17                                   Ed Sheeran                  3.42   \n",
       "18                                   Crazy Frog                  3.28   \n",
       "19                                     Maroon 5                  3.25   \n",
       "20                                  Alan Walker                  3.25   \n",
       "21                                   Katy Perry                  3.24   \n",
       "22                                    Passenger                  3.19   \n",
       "23                             Enrique Iglesias                  3.18   \n",
       "24                                  Major Lazer                  3.18   \n",
       "25                   Cocomelon – Nursery Rhymes                  3.17   \n",
       "26                                 Taylor Swift                  3.15   \n",
       "27                                   Ed Sheeran                  3.12   \n",
       "28                                      Shakira                  3.09   \n",
       "29                                     J Balvin                  3.05   \n",
       "30                         As of March 20, 2022  As of March 20, 2022   \n",
       "\n",
       "             Upload date  \n",
       "0          June 17, 2016  \n",
       "1       January 12, 2017  \n",
       "2        October 8, 2016  \n",
       "3       January 30, 2017  \n",
       "4          April 6, 2015  \n",
       "5            May 2, 2018  \n",
       "6      February 27, 2018  \n",
       "7          March 6, 2014  \n",
       "8      November 19, 2014  \n",
       "9       January 31, 2012  \n",
       "10         July 15, 2012  \n",
       "11         April 5, 2018  \n",
       "12          May 24, 2018  \n",
       "13      January 14, 2015  \n",
       "14     September 5, 2013  \n",
       "15          May 31, 2013  \n",
       "16      October 22, 2015  \n",
       "17       October 7, 2014  \n",
       "18         June 16, 2009  \n",
       "19          May 31, 2018  \n",
       "20      December 3, 2015  \n",
       "21     February 20, 2014  \n",
       "22         July 25, 2012  \n",
       "23        April 11, 2014  \n",
       "24        March 22, 2015  \n",
       "25         June 25, 2018  \n",
       "26       August 18, 2014  \n",
       "27      November 9, 2017  \n",
       "28          June 4, 2010  \n",
       "29         June 29, 2017  \n",
       "30  As of March 20, 2022  "
      ]
     },
     "execution_count": 506,
     "metadata": {},
     "output_type": "execute_result"
    }
   ],
   "source": [
    "df"
   ]
  },
  {
   "cell_type": "markdown",
   "id": "e29774fc",
   "metadata": {},
   "source": [
    "# Question 2"
   ]
  },
  {
   "cell_type": "code",
   "execution_count": 99,
   "id": "d6f8e183",
   "metadata": {},
   "outputs": [],
   "source": [
    "url='https://www.bcci.tv/'\n",
    "driver.get(url)"
   ]
  },
  {
   "cell_type": "code",
   "execution_count": 101,
   "id": "970bf39e",
   "metadata": {},
   "outputs": [
    {
     "data": {
      "text/plain": [
       "<selenium.webdriver.remote.webelement.WebElement (session=\"7d23e6ff94fbf63f014847b96da95c63\", element=\"1c5ed22e-ec56-40c8-9080-bd1e1d1fdfb3\")>"
      ]
     },
     "execution_count": 101,
     "metadata": {},
     "output_type": "execute_result"
    }
   ],
   "source": [
    "search_btn= driver.find_element_by_xpath('//*[@id=\"navigation\"]/ul[1]/li[2]/a')\n",
    "search_btn"
   ]
  },
  {
   "cell_type": "code",
   "execution_count": 102,
   "id": "51a37b5a",
   "metadata": {},
   "outputs": [],
   "source": [
    "search_btn.click()"
   ]
  },
  {
   "cell_type": "code",
   "execution_count": 110,
   "id": "2a4af30a",
   "metadata": {},
   "outputs": [
    {
     "data": {
      "text/plain": [
       "7"
      ]
     },
     "execution_count": 110,
     "metadata": {},
     "output_type": "execute_result"
    }
   ],
   "source": [
    "title = driver.find_elements_by_xpath('//span[@class=\"ng-binding\"]')\n",
    "len(title)"
   ]
  },
  {
   "cell_type": "markdown",
   "id": "f6d3b1c2",
   "metadata": {},
   "source": [
    "### Extracting title"
   ]
  },
  {
   "cell_type": "code",
   "execution_count": 111,
   "id": "011ee65c",
   "metadata": {},
   "outputs": [],
   "source": [
    "ttl=[]\n",
    "for i in title:\n",
    "    ttl.append(i.text)"
   ]
  },
  {
   "cell_type": "code",
   "execution_count": 112,
   "id": "73826fd2",
   "metadata": {},
   "outputs": [
    {
     "data": {
      "text/plain": [
       "['ICC WOMENS WORLD CUP 2022',\n",
       " 'ICC WOMENS WORLD CUP 2022',\n",
       " 'SOUTH AFRICA TOUR OF INDIA T20 SERIES 2022',\n",
       " 'SOUTH AFRICA TOUR OF INDIA T20 SERIES 2022',\n",
       " 'SOUTH AFRICA TOUR OF INDIA T20 SERIES 2022',\n",
       " 'SOUTH AFRICA TOUR OF INDIA T20 SERIES 2022',\n",
       " 'SOUTH AFRICA TOUR OF INDIA T20 SERIES 2022']"
      ]
     },
     "execution_count": 112,
     "metadata": {},
     "output_type": "execute_result"
    }
   ],
   "source": [
    "ttl"
   ]
  },
  {
   "cell_type": "markdown",
   "id": "d008dba6",
   "metadata": {},
   "source": [
    "### Extracting date"
   ]
  },
  {
   "cell_type": "code",
   "execution_count": 117,
   "id": "d3fc0023",
   "metadata": {},
   "outputs": [
    {
     "data": {
      "text/plain": [
       "7"
      ]
     },
     "execution_count": 117,
     "metadata": {},
     "output_type": "execute_result"
    }
   ],
   "source": [
    "date = driver.find_elements_by_xpath('//h5[@class=\"ng-binding\"]')\n",
    "len(date)"
   ]
  },
  {
   "cell_type": "code",
   "execution_count": 118,
   "id": "ff803ff2",
   "metadata": {},
   "outputs": [],
   "source": [
    "dt=[]\n",
    "for i in date:\n",
    "    dt.append(i.text)"
   ]
  },
  {
   "cell_type": "code",
   "execution_count": 119,
   "id": "ee55fc73",
   "metadata": {},
   "outputs": [
    {
     "data": {
      "text/plain": [
       "['22 MAR 2022',\n",
       " '27 MAR 2022',\n",
       " '9 JUN 2022',\n",
       " '12 JUN 2022',\n",
       " '14 JUN 2022',\n",
       " '17 JUN 2022',\n",
       " '19 JUN 2022']"
      ]
     },
     "execution_count": 119,
     "metadata": {},
     "output_type": "execute_result"
    }
   ],
   "source": [
    "dt"
   ]
  },
  {
   "cell_type": "markdown",
   "id": "c39f47df",
   "metadata": {},
   "source": [
    "### Extracting time"
   ]
  },
  {
   "cell_type": "code",
   "execution_count": 122,
   "id": "41755c1c",
   "metadata": {},
   "outputs": [
    {
     "data": {
      "text/plain": [
       "7"
      ]
     },
     "execution_count": 122,
     "metadata": {},
     "output_type": "execute_result"
    }
   ],
   "source": [
    "time = driver.find_elements_by_xpath('//h5[@class=\"text-right ng-binding\"]')\n",
    "len(time)"
   ]
  },
  {
   "cell_type": "code",
   "execution_count": 123,
   "id": "219ecf9e",
   "metadata": {},
   "outputs": [],
   "source": [
    "tm=[]\n",
    "for i in time:\n",
    "    tm.append(i.text)"
   ]
  },
  {
   "cell_type": "markdown",
   "id": "8aa632f1",
   "metadata": {},
   "source": [
    "### Extracting place"
   ]
  },
  {
   "cell_type": "code",
   "execution_count": 127,
   "id": "811a3400",
   "metadata": {},
   "outputs": [
    {
     "data": {
      "text/plain": [
       "7"
      ]
     },
     "execution_count": 127,
     "metadata": {},
     "output_type": "execute_result"
    }
   ],
   "source": [
    "place = driver.find_elements_by_xpath('//div[@class=\"fix-place ng-binding ng-scope\"]')\n",
    "len(place)"
   ]
  },
  {
   "cell_type": "code",
   "execution_count": 128,
   "id": "6d1a787f",
   "metadata": {},
   "outputs": [],
   "source": [
    "pc=[]\n",
    "for i in place:\n",
    "    pc.append(i.text)"
   ]
  },
  {
   "cell_type": "markdown",
   "id": "afed5376",
   "metadata": {},
   "source": [
    "### Creating final dataset"
   ]
  },
  {
   "cell_type": "code",
   "execution_count": 130,
   "id": "0f5a95df",
   "metadata": {},
   "outputs": [],
   "source": [
    "bcci = pd.DataFrame({'Title' :ttl,'Date':dt,'Time':tm,'Place': pc})"
   ]
  },
  {
   "cell_type": "code",
   "execution_count": 131,
   "id": "60d32522",
   "metadata": {},
   "outputs": [
    {
     "data": {
      "text/html": [
       "<div>\n",
       "<style scoped>\n",
       "    .dataframe tbody tr th:only-of-type {\n",
       "        vertical-align: middle;\n",
       "    }\n",
       "\n",
       "    .dataframe tbody tr th {\n",
       "        vertical-align: top;\n",
       "    }\n",
       "\n",
       "    .dataframe thead th {\n",
       "        text-align: right;\n",
       "    }\n",
       "</style>\n",
       "<table border=\"1\" class=\"dataframe\">\n",
       "  <thead>\n",
       "    <tr style=\"text-align: right;\">\n",
       "      <th></th>\n",
       "      <th>Title</th>\n",
       "      <th>Date</th>\n",
       "      <th>Time</th>\n",
       "      <th>Place</th>\n",
       "    </tr>\n",
       "  </thead>\n",
       "  <tbody>\n",
       "    <tr>\n",
       "      <th>0</th>\n",
       "      <td>ICC WOMENS WORLD CUP 2022</td>\n",
       "      <td>22 MAR 2022</td>\n",
       "      <td>6:30 AM IST</td>\n",
       "      <td>Seddon Park, Hamilton</td>\n",
       "    </tr>\n",
       "    <tr>\n",
       "      <th>1</th>\n",
       "      <td>ICC WOMENS WORLD CUP 2022</td>\n",
       "      <td>27 MAR 2022</td>\n",
       "      <td>6:30 AM IST</td>\n",
       "      <td>Hagley Oval, Christchurch</td>\n",
       "    </tr>\n",
       "    <tr>\n",
       "      <th>2</th>\n",
       "      <td>SOUTH AFRICA TOUR OF INDIA T20 SERIES 2022</td>\n",
       "      <td>9 JUN 2022</td>\n",
       "      <td>7:30 PM IST</td>\n",
       "      <td>1st T20I - MA Chidambaram Stadium, Chennai</td>\n",
       "    </tr>\n",
       "    <tr>\n",
       "      <th>3</th>\n",
       "      <td>SOUTH AFRICA TOUR OF INDIA T20 SERIES 2022</td>\n",
       "      <td>12 JUN 2022</td>\n",
       "      <td>7:30 PM IST</td>\n",
       "      <td>2nd T20I - M Chinnaswamy Stadium, Bengaluru</td>\n",
       "    </tr>\n",
       "    <tr>\n",
       "      <th>4</th>\n",
       "      <td>SOUTH AFRICA TOUR OF INDIA T20 SERIES 2022</td>\n",
       "      <td>14 JUN 2022</td>\n",
       "      <td>7:30 PM IST</td>\n",
       "      <td>3rd T20I - Vidarbha Cricket Association Stadiu...</td>\n",
       "    </tr>\n",
       "    <tr>\n",
       "      <th>5</th>\n",
       "      <td>SOUTH AFRICA TOUR OF INDIA T20 SERIES 2022</td>\n",
       "      <td>17 JUN 2022</td>\n",
       "      <td>7:30 PM IST</td>\n",
       "      <td>4th T20I - Saurashtra Cricket Association Stad...</td>\n",
       "    </tr>\n",
       "    <tr>\n",
       "      <th>6</th>\n",
       "      <td>SOUTH AFRICA TOUR OF INDIA T20 SERIES 2022</td>\n",
       "      <td>19 JUN 2022</td>\n",
       "      <td>7:30 PM IST</td>\n",
       "      <td>5th T20I - Arun Jaitley Stadium, Delhi</td>\n",
       "    </tr>\n",
       "  </tbody>\n",
       "</table>\n",
       "</div>"
      ],
      "text/plain": [
       "                                        Title         Date         Time  \\\n",
       "0                   ICC WOMENS WORLD CUP 2022  22 MAR 2022  6:30 AM IST   \n",
       "1                   ICC WOMENS WORLD CUP 2022  27 MAR 2022  6:30 AM IST   \n",
       "2  SOUTH AFRICA TOUR OF INDIA T20 SERIES 2022   9 JUN 2022  7:30 PM IST   \n",
       "3  SOUTH AFRICA TOUR OF INDIA T20 SERIES 2022  12 JUN 2022  7:30 PM IST   \n",
       "4  SOUTH AFRICA TOUR OF INDIA T20 SERIES 2022  14 JUN 2022  7:30 PM IST   \n",
       "5  SOUTH AFRICA TOUR OF INDIA T20 SERIES 2022  17 JUN 2022  7:30 PM IST   \n",
       "6  SOUTH AFRICA TOUR OF INDIA T20 SERIES 2022  19 JUN 2022  7:30 PM IST   \n",
       "\n",
       "                                               Place  \n",
       "0                              Seddon Park, Hamilton  \n",
       "1                          Hagley Oval, Christchurch  \n",
       "2         1st T20I - MA Chidambaram Stadium, Chennai  \n",
       "3        2nd T20I - M Chinnaswamy Stadium, Bengaluru  \n",
       "4  3rd T20I - Vidarbha Cricket Association Stadiu...  \n",
       "5  4th T20I - Saurashtra Cricket Association Stad...  \n",
       "6             5th T20I - Arun Jaitley Stadium, Delhi  "
      ]
     },
     "execution_count": 131,
     "metadata": {},
     "output_type": "execute_result"
    }
   ],
   "source": [
    "bcci"
   ]
  },
  {
   "cell_type": "markdown",
   "id": "cd37d724",
   "metadata": {},
   "source": [
    "# Question 3"
   ]
  },
  {
   "cell_type": "code",
   "execution_count": 3,
   "id": "b78d90b1",
   "metadata": {},
   "outputs": [],
   "source": [
    "url='https://www.guru99.com/'\n",
    "driver.get(url)"
   ]
  },
  {
   "cell_type": "code",
   "execution_count": 4,
   "id": "a13e8dfa",
   "metadata": {},
   "outputs": [
    {
     "data": {
      "text/plain": [
       "<selenium.webdriver.remote.webelement.WebElement (session=\"3cc903769b3d127ac3698e895d49c8ec\", element=\"1b97a66e-f18a-41d8-a6ce-62400f6f956e\")>"
      ]
     },
     "execution_count": 4,
     "metadata": {},
     "output_type": "execute_result"
    }
   ],
   "source": [
    "search_btn= driver.find_element_by_xpath('/html/body/div[1]/div/div/div/main/div/article/div/div[1]/div[2]/div[1]/div/ul[1]/li[3]/a')\n",
    "search_btn"
   ]
  },
  {
   "cell_type": "code",
   "execution_count": 5,
   "id": "ca701257",
   "metadata": {},
   "outputs": [],
   "source": [
    "search_btn.click()"
   ]
  },
  {
   "cell_type": "code",
   "execution_count": 6,
   "id": "4d70ce37",
   "metadata": {},
   "outputs": [],
   "source": [
    "search_btn= driver.find_element_by_xpath('/html/body/div[1]/div/div/div/main/div/article/div/div/table[5]/tbody/tr[34]/td[1]/a')\n",
    "search_btn.click()"
   ]
  },
  {
   "cell_type": "code",
   "execution_count": 55,
   "id": "b67b7898",
   "metadata": {},
   "outputs": [],
   "source": [
    "# assigning the next button \n",
    "a3= '//*[@id=\"post-1953\"]/div/div/table/tbody/tr[2]/td[1]'\n",
    "it = 2\n",
    "total_len= 0\n",
    "head =[]"
   ]
  },
  {
   "cell_type": "code",
   "execution_count": 56,
   "id": "b0fda15a",
   "metadata": {},
   "outputs": [],
   "source": [
    "while total_len < 9:\n",
    "        nxt_btn= driver.find_elements_by_xpath(a3)\n",
    "        for btt6 in nxt_btn:\n",
    "            head.append(btt6.text)\n",
    "        a3 =a3[:-8] + str(it) +']/td[1]'\n",
    "        \n",
    "        total_len+=1 \n",
    "        it+=1\n",
    "a3= '//*[@id=\"post-1953\"]/div/div/table/tbody/tr[11]/td[1]'\n",
    "while total_len < 50:\n",
    "        nxt_btn= driver.find_elements_by_xpath(a3)\n",
    "        for btt6 in nxt_btn:\n",
    "            head.append(btt6.text)\n",
    "        a3 =a3[:-9] + str(it) +']/td[1]'\n",
    "        total_len+=1 \n",
    "        it+=1"
   ]
  },
  {
   "cell_type": "code",
   "execution_count": 57,
   "id": "ed84dd34",
   "metadata": {},
   "outputs": [
    {
     "data": {
      "text/plain": [
       "42"
      ]
     },
     "execution_count": 57,
     "metadata": {},
     "output_type": "execute_result"
    }
   ],
   "source": [
    "len(head)"
   ]
  },
  {
   "cell_type": "code",
   "execution_count": 59,
   "id": "6e2b3475",
   "metadata": {},
   "outputs": [],
   "source": [
    "head= head[1:]"
   ]
  },
  {
   "cell_type": "code",
   "execution_count": 10,
   "id": "9ae784f3",
   "metadata": {},
   "outputs": [],
   "source": [
    "descr=[]"
   ]
  },
  {
   "cell_type": "code",
   "execution_count": 11,
   "id": "d6eb1249",
   "metadata": {},
   "outputs": [],
   "source": [
    "desc= driver.find_elements_by_xpath('//table[@class=\"table table-striped\"]')"
   ]
  },
  {
   "cell_type": "code",
   "execution_count": 12,
   "id": "817632b6",
   "metadata": {},
   "outputs": [],
   "source": [
    "for btt6 in desc:\n",
    "    #descr.append(btt6.text.splitlines()[0])\n",
    "    #descr.append(btt6.text.splitlines()[1])\n",
    "    descr.append(btt6.text.splitlines()[1:])"
   ]
  },
  {
   "cell_type": "code",
   "execution_count": 13,
   "id": "b8e87908",
   "metadata": {},
   "outputs": [
    {
     "data": {
      "text/plain": [
       "[['ElementNotVisibleException This type of Selenium exception occurs when an existing element in DOM has a feature set as hidden.',\n",
       "  'ElementNotSelectableException This Selenium exception occurs when an element is presented in the DOM, but you can be able to select. Therefore, it is not possible to interact.',\n",
       "  'NoSuchElementException This Exception occurs if an element could not be found.',\n",
       "  'NoSuchFrameException This Exception occurs if the frame target to be switched to does not exist.',\n",
       "  'NoAlertPresentException This Exception occurs when you switch to no presented alert.',\n",
       "  'NoSuchWindowException This Exception occurs if the window target to be switch does not exist.',\n",
       "  'StaleElementReferenceException This Selenium exception occurs happens when the web element is detached from the current DOM.',\n",
       "  'SessionNotFoundException The WebDriver is acting after you quit the browser.',\n",
       "  'TimeoutException Thrown when there is not enough time for a command to be completed. For Example, the element searched wasn’t found in the specified time.',\n",
       "  'WebDriverException This Exception takes place when the WebDriver is acting right after you close the browser.',\n",
       "  'ConnectionClosedException This type of Exception takes place when there is a disconnection in the driver.',\n",
       "  'ElementClickInterceptedException The command may not be completed as the element receiving the events is concealing the element which was requested clicked.',\n",
       "  'ElementNotInteractableException This Selenium exception is thrown when any element is presented in the DOM. However, it is impossible to interact with such an element.',\n",
       "  'ErrorInResponseException This happens while interacting with the Firefox extension or the remote driver server.',\n",
       "  'ErrorHandler.UnknownServerException Exception is used as a placeholder in case if the server returns an error without a stack trace.',\n",
       "  'ImeActivationFailedException This expectation will occur when IME engine activation has failed.',\n",
       "  'ImeNotAvailableException It takes place when IME support is unavailable.',\n",
       "  'InsecureCertificateException Navigation made the user agent to hit a certificate warning. This can cause by an invalid or expired TLS certificate.',\n",
       "  'InvalidArgumentException It occurs when an argument does not belong to the expected type.',\n",
       "  'InvalidCookieDomainException This happens when you try to add a cookie under a different domain instead of current URL.',\n",
       "  'InvalidCoordinatesException This type of Exception matches an interacting operation that is not valid.',\n",
       "  'InvalidElementStateExceptio It occurs when command can’t be finished when the element is invalid.',\n",
       "  'InvalidSessionIdException This Exception took place when the given session ID is not included in the list of active sessions. It means the session does not exist or is inactive either.',\n",
       "  'InvalidSwitchToTargetException This occurs when the frame or window target to be switched does not exist.',\n",
       "  'JavascriptException This issue occurs while executing JavaScript given by the user.',\n",
       "  'JsonException It occurs when you afford to get the session when the session is not created.',\n",
       "  'NoSuchAttributeException This kind of Exception occurs when the attribute of an element could not be found.',\n",
       "  'MoveTargetOutOfBoundsException It takes place if the target provided to the ActionChains move() methodology is not valid. For Example, out of the document.',\n",
       "  'NoSuchContextException ContextAware does mobile device testing.',\n",
       "  'NoSuchCookieException This Exception occurs when no cookie matching with the given pathname found for all the associated cookies of the currently browsing document.',\n",
       "  'NotFoundException This Exception is a subclass of WebDriverException. This will occur when an element on the DOM does not exist.',\n",
       "  'RemoteDriverServerException This Selenium exception is thrown when the server is not responding because of the problem that the capabilities described are not proper.',\n",
       "  'ScreenshotException It is not possible to capture a screen.',\n",
       "  'SessionNotCreatedException It happens when a new session could not be successfully created.',\n",
       "  'UnableToSetCookieException This occurs if a driver is unable to set a cookie.',\n",
       "  'UnexpectedTagNameException Happens if a support class did not get a web element as expected.',\n",
       "  'UnhandledAlertException This expectation occurs when there is an alert, but WebDriver is not able to perform Alert operation.',\n",
       "  'UnexpectedAlertPresentException It occurs when there is the appearance of an unexpected alert.',\n",
       "  'UnknownMethodException This Exception happens when the requested command matches with a known URL but and not matching with a methodology for a specific URL.',\n",
       "  'UnreachableBrowserException This Exception occurs only when the browser is not able to be opened or crashed because of some reason.',\n",
       "  'UnsupportedCommandException This occurs when remote WebDriver does n’t send valid commands as expected.']]"
      ]
     },
     "execution_count": 13,
     "metadata": {},
     "output_type": "execute_result"
    }
   ],
   "source": [
    "descr"
   ]
  },
  {
   "cell_type": "code",
   "execution_count": 24,
   "id": "b7d2131b",
   "metadata": {},
   "outputs": [],
   "source": [
    "data=[]\n",
    "j=0"
   ]
  },
  {
   "cell_type": "code",
   "execution_count": 25,
   "id": "9932738f",
   "metadata": {},
   "outputs": [],
   "source": [
    "while j < 41:\n",
    "    for i in descr:\n",
    "        data.append(i[j].split(\" \",1))\n",
    "    j=j+1"
   ]
  },
  {
   "cell_type": "code",
   "execution_count": 28,
   "id": "b0e588c4",
   "metadata": {},
   "outputs": [
    {
     "data": {
      "text/plain": [
       "41"
      ]
     },
     "execution_count": 28,
     "metadata": {},
     "output_type": "execute_result"
    }
   ],
   "source": [
    "len(data)"
   ]
  },
  {
   "cell_type": "code",
   "execution_count": 37,
   "id": "092fe991",
   "metadata": {},
   "outputs": [],
   "source": [
    "data1=[]"
   ]
  },
  {
   "cell_type": "code",
   "execution_count": 38,
   "id": "ba004691",
   "metadata": {},
   "outputs": [],
   "source": [
    "for k in data:\n",
    "        data1.append(k[1])\n"
   ]
  },
  {
   "cell_type": "code",
   "execution_count": 61,
   "id": "29bb6ac8",
   "metadata": {},
   "outputs": [
    {
     "data": {
      "text/plain": [
       "41"
      ]
     },
     "execution_count": 61,
     "metadata": {},
     "output_type": "execute_result"
    }
   ],
   "source": [
    "len(data1)"
   ]
  },
  {
   "cell_type": "code",
   "execution_count": 62,
   "id": "7c69ea68",
   "metadata": {},
   "outputs": [
    {
     "data": {
      "text/plain": [
       "41"
      ]
     },
     "execution_count": 62,
     "metadata": {},
     "output_type": "execute_result"
    }
   ],
   "source": [
    "len(head)"
   ]
  },
  {
   "cell_type": "markdown",
   "id": "67e0a827",
   "metadata": {},
   "source": [
    "### Creating final dataset"
   ]
  },
  {
   "cell_type": "code",
   "execution_count": 63,
   "id": "2cf82adb",
   "metadata": {},
   "outputs": [],
   "source": [
    "guru99 = pd.DataFrame({'Exception name' :head,'Description':data1})"
   ]
  },
  {
   "cell_type": "code",
   "execution_count": 64,
   "id": "d42b994e",
   "metadata": {},
   "outputs": [
    {
     "data": {
      "text/html": [
       "<div>\n",
       "<style scoped>\n",
       "    .dataframe tbody tr th:only-of-type {\n",
       "        vertical-align: middle;\n",
       "    }\n",
       "\n",
       "    .dataframe tbody tr th {\n",
       "        vertical-align: top;\n",
       "    }\n",
       "\n",
       "    .dataframe thead th {\n",
       "        text-align: right;\n",
       "    }\n",
       "</style>\n",
       "<table border=\"1\" class=\"dataframe\">\n",
       "  <thead>\n",
       "    <tr style=\"text-align: right;\">\n",
       "      <th></th>\n",
       "      <th>Exception name</th>\n",
       "      <th>Description</th>\n",
       "    </tr>\n",
       "  </thead>\n",
       "  <tbody>\n",
       "    <tr>\n",
       "      <th>0</th>\n",
       "      <td>ElementNotVisibleException</td>\n",
       "      <td>This type of Selenium exception occurs when an...</td>\n",
       "    </tr>\n",
       "    <tr>\n",
       "      <th>1</th>\n",
       "      <td>ElementNotSelectableException</td>\n",
       "      <td>This Selenium exception occurs when an element...</td>\n",
       "    </tr>\n",
       "    <tr>\n",
       "      <th>2</th>\n",
       "      <td>NoSuchElementException</td>\n",
       "      <td>This Exception occurs if an element could not ...</td>\n",
       "    </tr>\n",
       "    <tr>\n",
       "      <th>3</th>\n",
       "      <td>NoSuchFrameException</td>\n",
       "      <td>This Exception occurs if the frame target to b...</td>\n",
       "    </tr>\n",
       "    <tr>\n",
       "      <th>4</th>\n",
       "      <td>NoAlertPresentException</td>\n",
       "      <td>This Exception occurs when you switch to no pr...</td>\n",
       "    </tr>\n",
       "    <tr>\n",
       "      <th>5</th>\n",
       "      <td>NoSuchWindowException</td>\n",
       "      <td>This Exception occurs if the window target to ...</td>\n",
       "    </tr>\n",
       "    <tr>\n",
       "      <th>6</th>\n",
       "      <td>StaleElementReferenceException</td>\n",
       "      <td>This Selenium exception occurs happens when th...</td>\n",
       "    </tr>\n",
       "    <tr>\n",
       "      <th>7</th>\n",
       "      <td>SessionNotFoundException</td>\n",
       "      <td>The WebDriver is acting after you quit the bro...</td>\n",
       "    </tr>\n",
       "    <tr>\n",
       "      <th>8</th>\n",
       "      <td>WebDriverException</td>\n",
       "      <td>Thrown when there is not enough time for a com...</td>\n",
       "    </tr>\n",
       "    <tr>\n",
       "      <th>9</th>\n",
       "      <td>WebDriverException</td>\n",
       "      <td>This Exception takes place when the WebDriver ...</td>\n",
       "    </tr>\n",
       "    <tr>\n",
       "      <th>10</th>\n",
       "      <td>ConnectionClosedException</td>\n",
       "      <td>This type of Exception takes place when there ...</td>\n",
       "    </tr>\n",
       "    <tr>\n",
       "      <th>11</th>\n",
       "      <td>ElementClickInterceptedException</td>\n",
       "      <td>The command may not be completed as the elemen...</td>\n",
       "    </tr>\n",
       "    <tr>\n",
       "      <th>12</th>\n",
       "      <td>ElementNotInteractableException</td>\n",
       "      <td>This Selenium exception is thrown when any ele...</td>\n",
       "    </tr>\n",
       "    <tr>\n",
       "      <th>13</th>\n",
       "      <td>ErrorInResponseException</td>\n",
       "      <td>This happens while interacting with the Firefo...</td>\n",
       "    </tr>\n",
       "    <tr>\n",
       "      <th>14</th>\n",
       "      <td>ErrorHandler.UnknownServerException</td>\n",
       "      <td>Exception is used as a placeholder in case if ...</td>\n",
       "    </tr>\n",
       "    <tr>\n",
       "      <th>15</th>\n",
       "      <td>ImeActivationFailedException</td>\n",
       "      <td>This expectation will occur when IME engine ac...</td>\n",
       "    </tr>\n",
       "    <tr>\n",
       "      <th>16</th>\n",
       "      <td>ImeNotAvailableException</td>\n",
       "      <td>It takes place when IME support is unavailable.</td>\n",
       "    </tr>\n",
       "    <tr>\n",
       "      <th>17</th>\n",
       "      <td>InsecureCertificateException</td>\n",
       "      <td>Navigation made the user agent to hit a certif...</td>\n",
       "    </tr>\n",
       "    <tr>\n",
       "      <th>18</th>\n",
       "      <td>InvalidArgumentException</td>\n",
       "      <td>It occurs when an argument does not belong to ...</td>\n",
       "    </tr>\n",
       "    <tr>\n",
       "      <th>19</th>\n",
       "      <td>InvalidCookieDomainException</td>\n",
       "      <td>This happens when you try to add a cookie unde...</td>\n",
       "    </tr>\n",
       "    <tr>\n",
       "      <th>20</th>\n",
       "      <td>InvalidCoordinatesException</td>\n",
       "      <td>This type of Exception matches an interacting ...</td>\n",
       "    </tr>\n",
       "    <tr>\n",
       "      <th>21</th>\n",
       "      <td>InvalidElementStateExceptio</td>\n",
       "      <td>It occurs when command can’t be finished when ...</td>\n",
       "    </tr>\n",
       "    <tr>\n",
       "      <th>22</th>\n",
       "      <td>InvalidSessionIdException</td>\n",
       "      <td>This Exception took place when the given sessi...</td>\n",
       "    </tr>\n",
       "    <tr>\n",
       "      <th>23</th>\n",
       "      <td>InvalidSwitchToTargetException</td>\n",
       "      <td>This occurs when the frame or window target to...</td>\n",
       "    </tr>\n",
       "    <tr>\n",
       "      <th>24</th>\n",
       "      <td>JavascriptException</td>\n",
       "      <td>This issue occurs while executing JavaScript g...</td>\n",
       "    </tr>\n",
       "    <tr>\n",
       "      <th>25</th>\n",
       "      <td>JsonException</td>\n",
       "      <td>It occurs when you afford to get the session w...</td>\n",
       "    </tr>\n",
       "    <tr>\n",
       "      <th>26</th>\n",
       "      <td>NoSuchAttributeException</td>\n",
       "      <td>This kind of Exception occurs when the attribu...</td>\n",
       "    </tr>\n",
       "    <tr>\n",
       "      <th>27</th>\n",
       "      <td>MoveTargetOutOfBoundsException</td>\n",
       "      <td>It takes place if the target provided to the A...</td>\n",
       "    </tr>\n",
       "    <tr>\n",
       "      <th>28</th>\n",
       "      <td>NoSuchContextException</td>\n",
       "      <td>ContextAware does mobile device testing.</td>\n",
       "    </tr>\n",
       "    <tr>\n",
       "      <th>29</th>\n",
       "      <td>NoSuchCookieException</td>\n",
       "      <td>This Exception occurs when no cookie matching ...</td>\n",
       "    </tr>\n",
       "    <tr>\n",
       "      <th>30</th>\n",
       "      <td>NotFoundException</td>\n",
       "      <td>This Exception is a subclass of WebDriverExcep...</td>\n",
       "    </tr>\n",
       "    <tr>\n",
       "      <th>31</th>\n",
       "      <td>RemoteDriverServerException</td>\n",
       "      <td>This Selenium exception is thrown when the ser...</td>\n",
       "    </tr>\n",
       "    <tr>\n",
       "      <th>32</th>\n",
       "      <td>ScreenshotException</td>\n",
       "      <td>It is not possible to capture a screen.</td>\n",
       "    </tr>\n",
       "    <tr>\n",
       "      <th>33</th>\n",
       "      <td>SessionNotCreatedException</td>\n",
       "      <td>It happens when a new session could not be suc...</td>\n",
       "    </tr>\n",
       "    <tr>\n",
       "      <th>34</th>\n",
       "      <td>UnableToSetCookieException</td>\n",
       "      <td>This occurs if a driver is unable to set a coo...</td>\n",
       "    </tr>\n",
       "    <tr>\n",
       "      <th>35</th>\n",
       "      <td>UnexpectedTagNameException</td>\n",
       "      <td>Happens if a support class did not get a web e...</td>\n",
       "    </tr>\n",
       "    <tr>\n",
       "      <th>36</th>\n",
       "      <td>UnhandledAlertException</td>\n",
       "      <td>This expectation occurs when there is an alert...</td>\n",
       "    </tr>\n",
       "    <tr>\n",
       "      <th>37</th>\n",
       "      <td>UnexpectedAlertPresentException</td>\n",
       "      <td>It occurs when there is the appearance of an u...</td>\n",
       "    </tr>\n",
       "    <tr>\n",
       "      <th>38</th>\n",
       "      <td>UnknownMethodException</td>\n",
       "      <td>This Exception happens when the requested comm...</td>\n",
       "    </tr>\n",
       "    <tr>\n",
       "      <th>39</th>\n",
       "      <td>UnreachableBrowserException</td>\n",
       "      <td>This Exception occurs only when the browser is...</td>\n",
       "    </tr>\n",
       "    <tr>\n",
       "      <th>40</th>\n",
       "      <td>UnsupportedCommandException</td>\n",
       "      <td>This occurs when remote WebDriver does n’t sen...</td>\n",
       "    </tr>\n",
       "  </tbody>\n",
       "</table>\n",
       "</div>"
      ],
      "text/plain": [
       "                         Exception name  \\\n",
       "0            ElementNotVisibleException   \n",
       "1         ElementNotSelectableException   \n",
       "2                NoSuchElementException   \n",
       "3                  NoSuchFrameException   \n",
       "4               NoAlertPresentException   \n",
       "5                 NoSuchWindowException   \n",
       "6        StaleElementReferenceException   \n",
       "7              SessionNotFoundException   \n",
       "8                    WebDriverException   \n",
       "9                    WebDriverException   \n",
       "10            ConnectionClosedException   \n",
       "11     ElementClickInterceptedException   \n",
       "12      ElementNotInteractableException   \n",
       "13             ErrorInResponseException   \n",
       "14  ErrorHandler.UnknownServerException   \n",
       "15         ImeActivationFailedException   \n",
       "16             ImeNotAvailableException   \n",
       "17         InsecureCertificateException   \n",
       "18             InvalidArgumentException   \n",
       "19         InvalidCookieDomainException   \n",
       "20          InvalidCoordinatesException   \n",
       "21          InvalidElementStateExceptio   \n",
       "22            InvalidSessionIdException   \n",
       "23       InvalidSwitchToTargetException   \n",
       "24                  JavascriptException   \n",
       "25                        JsonException   \n",
       "26             NoSuchAttributeException   \n",
       "27       MoveTargetOutOfBoundsException   \n",
       "28               NoSuchContextException   \n",
       "29                NoSuchCookieException   \n",
       "30                    NotFoundException   \n",
       "31          RemoteDriverServerException   \n",
       "32                  ScreenshotException   \n",
       "33           SessionNotCreatedException   \n",
       "34           UnableToSetCookieException   \n",
       "35           UnexpectedTagNameException   \n",
       "36              UnhandledAlertException   \n",
       "37      UnexpectedAlertPresentException   \n",
       "38               UnknownMethodException   \n",
       "39          UnreachableBrowserException   \n",
       "40          UnsupportedCommandException   \n",
       "\n",
       "                                          Description  \n",
       "0   This type of Selenium exception occurs when an...  \n",
       "1   This Selenium exception occurs when an element...  \n",
       "2   This Exception occurs if an element could not ...  \n",
       "3   This Exception occurs if the frame target to b...  \n",
       "4   This Exception occurs when you switch to no pr...  \n",
       "5   This Exception occurs if the window target to ...  \n",
       "6   This Selenium exception occurs happens when th...  \n",
       "7   The WebDriver is acting after you quit the bro...  \n",
       "8   Thrown when there is not enough time for a com...  \n",
       "9   This Exception takes place when the WebDriver ...  \n",
       "10  This type of Exception takes place when there ...  \n",
       "11  The command may not be completed as the elemen...  \n",
       "12  This Selenium exception is thrown when any ele...  \n",
       "13  This happens while interacting with the Firefo...  \n",
       "14  Exception is used as a placeholder in case if ...  \n",
       "15  This expectation will occur when IME engine ac...  \n",
       "16    It takes place when IME support is unavailable.  \n",
       "17  Navigation made the user agent to hit a certif...  \n",
       "18  It occurs when an argument does not belong to ...  \n",
       "19  This happens when you try to add a cookie unde...  \n",
       "20  This type of Exception matches an interacting ...  \n",
       "21  It occurs when command can’t be finished when ...  \n",
       "22  This Exception took place when the given sessi...  \n",
       "23  This occurs when the frame or window target to...  \n",
       "24  This issue occurs while executing JavaScript g...  \n",
       "25  It occurs when you afford to get the session w...  \n",
       "26  This kind of Exception occurs when the attribu...  \n",
       "27  It takes place if the target provided to the A...  \n",
       "28           ContextAware does mobile device testing.  \n",
       "29  This Exception occurs when no cookie matching ...  \n",
       "30  This Exception is a subclass of WebDriverExcep...  \n",
       "31  This Selenium exception is thrown when the ser...  \n",
       "32            It is not possible to capture a screen.  \n",
       "33  It happens when a new session could not be suc...  \n",
       "34  This occurs if a driver is unable to set a coo...  \n",
       "35  Happens if a support class did not get a web e...  \n",
       "36  This expectation occurs when there is an alert...  \n",
       "37  It occurs when there is the appearance of an u...  \n",
       "38  This Exception happens when the requested comm...  \n",
       "39  This Exception occurs only when the browser is...  \n",
       "40  This occurs when remote WebDriver does n’t sen...  "
      ]
     },
     "execution_count": 64,
     "metadata": {},
     "output_type": "execute_result"
    }
   ],
   "source": [
    "guru99"
   ]
  },
  {
   "cell_type": "markdown",
   "id": "390f148a",
   "metadata": {},
   "source": [
    "# Question 4"
   ]
  },
  {
   "cell_type": "code",
   "execution_count": 71,
   "id": "e6362fc0",
   "metadata": {},
   "outputs": [],
   "source": [
    "url='http://statisticstimes.com/'\n",
    "driver.get(url)"
   ]
  },
  {
   "cell_type": "code",
   "execution_count": 78,
   "id": "5d892202",
   "metadata": {},
   "outputs": [],
   "source": [
    "search_btn= driver.find_element_by_xpath('//*[@id=\"top\"]/div[2]/div[2]/button')\n",
    "search_btn.click()"
   ]
  },
  {
   "cell_type": "code",
   "execution_count": 79,
   "id": "6a4e49e8",
   "metadata": {},
   "outputs": [],
   "source": [
    "search_btn= driver.find_element_by_xpath('//*[@id=\"top\"]/div[2]/div[2]/div/a[3]')\n",
    "search_btn.click()"
   ]
  },
  {
   "cell_type": "code",
   "execution_count": 80,
   "id": "9be39aeb",
   "metadata": {},
   "outputs": [],
   "source": [
    "search_btn= driver.find_element_by_xpath('/html/body/div[2]/div[2]/div[2]/ul/li[1]/a')\n",
    "search_btn.click()"
   ]
  },
  {
   "cell_type": "markdown",
   "id": "fb3109d5",
   "metadata": {},
   "source": [
    "### Extracting State name"
   ]
  },
  {
   "cell_type": "code",
   "execution_count": 81,
   "id": "ea8dfb5e",
   "metadata": {},
   "outputs": [
    {
     "data": {
      "text/plain": [
       "68"
      ]
     },
     "execution_count": 81,
     "metadata": {},
     "output_type": "execute_result"
    }
   ],
   "source": [
    "place = driver.find_elements_by_xpath('//td[@class=\"name\"]')\n",
    "len(place)"
   ]
  },
  {
   "cell_type": "code",
   "execution_count": 82,
   "id": "c6cd792c",
   "metadata": {},
   "outputs": [],
   "source": [
    "state_titles = []\n",
    "for t in place:\n",
    "    state_titles.append(t.text)\n"
   ]
  },
  {
   "cell_type": "code",
   "execution_count": 84,
   "id": "4fd2fe88",
   "metadata": {},
   "outputs": [
    {
     "data": {
      "text/plain": [
       "68"
      ]
     },
     "execution_count": 84,
     "metadata": {},
     "output_type": "execute_result"
    }
   ],
   "source": [
    "len(state_titles)"
   ]
  },
  {
   "cell_type": "markdown",
   "id": "eb5102d5",
   "metadata": {},
   "source": [
    "### Extracting GSDP"
   ]
  },
  {
   "cell_type": "code",
   "execution_count": 85,
   "id": "c13f3510",
   "metadata": {},
   "outputs": [
    {
     "data": {
      "text/plain": [
       "308"
      ]
     },
     "execution_count": 85,
     "metadata": {},
     "output_type": "execute_result"
    }
   ],
   "source": [
    "gsdp = driver.find_elements_by_xpath('//td[@class=\"data\"]')\n",
    "len(gsdp)"
   ]
  },
  {
   "cell_type": "code",
   "execution_count": 96,
   "id": "430c4f30",
   "metadata": {},
   "outputs": [],
   "source": [
    "gspd_titles = []\n",
    "for br in gsdp:\n",
    "    gspd_titles.append(br.text)\n"
   ]
  },
  {
   "cell_type": "code",
   "execution_count": 97,
   "id": "f5a23d1a",
   "metadata": {},
   "outputs": [],
   "source": [
    "gspd_title=gspd_titles[::5]"
   ]
  },
  {
   "cell_type": "code",
   "execution_count": 98,
   "id": "ed1412c9",
   "metadata": {},
   "outputs": [
    {
     "data": {
      "text/plain": [
       "62"
      ]
     },
     "execution_count": 98,
     "metadata": {},
     "output_type": "execute_result"
    }
   ],
   "source": [
    "len(gspd_title)"
   ]
  },
  {
   "cell_type": "markdown",
   "id": "f9c42b35",
   "metadata": {},
   "source": [
    "### Extracting Share"
   ]
  },
  {
   "cell_type": "code",
   "execution_count": 103,
   "id": "4a4d590d",
   "metadata": {},
   "outputs": [],
   "source": [
    "share= gspd_titles[1::5]\n"
   ]
  },
  {
   "cell_type": "markdown",
   "id": "01dd6137",
   "metadata": {},
   "source": [
    "### Extracting GDP ($billion)"
   ]
  },
  {
   "cell_type": "code",
   "execution_count": 105,
   "id": "8e126903",
   "metadata": {},
   "outputs": [],
   "source": [
    "gdp= gspd_titles[2::5]"
   ]
  },
  {
   "cell_type": "markdown",
   "id": "56247b26",
   "metadata": {},
   "source": [
    "### Creating Final Dataset"
   ]
  },
  {
   "cell_type": "code",
   "execution_count": 108,
   "id": "5f040a56",
   "metadata": {},
   "outputs": [
    {
     "data": {
      "text/plain": [
       "['Maharashtra',\n",
       " 'Tamil Nadu',\n",
       " 'Uttar Pradesh',\n",
       " 'Gujarat',\n",
       " 'Karnataka',\n",
       " 'West Bengal',\n",
       " 'Rajasthan',\n",
       " 'Andhra Pradesh',\n",
       " 'Telangana',\n",
       " 'Madhya Pradesh',\n",
       " 'Kerala',\n",
       " 'Delhi',\n",
       " 'Haryana',\n",
       " 'Bihar',\n",
       " 'Punjab',\n",
       " 'Odisha',\n",
       " 'Assam',\n",
       " 'Chhattisgarh',\n",
       " 'Jharkhand',\n",
       " 'Uttarakhand',\n",
       " 'Jammu & Kashmir',\n",
       " 'Himachal Pradesh',\n",
       " 'Goa',\n",
       " 'Tripura',\n",
       " 'Chandigarh',\n",
       " 'Puducherry',\n",
       " 'Meghalaya',\n",
       " 'Sikkim',\n",
       " 'Manipur',\n",
       " 'Nagaland',\n",
       " 'Arunachal Pradesh',\n",
       " 'Mizoram',\n",
       " 'Andaman & Nicobar Islands']"
      ]
     },
     "execution_count": 108,
     "metadata": {},
     "output_type": "execute_result"
    }
   ],
   "source": [
    "state_titles[:33]"
   ]
  },
  {
   "cell_type": "code",
   "execution_count": 111,
   "id": "8a1465c7",
   "metadata": {},
   "outputs": [],
   "source": [
    "statistic = pd.DataFrame({'Rank':range(1,34),'State name' :state_titles[:33],'GSDP':gspd_title[:33],'Share':share[:33],'GDP': gdp[:33] })"
   ]
  },
  {
   "cell_type": "code",
   "execution_count": 112,
   "id": "c1df3ca0",
   "metadata": {},
   "outputs": [
    {
     "data": {
      "text/html": [
       "<div>\n",
       "<style scoped>\n",
       "    .dataframe tbody tr th:only-of-type {\n",
       "        vertical-align: middle;\n",
       "    }\n",
       "\n",
       "    .dataframe tbody tr th {\n",
       "        vertical-align: top;\n",
       "    }\n",
       "\n",
       "    .dataframe thead th {\n",
       "        text-align: right;\n",
       "    }\n",
       "</style>\n",
       "<table border=\"1\" class=\"dataframe\">\n",
       "  <thead>\n",
       "    <tr style=\"text-align: right;\">\n",
       "      <th></th>\n",
       "      <th>Rank</th>\n",
       "      <th>State name</th>\n",
       "      <th>GSDP</th>\n",
       "      <th>Share</th>\n",
       "      <th>GDP</th>\n",
       "    </tr>\n",
       "  </thead>\n",
       "  <tbody>\n",
       "    <tr>\n",
       "      <th>0</th>\n",
       "      <td>1</td>\n",
       "      <td>Maharashtra</td>\n",
       "      <td>-</td>\n",
       "      <td>13.94%</td>\n",
       "      <td>399.921</td>\n",
       "    </tr>\n",
       "    <tr>\n",
       "      <th>1</th>\n",
       "      <td>2</td>\n",
       "      <td>Tamil Nadu</td>\n",
       "      <td>1,845,853</td>\n",
       "      <td>8.63%</td>\n",
       "      <td>247.629</td>\n",
       "    </tr>\n",
       "    <tr>\n",
       "      <th>2</th>\n",
       "      <td>3</td>\n",
       "      <td>Uttar Pradesh</td>\n",
       "      <td>1,687,818</td>\n",
       "      <td>8.39%</td>\n",
       "      <td>240.726</td>\n",
       "    </tr>\n",
       "    <tr>\n",
       "      <th>3</th>\n",
       "      <td>4</td>\n",
       "      <td>Gujarat</td>\n",
       "      <td>-</td>\n",
       "      <td>7.96%</td>\n",
       "      <td>228.290</td>\n",
       "    </tr>\n",
       "    <tr>\n",
       "      <th>4</th>\n",
       "      <td>5</td>\n",
       "      <td>Karnataka</td>\n",
       "      <td>1,631,977</td>\n",
       "      <td>7.91%</td>\n",
       "      <td>226.806</td>\n",
       "    </tr>\n",
       "    <tr>\n",
       "      <th>5</th>\n",
       "      <td>6</td>\n",
       "      <td>West Bengal</td>\n",
       "      <td>1,253,832</td>\n",
       "      <td>5.77%</td>\n",
       "      <td>165.556</td>\n",
       "    </tr>\n",
       "    <tr>\n",
       "      <th>6</th>\n",
       "      <td>7</td>\n",
       "      <td>Rajasthan</td>\n",
       "      <td>1,020,989</td>\n",
       "      <td>4.99%</td>\n",
       "      <td>143.179</td>\n",
       "    </tr>\n",
       "    <tr>\n",
       "      <th>7</th>\n",
       "      <td>8</td>\n",
       "      <td>Andhra Pradesh</td>\n",
       "      <td>972,782</td>\n",
       "      <td>4.57%</td>\n",
       "      <td>131.083</td>\n",
       "    </tr>\n",
       "    <tr>\n",
       "      <th>8</th>\n",
       "      <td>9</td>\n",
       "      <td>Telangana</td>\n",
       "      <td>969,604</td>\n",
       "      <td>4.56%</td>\n",
       "      <td>130.791</td>\n",
       "    </tr>\n",
       "    <tr>\n",
       "      <th>9</th>\n",
       "      <td>10</td>\n",
       "      <td>Madhya Pradesh</td>\n",
       "      <td>906,672</td>\n",
       "      <td>4.29%</td>\n",
       "      <td>122.977</td>\n",
       "    </tr>\n",
       "    <tr>\n",
       "      <th>10</th>\n",
       "      <td>11</td>\n",
       "      <td>Kerala</td>\n",
       "      <td>-</td>\n",
       "      <td>4.14%</td>\n",
       "      <td>118.733</td>\n",
       "    </tr>\n",
       "    <tr>\n",
       "      <th>11</th>\n",
       "      <td>12</td>\n",
       "      <td>Delhi</td>\n",
       "      <td>856,112</td>\n",
       "      <td>4.10%</td>\n",
       "      <td>117.703</td>\n",
       "    </tr>\n",
       "    <tr>\n",
       "      <th>12</th>\n",
       "      <td>13</td>\n",
       "      <td>Haryana</td>\n",
       "      <td>831,610</td>\n",
       "      <td>3.89%</td>\n",
       "      <td>111.519</td>\n",
       "    </tr>\n",
       "    <tr>\n",
       "      <th>13</th>\n",
       "      <td>14</td>\n",
       "      <td>Bihar</td>\n",
       "      <td>611,804</td>\n",
       "      <td>2.81%</td>\n",
       "      <td>80.562</td>\n",
       "    </tr>\n",
       "    <tr>\n",
       "      <th>14</th>\n",
       "      <td>15</td>\n",
       "      <td>Punjab</td>\n",
       "      <td>574,760</td>\n",
       "      <td>2.79%</td>\n",
       "      <td>79.957</td>\n",
       "    </tr>\n",
       "    <tr>\n",
       "      <th>15</th>\n",
       "      <td>16</td>\n",
       "      <td>Odisha</td>\n",
       "      <td>521,275</td>\n",
       "      <td>2.58%</td>\n",
       "      <td>74.098</td>\n",
       "    </tr>\n",
       "    <tr>\n",
       "      <th>16</th>\n",
       "      <td>17</td>\n",
       "      <td>Assam</td>\n",
       "      <td>-</td>\n",
       "      <td>1.67%</td>\n",
       "      <td>47.982</td>\n",
       "    </tr>\n",
       "    <tr>\n",
       "      <th>17</th>\n",
       "      <td>18</td>\n",
       "      <td>Chhattisgarh</td>\n",
       "      <td>329,180</td>\n",
       "      <td>1.61%</td>\n",
       "      <td>46.187</td>\n",
       "    </tr>\n",
       "    <tr>\n",
       "      <th>18</th>\n",
       "      <td>19</td>\n",
       "      <td>Jharkhand</td>\n",
       "      <td>328,598</td>\n",
       "      <td>1.57%</td>\n",
       "      <td>45.145</td>\n",
       "    </tr>\n",
       "    <tr>\n",
       "      <th>19</th>\n",
       "      <td>20</td>\n",
       "      <td>Uttarakhand</td>\n",
       "      <td>-</td>\n",
       "      <td>1.30%</td>\n",
       "      <td>37.351</td>\n",
       "    </tr>\n",
       "    <tr>\n",
       "      <th>20</th>\n",
       "      <td>21</td>\n",
       "      <td>Jammu &amp; Kashmir</td>\n",
       "      <td>-</td>\n",
       "      <td>0.83%</td>\n",
       "      <td>23.690</td>\n",
       "    </tr>\n",
       "    <tr>\n",
       "      <th>21</th>\n",
       "      <td>22</td>\n",
       "      <td>Himachal Pradesh</td>\n",
       "      <td>165,472</td>\n",
       "      <td>0.81%</td>\n",
       "      <td>23.369</td>\n",
       "    </tr>\n",
       "    <tr>\n",
       "      <th>22</th>\n",
       "      <td>23</td>\n",
       "      <td>Goa</td>\n",
       "      <td>80,449</td>\n",
       "      <td>0.39%</td>\n",
       "      <td>11.115</td>\n",
       "    </tr>\n",
       "    <tr>\n",
       "      <th>23</th>\n",
       "      <td>24</td>\n",
       "      <td>Tripura</td>\n",
       "      <td>55,984</td>\n",
       "      <td>0.26%</td>\n",
       "      <td>7.571</td>\n",
       "    </tr>\n",
       "    <tr>\n",
       "      <th>24</th>\n",
       "      <td>25</td>\n",
       "      <td>Chandigarh</td>\n",
       "      <td>-</td>\n",
       "      <td>0.22%</td>\n",
       "      <td>6.397</td>\n",
       "    </tr>\n",
       "    <tr>\n",
       "      <th>25</th>\n",
       "      <td>26</td>\n",
       "      <td>Puducherry</td>\n",
       "      <td>38,253</td>\n",
       "      <td>0.18%</td>\n",
       "      <td>5.230</td>\n",
       "    </tr>\n",
       "    <tr>\n",
       "      <th>26</th>\n",
       "      <td>27</td>\n",
       "      <td>Meghalaya</td>\n",
       "      <td>36,572</td>\n",
       "      <td>0.18%</td>\n",
       "      <td>5.086</td>\n",
       "    </tr>\n",
       "    <tr>\n",
       "      <th>27</th>\n",
       "      <td>28</td>\n",
       "      <td>Sikkim</td>\n",
       "      <td>32,496</td>\n",
       "      <td>0.15%</td>\n",
       "      <td>4.363</td>\n",
       "    </tr>\n",
       "    <tr>\n",
       "      <th>28</th>\n",
       "      <td>29</td>\n",
       "      <td>Manipur</td>\n",
       "      <td>31,790</td>\n",
       "      <td>0.15%</td>\n",
       "      <td>4.233</td>\n",
       "    </tr>\n",
       "    <tr>\n",
       "      <th>29</th>\n",
       "      <td>30</td>\n",
       "      <td>Nagaland</td>\n",
       "      <td>-</td>\n",
       "      <td>0.14%</td>\n",
       "      <td>4.144</td>\n",
       "    </tr>\n",
       "    <tr>\n",
       "      <th>30</th>\n",
       "      <td>31</td>\n",
       "      <td>Arunachal Pradesh</td>\n",
       "      <td>-</td>\n",
       "      <td>0.13%</td>\n",
       "      <td>3.737</td>\n",
       "    </tr>\n",
       "    <tr>\n",
       "      <th>31</th>\n",
       "      <td>32</td>\n",
       "      <td>Mizoram</td>\n",
       "      <td>26,503</td>\n",
       "      <td>0.12%</td>\n",
       "      <td>3.385</td>\n",
       "    </tr>\n",
       "    <tr>\n",
       "      <th>32</th>\n",
       "      <td>33</td>\n",
       "      <td>Andaman &amp; Nicobar Islands</td>\n",
       "      <td>-</td>\n",
       "      <td>-</td>\n",
       "      <td>-</td>\n",
       "    </tr>\n",
       "  </tbody>\n",
       "</table>\n",
       "</div>"
      ],
      "text/plain": [
       "    Rank                 State name       GSDP   Share      GDP\n",
       "0      1                Maharashtra          -  13.94%  399.921\n",
       "1      2                 Tamil Nadu  1,845,853   8.63%  247.629\n",
       "2      3              Uttar Pradesh  1,687,818   8.39%  240.726\n",
       "3      4                    Gujarat          -   7.96%  228.290\n",
       "4      5                  Karnataka  1,631,977   7.91%  226.806\n",
       "5      6                West Bengal  1,253,832   5.77%  165.556\n",
       "6      7                  Rajasthan  1,020,989   4.99%  143.179\n",
       "7      8             Andhra Pradesh    972,782   4.57%  131.083\n",
       "8      9                  Telangana    969,604   4.56%  130.791\n",
       "9     10             Madhya Pradesh    906,672   4.29%  122.977\n",
       "10    11                     Kerala          -   4.14%  118.733\n",
       "11    12                      Delhi    856,112   4.10%  117.703\n",
       "12    13                    Haryana    831,610   3.89%  111.519\n",
       "13    14                      Bihar    611,804   2.81%   80.562\n",
       "14    15                     Punjab    574,760   2.79%   79.957\n",
       "15    16                     Odisha    521,275   2.58%   74.098\n",
       "16    17                      Assam          -   1.67%   47.982\n",
       "17    18               Chhattisgarh    329,180   1.61%   46.187\n",
       "18    19                  Jharkhand    328,598   1.57%   45.145\n",
       "19    20                Uttarakhand          -   1.30%   37.351\n",
       "20    21            Jammu & Kashmir          -   0.83%   23.690\n",
       "21    22           Himachal Pradesh    165,472   0.81%   23.369\n",
       "22    23                        Goa     80,449   0.39%   11.115\n",
       "23    24                    Tripura     55,984   0.26%    7.571\n",
       "24    25                 Chandigarh          -   0.22%    6.397\n",
       "25    26                 Puducherry     38,253   0.18%    5.230\n",
       "26    27                  Meghalaya     36,572   0.18%    5.086\n",
       "27    28                     Sikkim     32,496   0.15%    4.363\n",
       "28    29                    Manipur     31,790   0.15%    4.233\n",
       "29    30                   Nagaland          -   0.14%    4.144\n",
       "30    31          Arunachal Pradesh          -   0.13%    3.737\n",
       "31    32                    Mizoram     26,503   0.12%    3.385\n",
       "32    33  Andaman & Nicobar Islands          -       -        -"
      ]
     },
     "execution_count": 112,
     "metadata": {},
     "output_type": "execute_result"
    }
   ],
   "source": [
    "statistic"
   ]
  },
  {
   "cell_type": "markdown",
   "id": "8a633bdc",
   "metadata": {},
   "source": [
    "# Question 5"
   ]
  },
  {
   "cell_type": "code",
   "execution_count": 114,
   "id": "9f280127",
   "metadata": {},
   "outputs": [],
   "source": [
    "url='https://github.com/'\n",
    "driver.get(url)"
   ]
  },
  {
   "cell_type": "code",
   "execution_count": 143,
   "id": "3bb8d41f",
   "metadata": {},
   "outputs": [],
   "source": [
    "search_btn= driver.find_element_by_xpath('/html/body/div[1]/header/div/div[2]/nav/ul/li[4]/details/summary')\n",
    "search_btn.click()"
   ]
  },
  {
   "cell_type": "code",
   "execution_count": 144,
   "id": "93e2ef82",
   "metadata": {},
   "outputs": [],
   "source": [
    "search_btn= driver.find_element_by_xpath('/html/body/div[1]/header/div/div[2]/nav/ul/li[4]/details/div/ul/li[5]/a')\n",
    "search_btn.click()\n"
   ]
  },
  {
   "cell_type": "markdown",
   "id": "483c209a",
   "metadata": {},
   "source": [
    "### Extracting Repository title"
   ]
  },
  {
   "cell_type": "code",
   "execution_count": 145,
   "id": "133c42d6",
   "metadata": {},
   "outputs": [
    {
     "data": {
      "text/plain": [
       "25"
      ]
     },
     "execution_count": 145,
     "metadata": {},
     "output_type": "execute_result"
    }
   ],
   "source": [
    "title = driver.find_elements_by_xpath('//span[@class=\"text-normal\"]')\n",
    "len(title)"
   ]
  },
  {
   "cell_type": "code",
   "execution_count": 146,
   "id": "bb36ac98",
   "metadata": {},
   "outputs": [],
   "source": [
    "rep_titles = []\n",
    "for t in title:\n",
    "    rep_titles.append(t.text)"
   ]
  },
  {
   "cell_type": "code",
   "execution_count": 147,
   "id": "8395b1e5",
   "metadata": {},
   "outputs": [
    {
     "data": {
      "text/plain": [
       "['CodeEditApp /',\n",
       " 'Dreamacro /',\n",
       " 'microsoft /',\n",
       " 'ToolJet /',\n",
       " 'lapce /',\n",
       " 'kabinspace /',\n",
       " 'bitcoin /',\n",
       " 'PowerShell /',\n",
       " 'BeyondDimension /',\n",
       " 'aptos-labs /',\n",
       " 'DingXiaoH /',\n",
       " 'remix-run /',\n",
       " 'PKUFlyingPig /',\n",
       " 'dair-ai /',\n",
       " 'remix-run /',\n",
       " 'openmlsys /',\n",
       " 'Unknow101 /',\n",
       " 'Alvin9999 /',\n",
       " 'pedroslopez /',\n",
       " 'ppy /',\n",
       " '2dust /',\n",
       " 'theOehrly /',\n",
       " 'nocodb /',\n",
       " 'datawhalechina /',\n",
       " 'Budibase /']"
      ]
     },
     "execution_count": 147,
     "metadata": {},
     "output_type": "execute_result"
    }
   ],
   "source": [
    "rep_titles"
   ]
  },
  {
   "cell_type": "markdown",
   "id": "7770aa94",
   "metadata": {},
   "source": [
    "### Extracting description"
   ]
  },
  {
   "cell_type": "code",
   "execution_count": 151,
   "id": "c5e871aa",
   "metadata": {},
   "outputs": [
    {
     "data": {
      "text/plain": [
       "24"
      ]
     },
     "execution_count": 151,
     "metadata": {},
     "output_type": "execute_result"
    }
   ],
   "source": [
    "desc = driver.find_elements_by_xpath('//p[@class=\"col-9 color-fg-muted my-1 pr-4\"]')\n",
    "len(desc)"
   ]
  },
  {
   "cell_type": "code",
   "execution_count": 153,
   "id": "2e6e3b6c",
   "metadata": {},
   "outputs": [],
   "source": [
    "describe = []\n",
    "for d in desc:\n",
    "    describe.append(d.text)"
   ]
  },
  {
   "cell_type": "code",
   "execution_count": 162,
   "id": "eaaf6f42",
   "metadata": {},
   "outputs": [
    {
     "data": {
      "text/plain": [
       "['CodeEdit App for macOS – Elevate your code editing experience. Open source, free forever.',\n",
       " 'A rule-based tunnel in Go.',\n",
       " 'Tool to scan for RouterOS (Mikrotik) forensic artifacts and vulnerabilities.',\n",
       " 'Extensible low-code framework for building business applications. Connect to databases, cloud storages, GraphQL, API endpoints, Airtable, etc and build apps using drag and drop application builder. Built using JavaScript/TypeScript. 🚀',\n",
       " 'Lightning-fast and Powerful Code Editor written in Rust',\n",
       " 'AstroVim is an aesthetic and feature-rich neovim config that is extensible and easy to use with a great set of plugins',\n",
       " 'Bitcoin Core integration/staging tree',\n",
       " 'PowerShell for every system!',\n",
       " '🛠「Steam++」是一个开源跨平台的多功能Steam工具箱。',\n",
       " 'A layer 1 for everyone!',\n",
       " 'The Remix Stack for deploying to AWS with DynamoDB, authentication, testing, linting, formatting, etc.',\n",
       " '计算机自学指南',\n",
       " '🎓 Sharing course notes on all topics related to machine learning, NLP, and AI',\n",
       " 'The Remix Stack for deploying to Fly with PostgreSQL, authentication, testing, linting, formatting, etc.',\n",
       " '《Machine Learning Systems: Design and Implementation》- Chinese Version',\n",
       " 'A simple python packer to easily bypass Windows Defender',\n",
       " '翻墙-科学上网、免费翻墙、免费科学上网、免费自由上网、fanqiang、翻墙梯子、免费软件/方法，一键翻墙浏览器，免费shadowsocks/ss/ssr/v2ray/goflyway账号/节点分享，vps一键搭建翻墙服务器脚本/教程，电脑、手机、iOS、安卓、windows、Mac、Linux、路由器翻墙',\n",
       " 'A WhatsApp client library for NodeJS that connects through the WhatsApp Web browser app',\n",
       " 'rhythm is just a *click* away!',\n",
       " 'A V2Ray client for Windows, support Xray core and v2fly core',\n",
       " 'FastF1 is a python package for accessing and analyzing Formula 1 results, schedules, timing data and telemetry',\n",
       " '🔥 🔥 🔥 Open Source Airtable Alternative',\n",
       " '强化学习中文教程（蘑菇书），在线阅读地址：https://datawhalechina.github.io/easy-rl/',\n",
       " 'Budibase is an open-source low-code platform for creating internal apps in minutes. Supports PostgreSQL, MySQL, MSSQL, MongoDB, Rest API, Docker, K8s 🚀']"
      ]
     },
     "execution_count": 162,
     "metadata": {},
     "output_type": "execute_result"
    }
   ],
   "source": [
    "describe"
   ]
  },
  {
   "cell_type": "markdown",
   "id": "a204e699",
   "metadata": {},
   "source": [
    "### Extracting contribution"
   ]
  },
  {
   "cell_type": "code",
   "execution_count": 155,
   "id": "05747315",
   "metadata": {},
   "outputs": [
    {
     "data": {
      "text/plain": [
       "24"
      ]
     },
     "execution_count": 155,
     "metadata": {},
     "output_type": "execute_result"
    }
   ],
   "source": [
    "con = driver.find_elements_by_xpath('//a[@class=\"Link--muted d-inline-block mr-3\"]')\n",
    "len(desc)"
   ]
  },
  {
   "cell_type": "code",
   "execution_count": 156,
   "id": "4e7f0941",
   "metadata": {},
   "outputs": [],
   "source": [
    "contri = []\n",
    "for d in con:\n",
    "    contri.append(d.text)"
   ]
  },
  {
   "cell_type": "code",
   "execution_count": 160,
   "id": "ecf53ef7",
   "metadata": {},
   "outputs": [],
   "source": [
    "contri=contri[1::2]"
   ]
  },
  {
   "cell_type": "code",
   "execution_count": 161,
   "id": "b498f6e2",
   "metadata": {},
   "outputs": [
    {
     "data": {
      "text/plain": [
       "25"
      ]
     },
     "execution_count": 161,
     "metadata": {},
     "output_type": "execute_result"
    }
   ],
   "source": [
    "len(contri)"
   ]
  },
  {
   "cell_type": "markdown",
   "id": "8494a4ff",
   "metadata": {},
   "source": [
    "### Extracting Language"
   ]
  },
  {
   "cell_type": "code",
   "execution_count": 163,
   "id": "8240afb2",
   "metadata": {},
   "outputs": [
    {
     "data": {
      "text/plain": [
       "22"
      ]
     },
     "execution_count": 163,
     "metadata": {},
     "output_type": "execute_result"
    }
   ],
   "source": [
    "lan = driver.find_elements_by_xpath('//span[@class=\"d-inline-block ml-0 mr-3\"]')\n",
    "len(lan)"
   ]
  },
  {
   "cell_type": "code",
   "execution_count": 164,
   "id": "b9723b39",
   "metadata": {},
   "outputs": [],
   "source": [
    "lang = []\n",
    "for d in lan:\n",
    "    lang.append(d.text)"
   ]
  },
  {
   "cell_type": "code",
   "execution_count": 165,
   "id": "d700b522",
   "metadata": {},
   "outputs": [
    {
     "data": {
      "text/plain": [
       "['Swift',\n",
       " 'Go',\n",
       " 'Python',\n",
       " 'JavaScript',\n",
       " 'Rust',\n",
       " 'Lua',\n",
       " 'C++',\n",
       " 'C#',\n",
       " 'C#',\n",
       " 'Rust',\n",
       " 'Python',\n",
       " 'TypeScript',\n",
       " 'TypeScript',\n",
       " 'TeX',\n",
       " 'Python',\n",
       " 'JavaScript',\n",
       " 'C#',\n",
       " 'C#',\n",
       " 'Python',\n",
       " 'Vue',\n",
       " 'Jupyter Notebook',\n",
       " 'JavaScript']"
      ]
     },
     "execution_count": 165,
     "metadata": {},
     "output_type": "execute_result"
    }
   ],
   "source": [
    "lang"
   ]
  },
  {
   "cell_type": "markdown",
   "id": "4d8467c5",
   "metadata": {},
   "source": [
    "### Creating the Final Dataset"
   ]
  },
  {
   "cell_type": "code",
   "execution_count": 166,
   "id": "ef4e4c9b",
   "metadata": {},
   "outputs": [],
   "source": [
    "git = pd.DataFrame({'Titles' :rep_titles[:10],'Description':describe[:10],'Contribution':contri[:10],'Language': lang[:10] })"
   ]
  },
  {
   "cell_type": "code",
   "execution_count": 167,
   "id": "a8b0ef62",
   "metadata": {},
   "outputs": [
    {
     "data": {
      "text/html": [
       "<div>\n",
       "<style scoped>\n",
       "    .dataframe tbody tr th:only-of-type {\n",
       "        vertical-align: middle;\n",
       "    }\n",
       "\n",
       "    .dataframe tbody tr th {\n",
       "        vertical-align: top;\n",
       "    }\n",
       "\n",
       "    .dataframe thead th {\n",
       "        text-align: right;\n",
       "    }\n",
       "</style>\n",
       "<table border=\"1\" class=\"dataframe\">\n",
       "  <thead>\n",
       "    <tr style=\"text-align: right;\">\n",
       "      <th></th>\n",
       "      <th>Titles</th>\n",
       "      <th>Description</th>\n",
       "      <th>Contribution</th>\n",
       "      <th>Language</th>\n",
       "    </tr>\n",
       "  </thead>\n",
       "  <tbody>\n",
       "    <tr>\n",
       "      <th>0</th>\n",
       "      <td>CodeEditApp /</td>\n",
       "      <td>CodeEdit App for macOS – Elevate your code edi...</td>\n",
       "      <td>77</td>\n",
       "      <td>Swift</td>\n",
       "    </tr>\n",
       "    <tr>\n",
       "      <th>1</th>\n",
       "      <td>Dreamacro /</td>\n",
       "      <td>A rule-based tunnel in Go.</td>\n",
       "      <td>3,563</td>\n",
       "      <td>Go</td>\n",
       "    </tr>\n",
       "    <tr>\n",
       "      <th>2</th>\n",
       "      <td>microsoft /</td>\n",
       "      <td>Tool to scan for RouterOS (Mikrotik) forensic ...</td>\n",
       "      <td>57</td>\n",
       "      <td>Python</td>\n",
       "    </tr>\n",
       "    <tr>\n",
       "      <th>3</th>\n",
       "      <td>ToolJet /</td>\n",
       "      <td>Extensible low-code framework for building bus...</td>\n",
       "      <td>557</td>\n",
       "      <td>JavaScript</td>\n",
       "    </tr>\n",
       "    <tr>\n",
       "      <th>4</th>\n",
       "      <td>lapce /</td>\n",
       "      <td>Lightning-fast and Powerful Code Editor writte...</td>\n",
       "      <td>188</td>\n",
       "      <td>Rust</td>\n",
       "    </tr>\n",
       "    <tr>\n",
       "      <th>5</th>\n",
       "      <td>kabinspace /</td>\n",
       "      <td>AstroVim is an aesthetic and feature-rich neov...</td>\n",
       "      <td>107</td>\n",
       "      <td>Lua</td>\n",
       "    </tr>\n",
       "    <tr>\n",
       "      <th>6</th>\n",
       "      <td>bitcoin /</td>\n",
       "      <td>Bitcoin Core integration/staging tree</td>\n",
       "      <td>31,850</td>\n",
       "      <td>C++</td>\n",
       "    </tr>\n",
       "    <tr>\n",
       "      <th>7</th>\n",
       "      <td>PowerShell /</td>\n",
       "      <td>PowerShell for every system!</td>\n",
       "      <td>5,344</td>\n",
       "      <td>C#</td>\n",
       "    </tr>\n",
       "    <tr>\n",
       "      <th>8</th>\n",
       "      <td>BeyondDimension /</td>\n",
       "      <td>🛠「Steam++」是一个开源跨平台的多功能Steam工具箱。</td>\n",
       "      <td>387</td>\n",
       "      <td>C#</td>\n",
       "    </tr>\n",
       "    <tr>\n",
       "      <th>9</th>\n",
       "      <td>aptos-labs /</td>\n",
       "      <td>A layer 1 for everyone!</td>\n",
       "      <td>58</td>\n",
       "      <td>Rust</td>\n",
       "    </tr>\n",
       "  </tbody>\n",
       "</table>\n",
       "</div>"
      ],
      "text/plain": [
       "              Titles                                        Description  \\\n",
       "0      CodeEditApp /  CodeEdit App for macOS – Elevate your code edi...   \n",
       "1        Dreamacro /                         A rule-based tunnel in Go.   \n",
       "2        microsoft /  Tool to scan for RouterOS (Mikrotik) forensic ...   \n",
       "3          ToolJet /  Extensible low-code framework for building bus...   \n",
       "4            lapce /  Lightning-fast and Powerful Code Editor writte...   \n",
       "5       kabinspace /  AstroVim is an aesthetic and feature-rich neov...   \n",
       "6          bitcoin /              Bitcoin Core integration/staging tree   \n",
       "7       PowerShell /                       PowerShell for every system!   \n",
       "8  BeyondDimension /                    🛠「Steam++」是一个开源跨平台的多功能Steam工具箱。   \n",
       "9       aptos-labs /                            A layer 1 for everyone!   \n",
       "\n",
       "  Contribution    Language  \n",
       "0           77       Swift  \n",
       "1        3,563          Go  \n",
       "2           57      Python  \n",
       "3          557  JavaScript  \n",
       "4          188        Rust  \n",
       "5          107         Lua  \n",
       "6       31,850         C++  \n",
       "7        5,344          C#  \n",
       "8          387          C#  \n",
       "9           58        Rust  "
      ]
     },
     "execution_count": 167,
     "metadata": {},
     "output_type": "execute_result"
    }
   ],
   "source": [
    "git"
   ]
  },
  {
   "cell_type": "markdown",
   "id": "240c45b2",
   "metadata": {},
   "source": [
    "# Question 6"
   ]
  },
  {
   "cell_type": "code",
   "execution_count": 4,
   "id": "53a12540",
   "metadata": {},
   "outputs": [],
   "source": [
    "url = 'http://www.billboard.com/'\n",
    "driver.get(url)"
   ]
  },
  {
   "cell_type": "code",
   "execution_count": 5,
   "id": "032849f0",
   "metadata": {},
   "outputs": [],
   "source": [
    "\n",
    "search_btn= driver.find_element_by_xpath('//*[@id=\"main-wrapper\"]/header/div[1]/div/div/div[2]/div/nav/ul/li[1]/a')\n",
    "search_btn.click()"
   ]
  },
  {
   "cell_type": "code",
   "execution_count": 7,
   "id": "b029d62e",
   "metadata": {},
   "outputs": [],
   "source": [
    "search_btn= driver.find_element_by_xpath('//*[@id=\"main-wrapper\"]/main/div[2]/div[1]/div[1]/div/div/div[3]')\n",
    "search_btn.click()"
   ]
  },
  {
   "cell_type": "markdown",
   "id": "88b60f51",
   "metadata": {},
   "source": [
    "### Extracting data"
   ]
  },
  {
   "cell_type": "code",
   "execution_count": 8,
   "id": "1b5ba932",
   "metadata": {},
   "outputs": [
    {
     "data": {
      "text/plain": [
       "100"
      ]
     },
     "execution_count": 8,
     "metadata": {},
     "output_type": "execute_result"
    }
   ],
   "source": [
    "lan = driver.find_elements_by_xpath('//ul[@class=\"lrv-a-unstyle-list lrv-u-flex lrv-u-height-100p lrv-u-flex-direction-column@mobile-max\"]')\n",
    "len(lan)"
   ]
  },
  {
   "cell_type": "code",
   "execution_count": 12,
   "id": "545a8b87",
   "metadata": {},
   "outputs": [],
   "source": [
    "lang = []\n",
    "for d in lan:\n",
    "    lang.append(d.text.splitlines())"
   ]
  },
  {
   "cell_type": "markdown",
   "id": "46b444a7",
   "metadata": {},
   "source": [
    "### Extracting Song name"
   ]
  },
  {
   "cell_type": "code",
   "execution_count": 26,
   "id": "e04a27fa",
   "metadata": {},
   "outputs": [],
   "source": [
    "i=0\n",
    "song=[]"
   ]
  },
  {
   "cell_type": "code",
   "execution_count": 27,
   "id": "41cc947a",
   "metadata": {},
   "outputs": [],
   "source": [
    "while i < 100:\n",
    "    song.append(lang[i][0])\n",
    "    i=i+1"
   ]
  },
  {
   "cell_type": "code",
   "execution_count": 28,
   "id": "d5deeccf",
   "metadata": {},
   "outputs": [
    {
     "data": {
      "text/plain": [
       "100"
      ]
     },
     "execution_count": 28,
     "metadata": {},
     "output_type": "execute_result"
    }
   ],
   "source": [
    "len(song)"
   ]
  },
  {
   "cell_type": "code",
   "execution_count": 38,
   "id": "387b2edb",
   "metadata": {},
   "outputs": [
    {
     "data": {
      "text/plain": [
       "'6'"
      ]
     },
     "execution_count": 38,
     "metadata": {},
     "output_type": "execute_result"
    }
   ],
   "source": [
    "lang[5][-3]"
   ]
  },
  {
   "cell_type": "markdown",
   "id": "a18f16bd",
   "metadata": {},
   "source": [
    "### Extracting Artist name"
   ]
  },
  {
   "cell_type": "code",
   "execution_count": 32,
   "id": "5a7b919a",
   "metadata": {},
   "outputs": [],
   "source": [
    "i=0\n",
    "artist=[]"
   ]
  },
  {
   "cell_type": "code",
   "execution_count": 33,
   "id": "64f0e1d5",
   "metadata": {},
   "outputs": [],
   "source": [
    "while i < 100:\n",
    "    artist.append(lang[i][1])\n",
    "    i=i+1"
   ]
  },
  {
   "cell_type": "code",
   "execution_count": 35,
   "id": "01c2e36e",
   "metadata": {},
   "outputs": [
    {
     "data": {
      "text/plain": [
       "100"
      ]
     },
     "execution_count": 35,
     "metadata": {},
     "output_type": "execute_result"
    }
   ],
   "source": [
    "len(artist)"
   ]
  },
  {
   "cell_type": "markdown",
   "id": "48033b5b",
   "metadata": {},
   "source": [
    "### Extracting last week rank"
   ]
  },
  {
   "cell_type": "code",
   "execution_count": 36,
   "id": "307c7b59",
   "metadata": {},
   "outputs": [],
   "source": [
    "i=0\n",
    "lst=[]"
   ]
  },
  {
   "cell_type": "code",
   "execution_count": 39,
   "id": "bacdc044",
   "metadata": {},
   "outputs": [],
   "source": [
    "while i < 100:\n",
    "    lst.append(lang[i][-3])\n",
    "    i=i+1"
   ]
  },
  {
   "cell_type": "code",
   "execution_count": 41,
   "id": "e5d6c583",
   "metadata": {},
   "outputs": [
    {
     "data": {
      "text/plain": [
       "100"
      ]
     },
     "execution_count": 41,
     "metadata": {},
     "output_type": "execute_result"
    }
   ],
   "source": [
    "len(lst)"
   ]
  },
  {
   "cell_type": "markdown",
   "id": "15190448",
   "metadata": {},
   "source": [
    "### Extracting Peak rank"
   ]
  },
  {
   "cell_type": "code",
   "execution_count": 42,
   "id": "b6bac772",
   "metadata": {},
   "outputs": [],
   "source": [
    "i=0\n",
    "peak=[]"
   ]
  },
  {
   "cell_type": "code",
   "execution_count": 43,
   "id": "5e26b873",
   "metadata": {},
   "outputs": [],
   "source": [
    "while i < 100:\n",
    "    peak.append(lang[i][-2])\n",
    "    i=i+1"
   ]
  },
  {
   "cell_type": "code",
   "execution_count": 45,
   "id": "daaf8cdb",
   "metadata": {},
   "outputs": [
    {
     "data": {
      "text/plain": [
       "100"
      ]
     },
     "execution_count": 45,
     "metadata": {},
     "output_type": "execute_result"
    }
   ],
   "source": [
    "len(peak)"
   ]
  },
  {
   "cell_type": "markdown",
   "id": "37b39bf5",
   "metadata": {},
   "source": [
    "### Extracting Weeks on board"
   ]
  },
  {
   "cell_type": "code",
   "execution_count": 46,
   "id": "1ca67e35",
   "metadata": {},
   "outputs": [],
   "source": [
    "i=0\n",
    "week=[]"
   ]
  },
  {
   "cell_type": "code",
   "execution_count": 47,
   "id": "73823cba",
   "metadata": {},
   "outputs": [],
   "source": [
    "while i < 100:\n",
    "    week.append(lang[i][-1])\n",
    "    i=i+1"
   ]
  },
  {
   "cell_type": "code",
   "execution_count": 49,
   "id": "1dfd6a12",
   "metadata": {},
   "outputs": [
    {
     "data": {
      "text/plain": [
       "100"
      ]
     },
     "execution_count": 49,
     "metadata": {},
     "output_type": "execute_result"
    }
   ],
   "source": [
    "len(week)"
   ]
  },
  {
   "cell_type": "markdown",
   "id": "5ef9d544",
   "metadata": {},
   "source": [
    "### Creating Final Dataset"
   ]
  },
  {
   "cell_type": "code",
   "execution_count": 50,
   "id": "ea8723ba",
   "metadata": {},
   "outputs": [],
   "source": [
    "billboard = pd.DataFrame({'Song' :song,'Artist':artist,'Last week Rank':lst,'Peak Rank': peak,'Weeks on Board':week })"
   ]
  },
  {
   "cell_type": "code",
   "execution_count": 51,
   "id": "b0d23ec9",
   "metadata": {},
   "outputs": [
    {
     "data": {
      "text/html": [
       "<div>\n",
       "<style scoped>\n",
       "    .dataframe tbody tr th:only-of-type {\n",
       "        vertical-align: middle;\n",
       "    }\n",
       "\n",
       "    .dataframe tbody tr th {\n",
       "        vertical-align: top;\n",
       "    }\n",
       "\n",
       "    .dataframe thead th {\n",
       "        text-align: right;\n",
       "    }\n",
       "</style>\n",
       "<table border=\"1\" class=\"dataframe\">\n",
       "  <thead>\n",
       "    <tr style=\"text-align: right;\">\n",
       "      <th></th>\n",
       "      <th>Song</th>\n",
       "      <th>Artist</th>\n",
       "      <th>Last week Rank</th>\n",
       "      <th>Peak Rank</th>\n",
       "      <th>Weeks on Board</th>\n",
       "    </tr>\n",
       "  </thead>\n",
       "  <tbody>\n",
       "    <tr>\n",
       "      <th>0</th>\n",
       "      <td>Heat Waves</td>\n",
       "      <td>Glass Animals</td>\n",
       "      <td>1</td>\n",
       "      <td>1</td>\n",
       "      <td>60</td>\n",
       "    </tr>\n",
       "    <tr>\n",
       "      <th>1</th>\n",
       "      <td>We Don't Talk About Bruno</td>\n",
       "      <td>Carolina Gaitan, Mauro Castillo, Adassa, Rhenz...</td>\n",
       "      <td>2</td>\n",
       "      <td>1</td>\n",
       "      <td>11</td>\n",
       "    </tr>\n",
       "    <tr>\n",
       "      <th>2</th>\n",
       "      <td>Super Gremlin</td>\n",
       "      <td>Kodak Black</td>\n",
       "      <td>4</td>\n",
       "      <td>3</td>\n",
       "      <td>18</td>\n",
       "    </tr>\n",
       "    <tr>\n",
       "      <th>3</th>\n",
       "      <td>abcdefu</td>\n",
       "      <td>GAYLE</td>\n",
       "      <td>3</td>\n",
       "      <td>3</td>\n",
       "      <td>16</td>\n",
       "    </tr>\n",
       "    <tr>\n",
       "      <th>4</th>\n",
       "      <td>Stay</td>\n",
       "      <td>The Kid LAROI &amp; Justin Bieber</td>\n",
       "      <td>5</td>\n",
       "      <td>1</td>\n",
       "      <td>35</td>\n",
       "    </tr>\n",
       "    <tr>\n",
       "      <th>...</th>\n",
       "      <td>...</td>\n",
       "      <td>...</td>\n",
       "      <td>...</td>\n",
       "      <td>...</td>\n",
       "      <td>...</td>\n",
       "    </tr>\n",
       "    <tr>\n",
       "      <th>95</th>\n",
       "      <td>Evil Twins</td>\n",
       "      <td>King Von &amp; Lil Durk</td>\n",
       "      <td>-</td>\n",
       "      <td>96</td>\n",
       "      <td>1</td>\n",
       "    </tr>\n",
       "    <tr>\n",
       "      <th>96</th>\n",
       "      <td>Trust Nothing</td>\n",
       "      <td>King Von Featuring Moneybagg Yo</td>\n",
       "      <td>-</td>\n",
       "      <td>97</td>\n",
       "      <td>1</td>\n",
       "    </tr>\n",
       "    <tr>\n",
       "      <th>97</th>\n",
       "      <td>Iffy</td>\n",
       "      <td>Chris Brown</td>\n",
       "      <td>92</td>\n",
       "      <td>71</td>\n",
       "      <td>8</td>\n",
       "    </tr>\n",
       "    <tr>\n",
       "      <th>98</th>\n",
       "      <td>Closer</td>\n",
       "      <td>Saweetie Featuring H.E.R.</td>\n",
       "      <td>98</td>\n",
       "      <td>89</td>\n",
       "      <td>4</td>\n",
       "    </tr>\n",
       "    <tr>\n",
       "      <th>99</th>\n",
       "      <td>When I'm Gone</td>\n",
       "      <td>Alesso / Katy Perry</td>\n",
       "      <td>91</td>\n",
       "      <td>90</td>\n",
       "      <td>4</td>\n",
       "    </tr>\n",
       "  </tbody>\n",
       "</table>\n",
       "<p>100 rows × 5 columns</p>\n",
       "</div>"
      ],
      "text/plain": [
       "                         Song  \\\n",
       "0                  Heat Waves   \n",
       "1   We Don't Talk About Bruno   \n",
       "2               Super Gremlin   \n",
       "3                     abcdefu   \n",
       "4                        Stay   \n",
       "..                        ...   \n",
       "95                 Evil Twins   \n",
       "96              Trust Nothing   \n",
       "97                       Iffy   \n",
       "98                     Closer   \n",
       "99              When I'm Gone   \n",
       "\n",
       "                                               Artist Last week Rank  \\\n",
       "0                                       Glass Animals              1   \n",
       "1   Carolina Gaitan, Mauro Castillo, Adassa, Rhenz...              2   \n",
       "2                                         Kodak Black              4   \n",
       "3                                               GAYLE              3   \n",
       "4                       The Kid LAROI & Justin Bieber              5   \n",
       "..                                                ...            ...   \n",
       "95                                King Von & Lil Durk              -   \n",
       "96                    King Von Featuring Moneybagg Yo              -   \n",
       "97                                        Chris Brown             92   \n",
       "98                          Saweetie Featuring H.E.R.             98   \n",
       "99                                Alesso / Katy Perry             91   \n",
       "\n",
       "   Peak Rank Weeks on Board  \n",
       "0          1             60  \n",
       "1          1             11  \n",
       "2          3             18  \n",
       "3          3             16  \n",
       "4          1             35  \n",
       "..       ...            ...  \n",
       "95        96              1  \n",
       "96        97              1  \n",
       "97        71              8  \n",
       "98        89              4  \n",
       "99        90              4  \n",
       "\n",
       "[100 rows x 5 columns]"
      ]
     },
     "execution_count": 51,
     "metadata": {},
     "output_type": "execute_result"
    }
   ],
   "source": [
    "billboard"
   ]
  },
  {
   "cell_type": "markdown",
   "id": "6403e4fe",
   "metadata": {},
   "source": [
    "# Question 7"
   ]
  },
  {
   "cell_type": "code",
   "execution_count": 64,
   "id": "f146c31b",
   "metadata": {},
   "outputs": [],
   "source": [
    "url = 'https://www.naukri.com/'\n",
    "driver.get(url)"
   ]
  },
  {
   "cell_type": "code",
   "execution_count": 70,
   "id": "1641d728",
   "metadata": {},
   "outputs": [
    {
     "data": {
      "text/plain": [
       "<selenium.webdriver.remote.webelement.WebElement (session=\"8f23ba15d57683ba2444ce23235c3c61\", element=\"0acf1774-2278-457e-ac2a-0573241193a5\")>"
      ]
     },
     "execution_count": 70,
     "metadata": {},
     "output_type": "execute_result"
    }
   ],
   "source": [
    "search_item= driver.find_element_by_xpath('//*[@id=\"root\"]/div[2]/div[3]/div/div[1]/div[1]/div/div/div/input')\n",
    "search_item"
   ]
  },
  {
   "cell_type": "code",
   "execution_count": 71,
   "id": "16485304",
   "metadata": {},
   "outputs": [],
   "source": [
    "# write on search bar\n",
    "search_item.send_keys(\" Data scientist\")"
   ]
  },
  {
   "cell_type": "code",
   "execution_count": 72,
   "id": "ae03df10",
   "metadata": {},
   "outputs": [
    {
     "data": {
      "text/plain": [
       "<selenium.webdriver.remote.webelement.WebElement (session=\"8f23ba15d57683ba2444ce23235c3c61\", element=\"de7de46d-5558-4f15-aa99-890a12e744d1\")>"
      ]
     },
     "execution_count": 72,
     "metadata": {},
     "output_type": "execute_result"
    }
   ],
   "source": [
    "# Search button click\n",
    "search_btn8= driver.find_element_by_xpath('//div[@class=\"qsbSubmit\"]')\n",
    "search_btn8"
   ]
  },
  {
   "cell_type": "code",
   "execution_count": 74,
   "id": "6e57545b",
   "metadata": {},
   "outputs": [],
   "source": [
    "search_btn8.click()"
   ]
  },
  {
   "cell_type": "code",
   "execution_count": 161,
   "id": "64d964dc",
   "metadata": {},
   "outputs": [
    {
     "data": {
      "text/plain": [
       "20"
      ]
     },
     "execution_count": 161,
     "metadata": {},
     "output_type": "execute_result"
    }
   ],
   "source": [
    "lan = driver.find_elements_by_xpath('//article[@class=\"jobTuple bgWhite br4 mb-8\"]')\n",
    "len(lan)"
   ]
  },
  {
   "cell_type": "markdown",
   "id": "64c45b2f",
   "metadata": {},
   "source": [
    "### Extracting Data"
   ]
  },
  {
   "cell_type": "code",
   "execution_count": 162,
   "id": "7b7cac5d",
   "metadata": {},
   "outputs": [],
   "source": [
    "n = []\n",
    "for d in lan:\n",
    "    n.append(d.text.splitlines())"
   ]
  },
  {
   "cell_type": "code",
   "execution_count": 163,
   "id": "ea901959",
   "metadata": {},
   "outputs": [
    {
     "data": {
      "text/plain": [
       "20"
      ]
     },
     "execution_count": 163,
     "metadata": {},
     "output_type": "execute_result"
    }
   ],
   "source": [
    "len(n)"
   ]
  },
  {
   "cell_type": "markdown",
   "id": "2d27554c",
   "metadata": {},
   "source": [
    "### Extracting name"
   ]
  },
  {
   "cell_type": "code",
   "execution_count": 164,
   "id": "0deec1a7",
   "metadata": {},
   "outputs": [],
   "source": [
    "i=0\n",
    "name=[]\n",
    "leng= len(n)"
   ]
  },
  {
   "cell_type": "code",
   "execution_count": 165,
   "id": "e109e003",
   "metadata": {},
   "outputs": [],
   "source": [
    "while i < leng:\n",
    "    name.append(n[i][0])\n",
    "    i=i+1"
   ]
  },
  {
   "cell_type": "code",
   "execution_count": 166,
   "id": "3ce1fe7c",
   "metadata": {},
   "outputs": [
    {
     "data": {
      "text/plain": [
       "20"
      ]
     },
     "execution_count": 166,
     "metadata": {},
     "output_type": "execute_result"
    }
   ],
   "source": [
    "len(name)"
   ]
  },
  {
   "cell_type": "markdown",
   "id": "bf1f8fc2",
   "metadata": {},
   "source": [
    "### Extracting designation"
   ]
  },
  {
   "cell_type": "code",
   "execution_count": 158,
   "id": "77f90ddb",
   "metadata": {},
   "outputs": [
    {
     "data": {
      "text/plain": [
       "20"
      ]
     },
     "execution_count": 158,
     "metadata": {},
     "output_type": "execute_result"
    }
   ],
   "source": [
    "lan1 = driver.find_elements_by_xpath('//ul[@class=\"mt-7\"]')\n",
    "len(lan1)"
   ]
  },
  {
   "cell_type": "code",
   "execution_count": 159,
   "id": "ad661992",
   "metadata": {},
   "outputs": [],
   "source": [
    "desg= []\n",
    "for d in lan1:\n",
    "    desg.append(d.text.splitlines()[0]) "
   ]
  },
  {
   "cell_type": "code",
   "execution_count": 160,
   "id": "7f68b638",
   "metadata": {},
   "outputs": [
    {
     "data": {
      "text/plain": [
       "['10-20 Yrs',\n",
       " '4-9 Yrs',\n",
       " '0-0 Yrs',\n",
       " '0-5 Yrs',\n",
       " '5-10 Yrs',\n",
       " '5-10 Yrs',\n",
       " '6-12 Yrs',\n",
       " '6-11 Yrs',\n",
       " '6-8 Yrs',\n",
       " '4-9 Yrs',\n",
       " '0-5 Yrs',\n",
       " '8-13 Yrs',\n",
       " '3-6 Yrs',\n",
       " '8-12 Yrs',\n",
       " '4-9 Yrs',\n",
       " '1-6 Yrs',\n",
       " '6-10 Yrs',\n",
       " '2-7 Yrs',\n",
       " '10-15 Yrs',\n",
       " '1-6 Yrs']"
      ]
     },
     "execution_count": 160,
     "metadata": {},
     "output_type": "execute_result"
    }
   ],
   "source": [
    "desg"
   ]
  },
  {
   "cell_type": "markdown",
   "id": "2c04688c",
   "metadata": {},
   "source": [
    "### Extracting Company"
   ]
  },
  {
   "cell_type": "code",
   "execution_count": 167,
   "id": "22133741",
   "metadata": {},
   "outputs": [],
   "source": [
    "i=0\n",
    "comp=[]"
   ]
  },
  {
   "cell_type": "code",
   "execution_count": 169,
   "id": "e5e34bb0",
   "metadata": {},
   "outputs": [],
   "source": [
    "while i < leng:\n",
    "    comp.append(n[i][1])\n",
    "    i=i+1"
   ]
  },
  {
   "cell_type": "code",
   "execution_count": 171,
   "id": "893365de",
   "metadata": {},
   "outputs": [
    {
     "data": {
      "text/plain": [
       "20"
      ]
     },
     "execution_count": 171,
     "metadata": {},
     "output_type": "execute_result"
    }
   ],
   "source": [
    "len(comp)"
   ]
  },
  {
   "cell_type": "markdown",
   "id": "fed45ad2",
   "metadata": {},
   "source": [
    "### Extracting Location"
   ]
  },
  {
   "cell_type": "code",
   "execution_count": 174,
   "id": "51c5aacb",
   "metadata": {},
   "outputs": [],
   "source": [
    "loc= []\n",
    "for d in lan1:\n",
    "    loc.append(d.text.splitlines()[2])"
   ]
  },
  {
   "cell_type": "code",
   "execution_count": 176,
   "id": "6a6a3bb5",
   "metadata": {},
   "outputs": [
    {
     "data": {
      "text/plain": [
       "20"
      ]
     },
     "execution_count": 176,
     "metadata": {},
     "output_type": "execute_result"
    }
   ],
   "source": [
    "len(loc)"
   ]
  },
  {
   "cell_type": "markdown",
   "id": "9f2476d7",
   "metadata": {},
   "source": [
    "### Extracting Skills"
   ]
  },
  {
   "cell_type": "code",
   "execution_count": 177,
   "id": "81c15a6f",
   "metadata": {},
   "outputs": [
    {
     "data": {
      "text/plain": [
       "20"
      ]
     },
     "execution_count": 177,
     "metadata": {},
     "output_type": "execute_result"
    }
   ],
   "source": [
    "lan2 = driver.find_elements_by_xpath('//ul[@class=\"tags has-description\"]')\n",
    "len(lan2)"
   ]
  },
  {
   "cell_type": "code",
   "execution_count": 180,
   "id": "4cf649cc",
   "metadata": {},
   "outputs": [],
   "source": [
    "skill= []\n",
    "for d in lan2:\n",
    "    skill.append(d.text.splitlines()) "
   ]
  },
  {
   "cell_type": "code",
   "execution_count": 183,
   "id": "e734f8be",
   "metadata": {},
   "outputs": [
    {
     "data": {
      "text/plain": [
       "20"
      ]
     },
     "execution_count": 183,
     "metadata": {},
     "output_type": "execute_result"
    }
   ],
   "source": [
    "len(skill)"
   ]
  },
  {
   "cell_type": "markdown",
   "id": "3b7fd026",
   "metadata": {},
   "source": [
    "### Creating Final Dataset"
   ]
  },
  {
   "cell_type": "code",
   "execution_count": 184,
   "id": "1ef5aac4",
   "metadata": {},
   "outputs": [],
   "source": [
    "naukri = pd.DataFrame({'Name' :name,'Designation':desg,'Company':comp,'Location': loc,'Skills':skill })"
   ]
  },
  {
   "cell_type": "code",
   "execution_count": 185,
   "id": "c15cfcd1",
   "metadata": {},
   "outputs": [
    {
     "data": {
      "text/html": [
       "<div>\n",
       "<style scoped>\n",
       "    .dataframe tbody tr th:only-of-type {\n",
       "        vertical-align: middle;\n",
       "    }\n",
       "\n",
       "    .dataframe tbody tr th {\n",
       "        vertical-align: top;\n",
       "    }\n",
       "\n",
       "    .dataframe thead th {\n",
       "        text-align: right;\n",
       "    }\n",
       "</style>\n",
       "<table border=\"1\" class=\"dataframe\">\n",
       "  <thead>\n",
       "    <tr style=\"text-align: right;\">\n",
       "      <th></th>\n",
       "      <th>Name</th>\n",
       "      <th>Designation</th>\n",
       "      <th>Company</th>\n",
       "      <th>Location</th>\n",
       "      <th>Skills</th>\n",
       "    </tr>\n",
       "  </thead>\n",
       "  <tbody>\n",
       "    <tr>\n",
       "      <th>0</th>\n",
       "      <td>HCL Tech Opening - Lead Data Scientist</td>\n",
       "      <td>10-20 Yrs</td>\n",
       "      <td>HCL</td>\n",
       "      <td>Kolkata, Hyderabad/Secunderabad, Pune, Chennai...</td>\n",
       "      <td>[IT Skills, Python, Data Science, Azure, arima...</td>\n",
       "    </tr>\n",
       "    <tr>\n",
       "      <th>1</th>\n",
       "      <td>Data Scientist / Sr. Data Engineer</td>\n",
       "      <td>4-9 Yrs</td>\n",
       "      <td>Convergence Infotech Ltd</td>\n",
       "      <td>Bangalore/Bengaluru(Sadashiva Nagar)</td>\n",
       "      <td>[Tensorflow, Scipy, ALGORITHM, SVM, Machine Le...</td>\n",
       "    </tr>\n",
       "    <tr>\n",
       "      <th>2</th>\n",
       "      <td>Excellent Opportunity For Freshers For AI/ML, ...</td>\n",
       "      <td>0-0 Yrs</td>\n",
       "      <td>NTT Data</td>\n",
       "      <td>Noida, Kolkata, Hyderabad/Secunderabad, Pune, ...</td>\n",
       "      <td>[artificial intelligence, Python, SQL, IT Skil...</td>\n",
       "    </tr>\n",
       "    <tr>\n",
       "      <th>3</th>\n",
       "      <td>Senior Data Scientist</td>\n",
       "      <td>0-5 Yrs</td>\n",
       "      <td>Walmart Global Tech India</td>\n",
       "      <td>Other</td>\n",
       "      <td>[NA]</td>\n",
       "    </tr>\n",
       "    <tr>\n",
       "      <th>4</th>\n",
       "      <td>Senior or Lead Data Scientist</td>\n",
       "      <td>5-10 Yrs</td>\n",
       "      <td>Cyient</td>\n",
       "      <td>Hyderabad/Secunderabad</td>\n",
       "      <td>[IT Skills, Python, Azure, sql queries, data a...</td>\n",
       "    </tr>\n",
       "    <tr>\n",
       "      <th>5</th>\n",
       "      <td>Looking For Senior / Lead Data Scientist with ...</td>\n",
       "      <td>5-10 Yrs</td>\n",
       "      <td>Cyient</td>\n",
       "      <td>Hyderabad/Secunderabad</td>\n",
       "      <td>[Azure Data Factory, AzureML, Data Scientist, ...</td>\n",
       "    </tr>\n",
       "    <tr>\n",
       "      <th>6</th>\n",
       "      <td>Sr Data Scientist</td>\n",
       "      <td>6-12 Yrs</td>\n",
       "      <td>Uber</td>\n",
       "      <td>Bangalore/Bengaluru</td>\n",
       "      <td>[Computer science, Interpersonal skills, Proje...</td>\n",
       "    </tr>\n",
       "    <tr>\n",
       "      <th>7</th>\n",
       "      <td>Data Scientist III</td>\n",
       "      <td>6-11 Yrs</td>\n",
       "      <td>Groupon</td>\n",
       "      <td>Bangalore/Bengaluru</td>\n",
       "      <td>[Hadoop, Hive, Snowflake, BPO, travel, data an...</td>\n",
       "    </tr>\n",
       "    <tr>\n",
       "      <th>8</th>\n",
       "      <td>Sr . Data Scientist</td>\n",
       "      <td>6-8 Yrs</td>\n",
       "      <td>Visa</td>\n",
       "      <td>Bangalore/Bengaluru</td>\n",
       "      <td>[Unix, Computer science, Version control, SAS,...</td>\n",
       "    </tr>\n",
       "    <tr>\n",
       "      <th>9</th>\n",
       "      <td>Assistant Manager/Manager/Senior Manager - Dat...</td>\n",
       "      <td>4-9 Yrs</td>\n",
       "      <td>Huquo Consulting Pvt. Ltd</td>\n",
       "      <td>Delhi / NCR, Bangalore/Bengaluru</td>\n",
       "      <td>[R, SAS, Python, Spark NLP, Machine Learning, ...</td>\n",
       "    </tr>\n",
       "    <tr>\n",
       "      <th>10</th>\n",
       "      <td>Staff Data Scientist</td>\n",
       "      <td>0-5 Yrs</td>\n",
       "      <td>Walmart Global Tech India</td>\n",
       "      <td>Other</td>\n",
       "      <td>[NA]</td>\n",
       "    </tr>\n",
       "    <tr>\n",
       "      <th>11</th>\n",
       "      <td>Need Data scientists and data engineers - WFH-...</td>\n",
       "      <td>8-13 Yrs</td>\n",
       "      <td>Covalense Technologies Private Limited</td>\n",
       "      <td>Hyderabad/Secunderabad, Bangalore/Bengaluru, M...</td>\n",
       "      <td>[scientist, data engineering, Python]</td>\n",
       "    </tr>\n",
       "    <tr>\n",
       "      <th>12</th>\n",
       "      <td>Lead - Data Scientist / Analytics</td>\n",
       "      <td>3-6 Yrs</td>\n",
       "      <td>Sutherland Global Services Inc</td>\n",
       "      <td>Hyderabad/Secunderabad</td>\n",
       "      <td>[IT Skills, Python, Testing, Machine Learning,...</td>\n",
       "    </tr>\n",
       "    <tr>\n",
       "      <th>13</th>\n",
       "      <td>Principal Data Scientist</td>\n",
       "      <td>8-12 Yrs</td>\n",
       "      <td>Mobile Premier League</td>\n",
       "      <td>Bangalore/Bengaluru</td>\n",
       "      <td>[Computer science, Data analysis, data science...</td>\n",
       "    </tr>\n",
       "    <tr>\n",
       "      <th>14</th>\n",
       "      <td>Data Scientist</td>\n",
       "      <td>4-9 Yrs</td>\n",
       "      <td>Shell</td>\n",
       "      <td>Bangalore/Bengaluru</td>\n",
       "      <td>[non-linear programming, DevOps, GIT, Hypothes...</td>\n",
       "    </tr>\n",
       "    <tr>\n",
       "      <th>15</th>\n",
       "      <td>Data Scientist</td>\n",
       "      <td>1-6 Yrs</td>\n",
       "      <td>HDFC Bank</td>\n",
       "      <td>Pune, Gurgaon/Gurugram, Chennai, Bangalore/Ben...</td>\n",
       "      <td>[analytics, python, r, credit risk, predictive...</td>\n",
       "    </tr>\n",
       "    <tr>\n",
       "      <th>16</th>\n",
       "      <td>Data Scientist - Machine Learning</td>\n",
       "      <td>6-10 Yrs</td>\n",
       "      <td>Corner Tree Consulting</td>\n",
       "      <td>Kolkata, Mumbai, Hyderabad/Secunderabad, Pune,...</td>\n",
       "      <td>[IT Skills, Python, Data Science, Machine Lear...</td>\n",
       "    </tr>\n",
       "    <tr>\n",
       "      <th>17</th>\n",
       "      <td>Associate Data Scientist</td>\n",
       "      <td>2-7 Yrs</td>\n",
       "      <td>Shell</td>\n",
       "      <td>Chennai</td>\n",
       "      <td>[Functional Analytics, machine learning, Decis...</td>\n",
       "    </tr>\n",
       "    <tr>\n",
       "      <th>18</th>\n",
       "      <td>Lead- Data Scientist FMCG/ Retail Analytics</td>\n",
       "      <td>10-15 Yrs</td>\n",
       "      <td>Vertex Corporate Services</td>\n",
       "      <td>Pune</td>\n",
       "      <td>[Retail Analytics, Text Mining, machine learni...</td>\n",
       "    </tr>\n",
       "    <tr>\n",
       "      <th>19</th>\n",
       "      <td>Data Scientist/ Data Analyst- Permanent Remote...</td>\n",
       "      <td>1-6 Yrs</td>\n",
       "      <td>Lending Tree Research Services LLP</td>\n",
       "      <td>Remote</td>\n",
       "      <td>[analytics, R, data insight, data analysis, Ex...</td>\n",
       "    </tr>\n",
       "  </tbody>\n",
       "</table>\n",
       "</div>"
      ],
      "text/plain": [
       "                                                 Name Designation  \\\n",
       "0              HCL Tech Opening - Lead Data Scientist   10-20 Yrs   \n",
       "1                  Data Scientist / Sr. Data Engineer     4-9 Yrs   \n",
       "2   Excellent Opportunity For Freshers For AI/ML, ...     0-0 Yrs   \n",
       "3                               Senior Data Scientist     0-5 Yrs   \n",
       "4                       Senior or Lead Data Scientist    5-10 Yrs   \n",
       "5   Looking For Senior / Lead Data Scientist with ...    5-10 Yrs   \n",
       "6                                   Sr Data Scientist    6-12 Yrs   \n",
       "7                                  Data Scientist III    6-11 Yrs   \n",
       "8                                 Sr . Data Scientist     6-8 Yrs   \n",
       "9   Assistant Manager/Manager/Senior Manager - Dat...     4-9 Yrs   \n",
       "10                               Staff Data Scientist     0-5 Yrs   \n",
       "11  Need Data scientists and data engineers - WFH-...    8-13 Yrs   \n",
       "12                  Lead - Data Scientist / Analytics     3-6 Yrs   \n",
       "13                           Principal Data Scientist    8-12 Yrs   \n",
       "14                                     Data Scientist     4-9 Yrs   \n",
       "15                                     Data Scientist     1-6 Yrs   \n",
       "16                  Data Scientist - Machine Learning    6-10 Yrs   \n",
       "17                           Associate Data Scientist     2-7 Yrs   \n",
       "18        Lead- Data Scientist FMCG/ Retail Analytics   10-15 Yrs   \n",
       "19  Data Scientist/ Data Analyst- Permanent Remote...     1-6 Yrs   \n",
       "\n",
       "                                   Company  \\\n",
       "0                                      HCL   \n",
       "1                 Convergence Infotech Ltd   \n",
       "2                                 NTT Data   \n",
       "3                Walmart Global Tech India   \n",
       "4                                   Cyient   \n",
       "5                                   Cyient   \n",
       "6                                     Uber   \n",
       "7                                  Groupon   \n",
       "8                                     Visa   \n",
       "9                Huquo Consulting Pvt. Ltd   \n",
       "10               Walmart Global Tech India   \n",
       "11  Covalense Technologies Private Limited   \n",
       "12          Sutherland Global Services Inc   \n",
       "13                   Mobile Premier League   \n",
       "14                                   Shell   \n",
       "15                               HDFC Bank   \n",
       "16                  Corner Tree Consulting   \n",
       "17                                   Shell   \n",
       "18               Vertex Corporate Services   \n",
       "19      Lending Tree Research Services LLP   \n",
       "\n",
       "                                             Location  \\\n",
       "0   Kolkata, Hyderabad/Secunderabad, Pune, Chennai...   \n",
       "1                Bangalore/Bengaluru(Sadashiva Nagar)   \n",
       "2   Noida, Kolkata, Hyderabad/Secunderabad, Pune, ...   \n",
       "3                                               Other   \n",
       "4                              Hyderabad/Secunderabad   \n",
       "5                              Hyderabad/Secunderabad   \n",
       "6                                 Bangalore/Bengaluru   \n",
       "7                                 Bangalore/Bengaluru   \n",
       "8                                 Bangalore/Bengaluru   \n",
       "9                    Delhi / NCR, Bangalore/Bengaluru   \n",
       "10                                              Other   \n",
       "11  Hyderabad/Secunderabad, Bangalore/Bengaluru, M...   \n",
       "12                             Hyderabad/Secunderabad   \n",
       "13                                Bangalore/Bengaluru   \n",
       "14                                Bangalore/Bengaluru   \n",
       "15  Pune, Gurgaon/Gurugram, Chennai, Bangalore/Ben...   \n",
       "16  Kolkata, Mumbai, Hyderabad/Secunderabad, Pune,...   \n",
       "17                                            Chennai   \n",
       "18                                               Pune   \n",
       "19                                             Remote   \n",
       "\n",
       "                                               Skills  \n",
       "0   [IT Skills, Python, Data Science, Azure, arima...  \n",
       "1   [Tensorflow, Scipy, ALGORITHM, SVM, Machine Le...  \n",
       "2   [artificial intelligence, Python, SQL, IT Skil...  \n",
       "3                                                [NA]  \n",
       "4   [IT Skills, Python, Azure, sql queries, data a...  \n",
       "5   [Azure Data Factory, AzureML, Data Scientist, ...  \n",
       "6   [Computer science, Interpersonal skills, Proje...  \n",
       "7   [Hadoop, Hive, Snowflake, BPO, travel, data an...  \n",
       "8   [Unix, Computer science, Version control, SAS,...  \n",
       "9   [R, SAS, Python, Spark NLP, Machine Learning, ...  \n",
       "10                                               [NA]  \n",
       "11              [scientist, data engineering, Python]  \n",
       "12  [IT Skills, Python, Testing, Machine Learning,...  \n",
       "13  [Computer science, Data analysis, data science...  \n",
       "14  [non-linear programming, DevOps, GIT, Hypothes...  \n",
       "15  [analytics, python, r, credit risk, predictive...  \n",
       "16  [IT Skills, Python, Data Science, Machine Lear...  \n",
       "17  [Functional Analytics, machine learning, Decis...  \n",
       "18  [Retail Analytics, Text Mining, machine learni...  \n",
       "19  [analytics, R, data insight, data analysis, Ex...  "
      ]
     },
     "execution_count": 185,
     "metadata": {},
     "output_type": "execute_result"
    }
   ],
   "source": [
    "naukri"
   ]
  },
  {
   "cell_type": "markdown",
   "id": "07078e27",
   "metadata": {},
   "source": [
    "# Question 8"
   ]
  },
  {
   "cell_type": "code",
   "execution_count": 186,
   "id": "4477c377",
   "metadata": {},
   "outputs": [],
   "source": [
    "url = 'https://www.theguardian.com/news/datablog/2012/aug/09/best-selling-books-all-time-fifty-shades-grey-compare/'\n",
    "driver.get(url)"
   ]
  },
  {
   "cell_type": "markdown",
   "id": "8619fb00",
   "metadata": {},
   "source": [
    "### Extracting title"
   ]
  },
  {
   "cell_type": "code",
   "execution_count": 223,
   "id": "d716e85e",
   "metadata": {},
   "outputs": [],
   "source": [
    "a3= '//td[@id=\"table-cell-10943-0-1\"]'\n",
    "it = 1\n",
    "total_len= 0\n",
    "head =[]"
   ]
  },
  {
   "cell_type": "code",
   "execution_count": 224,
   "id": "195f70b6",
   "metadata": {},
   "outputs": [],
   "source": [
    "while total_len < 9:\n",
    "        nxt_btn= driver.find_elements_by_xpath(a3)\n",
    "        for btt6 in nxt_btn:\n",
    "            head.append(btt6.text)\n",
    "        a3 =a3[:-5] + str(it) +'-1\"]'\n",
    "        \n",
    "        total_len+=1 \n",
    "        it+=1\n",
    "a3= '//td[@id=\"table-cell-10943-11-1\"]'\n",
    "while total_len < 100:\n",
    "        nxt_btn= driver.find_elements_by_xpath(a3)\n",
    "        for btt6 in nxt_btn:\n",
    "            head.append(btt6.text)\n",
    "        a3 =a3[:-6] + str(it) +'-1\"]'\n",
    "        total_len+=1 \n",
    "        it+=1"
   ]
  },
  {
   "cell_type": "code",
   "execution_count": 225,
   "id": "8611c126",
   "metadata": {},
   "outputs": [
    {
     "data": {
      "text/plain": [
       "100"
      ]
     },
     "execution_count": 225,
     "metadata": {},
     "output_type": "execute_result"
    }
   ],
   "source": [
    "len(head)"
   ]
  },
  {
   "cell_type": "markdown",
   "id": "8c99e90c",
   "metadata": {},
   "source": [
    "### Extracting Author"
   ]
  },
  {
   "cell_type": "code",
   "execution_count": 226,
   "id": "15f43b62",
   "metadata": {},
   "outputs": [],
   "source": [
    "a3= '//td[@id=\"table-cell-10943-0-2\"]'\n",
    "it = 1\n",
    "total_len= 0\n",
    "aut =[]"
   ]
  },
  {
   "cell_type": "code",
   "execution_count": 227,
   "id": "822a8be6",
   "metadata": {},
   "outputs": [],
   "source": [
    "while total_len < 9:\n",
    "        nxt_btn= driver.find_elements_by_xpath(a3)\n",
    "        for btt6 in nxt_btn:\n",
    "            aut.append(btt6.text)\n",
    "        a3 =a3[:-5] + str(it) +'-2\"]'\n",
    "        \n",
    "        total_len+=1 \n",
    "        it+=1\n",
    "a3= '//td[@id=\"table-cell-10943-11-2\"]'\n",
    "while total_len < 100:\n",
    "        nxt_btn= driver.find_elements_by_xpath(a3)\n",
    "        for btt6 in nxt_btn:\n",
    "            aut.append(btt6.text)\n",
    "        a3 =a3[:-6] + str(it) +'-2\"]'\n",
    "        total_len+=1 \n",
    "        it+=1"
   ]
  },
  {
   "cell_type": "code",
   "execution_count": 231,
   "id": "e1d89d45",
   "metadata": {},
   "outputs": [
    {
     "data": {
      "text/plain": [
       "100"
      ]
     },
     "execution_count": 231,
     "metadata": {},
     "output_type": "execute_result"
    }
   ],
   "source": [
    "len(aut)"
   ]
  },
  {
   "cell_type": "markdown",
   "id": "15917ea9",
   "metadata": {},
   "source": [
    "### Extracting Volume sold"
   ]
  },
  {
   "cell_type": "code",
   "execution_count": 239,
   "id": "f7a63623",
   "metadata": {},
   "outputs": [],
   "source": [
    "a3= '//td[@id=\"table-cell-10943-0-3\"]'\n",
    "it = 1\n",
    "total_len= 0\n",
    "vol =[]"
   ]
  },
  {
   "cell_type": "code",
   "execution_count": 240,
   "id": "6d46f328",
   "metadata": {},
   "outputs": [],
   "source": [
    "while total_len < 9:\n",
    "        nxt_btn= driver.find_elements_by_xpath(a3)\n",
    "        for btt6 in nxt_btn:\n",
    "            vol.append(btt6.text)\n",
    "        a3 =a3[:-5] + str(it) +'-3\"]'\n",
    "        \n",
    "        total_len+=1 \n",
    "        it+=1\n",
    "a3= '//td[@id=\"table-cell-10943-11-3\"]'\n",
    "while total_len < 100:\n",
    "        nxt_btn= driver.find_elements_by_xpath(a3)\n",
    "        for btt6 in nxt_btn:\n",
    "            vol.append(btt6.text)\n",
    "        a3 =a3[:-6] + str(it) +'-3\"]'\n",
    "        total_len+=1 \n",
    "        it+=1"
   ]
  },
  {
   "cell_type": "code",
   "execution_count": 241,
   "id": "c2340e06",
   "metadata": {},
   "outputs": [
    {
     "data": {
      "text/plain": [
       "100"
      ]
     },
     "execution_count": 241,
     "metadata": {},
     "output_type": "execute_result"
    }
   ],
   "source": [
    "len(vol)"
   ]
  },
  {
   "cell_type": "markdown",
   "id": "2258d047",
   "metadata": {},
   "source": [
    "### Extracting Publisher"
   ]
  },
  {
   "cell_type": "code",
   "execution_count": 242,
   "id": "971bde70",
   "metadata": {},
   "outputs": [],
   "source": [
    "a3= '//td[@id=\"table-cell-10943-0-4\"]'\n",
    "it = 1\n",
    "total_len= 0\n",
    "pub =[]"
   ]
  },
  {
   "cell_type": "code",
   "execution_count": 243,
   "id": "33b5f7ed",
   "metadata": {},
   "outputs": [],
   "source": [
    "while total_len < 9:\n",
    "        nxt_btn= driver.find_elements_by_xpath(a3)\n",
    "        for btt6 in nxt_btn:\n",
    "            pub.append(btt6.text)\n",
    "        a3 =a3[:-5] + str(it) +'-4\"]'\n",
    "        \n",
    "        total_len+=1 \n",
    "        it+=1\n",
    "a3= '//td[@id=\"table-cell-10943-11-4\"]'\n",
    "while total_len < 100:\n",
    "        nxt_btn= driver.find_elements_by_xpath(a3)\n",
    "        for btt6 in nxt_btn:\n",
    "            pub.append(btt6.text)\n",
    "        a3 =a3[:-6] + str(it) +'-4\"]'\n",
    "        total_len+=1 \n",
    "        it+=1"
   ]
  },
  {
   "cell_type": "code",
   "execution_count": 245,
   "id": "a5fd4116",
   "metadata": {},
   "outputs": [
    {
     "data": {
      "text/plain": [
       "100"
      ]
     },
     "execution_count": 245,
     "metadata": {},
     "output_type": "execute_result"
    }
   ],
   "source": [
    "len(pub)"
   ]
  },
  {
   "cell_type": "markdown",
   "id": "f28d808f",
   "metadata": {},
   "source": [
    "### Extracting Genre"
   ]
  },
  {
   "cell_type": "code",
   "execution_count": 249,
   "id": "bccb15dc",
   "metadata": {},
   "outputs": [],
   "source": [
    "a3= '//td[@id=\"table-cell-10943-0-5\"]'\n",
    "it = 1\n",
    "total_len= 0\n",
    "gen =[]"
   ]
  },
  {
   "cell_type": "code",
   "execution_count": 250,
   "id": "33042abd",
   "metadata": {},
   "outputs": [],
   "source": [
    "while total_len < 9:\n",
    "        nxt_btn= driver.find_elements_by_xpath(a3)\n",
    "        for btt6 in nxt_btn:\n",
    "            gen.append(btt6.text)\n",
    "        a3 =a3[:-5] + str(it) +'-5\"]'\n",
    "        \n",
    "        total_len+=1 \n",
    "        it+=1\n",
    "a3= '//td[@id=\"table-cell-10943-11-5\"]'\n",
    "while total_len < 100:\n",
    "        nxt_btn= driver.find_elements_by_xpath(a3)\n",
    "        for btt6 in nxt_btn:\n",
    "            gen.append(btt6.text)\n",
    "        a3 =a3[:-6] + str(it) +'-5\"]'\n",
    "        total_len+=1 \n",
    "        it+=1"
   ]
  },
  {
   "cell_type": "code",
   "execution_count": 252,
   "id": "3f2deece",
   "metadata": {},
   "outputs": [
    {
     "data": {
      "text/plain": [
       "100"
      ]
     },
     "execution_count": 252,
     "metadata": {},
     "output_type": "execute_result"
    }
   ],
   "source": [
    "len(gen)"
   ]
  },
  {
   "cell_type": "markdown",
   "id": "e53d2b7a",
   "metadata": {},
   "source": [
    "### Creating Final Dataset"
   ]
  },
  {
   "cell_type": "code",
   "execution_count": 253,
   "id": "1653fac3",
   "metadata": {},
   "outputs": [],
   "source": [
    "guardian = pd.DataFrame({'Book Name' :head,'Author Name':aut,'Volume Sold':vol,'Publisher': pub,'Genre':gen })"
   ]
  },
  {
   "cell_type": "code",
   "execution_count": 254,
   "id": "941b9b61",
   "metadata": {},
   "outputs": [
    {
     "data": {
      "text/html": [
       "<div>\n",
       "<style scoped>\n",
       "    .dataframe tbody tr th:only-of-type {\n",
       "        vertical-align: middle;\n",
       "    }\n",
       "\n",
       "    .dataframe tbody tr th {\n",
       "        vertical-align: top;\n",
       "    }\n",
       "\n",
       "    .dataframe thead th {\n",
       "        text-align: right;\n",
       "    }\n",
       "</style>\n",
       "<table border=\"1\" class=\"dataframe\">\n",
       "  <thead>\n",
       "    <tr style=\"text-align: right;\">\n",
       "      <th></th>\n",
       "      <th>Book Name</th>\n",
       "      <th>Author Name</th>\n",
       "      <th>Volume Sold</th>\n",
       "      <th>Publisher</th>\n",
       "      <th>Genre</th>\n",
       "    </tr>\n",
       "  </thead>\n",
       "  <tbody>\n",
       "    <tr>\n",
       "      <th>0</th>\n",
       "      <td>Da Vinci Code,The</td>\n",
       "      <td>Brown, Dan</td>\n",
       "      <td>5,094,805</td>\n",
       "      <td>Transworld</td>\n",
       "      <td>Crime, Thriller &amp; Adventure</td>\n",
       "    </tr>\n",
       "    <tr>\n",
       "      <th>1</th>\n",
       "      <td>Harry Potter and the Deathly Hallows</td>\n",
       "      <td>Rowling, J.K.</td>\n",
       "      <td>4,475,152</td>\n",
       "      <td>Bloomsbury</td>\n",
       "      <td>Children's Fiction</td>\n",
       "    </tr>\n",
       "    <tr>\n",
       "      <th>2</th>\n",
       "      <td>Harry Potter and the Philosopher's Stone</td>\n",
       "      <td>Rowling, J.K.</td>\n",
       "      <td>4,200,654</td>\n",
       "      <td>Bloomsbury</td>\n",
       "      <td>Children's Fiction</td>\n",
       "    </tr>\n",
       "    <tr>\n",
       "      <th>3</th>\n",
       "      <td>Harry Potter and the Order of the Phoenix</td>\n",
       "      <td>Rowling, J.K.</td>\n",
       "      <td>4,179,479</td>\n",
       "      <td>Bloomsbury</td>\n",
       "      <td>Children's Fiction</td>\n",
       "    </tr>\n",
       "    <tr>\n",
       "      <th>4</th>\n",
       "      <td>Fifty Shades of Grey</td>\n",
       "      <td>James, E. L.</td>\n",
       "      <td>3,758,936</td>\n",
       "      <td>Random House</td>\n",
       "      <td>Romance &amp; Sagas</td>\n",
       "    </tr>\n",
       "    <tr>\n",
       "      <th>...</th>\n",
       "      <td>...</td>\n",
       "      <td>...</td>\n",
       "      <td>...</td>\n",
       "      <td>...</td>\n",
       "      <td>...</td>\n",
       "    </tr>\n",
       "    <tr>\n",
       "      <th>95</th>\n",
       "      <td>Ghost,The</td>\n",
       "      <td>Harris, Robert</td>\n",
       "      <td>807,311</td>\n",
       "      <td>Random House</td>\n",
       "      <td>General &amp; Literary Fiction</td>\n",
       "    </tr>\n",
       "    <tr>\n",
       "      <th>96</th>\n",
       "      <td>Happy Days with the Naked Chef</td>\n",
       "      <td>Oliver, Jamie</td>\n",
       "      <td>794,201</td>\n",
       "      <td>Penguin</td>\n",
       "      <td>Food &amp; Drink: General</td>\n",
       "    </tr>\n",
       "    <tr>\n",
       "      <th>97</th>\n",
       "      <td>Hunger Games,The:Hunger Games Trilogy</td>\n",
       "      <td>Collins, Suzanne</td>\n",
       "      <td>792,187</td>\n",
       "      <td>Scholastic Ltd.</td>\n",
       "      <td>Young Adult Fiction</td>\n",
       "    </tr>\n",
       "    <tr>\n",
       "      <th>98</th>\n",
       "      <td>Lost Boy,The:A Foster Child's Search for the L...</td>\n",
       "      <td>Pelzer, Dave</td>\n",
       "      <td>791,507</td>\n",
       "      <td>Orion</td>\n",
       "      <td>Biography: General</td>\n",
       "    </tr>\n",
       "    <tr>\n",
       "      <th>99</th>\n",
       "      <td>Jamie's Ministry of Food:Anyone Can Learn to C...</td>\n",
       "      <td>Oliver, Jamie</td>\n",
       "      <td>791,095</td>\n",
       "      <td>Penguin</td>\n",
       "      <td>Food &amp; Drink: General</td>\n",
       "    </tr>\n",
       "  </tbody>\n",
       "</table>\n",
       "<p>100 rows × 5 columns</p>\n",
       "</div>"
      ],
      "text/plain": [
       "                                            Book Name       Author Name  \\\n",
       "0                                   Da Vinci Code,The        Brown, Dan   \n",
       "1                Harry Potter and the Deathly Hallows     Rowling, J.K.   \n",
       "2            Harry Potter and the Philosopher's Stone     Rowling, J.K.   \n",
       "3           Harry Potter and the Order of the Phoenix     Rowling, J.K.   \n",
       "4                                Fifty Shades of Grey      James, E. L.   \n",
       "..                                                ...               ...   \n",
       "95                                          Ghost,The    Harris, Robert   \n",
       "96                     Happy Days with the Naked Chef     Oliver, Jamie   \n",
       "97              Hunger Games,The:Hunger Games Trilogy  Collins, Suzanne   \n",
       "98  Lost Boy,The:A Foster Child's Search for the L...      Pelzer, Dave   \n",
       "99  Jamie's Ministry of Food:Anyone Can Learn to C...     Oliver, Jamie   \n",
       "\n",
       "   Volume Sold        Publisher                        Genre  \n",
       "0    5,094,805       Transworld  Crime, Thriller & Adventure  \n",
       "1    4,475,152       Bloomsbury           Children's Fiction  \n",
       "2    4,200,654       Bloomsbury           Children's Fiction  \n",
       "3    4,179,479       Bloomsbury           Children's Fiction  \n",
       "4    3,758,936     Random House              Romance & Sagas  \n",
       "..         ...              ...                          ...  \n",
       "95     807,311     Random House   General & Literary Fiction  \n",
       "96     794,201          Penguin        Food & Drink: General  \n",
       "97     792,187  Scholastic Ltd.          Young Adult Fiction  \n",
       "98     791,507            Orion           Biography: General  \n",
       "99     791,095          Penguin        Food & Drink: General  \n",
       "\n",
       "[100 rows x 5 columns]"
      ]
     },
     "execution_count": 254,
     "metadata": {},
     "output_type": "execute_result"
    }
   ],
   "source": [
    "guardian"
   ]
  },
  {
   "cell_type": "markdown",
   "id": "782a73f2",
   "metadata": {},
   "source": [
    "# Question 9"
   ]
  },
  {
   "cell_type": "code",
   "execution_count": 255,
   "id": "78ccb0e6",
   "metadata": {},
   "outputs": [],
   "source": [
    "url = 'https://www.imdb.com/list/ls095964455/'\n",
    "driver.get(url)"
   ]
  },
  {
   "cell_type": "code",
   "execution_count": 256,
   "id": "0da44526",
   "metadata": {},
   "outputs": [
    {
     "data": {
      "text/plain": [
       "100"
      ]
     },
     "execution_count": 256,
     "metadata": {},
     "output_type": "execute_result"
    }
   ],
   "source": [
    "lan = driver.find_elements_by_xpath('//div[@class=\"lister-item-content\"]')\n",
    "len(lan)"
   ]
  },
  {
   "cell_type": "markdown",
   "id": "7ef318f8",
   "metadata": {},
   "source": [
    "### Extracting Data"
   ]
  },
  {
   "cell_type": "code",
   "execution_count": 257,
   "id": "8a682008",
   "metadata": {},
   "outputs": [],
   "source": [
    "n = []\n",
    "for d in lan:\n",
    "    n.append(d.text.splitlines())"
   ]
  },
  {
   "cell_type": "code",
   "execution_count": 273,
   "id": "481e3101",
   "metadata": {},
   "outputs": [
    {
     "data": {
      "text/plain": [
       "' Game of Thrones'"
      ]
     },
     "execution_count": 273,
     "metadata": {},
     "output_type": "execute_result"
    }
   ],
   "source": [
    "n[0][0][2:-12]"
   ]
  },
  {
   "cell_type": "markdown",
   "id": "ca521dd7",
   "metadata": {},
   "source": [
    "### Extracting Movie Name "
   ]
  },
  {
   "cell_type": "code",
   "execution_count": 291,
   "id": "dfe92857",
   "metadata": {},
   "outputs": [],
   "source": [
    "i=0\n",
    "name=[]\n",
    "leng= len(n)"
   ]
  },
  {
   "cell_type": "code",
   "execution_count": 292,
   "id": "e4e1a015",
   "metadata": {},
   "outputs": [],
   "source": [
    "while i < leng:\n",
    "    name.append(n[i][0][3:-12])\n",
    "    i=i+1"
   ]
  },
  {
   "cell_type": "code",
   "execution_count": 293,
   "id": "49b7f467",
   "metadata": {},
   "outputs": [
    {
     "data": {
      "text/plain": [
       "100"
      ]
     },
     "execution_count": 293,
     "metadata": {},
     "output_type": "execute_result"
    }
   ],
   "source": [
    "len(name)"
   ]
  },
  {
   "cell_type": "markdown",
   "id": "297bdedc",
   "metadata": {},
   "source": [
    "### Extracting Year Span"
   ]
  },
  {
   "cell_type": "code",
   "execution_count": 299,
   "id": "2857c9a5",
   "metadata": {},
   "outputs": [],
   "source": [
    "year=[]"
   ]
  },
  {
   "cell_type": "code",
   "execution_count": 300,
   "id": "b0a9d9d4",
   "metadata": {},
   "outputs": [
    {
     "data": {
      "text/plain": [
       "100"
      ]
     },
     "execution_count": 300,
     "metadata": {},
     "output_type": "execute_result"
    }
   ],
   "source": [
    "lan = driver.find_elements_by_xpath('//span[@class=\"lister-item-year text-muted unbold\"]')\n",
    "len(lan)"
   ]
  },
  {
   "cell_type": "code",
   "execution_count": 301,
   "id": "ccf99e0e",
   "metadata": {},
   "outputs": [],
   "source": [
    "for d in lan:\n",
    "    year.append(d.text)"
   ]
  },
  {
   "cell_type": "code",
   "execution_count": 303,
   "id": "03511807",
   "metadata": {},
   "outputs": [
    {
     "data": {
      "text/plain": [
       "100"
      ]
     },
     "execution_count": 303,
     "metadata": {},
     "output_type": "execute_result"
    }
   ],
   "source": [
    "len(year)"
   ]
  },
  {
   "cell_type": "markdown",
   "id": "a1fbf6ee",
   "metadata": {},
   "source": [
    "### Extracting Genre"
   ]
  },
  {
   "cell_type": "code",
   "execution_count": 304,
   "id": "5f58bde3",
   "metadata": {},
   "outputs": [],
   "source": [
    "gen=[]"
   ]
  },
  {
   "cell_type": "code",
   "execution_count": 305,
   "id": "a6be8023",
   "metadata": {},
   "outputs": [
    {
     "data": {
      "text/plain": [
       "100"
      ]
     },
     "execution_count": 305,
     "metadata": {},
     "output_type": "execute_result"
    }
   ],
   "source": [
    "lan = driver.find_elements_by_xpath('//span[@class=\"genre\"]')\n",
    "len(lan)"
   ]
  },
  {
   "cell_type": "code",
   "execution_count": 306,
   "id": "0b0302b2",
   "metadata": {},
   "outputs": [],
   "source": [
    "for d in lan:\n",
    "    gen.append(d.text)"
   ]
  },
  {
   "cell_type": "code",
   "execution_count": 308,
   "id": "3812f967",
   "metadata": {},
   "outputs": [
    {
     "data": {
      "text/plain": [
       "100"
      ]
     },
     "execution_count": 308,
     "metadata": {},
     "output_type": "execute_result"
    }
   ],
   "source": [
    "len(gen)"
   ]
  },
  {
   "cell_type": "markdown",
   "id": "77b100e2",
   "metadata": {},
   "source": [
    "### Extracting Run time"
   ]
  },
  {
   "cell_type": "code",
   "execution_count": 309,
   "id": "66451ede",
   "metadata": {},
   "outputs": [],
   "source": [
    "run=[]"
   ]
  },
  {
   "cell_type": "code",
   "execution_count": 310,
   "id": "8f275538",
   "metadata": {},
   "outputs": [
    {
     "data": {
      "text/plain": [
       "100"
      ]
     },
     "execution_count": 310,
     "metadata": {},
     "output_type": "execute_result"
    }
   ],
   "source": [
    "lan = driver.find_elements_by_xpath('//span[@class=\"runtime\"]')\n",
    "len(lan)"
   ]
  },
  {
   "cell_type": "code",
   "execution_count": 311,
   "id": "7d1f3ef2",
   "metadata": {},
   "outputs": [],
   "source": [
    "for d in lan:\n",
    "    run.append(d.text)"
   ]
  },
  {
   "cell_type": "code",
   "execution_count": 313,
   "id": "ef949d80",
   "metadata": {},
   "outputs": [
    {
     "data": {
      "text/plain": [
       "100"
      ]
     },
     "execution_count": 313,
     "metadata": {},
     "output_type": "execute_result"
    }
   ],
   "source": [
    "len(run)"
   ]
  },
  {
   "cell_type": "code",
   "execution_count": 318,
   "id": "25fbe1a4",
   "metadata": {},
   "outputs": [
    {
     "data": {
      "text/plain": [
       "'8.6'"
      ]
     },
     "execution_count": 318,
     "metadata": {},
     "output_type": "execute_result"
    }
   ],
   "source": [
    "n[99][2]"
   ]
  },
  {
   "cell_type": "markdown",
   "id": "84790997",
   "metadata": {},
   "source": [
    "### Extracting Rating"
   ]
  },
  {
   "cell_type": "code",
   "execution_count": 319,
   "id": "f32338c1",
   "metadata": {},
   "outputs": [],
   "source": [
    "i=0\n",
    "rate=[]\n",
    "leng= len(n)"
   ]
  },
  {
   "cell_type": "code",
   "execution_count": 320,
   "id": "df97c4e5",
   "metadata": {},
   "outputs": [],
   "source": [
    "while i < leng:\n",
    "    rate.append(n[i][2])\n",
    "    i=i+1"
   ]
  },
  {
   "cell_type": "code",
   "execution_count": 322,
   "id": "20a292d2",
   "metadata": {},
   "outputs": [
    {
     "data": {
      "text/plain": [
       "100"
      ]
     },
     "execution_count": 322,
     "metadata": {},
     "output_type": "execute_result"
    }
   ],
   "source": [
    "len(rate)"
   ]
  },
  {
   "cell_type": "markdown",
   "id": "af8a23e1",
   "metadata": {},
   "source": [
    "### Extracting Upvote"
   ]
  },
  {
   "cell_type": "code",
   "execution_count": 332,
   "id": "32b3f41b",
   "metadata": {},
   "outputs": [
    {
     "data": {
      "text/plain": [
       "'young boy disappears, his mother, a police chief and his friends must confront terrifying supernatural forces in order to get him back.'"
      ]
     },
     "execution_count": 332,
     "metadata": {},
     "output_type": "execute_result"
    }
   ],
   "source": [
    "n[1][-3][7:]"
   ]
  },
  {
   "cell_type": "code",
   "execution_count": 351,
   "id": "9c7365cf",
   "metadata": {},
   "outputs": [],
   "source": [
    "i=1\n",
    "vote=[]\n",
    "leng= len(n)"
   ]
  },
  {
   "cell_type": "code",
   "execution_count": 352,
   "id": "b8b17e2e",
   "metadata": {},
   "outputs": [],
   "source": [
    "vote.append(n[0][-3][6:])\n",
    "while i < leng:\n",
    "    vote.append(n[i][-1][6:])\n",
    "    i=i+1"
   ]
  },
  {
   "cell_type": "code",
   "execution_count": 353,
   "id": "7261671b",
   "metadata": {},
   "outputs": [
    {
     "data": {
      "text/plain": [
       "100"
      ]
     },
     "execution_count": 353,
     "metadata": {},
     "output_type": "execute_result"
    }
   ],
   "source": [
    "len(vote)"
   ]
  },
  {
   "cell_type": "markdown",
   "id": "a57b0d36",
   "metadata": {},
   "source": [
    "### Creating Final Dataset"
   ]
  },
  {
   "cell_type": "code",
   "execution_count": 356,
   "id": "23ae2865",
   "metadata": {},
   "outputs": [],
   "source": [
    "imdb = pd.DataFrame({'Movie Name' :name,'Year Span':year,'Genre':gen,'Run Time': run,'Rating':rate,'Upvote':vote })"
   ]
  },
  {
   "cell_type": "code",
   "execution_count": 357,
   "id": "1d48ec35",
   "metadata": {},
   "outputs": [
    {
     "data": {
      "text/html": [
       "<div>\n",
       "<style scoped>\n",
       "    .dataframe tbody tr th:only-of-type {\n",
       "        vertical-align: middle;\n",
       "    }\n",
       "\n",
       "    .dataframe tbody tr th {\n",
       "        vertical-align: top;\n",
       "    }\n",
       "\n",
       "    .dataframe thead th {\n",
       "        text-align: right;\n",
       "    }\n",
       "</style>\n",
       "<table border=\"1\" class=\"dataframe\">\n",
       "  <thead>\n",
       "    <tr style=\"text-align: right;\">\n",
       "      <th></th>\n",
       "      <th>Movie Name</th>\n",
       "      <th>Year Span</th>\n",
       "      <th>Genre</th>\n",
       "      <th>Run Time</th>\n",
       "      <th>Rating</th>\n",
       "      <th>Upvote</th>\n",
       "    </tr>\n",
       "  </thead>\n",
       "  <tbody>\n",
       "    <tr>\n",
       "      <th>0</th>\n",
       "      <td>Game of Thrones</td>\n",
       "      <td>(2011–2019)</td>\n",
       "      <td>Action, Adventure, Drama</td>\n",
       "      <td>57 min</td>\n",
       "      <td>9.3</td>\n",
       "      <td>1,966,074</td>\n",
       "    </tr>\n",
       "    <tr>\n",
       "      <th>1</th>\n",
       "      <td>Stranger Thi</td>\n",
       "      <td>(2016– )</td>\n",
       "      <td>Drama, Fantasy, Horror</td>\n",
       "      <td>51 min</td>\n",
       "      <td>8.7</td>\n",
       "      <td>973,571</td>\n",
       "    </tr>\n",
       "    <tr>\n",
       "      <th>2</th>\n",
       "      <td>The Walking Dead</td>\n",
       "      <td>(2010–2022)</td>\n",
       "      <td>Drama, Horror, Thriller</td>\n",
       "      <td>44 min</td>\n",
       "      <td>8.3</td>\n",
       "      <td>936,624</td>\n",
       "    </tr>\n",
       "    <tr>\n",
       "      <th>3</th>\n",
       "      <td>13 Reasons Why</td>\n",
       "      <td>(2017–2020)</td>\n",
       "      <td>Drama, Mystery, Thriller</td>\n",
       "      <td>60 min</td>\n",
       "      <td>7.6</td>\n",
       "      <td>280,179</td>\n",
       "    </tr>\n",
       "    <tr>\n",
       "      <th>4</th>\n",
       "      <td>The 100</td>\n",
       "      <td>(2014–2020)</td>\n",
       "      <td>Drama, Mystery, Sci-Fi</td>\n",
       "      <td>43 min</td>\n",
       "      <td>7.7</td>\n",
       "      <td>240,268</td>\n",
       "    </tr>\n",
       "    <tr>\n",
       "      <th>...</th>\n",
       "      <td>...</td>\n",
       "      <td>...</td>\n",
       "      <td>...</td>\n",
       "      <td>...</td>\n",
       "      <td>...</td>\n",
       "      <td>...</td>\n",
       "    </tr>\n",
       "    <tr>\n",
       "      <th>95</th>\n",
       "      <td>Reign</td>\n",
       "      <td>(2013–2017)</td>\n",
       "      <td>Drama, Fantasy</td>\n",
       "      <td>42 min</td>\n",
       "      <td>7.6</td>\n",
       "      <td>48,069</td>\n",
       "    </tr>\n",
       "    <tr>\n",
       "      <th>96</th>\n",
       "      <td>A Series of Unfortunate Events</td>\n",
       "      <td>(2017–2019)</td>\n",
       "      <td>Adventure, Comedy, Drama</td>\n",
       "      <td>50 min</td>\n",
       "      <td>7.8</td>\n",
       "      <td>58,770</td>\n",
       "    </tr>\n",
       "    <tr>\n",
       "      <th>97</th>\n",
       "      <td>Criminal Minds</td>\n",
       "      <td>(2005–2020)</td>\n",
       "      <td>Crime, Drama, Mystery</td>\n",
       "      <td>42 min</td>\n",
       "      <td>8.2</td>\n",
       "      <td>186,935</td>\n",
       "    </tr>\n",
       "    <tr>\n",
       "      <th>98</th>\n",
       "      <td>Scream: The TV Series</td>\n",
       "      <td>(2015–2019)</td>\n",
       "      <td>Comedy, Crime, Drama</td>\n",
       "      <td>45 min</td>\n",
       "      <td>7.1</td>\n",
       "      <td>39,634</td>\n",
       "    </tr>\n",
       "    <tr>\n",
       "      <th>99</th>\n",
       "      <td>. The Haunting of Hill</td>\n",
       "      <td>(2018)</td>\n",
       "      <td>Drama, Horror, Mystery</td>\n",
       "      <td>572 min</td>\n",
       "      <td>8.6</td>\n",
       "      <td>223,598</td>\n",
       "    </tr>\n",
       "  </tbody>\n",
       "</table>\n",
       "<p>100 rows × 6 columns</p>\n",
       "</div>"
      ],
      "text/plain": [
       "                         Movie Name    Year Span                     Genre  \\\n",
       "0                   Game of Thrones  (2011–2019)  Action, Adventure, Drama   \n",
       "1                      Stranger Thi     (2016– )    Drama, Fantasy, Horror   \n",
       "2                  The Walking Dead  (2010–2022)   Drama, Horror, Thriller   \n",
       "3                    13 Reasons Why  (2017–2020)  Drama, Mystery, Thriller   \n",
       "4                           The 100  (2014–2020)    Drama, Mystery, Sci-Fi   \n",
       "..                              ...          ...                       ...   \n",
       "95                            Reign  (2013–2017)            Drama, Fantasy   \n",
       "96   A Series of Unfortunate Events  (2017–2019)  Adventure, Comedy, Drama   \n",
       "97                   Criminal Minds  (2005–2020)     Crime, Drama, Mystery   \n",
       "98            Scream: The TV Series  (2015–2019)      Comedy, Crime, Drama   \n",
       "99          . The Haunting of Hill        (2018)    Drama, Horror, Mystery   \n",
       "\n",
       "   Run Time Rating      Upvote  \n",
       "0    57 min    9.3   1,966,074  \n",
       "1    51 min    8.7     973,571  \n",
       "2    44 min    8.3     936,624  \n",
       "3    60 min    7.6     280,179  \n",
       "4    43 min    7.7     240,268  \n",
       "..      ...    ...         ...  \n",
       "95   42 min    7.6      48,069  \n",
       "96   50 min    7.8      58,770  \n",
       "97   42 min    8.2     186,935  \n",
       "98   45 min    7.1      39,634  \n",
       "99  572 min    8.6     223,598  \n",
       "\n",
       "[100 rows x 6 columns]"
      ]
     },
     "execution_count": 357,
     "metadata": {},
     "output_type": "execute_result"
    }
   ],
   "source": [
    "imdb"
   ]
  },
  {
   "cell_type": "markdown",
   "id": "c873c6bb",
   "metadata": {},
   "source": [
    "# Question 10"
   ]
  },
  {
   "cell_type": "code",
   "execution_count": 469,
   "id": "47b9a657",
   "metadata": {},
   "outputs": [],
   "source": [
    "url ='https://archive.ics.uci.edu/'\n",
    "driver.get(url)"
   ]
  },
  {
   "cell_type": "code",
   "execution_count": 470,
   "id": "82e81be1",
   "metadata": {},
   "outputs": [],
   "source": [
    "cl = driver.find_element_by_xpath('/html/body/table[1]/tbody/tr/td[2]/span[2]/a')\n",
    "cl.click()"
   ]
  },
  {
   "cell_type": "code",
   "execution_count": 471,
   "id": "a1cc5187",
   "metadata": {},
   "outputs": [],
   "source": [
    "current_url=driver.current_url"
   ]
  },
  {
   "cell_type": "code",
   "execution_count": 472,
   "id": "ad7a6b6a",
   "metadata": {},
   "outputs": [],
   "source": [
    "page = requests.get(current_url)\n"
   ]
  },
  {
   "cell_type": "code",
   "execution_count": 473,
   "id": "de9b060a",
   "metadata": {},
   "outputs": [
    {
     "data": {
      "text/plain": [
       "<!DOCTYPE HTML>\n",
       "<html><body><p>\"-//W3C//DTD HTML 4.01 Transitional//EN\\\"&gt;\n",
       "\n",
       "</p>\n",
       "<title>UCI Machine Learning Repository: Data Sets</title>\n",
       "<!-- Stylesheet link -->\n",
       "<link href=\"assets/ml.css\" rel=\"stylesheet\" type=\"text/css\"/>\n",
       "<script language=\"JavaScript\" type=\"text/javascript\">\n",
       "<!--\n",
       "function checkform ( form )\n",
       "{\n",
       "  // see http://www.thesitewizard.com/archive/validation.shtml\n",
       "  // for an explanation of this script and how to use it on your\n",
       "  // own website\n",
       "\n",
       "  // ** START **\n",
       "  if (form.q.value == \"\")\n",
       "  {\n",
       "    alert( \"Please enter search terms.\" );\n",
       "    form.q.focus();\n",
       "    return false ;\n",
       "  }\n",
       "\n",
       "  if (getCheckedValue(form.sitesearch) == \"ics.uci.edu\" && form.q.value.indexOf(\"site:archive.ics.uci.edu/ml\") == -1)\n",
       "  {\n",
       "    form.q.value = form.q.value + \" site:archive.ics.uci.edu/ml\";\n",
       "  }\n",
       "\n",
       "  // ** END **\n",
       "  return true ;\n",
       "}\n",
       "\n",
       "// return the value of the radio button that is checked\n",
       "// return an empty string if none are checked, or\n",
       "// there are no radio buttons\n",
       "function getCheckedValue(radioObj) {\n",
       "\tif(!radioObj)\n",
       "\t\treturn \"\";\n",
       "\tvar radioLength = radioObj.length;\n",
       "\tif(radioLength == undefined)\n",
       "\t\tif(radioObj.checked)\n",
       "\t\t\treturn radioObj.value;\n",
       "\t\telse\n",
       "\t\t\treturn \"\";\n",
       "\tfor(var i = 0; i < radioLength; i++) {\n",
       "\t\tif(radioObj[i].checked) {\n",
       "\t\t\treturn radioObj[i].value;\n",
       "\t\t}\n",
       "\t}\n",
       "\treturn \"\";\n",
       "}\n",
       "\n",
       "\n",
       "\n",
       "\n",
       "\n",
       "//-->\n",
       "</script>\n",
       "<!-- SITE HEADER (INCLUDES LOGO AND SEARCH BOX) -->\n",
       "<!-- SITE HEADER (INCLUDES LOGO AND SEARCH BOX) -->\n",
       "<table bgcolor=\"#003366\" width=\"100%\">\n",
       "<tr>\n",
       "<td>\n",
       "<span class=\"normal\"><a alt=\"Home\" href=\"index.html\"><img border=\"0\" src=\"assets/logo.gif\"/></a><br/>         <a href=\"http://cml.ics.uci.edu\"><font color=\"FFDD33\">Center for Machine Learning and Intelligent Systems</font></a></span>\n",
       "</td>\n",
       "<td align=\"right\" valign=\"top\" width=\"100%\">\n",
       "<span class=\"whitetext\">\n",
       "<a href=\"about.html\">About</a> \n",
       "\t\t<a href=\"citation_policy.html\">Citation Policy</a> \n",
       "\t\t<a href=\"donation_policy.html\">Donate a Data Set</a> \n",
       "\t\t<a href=\"contact.html\">Contact</a>\n",
       "</span>\n",
       "<br/>\n",
       "<br/>\n",
       "<!-- Search Google -->\n",
       "<form action=\"https://www.google.com/custom\" method=\"GET\" onsubmit=\"return checkform(this);\">\n",
       "<input maxlength=\"255\" name=\"q\" size=\"30\" type=\"text\" value=\"\"/>\n",
       "<input name=\"sa\" type=\"submit\" value=\"Search\"/>\n",
       "<input name=\"cof\" type=\"hidden\" value=\"AH:center;LH:130;L:http://archive.ics.uci.edu/assets/logo.gif;LW:384;AWFID:869c0b2eaa8d518e;\"/>\n",
       "<input name=\"domains\" type=\"hidden\" value=\"ics.uci.edu\"/>\n",
       "<br/>\n",
       "<input checked=\"\" name=\"sitesearch\" type=\"radio\" value=\"ics.uci.edu\"/> <span class=\"whitetext\"><font size=\"1\">Repository</font></span>\n",
       "<input name=\"sitesearch\" type=\"radio\" value=\"\"/> <span class=\"whitetext\"><font size=\"1\">Web</font></span>\n",
       "\t\t          \n",
       "\t\t<a href=\"https://www.google.com/search\"><img align=\"middle\" alt=\"Google\" border=\"0\" height=\"27\" src=\"https://www.google.com/logos/Logo_25blk.gif\"/></a>\n",
       "<br/>\n",
       "</form>\n",
       "<!-- Search Google -->\n",
       "<span class=\"whitetext\"><a href=\"datasets.php\"><font color=\"#FFDD33\" size=\"3\"><b>View ALL Data Sets</b></font></a></span>\n",
       "<br/>\n",
       "</td>\n",
       "</tr>\n",
       "</table>\n",
       "<br/>\n",
       "<div style=\"background-color:#6E4100; color:white; padding:20px; margin-bottom:8px\">\n",
       "<span onclick=\"this.parentElement.style.display='none';\" style=\"float:right; cursor:pointer; margin-left: 8px; font-size:x-large; line-height:16px\"><strong>×</strong></span>\n",
       "\t  Check out the <a href=\"https://archive-beta.ics.uci.edu/\" style=\"color:white\" target=\"_blank\">beta version</a> of the new UCI Machine Learning Repository we are currently testing! <a href=\"https://archive-beta.ics.uci.edu/ml/contact\" style=\"color:white\" target=\"_blank\">Contact us</a> if you have any issues, questions, or concerns. <a href=\"https://archive-beta.ics.uci.edu/\" style=\"color:white\" target=\"_blank\">Click here to try out the new site</a>.\n",
       "</div>\n",
       "<table cellpadding=\"3\">\n",
       "<tr>\n",
       "<td valign=\"top\">\n",
       "<table><tr><td><p align=\"center\" class=\"big\">Browse Through:</p></td></tr></table>\n",
       "<table border=\"2\" cellpadding=\"2\" width=\"150\">\n",
       "<tr> <td bgcolor=\"#003366\"><p class=\"whitetext\"><b>Default Task</b> </p>\n",
       "</td>\n",
       "</tr>\n",
       "<tr>\n",
       "<td valign=\"top\"><p class=\"normal\"><a href=\"datasets.php?format=&amp;task=cla&amp;att=&amp;area=&amp;numAtt=&amp;numIns=&amp;type=&amp;sort=nameUp&amp;view=table\">Classification</a> <font color=\"red\">(466)</font><br/><a href=\"datasets.php?format=&amp;task=reg&amp;att=&amp;area=&amp;numAtt=&amp;numIns=&amp;type=&amp;sort=nameUp&amp;view=table\">Regression</a> <font color=\"red\">(151)</font><br/><a href=\"datasets.php?format=&amp;task=clu&amp;att=&amp;area=&amp;numAtt=&amp;numIns=&amp;type=&amp;sort=nameUp&amp;view=table\">Clustering</a> <font color=\"red\">(121)</font><br/><a href=\"datasets.php?format=&amp;task=other&amp;att=&amp;area=&amp;numAtt=&amp;numIns=&amp;type=&amp;sort=nameUp&amp;view=table\">Other</a> <font color=\"red\">(56)</font> </p>\n",
       "</td>\n",
       "</tr>\n",
       "<tr> <td bgcolor=\"#003366\"><p class=\"whitetext\"><b>Attribute Type</b> </p>\n",
       "</td>\n",
       "</tr>\n",
       "<tr>\n",
       "<td valign=\"top\"><p class=\"normal\"><a href=\"datasets.php?format=&amp;task=&amp;att=cat&amp;area=&amp;numAtt=&amp;numIns=&amp;type=&amp;sort=nameUp&amp;view=table\">Categorical</a> <font color=\"red\">(38)</font><br/><a href=\"datasets.php?format=&amp;task=&amp;att=num&amp;area=&amp;numAtt=&amp;numIns=&amp;type=&amp;sort=nameUp&amp;view=table\">Numerical</a> <font color=\"red\">(422)</font><br/><a href=\"datasets.php?format=&amp;task=&amp;att=mix&amp;area=&amp;numAtt=&amp;numIns=&amp;type=&amp;sort=nameUp&amp;view=table\">Mixed</a> <font color=\"red\">(55)</font> </p>\n",
       "</td>\n",
       "</tr>\n",
       "<tr> <td bgcolor=\"#003366\"><p class=\"whitetext\"><b>Data Type</b> </p>\n",
       "</td>\n",
       "</tr>\n",
       "<tr>\n",
       "<td valign=\"top\"><p class=\"normal\"><a href=\"datasets.php?format=&amp;task=&amp;att=&amp;area=&amp;numAtt=&amp;numIns=&amp;type=mvar&amp;sort=nameUp&amp;view=table\">Multivariate</a> <font color=\"red\">(480)</font><br/><a href=\"datasets.php?format=&amp;task=&amp;att=&amp;area=&amp;numAtt=&amp;numIns=&amp;type=uvar&amp;sort=nameUp&amp;view=table\">Univariate</a> <font color=\"red\">(30)</font><br/><a href=\"datasets.php?format=&amp;task=&amp;att=&amp;area=&amp;numAtt=&amp;numIns=&amp;type=seq&amp;sort=nameUp&amp;view=table\">Sequential</a> <font color=\"red\">(59)</font><br/><a href=\"datasets.php?format=&amp;task=&amp;att=&amp;area=&amp;numAtt=&amp;numIns=&amp;type=ts&amp;sort=nameUp&amp;view=table\">Time-Series</a> <font color=\"red\">(126)</font><br/><a href=\"datasets.php?format=&amp;task=&amp;att=&amp;area=&amp;numAtt=&amp;numIns=&amp;type=text&amp;sort=nameUp&amp;view=table\">Text</a> <font color=\"red\">(69)</font><br/><a href=\"datasets.php?format=&amp;task=&amp;att=&amp;area=&amp;numAtt=&amp;numIns=&amp;type=dt&amp;sort=nameUp&amp;view=table\">Domain-Theory</a> <font color=\"red\">(23)</font><br/><a href=\"datasets.php?format=&amp;task=&amp;att=&amp;area=&amp;numAtt=&amp;numIns=&amp;type=other&amp;sort=nameUp&amp;view=table\">Other</a> <font color=\"red\">(21)</font><br/> </p>\n",
       "</td>\n",
       "</tr>\n",
       "<tr><td bgcolor=\"#003366\"><p class=\"whitetext\"><b>Area</b> </p>\n",
       "</td>\n",
       "</tr>\n",
       "<tr>\n",
       "<td valign=\"top\"><p class=\"normal\"><a href=\"datasets.php?format=&amp;task=&amp;att=&amp;area=life&amp;numAtt=&amp;numIns=&amp;type=&amp;sort=nameUp&amp;view=table\">Life Sciences</a> <font color=\"red\">(147)</font><br/><a href=\"datasets.php?format=&amp;task=&amp;att=&amp;area=phys&amp;numAtt=&amp;numIns=&amp;type=&amp;sort=nameUp&amp;view=table\">Physical Sciences</a> <font color=\"red\">(57)</font><br/><a href=\"datasets.php?format=&amp;task=&amp;att=&amp;area=comp&amp;numAtt=&amp;numIns=&amp;type=&amp;sort=nameUp&amp;view=table\">CS / Engineering</a> <font color=\"red\">(234)</font><br/><a href=\"datasets.php?format=&amp;task=&amp;att=&amp;area=soc&amp;numAtt=&amp;numIns=&amp;type=&amp;sort=nameUp&amp;view=table\">Social Sciences</a> <font color=\"red\">(41)</font><br/><a href=\"datasets.php?format=&amp;task=&amp;att=&amp;area=bus&amp;numAtt=&amp;numIns=&amp;type=&amp;sort=nameUp&amp;view=table\">Business</a> <font color=\"red\">(45)</font><br/><a href=\"datasets.php?format=&amp;task=&amp;att=&amp;area=game&amp;numAtt=&amp;numIns=&amp;type=&amp;sort=nameUp&amp;view=table\">Game</a> <font color=\"red\">(12)</font><br/><a href=\"datasets.php?format=&amp;task=&amp;att=&amp;area=other&amp;numAtt=&amp;numIns=&amp;type=&amp;sort=nameUp&amp;view=table\">Other</a> <font color=\"red\">(81)</font> </p>\n",
       "</td>\n",
       "</tr>\n",
       "<tr><td bgcolor=\"#003366\"><p class=\"whitetext\"><b># Attributes</b> </p>\n",
       "</td>\n",
       "</tr>\n",
       "<tr>\n",
       "<td valign=\"top\"><p class=\"normal\"><a href=\"datasets.php?format=&amp;task=&amp;att=&amp;area=&amp;numAtt=less10&amp;numIns=&amp;type=&amp;sort=nameUp&amp;view=table\">Less than 10</a> <font color=\"red\">(166)</font><br/><a href=\"datasets.php?format=&amp;task=&amp;att=&amp;area=&amp;numAtt=10to100&amp;numIns=&amp;type=&amp;sort=nameUp&amp;view=table\">10 to 100</a> <font color=\"red\">(279)</font><br/><a href=\"datasets.php?format=&amp;task=&amp;att=&amp;area=&amp;numAtt=greater100&amp;numIns=&amp;type=&amp;sort=nameUp&amp;view=table\">Greater than 100</a> <font color=\"red\">(110)</font> </p>\n",
       "</td>\n",
       "</tr>\n",
       "<tr><td bgcolor=\"#003366\"><p class=\"whitetext\"><b># Instances</b></p></td>\n",
       "</tr>\n",
       "<tr>\n",
       "<td valign=\"top\"><p class=\"normal\">\n",
       "<a href=\"datasets.php?format=&amp;task=&amp;att=&amp;area=&amp;numAtt=&amp;numIns=less100&amp;type=&amp;sort=nameUp&amp;view=table\">Less than 100</a> <font color=\"red\">(38)</font><br/><a href=\"datasets.php?format=&amp;task=&amp;att=&amp;area=&amp;numAtt=&amp;numIns=100to1000&amp;type=&amp;sort=nameUp&amp;view=table\">100 to 1000</a> <font color=\"red\">(210)</font><br/><a href=\"datasets.php?format=&amp;task=&amp;att=&amp;area=&amp;numAtt=&amp;numIns=greater1000&amp;type=&amp;sort=nameUp&amp;view=table\">Greater than 1000</a> <font color=\"red\">(339)</font> </p>\n",
       "</td>\n",
       "</tr>\n",
       "<tr><td bgcolor=\"#003366\"><p class=\"whitetext\"><b>Format Type</b> </p>\n",
       "</td>\n",
       "</tr>\n",
       "<tr>\n",
       "<td valign=\"top\"><p class=\"normal\"><a href=\"datasets.php?format=mat&amp;task=&amp;att=&amp;area=&amp;numAtt=&amp;numIns=&amp;type=&amp;sort=nameUp&amp;view=table\">Matrix</a> <font color=\"red\">(439)</font><br/><a href=\"datasets.php?format=nonmat&amp;task=&amp;att=&amp;area=&amp;numAtt=&amp;numIns=&amp;type=&amp;sort=nameUp&amp;view=table\">Non-Matrix</a> <font color=\"red\">(183)</font> </p>\n",
       "</td>\n",
       "</tr></table>\n",
       "</td>\n",
       "<td valign=\"top\">\n",
       "<table width=\"100%\">\n",
       "<tr>\n",
       "<td><p class=\"big\"><b>622</b> Data Sets</p></td>\n",
       "<td align=\"right\"><p class=\"normal\"><font color=\"gray\">Table View</font>  <a href=\"datasets.php?format=&amp;task=&amp;att=&amp;area=&amp;numAtt=&amp;numIns=&amp;type=&amp;sort=nameUp&amp;view=list\">List View</a></p></td>\n",
       "</tr>\n",
       "</table><table border=\"1\" cellpadding=\"5\"><tr bgcolor=\"#003366\">\n",
       "<td class=\"normal, whitetext\"><p class=\"normal, whitetext\"><a href=\"datasets.php?format=&amp;task=&amp;att=&amp;area=&amp;numAtt=&amp;numIns=&amp;type=&amp;sort=nameDown&amp;view=table\"><b>Name</b></a></p></td>\n",
       "<!-- <td><p class=\"normal, whitetext\"><b>Abstract</b></p></td> -->\n",
       "<td><p class=\"normal, whitetext\"><a href=\"datasets.php?format=&amp;task=&amp;att=&amp;area=&amp;numAtt=&amp;numIns=&amp;type=&amp;sort=typeUp&amp;view=table\"><b>Data Types</b></a></p></td>\n",
       "<td><p class=\"normal, whitetext\"><a href=\"datasets.php?format=&amp;task=&amp;att=&amp;area=&amp;numAtt=&amp;numIns=&amp;type=&amp;sort=taskUp&amp;view=table\"><b>Default Task</b></a></p></td>\n",
       "<td><p class=\"normal, whitetext\"><a href=\"datasets.php?format=&amp;task=&amp;att=&amp;area=&amp;numAtt=&amp;numIns=&amp;type=&amp;sort=attTypeUp&amp;view=table\"><b>Attribute Types</b></a></p></td>\n",
       "<td><p class=\"normal, whitetext\"><a href=\"datasets.php?format=&amp;task=&amp;att=&amp;area=&amp;numAtt=&amp;numIns=&amp;type=&amp;sort=instUp&amp;view=table\"><b># Instances</b></a></p></td>\n",
       "<td><p class=\"normal, whitetext\"><a href=\"datasets.php?format=&amp;task=&amp;att=&amp;area=&amp;numAtt=&amp;numIns=&amp;type=&amp;sort=attUp&amp;view=table\"><b># Attributes</b></a></p></td>\n",
       "<td><p class=\"normal, whitetext\"><a href=\"datasets.php?format=&amp;task=&amp;att=&amp;area=&amp;numAtt=&amp;numIns=&amp;type=&amp;sort=dateUp&amp;view=table\"><b>Year</b></a></p></td>\n",
       "<!-- <td><p class=\"normal, whitetext\"><b>Area</b></p></td> -->\n",
       "</tr><tr>\n",
       "<td><table><tr><td><a href=\"datasets/Abalone\"><img border=\"1\" src=\"assets/MLimages/SmallLarge1.jpg\"/></a> </td><td><p class=\"normal\"><b><a href=\"datasets/Abalone\">Abalone</a></b></p></td></tr></table></td>\n",
       "<!-- <td><p class=\"normal\">Predict the age of abalone from physical measurements&nbsp;</p></td> -->\n",
       "<td><p class=\"normal\">Multivariate </p></td>\n",
       "<td><p class=\"normal\">Classification </p></td>\n",
       "<td><p class=\"normal\">Categorical, Integer, Real </p></td>\n",
       "<td><p class=\"normal\">4177 </p></td>\n",
       "<td><p class=\"normal\">8 </p></td>\n",
       "<td><p class=\"normal\">1995 </p></td>\n",
       "<!-- <td><p class=\"normal\">Life&nbsp;</p></td> -->\n",
       "</tr><tr bgcolor=\"DDEEFF\">\n",
       "<td><table><tr><td><a href=\"datasets/Adult\"><img border=\"1\" src=\"assets/MLimages/SmallLarge2.jpg\"/></a> </td><td><p class=\"normal\"><b><a href=\"datasets/Adult\">Adult</a></b></p></td></tr></table></td>\n",
       "<!-- <td><p class=\"normal\">Predict whether income exceeds $50K/yr based on census data.  Also known as \"Census Income\" dataset.&nbsp;</p></td> -->\n",
       "<td><p class=\"normal\">Multivariate </p></td>\n",
       "<td><p class=\"normal\">Classification </p></td>\n",
       "<td><p class=\"normal\">Categorical, Integer </p></td>\n",
       "<td><p class=\"normal\">48842 </p></td>\n",
       "<td><p class=\"normal\">14 </p></td>\n",
       "<td><p class=\"normal\">1996 </p></td>\n",
       "<!-- <td><p class=\"normal\">Social&nbsp;</p></td> -->\n",
       "</tr><tr>\n",
       "<td><table><tr><td><a href=\"datasets/Annealing\"><img border=\"1\" src=\"assets/MLimages/SmallLargedefault.jpg\"/></a> </td><td><p class=\"normal\"><b><a href=\"datasets/Annealing\">Annealing</a></b></p></td></tr></table></td>\n",
       "<!-- <td><p class=\"normal\">Steel annealing data&nbsp;</p></td> -->\n",
       "<td><p class=\"normal\">Multivariate </p></td>\n",
       "<td><p class=\"normal\">Classification </p></td>\n",
       "<td><p class=\"normal\">Categorical, Integer, Real </p></td>\n",
       "<td><p class=\"normal\">798 </p></td>\n",
       "<td><p class=\"normal\">38 </p></td>\n",
       "<td><p class=\"normal\"> </p></td>\n",
       "<!-- <td><p class=\"normal\">Physical&nbsp;</p></td> -->\n",
       "</tr><tr bgcolor=\"DDEEFF\">\n",
       "<td><table><tr><td><a href=\"datasets/Anonymous+Microsoft+Web+Data\"><img border=\"1\" src=\"assets/MLimages/SmallLargedefault.jpg\"/></a> </td><td><p class=\"normal\"><b><a href=\"datasets/Anonymous+Microsoft+Web+Data\">Anonymous Microsoft Web Data</a></b></p></td></tr></table></td>\n",
       "<!-- <td><p class=\"normal\">Log of anonymous users of www.microsoft.com; predict areas of the web site a user visited based on data on other areas the user visited.&nbsp;</p></td> -->\n",
       "<td><p class=\"normal\"> </p></td>\n",
       "<td><p class=\"normal\">Recommender-Systems </p></td>\n",
       "<td><p class=\"normal\">Categorical </p></td>\n",
       "<td><p class=\"normal\">37711 </p></td>\n",
       "<td><p class=\"normal\">294 </p></td>\n",
       "<td><p class=\"normal\">1998 </p></td>\n",
       "<!-- <td><p class=\"normal\">Computer&nbsp;</p></td> -->\n",
       "</tr><tr>\n",
       "<td><table><tr><td><a href=\"datasets/Arrhythmia\"><img border=\"1\" src=\"assets/MLimages/SmallLarge5.jpg\"/></a> </td><td><p class=\"normal\"><b><a href=\"datasets/Arrhythmia\">Arrhythmia</a></b></p></td></tr></table></td>\n",
       "<!-- <td><p class=\"normal\">Distinguish between the presence and absence of cardiac arrhythmia and classify it in one of the 16 groups.&nbsp;</p></td> -->\n",
       "<td><p class=\"normal\">Multivariate </p></td>\n",
       "<td><p class=\"normal\">Classification </p></td>\n",
       "<td><p class=\"normal\">Categorical, Integer, Real </p></td>\n",
       "<td><p class=\"normal\">452 </p></td>\n",
       "<td><p class=\"normal\">279 </p></td>\n",
       "<td><p class=\"normal\">1998 </p></td>\n",
       "<!-- <td><p class=\"normal\">Life&nbsp;</p></td> -->\n",
       "</tr><tr bgcolor=\"DDEEFF\">\n",
       "<td><table><tr><td><a href=\"datasets/Artificial+Characters\"><img border=\"1\" src=\"assets/MLimages/SmallLarge6.jpg\"/></a> </td><td><p class=\"normal\"><b><a href=\"datasets/Artificial+Characters\">Artificial Characters</a></b></p></td></tr></table></td>\n",
       "<!-- <td><p class=\"normal\">Dataset artificially generated by using first order theory which describes structure of ten capital letters of English alphabet&nbsp;</p></td> -->\n",
       "<td><p class=\"normal\">Multivariate </p></td>\n",
       "<td><p class=\"normal\">Classification </p></td>\n",
       "<td><p class=\"normal\">Categorical, Integer, Real </p></td>\n",
       "<td><p class=\"normal\">6000 </p></td>\n",
       "<td><p class=\"normal\">7 </p></td>\n",
       "<td><p class=\"normal\">1992 </p></td>\n",
       "<!-- <td><p class=\"normal\">Computer&nbsp;</p></td> -->\n",
       "</tr><tr>\n",
       "<td><table><tr><td><a href=\"datasets/Audiology+%28Original%29\"><img border=\"1\" src=\"assets/MLimages/SmallLarge7.jpg\"/></a> </td><td><p class=\"normal\"><b><a href=\"datasets/Audiology+%28Original%29\">Audiology (Original)</a></b></p></td></tr></table></td>\n",
       "<!-- <td><p class=\"normal\">Nominal audiology dataset from Baylor&nbsp;</p></td> -->\n",
       "<td><p class=\"normal\">Multivariate </p></td>\n",
       "<td><p class=\"normal\">Classification </p></td>\n",
       "<td><p class=\"normal\">Categorical </p></td>\n",
       "<td><p class=\"normal\">226 </p></td>\n",
       "<td><p class=\"normal\"> </p></td>\n",
       "<td><p class=\"normal\">1987 </p></td>\n",
       "<!-- <td><p class=\"normal\">Life&nbsp;</p></td> -->\n",
       "</tr><tr bgcolor=\"DDEEFF\">\n",
       "<td><table><tr><td><a href=\"datasets/Audiology+%28Standardized%29\"><img border=\"1\" src=\"assets/MLimages/SmallLarge7.jpg\"/></a> </td><td><p class=\"normal\"><b><a href=\"datasets/Audiology+%28Standardized%29\">Audiology (Standardized)</a></b></p></td></tr></table></td>\n",
       "<!-- <td><p class=\"normal\">Standardized version of the original audiology database&nbsp;</p></td> -->\n",
       "<td><p class=\"normal\">Multivariate </p></td>\n",
       "<td><p class=\"normal\">Classification </p></td>\n",
       "<td><p class=\"normal\">Categorical </p></td>\n",
       "<td><p class=\"normal\">226 </p></td>\n",
       "<td><p class=\"normal\">69 </p></td>\n",
       "<td><p class=\"normal\">1992 </p></td>\n",
       "<!-- <td><p class=\"normal\">Life&nbsp;</p></td> -->\n",
       "</tr><tr>\n",
       "<td><table><tr><td><a href=\"datasets/Auto+MPG\"><img border=\"1\" src=\"assets/MLimages/SmallLarge9.jpg\"/></a> </td><td><p class=\"normal\"><b><a href=\"datasets/Auto+MPG\">Auto MPG</a></b></p></td></tr></table></td>\n",
       "<!-- <td><p class=\"normal\">Revised from CMU StatLib library, data concerns city-cycle fuel consumption&nbsp;</p></td> -->\n",
       "<td><p class=\"normal\">Multivariate </p></td>\n",
       "<td><p class=\"normal\">Regression </p></td>\n",
       "<td><p class=\"normal\">Categorical, Real </p></td>\n",
       "<td><p class=\"normal\">398 </p></td>\n",
       "<td><p class=\"normal\">8 </p></td>\n",
       "<td><p class=\"normal\">1993 </p></td>\n",
       "<!-- <td><p class=\"normal\">Other&nbsp;</p></td> -->\n",
       "</tr><tr bgcolor=\"DDEEFF\">\n",
       "<td><table><tr><td><a href=\"datasets/Automobile\"><img border=\"1\" src=\"assets/MLimages/SmallLarge10.jpg\"/></a> </td><td><p class=\"normal\"><b><a href=\"datasets/Automobile\">Automobile</a></b></p></td></tr></table></td>\n",
       "<!-- <td><p class=\"normal\">From 1985 Ward's Automotive Yearbook&nbsp;</p></td> -->\n",
       "<td><p class=\"normal\">Multivariate </p></td>\n",
       "<td><p class=\"normal\">Regression </p></td>\n",
       "<td><p class=\"normal\">Categorical, Integer, Real </p></td>\n",
       "<td><p class=\"normal\">205 </p></td>\n",
       "<td><p class=\"normal\">26 </p></td>\n",
       "<td><p class=\"normal\">1987 </p></td>\n",
       "<!-- <td><p class=\"normal\">Other&nbsp;</p></td> -->\n",
       "</tr><tr>\n",
       "<td><table><tr><td><a href=\"datasets/Badges\"><img border=\"1\" src=\"assets/MLimages/SmallLargedefault.jpg\"/></a> </td><td><p class=\"normal\"><b><a href=\"datasets/Badges\">Badges</a></b></p></td></tr></table></td>\n",
       "<!-- <td><p class=\"normal\">Badges labeled with a \"+\" or \"-\" as a function of a person's name&nbsp;</p></td> -->\n",
       "<td><p class=\"normal\">Univariate, Text </p></td>\n",
       "<td><p class=\"normal\">Classification </p></td>\n",
       "<td><p class=\"normal\"> </p></td>\n",
       "<td><p class=\"normal\">294 </p></td>\n",
       "<td><p class=\"normal\">1 </p></td>\n",
       "<td><p class=\"normal\">1994 </p></td>\n",
       "<!-- <td><p class=\"normal\">Other&nbsp;</p></td> -->\n",
       "</tr><tr bgcolor=\"DDEEFF\">\n",
       "<td><table><tr><td><a href=\"datasets/Balance+Scale\"><img border=\"1\" src=\"assets/MLimages/SmallLarge12.jpg\"/></a> </td><td><p class=\"normal\"><b><a href=\"datasets/Balance+Scale\">Balance Scale</a></b></p></td></tr></table></td>\n",
       "<!-- <td><p class=\"normal\">Balance scale weight & distance database&nbsp;</p></td> -->\n",
       "<td><p class=\"normal\">Multivariate </p></td>\n",
       "<td><p class=\"normal\">Classification </p></td>\n",
       "<td><p class=\"normal\">Categorical </p></td>\n",
       "<td><p class=\"normal\">625 </p></td>\n",
       "<td><p class=\"normal\">4 </p></td>\n",
       "<td><p class=\"normal\">1994 </p></td>\n",
       "<!-- <td><p class=\"normal\">Social&nbsp;</p></td> -->\n",
       "</tr><tr>\n",
       "<td><table><tr><td><a href=\"datasets/Balloons\"><img border=\"1\" src=\"assets/MLimages/SmallLarge13.jpg\"/></a> </td><td><p class=\"normal\"><b><a href=\"datasets/Balloons\">Balloons</a></b></p></td></tr></table></td>\n",
       "<!-- <td><p class=\"normal\">Data previously used in cognitive psychology experiment; 4 data sets represent different conditions of an experiment&nbsp;</p></td> -->\n",
       "<td><p class=\"normal\">Multivariate </p></td>\n",
       "<td><p class=\"normal\">Classification </p></td>\n",
       "<td><p class=\"normal\">Categorical </p></td>\n",
       "<td><p class=\"normal\">16 </p></td>\n",
       "<td><p class=\"normal\">4 </p></td>\n",
       "<td><p class=\"normal\"> </p></td>\n",
       "<!-- <td><p class=\"normal\">Social&nbsp;</p></td> -->\n",
       "</tr><tr bgcolor=\"DDEEFF\">\n",
       "<td><table><tr><td><a href=\"datasets/Breast+Cancer\"><img border=\"1\" src=\"assets/MLimages/SmallLarge14.jpg\"/></a> </td><td><p class=\"normal\"><b><a href=\"datasets/Breast+Cancer\">Breast Cancer</a></b></p></td></tr></table></td>\n",
       "<!-- <td><p class=\"normal\">Breast Cancer Data (Restricted Access)&nbsp;</p></td> -->\n",
       "<td><p class=\"normal\">Multivariate </p></td>\n",
       "<td><p class=\"normal\">Classification </p></td>\n",
       "<td><p class=\"normal\">Categorical </p></td>\n",
       "<td><p class=\"normal\">286 </p></td>\n",
       "<td><p class=\"normal\">9 </p></td>\n",
       "<td><p class=\"normal\">1988 </p></td>\n",
       "<!-- <td><p class=\"normal\">Life&nbsp;</p></td> -->\n",
       "</tr><tr>\n",
       "<td><table><tr><td><a href=\"datasets/Breast+Cancer+Wisconsin+%28Original%29\"><img border=\"1\" src=\"assets/MLimages/SmallLarge14.jpg\"/></a> </td><td><p class=\"normal\"><b><a href=\"datasets/Breast+Cancer+Wisconsin+%28Original%29\">Breast Cancer Wisconsin (Original)</a></b></p></td></tr></table></td>\n",
       "<!-- <td><p class=\"normal\">Original Wisconsin Breast Cancer Database&nbsp;</p></td> -->\n",
       "<td><p class=\"normal\">Multivariate </p></td>\n",
       "<td><p class=\"normal\">Classification </p></td>\n",
       "<td><p class=\"normal\">Integer </p></td>\n",
       "<td><p class=\"normal\">699 </p></td>\n",
       "<td><p class=\"normal\">10 </p></td>\n",
       "<td><p class=\"normal\">1992 </p></td>\n",
       "<!-- <td><p class=\"normal\">Life&nbsp;</p></td> -->\n",
       "</tr><tr bgcolor=\"DDEEFF\">\n",
       "<td><table><tr><td><a href=\"datasets/Breast+Cancer+Wisconsin+%28Prognostic%29\"><img border=\"1\" src=\"assets/MLimages/SmallLarge14.jpg\"/></a> </td><td><p class=\"normal\"><b><a href=\"datasets/Breast+Cancer+Wisconsin+%28Prognostic%29\">Breast Cancer Wisconsin (Prognostic)</a></b></p></td></tr></table></td>\n",
       "<!-- <td><p class=\"normal\">Prognostic Wisconsin Breast Cancer Database&nbsp;</p></td> -->\n",
       "<td><p class=\"normal\">Multivariate </p></td>\n",
       "<td><p class=\"normal\">Classification, Regression </p></td>\n",
       "<td><p class=\"normal\">Real </p></td>\n",
       "<td><p class=\"normal\">198 </p></td>\n",
       "<td><p class=\"normal\">34 </p></td>\n",
       "<td><p class=\"normal\">1995 </p></td>\n",
       "<!-- <td><p class=\"normal\">Life&nbsp;</p></td> -->\n",
       "</tr><tr>\n",
       "<td><table><tr><td><a href=\"datasets/Breast+Cancer+Wisconsin+%28Diagnostic%29\"><img border=\"1\" src=\"assets/MLimages/SmallLarge14.jpg\"/></a> </td><td><p class=\"normal\"><b><a href=\"datasets/Breast+Cancer+Wisconsin+%28Diagnostic%29\">Breast Cancer Wisconsin (Diagnostic)</a></b></p></td></tr></table></td>\n",
       "<!-- <td><p class=\"normal\">Diagnostic Wisconsin Breast Cancer Database&nbsp;</p></td> -->\n",
       "<td><p class=\"normal\">Multivariate </p></td>\n",
       "<td><p class=\"normal\">Classification </p></td>\n",
       "<td><p class=\"normal\">Real </p></td>\n",
       "<td><p class=\"normal\">569 </p></td>\n",
       "<td><p class=\"normal\">32 </p></td>\n",
       "<td><p class=\"normal\">1995 </p></td>\n",
       "<!-- <td><p class=\"normal\">Life&nbsp;</p></td> -->\n",
       "</tr><tr bgcolor=\"DDEEFF\">\n",
       "<td><table><tr><td><a href=\"datasets/Pittsburgh+Bridges\"><img border=\"1\" src=\"assets/MLimages/SmallLarge18.jpg\"/></a> </td><td><p class=\"normal\"><b><a href=\"datasets/Pittsburgh+Bridges\">Pittsburgh Bridges</a></b></p></td></tr></table></td>\n",
       "<!-- <td><p class=\"normal\">Bridges database that has original and numeric-discretized datasets&nbsp;</p></td> -->\n",
       "<td><p class=\"normal\">Multivariate </p></td>\n",
       "<td><p class=\"normal\">Classification </p></td>\n",
       "<td><p class=\"normal\">Categorical, Integer </p></td>\n",
       "<td><p class=\"normal\">108 </p></td>\n",
       "<td><p class=\"normal\">13 </p></td>\n",
       "<td><p class=\"normal\">1990 </p></td>\n",
       "<!-- <td><p class=\"normal\">Other&nbsp;</p></td> -->\n",
       "</tr><tr>\n",
       "<td><table><tr><td><a href=\"datasets/Car+Evaluation\"><img border=\"1\" src=\"assets/MLimages/SmallLarge19.jpg\"/></a> </td><td><p class=\"normal\"><b><a href=\"datasets/Car+Evaluation\">Car Evaluation</a></b></p></td></tr></table></td>\n",
       "<!-- <td><p class=\"normal\">Derived from simple hierarchical decision model, this database may be useful for testing constructive induction and structure discovery methods.&nbsp;</p></td> -->\n",
       "<td><p class=\"normal\">Multivariate </p></td>\n",
       "<td><p class=\"normal\">Classification </p></td>\n",
       "<td><p class=\"normal\">Categorical </p></td>\n",
       "<td><p class=\"normal\">1728 </p></td>\n",
       "<td><p class=\"normal\">6 </p></td>\n",
       "<td><p class=\"normal\">1997 </p></td>\n",
       "<!-- <td><p class=\"normal\">Other&nbsp;</p></td> -->\n",
       "</tr><tr bgcolor=\"DDEEFF\">\n",
       "<td><table><tr><td><a href=\"datasets/Census+Income\"><img border=\"1\" src=\"assets/MLimages/SmallLarge2.jpg\"/></a> </td><td><p class=\"normal\"><b><a href=\"datasets/Census+Income\">Census Income</a></b></p></td></tr></table></td>\n",
       "<!-- <td><p class=\"normal\">Predict whether income exceeds $50K/yr based on census data.  Also known as \"Adult\" dataset.&nbsp;</p></td> -->\n",
       "<td><p class=\"normal\">Multivariate </p></td>\n",
       "<td><p class=\"normal\">Classification </p></td>\n",
       "<td><p class=\"normal\">Categorical, Integer </p></td>\n",
       "<td><p class=\"normal\">48842 </p></td>\n",
       "<td><p class=\"normal\">14 </p></td>\n",
       "<td><p class=\"normal\">1996 </p></td>\n",
       "<!-- <td><p class=\"normal\">Social&nbsp;</p></td> -->\n",
       "</tr><tr>\n",
       "<td><table><tr><td><a href=\"datasets/Chess+%28King-Rook+vs.+King-Knight%29\"><img border=\"1\" src=\"assets/MLimages/SmallLarge24.jpg\"/></a> </td><td><p class=\"normal\"><b><a href=\"datasets/Chess+%28King-Rook+vs.+King-Knight%29\">Chess (King-Rook vs. King-Knight)</a></b></p></td></tr></table></td>\n",
       "<!-- <td><p class=\"normal\">Knight Pin Chess End-Game Database Creator&nbsp;</p></td> -->\n",
       "<td><p class=\"normal\">Multivariate, Data-Generator </p></td>\n",
       "<td><p class=\"normal\">Classification </p></td>\n",
       "<td><p class=\"normal\">Categorical, Integer </p></td>\n",
       "<td><p class=\"normal\"> </p></td>\n",
       "<td><p class=\"normal\">22 </p></td>\n",
       "<td><p class=\"normal\">1988 </p></td>\n",
       "<!-- <td><p class=\"normal\">Game&nbsp;</p></td> -->\n",
       "</tr><tr bgcolor=\"DDEEFF\">\n",
       "<td><table><tr><td><a href=\"datasets/Chess+%28King-Rook+vs.+King-Pawn%29\"><img border=\"1\" src=\"assets/MLimages/SmallLarge24.jpg\"/></a> </td><td><p class=\"normal\"><b><a href=\"datasets/Chess+%28King-Rook+vs.+King-Pawn%29\">Chess (King-Rook vs. King-Pawn)</a></b></p></td></tr></table></td>\n",
       "<!-- <td><p class=\"normal\">King+Rook versus King+Pawn on a7 (usually abbreviated KRKPA7).&nbsp;</p></td> -->\n",
       "<td><p class=\"normal\">Multivariate </p></td>\n",
       "<td><p class=\"normal\">Classification </p></td>\n",
       "<td><p class=\"normal\">Categorical </p></td>\n",
       "<td><p class=\"normal\">3196 </p></td>\n",
       "<td><p class=\"normal\">36 </p></td>\n",
       "<td><p class=\"normal\">1989 </p></td>\n",
       "<!-- <td><p class=\"normal\">Game&nbsp;</p></td> -->\n",
       "</tr><tr>\n",
       "<td><table><tr><td><a href=\"datasets/Chess+%28King-Rook+vs.+King%29\"><img border=\"1\" src=\"assets/MLimages/SmallLarge24.jpg\"/></a> </td><td><p class=\"normal\"><b><a href=\"datasets/Chess+%28King-Rook+vs.+King%29\">Chess (King-Rook vs. King)</a></b></p></td></tr></table></td>\n",
       "<!-- <td><p class=\"normal\">Chess Endgame Database for White King and Rook against Black King (KRK).&nbsp;</p></td> -->\n",
       "<td><p class=\"normal\">Multivariate </p></td>\n",
       "<td><p class=\"normal\">Classification </p></td>\n",
       "<td><p class=\"normal\">Categorical, Integer </p></td>\n",
       "<td><p class=\"normal\">28056 </p></td>\n",
       "<td><p class=\"normal\">6 </p></td>\n",
       "<td><p class=\"normal\">1994 </p></td>\n",
       "<!-- <td><p class=\"normal\">Game&nbsp;</p></td> -->\n",
       "</tr><tr bgcolor=\"DDEEFF\">\n",
       "<td><table><tr><td><a href=\"datasets/Chess+%28Domain+Theories%29\"><img border=\"1\" src=\"assets/MLimages/SmallLarge24.jpg\"/></a> </td><td><p class=\"normal\"><b><a href=\"datasets/Chess+%28Domain+Theories%29\">Chess (Domain Theories)</a></b></p></td></tr></table></td>\n",
       "<!-- <td><p class=\"normal\">6 different domain theories for generating legal moves of chess&nbsp;</p></td> -->\n",
       "<td><p class=\"normal\">Domain-Theory </p></td>\n",
       "<td><p class=\"normal\"> </p></td>\n",
       "<td><p class=\"normal\"> </p></td>\n",
       "<td><p class=\"normal\"> </p></td>\n",
       "<td><p class=\"normal\"> </p></td>\n",
       "<td><p class=\"normal\"> </p></td>\n",
       "<!-- <td><p class=\"normal\">Game&nbsp;</p></td> -->\n",
       "</tr><tr>\n",
       "<td><table><tr><td><a href=\"datasets/Bach+Chorales\"><img border=\"1\" src=\"assets/MLimages/SmallLarge25.jpg\"/></a> </td><td><p class=\"normal\"><b><a href=\"datasets/Bach+Chorales\">Bach Chorales</a></b></p></td></tr></table></td>\n",
       "<!-- <td><p class=\"normal\">Time-series data based on chorales; challenge is to learn generative grammar; data in Lisp&nbsp;</p></td> -->\n",
       "<td><p class=\"normal\">Univariate, Time-Series </p></td>\n",
       "<td><p class=\"normal\"> </p></td>\n",
       "<td><p class=\"normal\">Categorical, Integer </p></td>\n",
       "<td><p class=\"normal\">100 </p></td>\n",
       "<td><p class=\"normal\">6 </p></td>\n",
       "<td><p class=\"normal\"> </p></td>\n",
       "<!-- <td><p class=\"normal\">Other&nbsp;</p></td> -->\n",
       "</tr><tr bgcolor=\"DDEEFF\">\n",
       "<td><table><tr><td><a href=\"datasets/Connect-4\"><img border=\"1\" src=\"assets/MLimages/SmallLargedefault.jpg\"/></a> </td><td><p class=\"normal\"><b><a href=\"datasets/Connect-4\">Connect-4</a></b></p></td></tr></table></td>\n",
       "<!-- <td><p class=\"normal\">Contains connect-4 positions&nbsp;</p></td> -->\n",
       "<td><p class=\"normal\">Multivariate, Spatial </p></td>\n",
       "<td><p class=\"normal\">Classification </p></td>\n",
       "<td><p class=\"normal\">Categorical </p></td>\n",
       "<td><p class=\"normal\">67557 </p></td>\n",
       "<td><p class=\"normal\">42 </p></td>\n",
       "<td><p class=\"normal\">1995 </p></td>\n",
       "<!-- <td><p class=\"normal\">Game&nbsp;</p></td> -->\n",
       "</tr><tr>\n",
       "<td><table><tr><td><a href=\"datasets/Credit+Approval\"><img border=\"1\" src=\"assets/MLimages/SmallLargedefault.jpg\"/></a> </td><td><p class=\"normal\"><b><a href=\"datasets/Credit+Approval\">Credit Approval</a></b></p></td></tr></table></td>\n",
       "<!-- <td><p class=\"normal\">This data concerns credit card applications; good mix of attributes&nbsp;</p></td> -->\n",
       "<td><p class=\"normal\">Multivariate </p></td>\n",
       "<td><p class=\"normal\">Classification </p></td>\n",
       "<td><p class=\"normal\">Categorical, Integer, Real </p></td>\n",
       "<td><p class=\"normal\">690 </p></td>\n",
       "<td><p class=\"normal\">15 </p></td>\n",
       "<td><p class=\"normal\"> </p></td>\n",
       "<!-- <td><p class=\"normal\">Financial&nbsp;</p></td> -->\n",
       "</tr><tr bgcolor=\"DDEEFF\">\n",
       "<td><table><tr><td><a href=\"datasets/Japanese+Credit+Screening\"><img border=\"1\" src=\"assets/MLimages/SmallLargedefault.jpg\"/></a> </td><td><p class=\"normal\"><b><a href=\"datasets/Japanese+Credit+Screening\">Japanese Credit Screening</a></b></p></td></tr></table></td>\n",
       "<!-- <td><p class=\"normal\">Includes domain theory (generated by talking to Japanese domain experts); data in Lisp&nbsp;</p></td> -->\n",
       "<td><p class=\"normal\">Multivariate, Domain-Theory </p></td>\n",
       "<td><p class=\"normal\">Classification </p></td>\n",
       "<td><p class=\"normal\">Categorical, Real, Integer </p></td>\n",
       "<td><p class=\"normal\">125 </p></td>\n",
       "<td><p class=\"normal\"> </p></td>\n",
       "<td><p class=\"normal\">1992 </p></td>\n",
       "<!-- <td><p class=\"normal\">Financial&nbsp;</p></td> -->\n",
       "</tr><tr>\n",
       "<td><table><tr><td><a href=\"datasets/Computer+Hardware\"><img border=\"1\" src=\"assets/MLimages/SmallLarge29.jpg\"/></a> </td><td><p class=\"normal\"><b><a href=\"datasets/Computer+Hardware\">Computer Hardware</a></b></p></td></tr></table></td>\n",
       "<!-- <td><p class=\"normal\">Relative CPU Performance Data, described in terms of its cycle time, memory size, etc.&nbsp;</p></td> -->\n",
       "<td><p class=\"normal\">Multivariate </p></td>\n",
       "<td><p class=\"normal\">Regression </p></td>\n",
       "<td><p class=\"normal\">Integer </p></td>\n",
       "<td><p class=\"normal\">209 </p></td>\n",
       "<td><p class=\"normal\">9 </p></td>\n",
       "<td><p class=\"normal\">1987 </p></td>\n",
       "<!-- <td><p class=\"normal\">Computer&nbsp;</p></td> -->\n",
       "</tr><tr bgcolor=\"DDEEFF\">\n",
       "<td><table><tr><td><a href=\"datasets/Contraceptive+Method+Choice\"><img border=\"1\" src=\"assets/MLimages/SmallLargedefault.jpg\"/></a> </td><td><p class=\"normal\"><b><a href=\"datasets/Contraceptive+Method+Choice\">Contraceptive Method Choice</a></b></p></td></tr></table></td>\n",
       "<!-- <td><p class=\"normal\">Dataset is a subset of the 1987 National Indonesia Contraceptive Prevalence Survey.&nbsp;</p></td> -->\n",
       "<td><p class=\"normal\">Multivariate </p></td>\n",
       "<td><p class=\"normal\">Classification </p></td>\n",
       "<td><p class=\"normal\">Categorical, Integer </p></td>\n",
       "<td><p class=\"normal\">1473 </p></td>\n",
       "<td><p class=\"normal\">9 </p></td>\n",
       "<td><p class=\"normal\">1997 </p></td>\n",
       "<!-- <td><p class=\"normal\">Life&nbsp;</p></td> -->\n",
       "</tr><tr>\n",
       "<td><table><tr><td><a href=\"datasets/Covertype\"><img border=\"1\" src=\"assets/MLimages/SmallLarge31.jpg\"/></a> </td><td><p class=\"normal\"><b><a href=\"datasets/Covertype\">Covertype</a></b></p></td></tr></table></td>\n",
       "<!-- <td><p class=\"normal\">Forest CoverType dataset&nbsp;</p></td> -->\n",
       "<td><p class=\"normal\">Multivariate </p></td>\n",
       "<td><p class=\"normal\">Classification </p></td>\n",
       "<td><p class=\"normal\">Categorical, Integer </p></td>\n",
       "<td><p class=\"normal\">581012 </p></td>\n",
       "<td><p class=\"normal\">54 </p></td>\n",
       "<td><p class=\"normal\">1998 </p></td>\n",
       "<!-- <td><p class=\"normal\">Life&nbsp;</p></td> -->\n",
       "</tr><tr bgcolor=\"DDEEFF\">\n",
       "<td><table><tr><td><a href=\"datasets/Cylinder+Bands\"><img border=\"1\" src=\"assets/MLimages/SmallLargedefault.jpg\"/></a> </td><td><p class=\"normal\"><b><a href=\"datasets/Cylinder+Bands\">Cylinder Bands</a></b></p></td></tr></table></td>\n",
       "<!-- <td><p class=\"normal\">Used in decision tree induction for mitigating process delays known as \"cylinder bands\" in rotogravure printing&nbsp;</p></td> -->\n",
       "<td><p class=\"normal\">Multivariate </p></td>\n",
       "<td><p class=\"normal\">Classification </p></td>\n",
       "<td><p class=\"normal\">Categorical, Integer, Real </p></td>\n",
       "<td><p class=\"normal\">512 </p></td>\n",
       "<td><p class=\"normal\">39 </p></td>\n",
       "<td><p class=\"normal\">1995 </p></td>\n",
       "<!-- <td><p class=\"normal\">Physical&nbsp;</p></td> -->\n",
       "</tr><tr>\n",
       "<td><table><tr><td><a href=\"datasets/Dermatology\"><img border=\"1\" src=\"assets/MLimages/SmallLargedefault.jpg\"/></a> </td><td><p class=\"normal\"><b><a href=\"datasets/Dermatology\">Dermatology</a></b></p></td></tr></table></td>\n",
       "<!-- <td><p class=\"normal\">Aim for this dataset is to determine the type of Eryhemato-Squamous Disease.&nbsp;</p></td> -->\n",
       "<td><p class=\"normal\">Multivariate </p></td>\n",
       "<td><p class=\"normal\">Classification </p></td>\n",
       "<td><p class=\"normal\">Categorical, Integer </p></td>\n",
       "<td><p class=\"normal\">366 </p></td>\n",
       "<td><p class=\"normal\">33 </p></td>\n",
       "<td><p class=\"normal\">1998 </p></td>\n",
       "<!-- <td><p class=\"normal\">Life&nbsp;</p></td> -->\n",
       "</tr><tr bgcolor=\"DDEEFF\">\n",
       "<td><table><tr><td><a href=\"datasets/Diabetes\"><img border=\"1\" src=\"assets/MLimages/SmallLargedefault.jpg\"/></a> </td><td><p class=\"normal\"><b><a href=\"datasets/Diabetes\">Diabetes</a></b></p></td></tr></table></td>\n",
       "<!-- <td><p class=\"normal\">This diabetes dataset is from AIM '94&nbsp;</p></td> -->\n",
       "<td><p class=\"normal\">Multivariate, Time-Series </p></td>\n",
       "<td><p class=\"normal\"> </p></td>\n",
       "<td><p class=\"normal\">Categorical, Integer </p></td>\n",
       "<td><p class=\"normal\"> </p></td>\n",
       "<td><p class=\"normal\">20 </p></td>\n",
       "<td><p class=\"normal\"> </p></td>\n",
       "<!-- <td><p class=\"normal\">Life&nbsp;</p></td> -->\n",
       "</tr><tr>\n",
       "<td><table><tr><td><a href=\"datasets/DGP2+-+The+Second+Data+Generation+Program\"><img border=\"1\" src=\"assets/MLimages/SmallLargedefault.jpg\"/></a> </td><td><p class=\"normal\"><b><a href=\"datasets/DGP2+-+The+Second+Data+Generation+Program\">DGP2 - The Second Data Generation Program</a></b></p></td></tr></table></td>\n",
       "<!-- <td><p class=\"normal\">Generates application domains based on specific parameters, number of features, and proportion of positive to negative examples&nbsp;</p></td> -->\n",
       "<td><p class=\"normal\">Data-Generator </p></td>\n",
       "<td><p class=\"normal\"> </p></td>\n",
       "<td><p class=\"normal\">Real </p></td>\n",
       "<td><p class=\"normal\"> </p></td>\n",
       "<td><p class=\"normal\"> </p></td>\n",
       "<td><p class=\"normal\"> </p></td>\n",
       "<!-- <td><p class=\"normal\">Other&nbsp;</p></td> -->\n",
       "</tr><tr bgcolor=\"DDEEFF\">\n",
       "<td><table><tr><td><a href=\"datasets/Document+Understanding\"><img border=\"1\" src=\"assets/MLimages/SmallLargedefault.jpg\"/></a> </td><td><p class=\"normal\"><b><a href=\"datasets/Document+Understanding\">Document Understanding</a></b></p></td></tr></table></td>\n",
       "<!-- <td><p class=\"normal\">Five concepts, expressed as predicates, to be learned&nbsp;</p></td> -->\n",
       "<td><p class=\"normal\"> </p></td>\n",
       "<td><p class=\"normal\"> </p></td>\n",
       "<td><p class=\"normal\"> </p></td>\n",
       "<td><p class=\"normal\"> </p></td>\n",
       "<td><p class=\"normal\"> </p></td>\n",
       "<td><p class=\"normal\">1994 </p></td>\n",
       "<!-- <td><p class=\"normal\">Other&nbsp;</p></td> -->\n",
       "</tr><tr>\n",
       "<td><table><tr><td><a href=\"datasets/EBL+Domain+Theories\"><img border=\"1\" src=\"assets/MLimages/SmallLargedefault.jpg\"/></a> </td><td><p class=\"normal\"><b><a href=\"datasets/EBL+Domain+Theories\">EBL Domain Theories</a></b></p></td></tr></table></td>\n",
       "<!-- <td><p class=\"normal\">Assorted small-scale domain theories&nbsp;</p></td> -->\n",
       "<td><p class=\"normal\"> </p></td>\n",
       "<td><p class=\"normal\"> </p></td>\n",
       "<td><p class=\"normal\"> </p></td>\n",
       "<td><p class=\"normal\"> </p></td>\n",
       "<td><p class=\"normal\"> </p></td>\n",
       "<td><p class=\"normal\"> </p></td>\n",
       "<!-- <td><p class=\"normal\">Computer&nbsp;</p></td> -->\n",
       "</tr><tr bgcolor=\"DDEEFF\">\n",
       "<td><table><tr><td><a href=\"datasets/Echocardiogram\"><img border=\"1\" src=\"assets/MLimages/SmallLarge38.jpg\"/></a> </td><td><p class=\"normal\"><b><a href=\"datasets/Echocardiogram\">Echocardiogram</a></b></p></td></tr></table></td>\n",
       "<!-- <td><p class=\"normal\">Data for classifying if patients will survive for at least one year after a heart attack&nbsp;</p></td> -->\n",
       "<td><p class=\"normal\">Multivariate </p></td>\n",
       "<td><p class=\"normal\">Classification </p></td>\n",
       "<td><p class=\"normal\">Categorical, Integer, Real </p></td>\n",
       "<td><p class=\"normal\">132 </p></td>\n",
       "<td><p class=\"normal\">12 </p></td>\n",
       "<td><p class=\"normal\">1989 </p></td>\n",
       "<!-- <td><p class=\"normal\">Life&nbsp;</p></td> -->\n",
       "</tr><tr>\n",
       "<td><table><tr><td><a href=\"datasets/Ecoli\"><img border=\"1\" src=\"assets/MLimages/SmallLarge120.jpg\"/></a> </td><td><p class=\"normal\"><b><a href=\"datasets/Ecoli\">Ecoli</a></b></p></td></tr></table></td>\n",
       "<!-- <td><p class=\"normal\">This data contains protein localization sites&nbsp;</p></td> -->\n",
       "<td><p class=\"normal\">Multivariate </p></td>\n",
       "<td><p class=\"normal\">Classification </p></td>\n",
       "<td><p class=\"normal\">Real </p></td>\n",
       "<td><p class=\"normal\">336 </p></td>\n",
       "<td><p class=\"normal\">8 </p></td>\n",
       "<td><p class=\"normal\">1996 </p></td>\n",
       "<!-- <td><p class=\"normal\">Life&nbsp;</p></td> -->\n",
       "</tr><tr bgcolor=\"DDEEFF\">\n",
       "<td><table><tr><td><a href=\"datasets/Flags\"><img border=\"1\" src=\"assets/MLimages/SmallLarge40.jpg\"/></a> </td><td><p class=\"normal\"><b><a href=\"datasets/Flags\">Flags</a></b></p></td></tr></table></td>\n",
       "<!-- <td><p class=\"normal\">From Collins Gem Guide to Flags, 1986&nbsp;</p></td> -->\n",
       "<td><p class=\"normal\">Multivariate </p></td>\n",
       "<td><p class=\"normal\">Classification </p></td>\n",
       "<td><p class=\"normal\">Categorical, Integer </p></td>\n",
       "<td><p class=\"normal\">194 </p></td>\n",
       "<td><p class=\"normal\">30 </p></td>\n",
       "<td><p class=\"normal\">1990 </p></td>\n",
       "<!-- <td><p class=\"normal\">Other&nbsp;</p></td> -->\n",
       "</tr><tr>\n",
       "<td><table><tr><td><a href=\"datasets/Function+Finding\"><img border=\"1\" src=\"assets/MLimages/SmallLarge41.jpg\"/></a> </td><td><p class=\"normal\"><b><a href=\"datasets/Function+Finding\">Function Finding</a></b></p></td></tr></table></td>\n",
       "<!-- <td><p class=\"normal\">Cases collected mostly from investigations in physical science; intention is to evaluate function-finding algorithms&nbsp;</p></td> -->\n",
       "<td><p class=\"normal\"> </p></td>\n",
       "<td><p class=\"normal\">Function-Learning </p></td>\n",
       "<td><p class=\"normal\">Real </p></td>\n",
       "<td><p class=\"normal\">352 </p></td>\n",
       "<td><p class=\"normal\"> </p></td>\n",
       "<td><p class=\"normal\">1990 </p></td>\n",
       "<!-- <td><p class=\"normal\">Physical&nbsp;</p></td> -->\n",
       "</tr><tr bgcolor=\"DDEEFF\">\n",
       "<td><table><tr><td><a href=\"datasets/Glass+Identification\"><img border=\"1\" src=\"assets/MLimages/SmallLarge42.jpg\"/></a> </td><td><p class=\"normal\"><b><a href=\"datasets/Glass+Identification\">Glass Identification</a></b></p></td></tr></table></td>\n",
       "<!-- <td><p class=\"normal\">From USA Forensic Science Service; 6 types of glass; defined in terms of their oxide content (i.e. Na, Fe, K, etc)&nbsp;</p></td> -->\n",
       "<td><p class=\"normal\">Multivariate </p></td>\n",
       "<td><p class=\"normal\">Classification </p></td>\n",
       "<td><p class=\"normal\">Real </p></td>\n",
       "<td><p class=\"normal\">214 </p></td>\n",
       "<td><p class=\"normal\">10 </p></td>\n",
       "<td><p class=\"normal\">1987 </p></td>\n",
       "<!-- <td><p class=\"normal\">Physical&nbsp;</p></td> -->\n",
       "</tr><tr>\n",
       "<td><table><tr><td><a href=\"datasets/Haberman%27s+Survival\"><img border=\"1\" src=\"assets/MLimages/SmallLargedefault.jpg\"/></a> </td><td><p class=\"normal\"><b><a href=\"datasets/Haberman%27s+Survival\">Haberman's Survival</a></b></p></td></tr></table></td>\n",
       "<!-- <td><p class=\"normal\">Dataset contains cases from study conducted on the survival of patients who had undergone surgery for breast cancer&nbsp;</p></td> -->\n",
       "<td><p class=\"normal\">Multivariate </p></td>\n",
       "<td><p class=\"normal\">Classification </p></td>\n",
       "<td><p class=\"normal\">Integer </p></td>\n",
       "<td><p class=\"normal\">306 </p></td>\n",
       "<td><p class=\"normal\">3 </p></td>\n",
       "<td><p class=\"normal\">1999 </p></td>\n",
       "<!-- <td><p class=\"normal\">Life&nbsp;</p></td> -->\n",
       "</tr><tr bgcolor=\"DDEEFF\">\n",
       "<td><table><tr><td><a href=\"datasets/Hayes-Roth\"><img border=\"1\" src=\"assets/MLimages/SmallLargedefault.jpg\"/></a> </td><td><p class=\"normal\"><b><a href=\"datasets/Hayes-Roth\">Hayes-Roth</a></b></p></td></tr></table></td>\n",
       "<!-- <td><p class=\"normal\">Topic: human subjects study&nbsp;</p></td> -->\n",
       "<td><p class=\"normal\">Multivariate </p></td>\n",
       "<td><p class=\"normal\">Classification </p></td>\n",
       "<td><p class=\"normal\">Categorical </p></td>\n",
       "<td><p class=\"normal\">160 </p></td>\n",
       "<td><p class=\"normal\">5 </p></td>\n",
       "<td><p class=\"normal\">1989 </p></td>\n",
       "<!-- <td><p class=\"normal\">Social&nbsp;</p></td> -->\n",
       "</tr><tr>\n",
       "<td><table><tr><td><a href=\"datasets/Heart+Disease\"><img border=\"1\" src=\"assets/MLimages/SmallLarge45.jpg\"/></a> </td><td><p class=\"normal\"><b><a href=\"datasets/Heart+Disease\">Heart Disease</a></b></p></td></tr></table></td>\n",
       "<!-- <td><p class=\"normal\">4 databases: Cleveland, Hungary, Switzerland, and the VA Long Beach&nbsp;</p></td> -->\n",
       "<td><p class=\"normal\">Multivariate </p></td>\n",
       "<td><p class=\"normal\">Classification </p></td>\n",
       "<td><p class=\"normal\">Categorical, Integer, Real </p></td>\n",
       "<td><p class=\"normal\">303 </p></td>\n",
       "<td><p class=\"normal\">75 </p></td>\n",
       "<td><p class=\"normal\">1988 </p></td>\n",
       "<!-- <td><p class=\"normal\">Life&nbsp;</p></td> -->\n",
       "</tr><tr bgcolor=\"DDEEFF\">\n",
       "<td><table><tr><td><a href=\"datasets/Hepatitis\"><img border=\"1\" src=\"assets/MLimages/SmallLarge46.jpg\"/></a> </td><td><p class=\"normal\"><b><a href=\"datasets/Hepatitis\">Hepatitis</a></b></p></td></tr></table></td>\n",
       "<!-- <td><p class=\"normal\">From G.Gong: CMU; Mostly Boolean or numeric-valued attribute types; Includes cost data (donated by Peter Turney)&nbsp;</p></td> -->\n",
       "<td><p class=\"normal\">Multivariate </p></td>\n",
       "<td><p class=\"normal\">Classification </p></td>\n",
       "<td><p class=\"normal\">Categorical, Integer, Real </p></td>\n",
       "<td><p class=\"normal\">155 </p></td>\n",
       "<td><p class=\"normal\">19 </p></td>\n",
       "<td><p class=\"normal\">1988 </p></td>\n",
       "<!-- <td><p class=\"normal\">Life&nbsp;</p></td> -->\n",
       "</tr><tr>\n",
       "<td><table><tr><td><a href=\"datasets/Horse+Colic\"><img border=\"1\" src=\"assets/MLimages/SmallLarge47.jpg\"/></a> </td><td><p class=\"normal\"><b><a href=\"datasets/Horse+Colic\">Horse Colic</a></b></p></td></tr></table></td>\n",
       "<!-- <td><p class=\"normal\">Well documented attributes; 368 instances with 28 attributes (continuous, discrete, and nominal); 30% missing values&nbsp;</p></td> -->\n",
       "<td><p class=\"normal\">Multivariate </p></td>\n",
       "<td><p class=\"normal\">Classification </p></td>\n",
       "<td><p class=\"normal\">Categorical, Integer, Real </p></td>\n",
       "<td><p class=\"normal\">368 </p></td>\n",
       "<td><p class=\"normal\">27 </p></td>\n",
       "<td><p class=\"normal\">1989 </p></td>\n",
       "<!-- <td><p class=\"normal\">Life&nbsp;</p></td> -->\n",
       "</tr><tr bgcolor=\"DDEEFF\">\n",
       "<td><table><tr><td><a href=\"datasets/ICU\"><img border=\"1\" src=\"assets/MLimages/SmallLarge49.jpg\"/></a> </td><td><p class=\"normal\"><b><a href=\"datasets/ICU\">ICU</a></b></p></td></tr></table></td>\n",
       "<!-- <td><p class=\"normal\">Data set prepared for the use of participants for the 1994 AAAI Spring Symposium on Artificial Intelligence in Medicine.&nbsp;</p></td> -->\n",
       "<td><p class=\"normal\">Multivariate, Time-Series </p></td>\n",
       "<td><p class=\"normal\"> </p></td>\n",
       "<td><p class=\"normal\">Real </p></td>\n",
       "<td><p class=\"normal\"> </p></td>\n",
       "<td><p class=\"normal\"> </p></td>\n",
       "<td><p class=\"normal\"> </p></td>\n",
       "<!-- <td><p class=\"normal\">Life&nbsp;</p></td> -->\n",
       "</tr><tr>\n",
       "<td><table><tr><td><a href=\"datasets/Image+Segmentation\"><img border=\"1\" src=\"assets/MLimages/SmallLargedefault.jpg\"/></a> </td><td><p class=\"normal\"><b><a href=\"datasets/Image+Segmentation\">Image Segmentation</a></b></p></td></tr></table></td>\n",
       "<!-- <td><p class=\"normal\">Image data described by high-level numeric-valued attributes, 7 classes&nbsp;</p></td> -->\n",
       "<td><p class=\"normal\">Multivariate </p></td>\n",
       "<td><p class=\"normal\">Classification </p></td>\n",
       "<td><p class=\"normal\">Real </p></td>\n",
       "<td><p class=\"normal\">2310 </p></td>\n",
       "<td><p class=\"normal\">19 </p></td>\n",
       "<td><p class=\"normal\">1990 </p></td>\n",
       "<!-- <td><p class=\"normal\">Other&nbsp;</p></td> -->\n",
       "</tr><tr bgcolor=\"DDEEFF\">\n",
       "<td><table><tr><td><a href=\"datasets/Internet+Advertisements\"><img border=\"1\" src=\"assets/MLimages/SmallLarge51.jpg\"/></a> </td><td><p class=\"normal\"><b><a href=\"datasets/Internet+Advertisements\">Internet Advertisements</a></b></p></td></tr></table></td>\n",
       "<!-- <td><p class=\"normal\">This dataset represents a set of possible advertisements on Internet pages.&nbsp;</p></td> -->\n",
       "<td><p class=\"normal\">Multivariate </p></td>\n",
       "<td><p class=\"normal\">Classification </p></td>\n",
       "<td><p class=\"normal\">Categorical, Integer, Real </p></td>\n",
       "<td><p class=\"normal\">3279 </p></td>\n",
       "<td><p class=\"normal\">1558 </p></td>\n",
       "<td><p class=\"normal\">1998 </p></td>\n",
       "<!-- <td><p class=\"normal\">Computer&nbsp;</p></td> -->\n",
       "</tr><tr>\n",
       "<td><table><tr><td><a href=\"datasets/Ionosphere\"><img border=\"1\" src=\"assets/MLimages/SmallLarge52.jpg\"/></a> </td><td><p class=\"normal\"><b><a href=\"datasets/Ionosphere\">Ionosphere</a></b></p></td></tr></table></td>\n",
       "<!-- <td><p class=\"normal\">Classification of radar returns from the ionosphere&nbsp;</p></td> -->\n",
       "<td><p class=\"normal\">Multivariate </p></td>\n",
       "<td><p class=\"normal\">Classification </p></td>\n",
       "<td><p class=\"normal\">Integer, Real </p></td>\n",
       "<td><p class=\"normal\">351 </p></td>\n",
       "<td><p class=\"normal\">34 </p></td>\n",
       "<td><p class=\"normal\">1989 </p></td>\n",
       "<!-- <td><p class=\"normal\">Physical&nbsp;</p></td> -->\n",
       "</tr><tr bgcolor=\"DDEEFF\">\n",
       "<td><table><tr><td><a href=\"datasets/Iris\"><img border=\"1\" src=\"assets/MLimages/SmallLarge53.jpg\"/></a> </td><td><p class=\"normal\"><b><a href=\"datasets/Iris\">Iris</a></b></p></td></tr></table></td>\n",
       "<!-- <td><p class=\"normal\">Famous database; from Fisher, 1936&nbsp;</p></td> -->\n",
       "<td><p class=\"normal\">Multivariate </p></td>\n",
       "<td><p class=\"normal\">Classification </p></td>\n",
       "<td><p class=\"normal\">Real </p></td>\n",
       "<td><p class=\"normal\">150 </p></td>\n",
       "<td><p class=\"normal\">4 </p></td>\n",
       "<td><p class=\"normal\">1988 </p></td>\n",
       "<!-- <td><p class=\"normal\">Life&nbsp;</p></td> -->\n",
       "</tr><tr>\n",
       "<td><table><tr><td><a href=\"datasets/ISOLET\"><img border=\"1\" src=\"assets/MLimages/SmallLargedefault.jpg\"/></a> </td><td><p class=\"normal\"><b><a href=\"datasets/ISOLET\">ISOLET</a></b></p></td></tr></table></td>\n",
       "<!-- <td><p class=\"normal\"> Goal: Predict which letter-name was spoken--a simple classification task.&nbsp;</p></td> -->\n",
       "<td><p class=\"normal\">Multivariate </p></td>\n",
       "<td><p class=\"normal\">Classification </p></td>\n",
       "<td><p class=\"normal\">Real </p></td>\n",
       "<td><p class=\"normal\">7797 </p></td>\n",
       "<td><p class=\"normal\">617 </p></td>\n",
       "<td><p class=\"normal\">1994 </p></td>\n",
       "<!-- <td><p class=\"normal\">Computer&nbsp;</p></td> -->\n",
       "</tr><tr bgcolor=\"DDEEFF\">\n",
       "<td><table><tr><td><a href=\"datasets/Kinship\"><img border=\"1\" src=\"assets/MLimages/SmallLarge55.jpg\"/></a> </td><td><p class=\"normal\"><b><a href=\"datasets/Kinship\">Kinship</a></b></p></td></tr></table></td>\n",
       "<!-- <td><p class=\"normal\">Relational dataset&nbsp;</p></td> -->\n",
       "<td><p class=\"normal\">Relational </p></td>\n",
       "<td><p class=\"normal\">Relational-Learning </p></td>\n",
       "<td><p class=\"normal\">Categorical </p></td>\n",
       "<td><p class=\"normal\">104 </p></td>\n",
       "<td><p class=\"normal\">12 </p></td>\n",
       "<td><p class=\"normal\">1990 </p></td>\n",
       "<!-- <td><p class=\"normal\">Social&nbsp;</p></td> -->\n",
       "</tr><tr>\n",
       "<td><table><tr><td><a href=\"datasets/Labor+Relations\"><img border=\"1\" src=\"assets/MLimages/SmallLargedefault.jpg\"/></a> </td><td><p class=\"normal\"><b><a href=\"datasets/Labor+Relations\">Labor Relations</a></b></p></td></tr></table></td>\n",
       "<!-- <td><p class=\"normal\">From Collective Bargaining Review&nbsp;</p></td> -->\n",
       "<td><p class=\"normal\">Multivariate </p></td>\n",
       "<td><p class=\"normal\"> </p></td>\n",
       "<td><p class=\"normal\">Categorical, Integer, Real </p></td>\n",
       "<td><p class=\"normal\">57 </p></td>\n",
       "<td><p class=\"normal\">16 </p></td>\n",
       "<td><p class=\"normal\">1988 </p></td>\n",
       "<!-- <td><p class=\"normal\">Social&nbsp;</p></td> -->\n",
       "</tr><tr bgcolor=\"DDEEFF\">\n",
       "<td><table><tr><td><a href=\"datasets/LED+Display+Domain\"><img border=\"1\" src=\"assets/MLimages/SmallLargedefault.jpg\"/></a> </td><td><p class=\"normal\"><b><a href=\"datasets/LED+Display+Domain\">LED Display Domain</a></b></p></td></tr></table></td>\n",
       "<!-- <td><p class=\"normal\">From Classification and Regression Trees book; We provide here 2 C programs for generating sample databases&nbsp;</p></td> -->\n",
       "<td><p class=\"normal\">Multivariate, Data-Generator </p></td>\n",
       "<td><p class=\"normal\">Classification </p></td>\n",
       "<td><p class=\"normal\">Categorical </p></td>\n",
       "<td><p class=\"normal\"> </p></td>\n",
       "<td><p class=\"normal\">7 </p></td>\n",
       "<td><p class=\"normal\">1988 </p></td>\n",
       "<!-- <td><p class=\"normal\">Computer&nbsp;</p></td> -->\n",
       "</tr><tr>\n",
       "<td><table><tr><td><a href=\"datasets/Lenses\"><img border=\"1\" src=\"assets/MLimages/SmallLargedefault.jpg\"/></a> </td><td><p class=\"normal\"><b><a href=\"datasets/Lenses\">Lenses</a></b></p></td></tr></table></td>\n",
       "<!-- <td><p class=\"normal\">Database for fitting contact lenses&nbsp;</p></td> -->\n",
       "<td><p class=\"normal\">Multivariate </p></td>\n",
       "<td><p class=\"normal\">Classification </p></td>\n",
       "<td><p class=\"normal\">Categorical </p></td>\n",
       "<td><p class=\"normal\">24 </p></td>\n",
       "<td><p class=\"normal\">4 </p></td>\n",
       "<td><p class=\"normal\">1990 </p></td>\n",
       "<!-- <td><p class=\"normal\">Other&nbsp;</p></td> -->\n",
       "</tr><tr bgcolor=\"DDEEFF\">\n",
       "<td><table><tr><td><a href=\"datasets/Letter+Recognition\"><img border=\"1\" src=\"assets/MLimages/SmallLargedefault.jpg\"/></a> </td><td><p class=\"normal\"><b><a href=\"datasets/Letter+Recognition\">Letter Recognition</a></b></p></td></tr></table></td>\n",
       "<!-- <td><p class=\"normal\">Database of character image features; try to identify the letter&nbsp;</p></td> -->\n",
       "<td><p class=\"normal\">Multivariate </p></td>\n",
       "<td><p class=\"normal\">Classification </p></td>\n",
       "<td><p class=\"normal\">Integer </p></td>\n",
       "<td><p class=\"normal\">20000 </p></td>\n",
       "<td><p class=\"normal\">16 </p></td>\n",
       "<td><p class=\"normal\">1991 </p></td>\n",
       "<!-- <td><p class=\"normal\">Computer&nbsp;</p></td> -->\n",
       "</tr><tr>\n",
       "<td><table><tr><td><a href=\"datasets/Liver+Disorders\"><img border=\"1\" src=\"assets/MLimages/SmallLargedefault.jpg\"/></a> </td><td><p class=\"normal\"><b><a href=\"datasets/Liver+Disorders\">Liver Disorders</a></b></p></td></tr></table></td>\n",
       "<!-- <td><p class=\"normal\">BUPA Medical Research Ltd. database donated by Richard S. Forsyth&nbsp;</p></td> -->\n",
       "<td><p class=\"normal\">Multivariate </p></td>\n",
       "<td><p class=\"normal\"> </p></td>\n",
       "<td><p class=\"normal\">Categorical, Integer, Real </p></td>\n",
       "<td><p class=\"normal\">345 </p></td>\n",
       "<td><p class=\"normal\">7 </p></td>\n",
       "<td><p class=\"normal\">1990 </p></td>\n",
       "<!-- <td><p class=\"normal\">Life&nbsp;</p></td> -->\n",
       "</tr><tr bgcolor=\"DDEEFF\">\n",
       "<td><table><tr><td><a href=\"datasets/Logic+Theorist\"><img border=\"1\" src=\"assets/MLimages/SmallLargedefault.jpg\"/></a> </td><td><p class=\"normal\"><b><a href=\"datasets/Logic+Theorist\">Logic Theorist</a></b></p></td></tr></table></td>\n",
       "<!-- <td><p class=\"normal\">All code for Logic Theorist&nbsp;</p></td> -->\n",
       "<td><p class=\"normal\">Domain-Theory </p></td>\n",
       "<td><p class=\"normal\"> </p></td>\n",
       "<td><p class=\"normal\"> </p></td>\n",
       "<td><p class=\"normal\"> </p></td>\n",
       "<td><p class=\"normal\"> </p></td>\n",
       "<td><p class=\"normal\"> </p></td>\n",
       "<!-- <td><p class=\"normal\">Computer&nbsp;</p></td> -->\n",
       "</tr><tr>\n",
       "<td><table><tr><td><a href=\"datasets/Lung+Cancer\"><img border=\"1\" src=\"assets/MLimages/SmallLarge62.jpg\"/></a> </td><td><p class=\"normal\"><b><a href=\"datasets/Lung+Cancer\">Lung Cancer</a></b></p></td></tr></table></td>\n",
       "<!-- <td><p class=\"normal\">Lung cancer data; no attribute definitions&nbsp;</p></td> -->\n",
       "<td><p class=\"normal\">Multivariate </p></td>\n",
       "<td><p class=\"normal\">Classification </p></td>\n",
       "<td><p class=\"normal\">Integer </p></td>\n",
       "<td><p class=\"normal\">32 </p></td>\n",
       "<td><p class=\"normal\">56 </p></td>\n",
       "<td><p class=\"normal\">1992 </p></td>\n",
       "<!-- <td><p class=\"normal\">Life&nbsp;</p></td> -->\n",
       "</tr><tr bgcolor=\"DDEEFF\">\n",
       "<td><table><tr><td><a href=\"datasets/Lymphography\"><img border=\"1\" src=\"assets/MLimages/SmallLargedefault.jpg\"/></a> </td><td><p class=\"normal\"><b><a href=\"datasets/Lymphography\">Lymphography</a></b></p></td></tr></table></td>\n",
       "<!-- <td><p class=\"normal\">This lymphography domain was obtained from the University Medical Centre, Institute of Oncology, Ljubljana, Yugoslavia.  (Restricted access)&nbsp;</p></td> -->\n",
       "<td><p class=\"normal\">Multivariate </p></td>\n",
       "<td><p class=\"normal\">Classification </p></td>\n",
       "<td><p class=\"normal\">Categorical </p></td>\n",
       "<td><p class=\"normal\">148 </p></td>\n",
       "<td><p class=\"normal\">18 </p></td>\n",
       "<td><p class=\"normal\">1988 </p></td>\n",
       "<!-- <td><p class=\"normal\">Life&nbsp;</p></td> -->\n",
       "</tr><tr>\n",
       "<td><table><tr><td><a href=\"datasets/Mechanical+Analysis\"><img border=\"1\" src=\"assets/MLimages/SmallLargedefault.jpg\"/></a> </td><td><p class=\"normal\"><b><a href=\"datasets/Mechanical+Analysis\">Mechanical Analysis</a></b></p></td></tr></table></td>\n",
       "<!-- <td><p class=\"normal\">Fault diagnosis problem of electromechanical devices; also PUMPS DATA SET is newer version with domain theory and results&nbsp;</p></td> -->\n",
       "<td><p class=\"normal\">Multivariate </p></td>\n",
       "<td><p class=\"normal\">Classification </p></td>\n",
       "<td><p class=\"normal\">Categorical, Integer, Real </p></td>\n",
       "<td><p class=\"normal\">209 </p></td>\n",
       "<td><p class=\"normal\">8 </p></td>\n",
       "<td><p class=\"normal\">1990 </p></td>\n",
       "<!-- <td><p class=\"normal\">Computer&nbsp;</p></td> -->\n",
       "</tr><tr bgcolor=\"DDEEFF\">\n",
       "<td><table><tr><td><a href=\"datasets/Meta-data\"><img border=\"1\" src=\"assets/MLimages/SmallLargedefault.jpg\"/></a> </td><td><p class=\"normal\"><b><a href=\"datasets/Meta-data\">Meta-data</a></b></p></td></tr></table></td>\n",
       "<!-- <td><p class=\"normal\">Meta-Data was used in order to give advice about which classification method is appropriate for a particular dataset (taken from results of Statlog project).&nbsp;</p></td> -->\n",
       "<td><p class=\"normal\">Multivariate </p></td>\n",
       "<td><p class=\"normal\">Classification </p></td>\n",
       "<td><p class=\"normal\">Categorical, Integer, Real </p></td>\n",
       "<td><p class=\"normal\">528 </p></td>\n",
       "<td><p class=\"normal\">22 </p></td>\n",
       "<td><p class=\"normal\">1996 </p></td>\n",
       "<!-- <td><p class=\"normal\">Other&nbsp;</p></td> -->\n",
       "</tr><tr>\n",
       "<td><table><tr><td><a href=\"datasets/Mobile+Robots\"><img border=\"1\" src=\"assets/MLimages/SmallLarge66.jpg\"/></a> </td><td><p class=\"normal\"><b><a href=\"datasets/Mobile+Robots\">Mobile Robots</a></b></p></td></tr></table></td>\n",
       "<!-- <td><p class=\"normal\">Learning concepts from sensor data of a mobile robot; set of data sets&nbsp;</p></td> -->\n",
       "<td><p class=\"normal\">Domain-Theory </p></td>\n",
       "<td><p class=\"normal\"> </p></td>\n",
       "<td><p class=\"normal\">Categorical, Integer, Real </p></td>\n",
       "<td><p class=\"normal\"> </p></td>\n",
       "<td><p class=\"normal\"> </p></td>\n",
       "<td><p class=\"normal\">1995 </p></td>\n",
       "<!-- <td><p class=\"normal\">Computer&nbsp;</p></td> -->\n",
       "</tr><tr bgcolor=\"DDEEFF\">\n",
       "<td><table><tr><td><a href=\"datasets/Molecular+Biology+%28Promoter+Gene+Sequences%29\"><img border=\"1\" src=\"assets/MLimages/SmallLarge67.jpg\"/></a> </td><td><p class=\"normal\"><b><a href=\"datasets/Molecular+Biology+%28Promoter+Gene+Sequences%29\">Molecular Biology (Promoter Gene Sequences)</a></b></p></td></tr></table></td>\n",
       "<!-- <td><p class=\"normal\">E. Coli promoter gene sequences (DNA) with partial domain theory&nbsp;</p></td> -->\n",
       "<td><p class=\"normal\">Sequential, Domain-Theory </p></td>\n",
       "<td><p class=\"normal\">Classification </p></td>\n",
       "<td><p class=\"normal\">Categorical </p></td>\n",
       "<td><p class=\"normal\">106 </p></td>\n",
       "<td><p class=\"normal\">58 </p></td>\n",
       "<td><p class=\"normal\">1990 </p></td>\n",
       "<!-- <td><p class=\"normal\">Life&nbsp;</p></td> -->\n",
       "</tr><tr>\n",
       "<td><table><tr><td><a href=\"datasets/Molecular+Biology+%28Protein+Secondary+Structure%29\"><img border=\"1\" src=\"assets/MLimages/SmallLarge67.jpg\"/></a> </td><td><p class=\"normal\"><b><a href=\"datasets/Molecular+Biology+%28Protein+Secondary+Structure%29\">Molecular Biology (Protein Secondary Structure)</a></b></p></td></tr></table></td>\n",
       "<!-- <td><p class=\"normal\">From CMU connectionist bench repository; Classifies secondary structure of certain globular proteins&nbsp;</p></td> -->\n",
       "<td><p class=\"normal\">Sequential </p></td>\n",
       "<td><p class=\"normal\">Classification </p></td>\n",
       "<td><p class=\"normal\">Categorical </p></td>\n",
       "<td><p class=\"normal\">128 </p></td>\n",
       "<td><p class=\"normal\"> </p></td>\n",
       "<td><p class=\"normal\"> </p></td>\n",
       "<!-- <td><p class=\"normal\">Life&nbsp;</p></td> -->\n",
       "</tr><tr bgcolor=\"DDEEFF\">\n",
       "<td><table><tr><td><a href=\"datasets/Molecular+Biology+%28Splice-junction+Gene+Sequences%29\"><img border=\"1\" src=\"assets/MLimages/SmallLarge67.jpg\"/></a> </td><td><p class=\"normal\"><b><a href=\"datasets/Molecular+Biology+%28Splice-junction+Gene+Sequences%29\">Molecular Biology (Splice-junction Gene Sequences)</a></b></p></td></tr></table></td>\n",
       "<!-- <td><p class=\"normal\">Primate splice-junction gene sequences (DNA) with associated imperfect domain theory&nbsp;</p></td> -->\n",
       "<td><p class=\"normal\">Sequential, Domain-Theory </p></td>\n",
       "<td><p class=\"normal\">Classification </p></td>\n",
       "<td><p class=\"normal\">Categorical </p></td>\n",
       "<td><p class=\"normal\">3190 </p></td>\n",
       "<td><p class=\"normal\">61 </p></td>\n",
       "<td><p class=\"normal\">1992 </p></td>\n",
       "<!-- <td><p class=\"normal\">Life&nbsp;</p></td> -->\n",
       "</tr><tr>\n",
       "<td><table><tr><td><a href=\"datasets/MONK%27s+Problems\"><img border=\"1\" src=\"assets/MLimages/SmallLargedefault.jpg\"/></a> </td><td><p class=\"normal\"><b><a href=\"datasets/MONK%27s+Problems\">MONK's Problems</a></b></p></td></tr></table></td>\n",
       "<!-- <td><p class=\"normal\">A set of three artificial domains over the same attribute space; Used to test a wide range of induction algorithms&nbsp;</p></td> -->\n",
       "<td><p class=\"normal\">Multivariate </p></td>\n",
       "<td><p class=\"normal\">Classification </p></td>\n",
       "<td><p class=\"normal\">Categorical </p></td>\n",
       "<td><p class=\"normal\">432 </p></td>\n",
       "<td><p class=\"normal\">7 </p></td>\n",
       "<td><p class=\"normal\">1992 </p></td>\n",
       "<!-- <td><p class=\"normal\">Other&nbsp;</p></td> -->\n",
       "</tr><tr bgcolor=\"DDEEFF\">\n",
       "<td><table><tr><td><a href=\"datasets/Moral+Reasoner\"><img border=\"1\" src=\"assets/MLimages/SmallLargedefault.jpg\"/></a> </td><td><p class=\"normal\"><b><a href=\"datasets/Moral+Reasoner\">Moral Reasoner</a></b></p></td></tr></table></td>\n",
       "<!-- <td><p class=\"normal\">Horn-clause model that qualitatively simulates moral reasoning; Theory includes negated literals&nbsp;</p></td> -->\n",
       "<td><p class=\"normal\">Domain-Theory </p></td>\n",
       "<td><p class=\"normal\"> </p></td>\n",
       "<td><p class=\"normal\"> </p></td>\n",
       "<td><p class=\"normal\">202 </p></td>\n",
       "<td><p class=\"normal\"> </p></td>\n",
       "<td><p class=\"normal\">1994 </p></td>\n",
       "<!-- <td><p class=\"normal\">Computer&nbsp;</p></td> -->\n",
       "</tr><tr>\n",
       "<td><table><tr><td><a href=\"datasets/Multiple+Features\"><img border=\"1\" src=\"assets/MLimages/SmallLargedefault.jpg\"/></a> </td><td><p class=\"normal\"><b><a href=\"datasets/Multiple+Features\">Multiple Features</a></b></p></td></tr></table></td>\n",
       "<!-- <td><p class=\"normal\">This dataset consists of features of handwritten numerals (`0'--`9') extracted from a collection of Dutch utility maps&nbsp;</p></td> -->\n",
       "<td><p class=\"normal\">Multivariate </p></td>\n",
       "<td><p class=\"normal\">Classification </p></td>\n",
       "<td><p class=\"normal\">Integer, Real </p></td>\n",
       "<td><p class=\"normal\">2000 </p></td>\n",
       "<td><p class=\"normal\">649 </p></td>\n",
       "<td><p class=\"normal\"> </p></td>\n",
       "<!-- <td><p class=\"normal\">Computer&nbsp;</p></td> -->\n",
       "</tr><tr bgcolor=\"DDEEFF\">\n",
       "<td><table><tr><td><a href=\"datasets/Mushroom\"><img border=\"1\" src=\"assets/MLimages/SmallLarge73.jpg\"/></a> </td><td><p class=\"normal\"><b><a href=\"datasets/Mushroom\">Mushroom</a></b></p></td></tr></table></td>\n",
       "<!-- <td><p class=\"normal\">From Audobon Society Field Guide; mushrooms described in terms of physical characteristics; classification: poisonous or edible&nbsp;</p></td> -->\n",
       "<td><p class=\"normal\">Multivariate </p></td>\n",
       "<td><p class=\"normal\">Classification </p></td>\n",
       "<td><p class=\"normal\">Categorical </p></td>\n",
       "<td><p class=\"normal\">8124 </p></td>\n",
       "<td><p class=\"normal\">22 </p></td>\n",
       "<td><p class=\"normal\">1987 </p></td>\n",
       "<!-- <td><p class=\"normal\">Life&nbsp;</p></td> -->\n",
       "</tr><tr>\n",
       "<td><table><tr><td><a href=\"datasets/Musk+%28Version+1%29\"><img border=\"1\" src=\"assets/MLimages/SmallLargedefault.jpg\"/></a> </td><td><p class=\"normal\"><b><a href=\"datasets/Musk+%28Version+1%29\">Musk (Version 1)</a></b></p></td></tr></table></td>\n",
       "<!-- <td><p class=\"normal\">The goal is to learn to predict whether new molecules will be musks or non-musks&nbsp;</p></td> -->\n",
       "<td><p class=\"normal\">Multivariate </p></td>\n",
       "<td><p class=\"normal\">Classification </p></td>\n",
       "<td><p class=\"normal\">Integer </p></td>\n",
       "<td><p class=\"normal\">476 </p></td>\n",
       "<td><p class=\"normal\">168 </p></td>\n",
       "<td><p class=\"normal\">1994 </p></td>\n",
       "<!-- <td><p class=\"normal\">Physical&nbsp;</p></td> -->\n",
       "</tr><tr bgcolor=\"DDEEFF\">\n",
       "<td><table><tr><td><a href=\"datasets/Musk+%28Version+2%29\"><img border=\"1\" src=\"assets/MLimages/SmallLargedefault.jpg\"/></a> </td><td><p class=\"normal\"><b><a href=\"datasets/Musk+%28Version+2%29\">Musk (Version 2)</a></b></p></td></tr></table></td>\n",
       "<!-- <td><p class=\"normal\">The goal is to learn to predict whether new molecules will be musks or non-musks&nbsp;</p></td> -->\n",
       "<td><p class=\"normal\">Multivariate </p></td>\n",
       "<td><p class=\"normal\">Classification </p></td>\n",
       "<td><p class=\"normal\">Integer </p></td>\n",
       "<td><p class=\"normal\">6598 </p></td>\n",
       "<td><p class=\"normal\">168 </p></td>\n",
       "<td><p class=\"normal\">1994 </p></td>\n",
       "<!-- <td><p class=\"normal\">Physical&nbsp;</p></td> -->\n",
       "</tr><tr>\n",
       "<td><table><tr><td><a href=\"datasets/Nursery\"><img border=\"1\" src=\"assets/MLimages/SmallLargedefault.jpg\"/></a> </td><td><p class=\"normal\"><b><a href=\"datasets/Nursery\">Nursery</a></b></p></td></tr></table></td>\n",
       "<!-- <td><p class=\"normal\"> Nursery Database was derived from a hierarchical decision model originally developed to rank applications for nursery schools.&nbsp;</p></td> -->\n",
       "<td><p class=\"normal\">Multivariate </p></td>\n",
       "<td><p class=\"normal\">Classification </p></td>\n",
       "<td><p class=\"normal\">Categorical </p></td>\n",
       "<td><p class=\"normal\">12960 </p></td>\n",
       "<td><p class=\"normal\">8 </p></td>\n",
       "<td><p class=\"normal\">1997 </p></td>\n",
       "<!-- <td><p class=\"normal\">Social&nbsp;</p></td> -->\n",
       "</tr><tr bgcolor=\"DDEEFF\">\n",
       "<td><table><tr><td><a href=\"datasets/Othello+Domain+Theory\"><img border=\"1\" src=\"assets/MLimages/SmallLargedefault.jpg\"/></a> </td><td><p class=\"normal\"><b><a href=\"datasets/Othello+Domain+Theory\">Othello Domain Theory</a></b></p></td></tr></table></td>\n",
       "<!-- <td><p class=\"normal\">Used in research to generate features for an inductive learning system&nbsp;</p></td> -->\n",
       "<td><p class=\"normal\">Domain-Theory </p></td>\n",
       "<td><p class=\"normal\"> </p></td>\n",
       "<td><p class=\"normal\"> </p></td>\n",
       "<td><p class=\"normal\"> </p></td>\n",
       "<td><p class=\"normal\"> </p></td>\n",
       "<td><p class=\"normal\">1991 </p></td>\n",
       "<!-- <td><p class=\"normal\">Game&nbsp;</p></td> -->\n",
       "</tr><tr>\n",
       "<td><table><tr><td><a href=\"datasets/Page+Blocks+Classification\"><img border=\"1\" src=\"assets/MLimages/SmallLargedefault.jpg\"/></a> </td><td><p class=\"normal\"><b><a href=\"datasets/Page+Blocks+Classification\">Page Blocks Classification</a></b></p></td></tr></table></td>\n",
       "<!-- <td><p class=\"normal\">The problem consists of classifying all the blocks of the page layout of a document that has been detected by a segmentation process.&nbsp;</p></td> -->\n",
       "<td><p class=\"normal\">Multivariate </p></td>\n",
       "<td><p class=\"normal\">Classification </p></td>\n",
       "<td><p class=\"normal\">Integer, Real </p></td>\n",
       "<td><p class=\"normal\">5473 </p></td>\n",
       "<td><p class=\"normal\">10 </p></td>\n",
       "<td><p class=\"normal\">1995 </p></td>\n",
       "<!-- <td><p class=\"normal\">Computer&nbsp;</p></td> -->\n",
       "</tr><tr bgcolor=\"DDEEFF\">\n",
       "<td><table><tr><td><a href=\"datasets/Optical+Recognition+of+Handwritten+Digits\"><img border=\"1\" src=\"assets/MLimages/SmallLargedefault.jpg\"/></a> </td><td><p class=\"normal\"><b><a href=\"datasets/Optical+Recognition+of+Handwritten+Digits\">Optical Recognition of Handwritten Digits</a></b></p></td></tr></table></td>\n",
       "<!-- <td><p class=\"normal\">Two versions of this database available; see folder&nbsp;</p></td> -->\n",
       "<td><p class=\"normal\">Multivariate </p></td>\n",
       "<td><p class=\"normal\">Classification </p></td>\n",
       "<td><p class=\"normal\">Integer </p></td>\n",
       "<td><p class=\"normal\">5620 </p></td>\n",
       "<td><p class=\"normal\">64 </p></td>\n",
       "<td><p class=\"normal\">1998 </p></td>\n",
       "<!-- <td><p class=\"normal\">Computer&nbsp;</p></td> -->\n",
       "</tr><tr>\n",
       "<td><table><tr><td><a href=\"datasets/Pen-Based+Recognition+of+Handwritten+Digits\"><img border=\"1\" src=\"assets/MLimages/SmallLargedefault.jpg\"/></a> </td><td><p class=\"normal\"><b><a href=\"datasets/Pen-Based+Recognition+of+Handwritten+Digits\">Pen-Based Recognition of Handwritten Digits</a></b></p></td></tr></table></td>\n",
       "<!-- <td><p class=\"normal\">Digit database of 250 samples from 44 writers&nbsp;</p></td> -->\n",
       "<td><p class=\"normal\">Multivariate </p></td>\n",
       "<td><p class=\"normal\">Classification </p></td>\n",
       "<td><p class=\"normal\">Integer </p></td>\n",
       "<td><p class=\"normal\">10992 </p></td>\n",
       "<td><p class=\"normal\">16 </p></td>\n",
       "<td><p class=\"normal\">1998 </p></td>\n",
       "<!-- <td><p class=\"normal\">Computer&nbsp;</p></td> -->\n",
       "</tr><tr bgcolor=\"DDEEFF\">\n",
       "<td><table><tr><td><a href=\"datasets/Post-Operative+Patient\"><img border=\"1\" src=\"assets/MLimages/SmallLargedefault.jpg\"/></a> </td><td><p class=\"normal\"><b><a href=\"datasets/Post-Operative+Patient\">Post-Operative Patient</a></b></p></td></tr></table></td>\n",
       "<!-- <td><p class=\"normal\">Dataset of patient features&nbsp;</p></td> -->\n",
       "<td><p class=\"normal\">Multivariate </p></td>\n",
       "<td><p class=\"normal\">Classification </p></td>\n",
       "<td><p class=\"normal\">Categorical, Integer </p></td>\n",
       "<td><p class=\"normal\">90 </p></td>\n",
       "<td><p class=\"normal\">8 </p></td>\n",
       "<td><p class=\"normal\">1993 </p></td>\n",
       "<!-- <td><p class=\"normal\">Life&nbsp;</p></td> -->\n",
       "</tr><tr>\n",
       "<td><table><tr><td><a href=\"datasets/Primary+Tumor\"><img border=\"1\" src=\"assets/MLimages/SmallLargedefault.jpg\"/></a> </td><td><p class=\"normal\"><b><a href=\"datasets/Primary+Tumor\">Primary Tumor</a></b></p></td></tr></table></td>\n",
       "<!-- <td><p class=\"normal\">From Ljubljana Oncology Institute&nbsp;</p></td> -->\n",
       "<td><p class=\"normal\">Multivariate </p></td>\n",
       "<td><p class=\"normal\">Classification </p></td>\n",
       "<td><p class=\"normal\">Categorical </p></td>\n",
       "<td><p class=\"normal\">339 </p></td>\n",
       "<td><p class=\"normal\">17 </p></td>\n",
       "<td><p class=\"normal\">1988 </p></td>\n",
       "<!-- <td><p class=\"normal\">Life&nbsp;</p></td> -->\n",
       "</tr><tr bgcolor=\"DDEEFF\">\n",
       "<td><table><tr><td><a href=\"datasets/Prodigy\"><img border=\"1\" src=\"assets/MLimages/SmallLargedefault.jpg\"/></a> </td><td><p class=\"normal\"><b><a href=\"datasets/Prodigy\">Prodigy</a></b></p></td></tr></table></td>\n",
       "<!-- <td><p class=\"normal\">Assorted domains like blocksworld, eightpuzzle, and schedworld.&nbsp;</p></td> -->\n",
       "<td><p class=\"normal\">Domain-Theory </p></td>\n",
       "<td><p class=\"normal\"> </p></td>\n",
       "<td><p class=\"normal\"> </p></td>\n",
       "<td><p class=\"normal\"> </p></td>\n",
       "<td><p class=\"normal\"> </p></td>\n",
       "<td><p class=\"normal\"> </p></td>\n",
       "<!-- <td><p class=\"normal\">Other&nbsp;</p></td> -->\n",
       "</tr><tr>\n",
       "<td><table><tr><td><a href=\"datasets/Qualitative+Structure+Activity+Relationships\"><img border=\"1\" src=\"assets/MLimages/SmallLargedefault.jpg\"/></a> </td><td><p class=\"normal\"><b><a href=\"datasets/Qualitative+Structure+Activity+Relationships\">Qualitative Structure Activity Relationships</a></b></p></td></tr></table></td>\n",
       "<!-- <td><p class=\"normal\">Two sets of datasets are given: pyrimidines and triazines&nbsp;</p></td> -->\n",
       "<td><p class=\"normal\">Domain-Theory </p></td>\n",
       "<td><p class=\"normal\"> </p></td>\n",
       "<td><p class=\"normal\"> </p></td>\n",
       "<td><p class=\"normal\"> </p></td>\n",
       "<td><p class=\"normal\"> </p></td>\n",
       "<td><p class=\"normal\"> </p></td>\n",
       "<!-- <td><p class=\"normal\">Physical&nbsp;</p></td> -->\n",
       "</tr><tr bgcolor=\"DDEEFF\">\n",
       "<td><table><tr><td><a href=\"datasets/Quadruped+Mammals\"><img border=\"1\" src=\"assets/MLimages/SmallLarge86.jpg\"/></a> </td><td><p class=\"normal\"><b><a href=\"datasets/Quadruped+Mammals\">Quadruped Mammals</a></b></p></td></tr></table></td>\n",
       "<!-- <td><p class=\"normal\"> The file animals.c is a data generator of structured instances representing quadruped animals&nbsp;</p></td> -->\n",
       "<td><p class=\"normal\">Multivariate, Data-Generator </p></td>\n",
       "<td><p class=\"normal\">Classification </p></td>\n",
       "<td><p class=\"normal\">Real </p></td>\n",
       "<td><p class=\"normal\"> </p></td>\n",
       "<td><p class=\"normal\">72 </p></td>\n",
       "<td><p class=\"normal\">1992 </p></td>\n",
       "<!-- <td><p class=\"normal\">Life&nbsp;</p></td> -->\n",
       "</tr><tr>\n",
       "<td><table><tr><td><a href=\"datasets/Servo\"><img border=\"1\" src=\"assets/MLimages/SmallLarge87.jpg\"/></a> </td><td><p class=\"normal\"><b><a href=\"datasets/Servo\">Servo</a></b></p></td></tr></table></td>\n",
       "<!-- <td><p class=\"normal\">Data was from a simulation of a servo system&nbsp;</p></td> -->\n",
       "<td><p class=\"normal\">Multivariate </p></td>\n",
       "<td><p class=\"normal\">Regression </p></td>\n",
       "<td><p class=\"normal\">Categorical, Integer </p></td>\n",
       "<td><p class=\"normal\">167 </p></td>\n",
       "<td><p class=\"normal\">4 </p></td>\n",
       "<td><p class=\"normal\">1993 </p></td>\n",
       "<!-- <td><p class=\"normal\">Computer&nbsp;</p></td> -->\n",
       "</tr><tr bgcolor=\"DDEEFF\">\n",
       "<td><table><tr><td><a href=\"datasets/Shuttle+Landing+Control\"><img border=\"1\" src=\"assets/MLimages/SmallLarge92.jpg\"/></a> </td><td><p class=\"normal\"><b><a href=\"datasets/Shuttle+Landing+Control\">Shuttle Landing Control</a></b></p></td></tr></table></td>\n",
       "<!-- <td><p class=\"normal\">Tiny database; all nominal values&nbsp;</p></td> -->\n",
       "<td><p class=\"normal\">Multivariate </p></td>\n",
       "<td><p class=\"normal\">Classification </p></td>\n",
       "<td><p class=\"normal\">Categorical </p></td>\n",
       "<td><p class=\"normal\">15 </p></td>\n",
       "<td><p class=\"normal\">6 </p></td>\n",
       "<td><p class=\"normal\">1988 </p></td>\n",
       "<!-- <td><p class=\"normal\">Physical&nbsp;</p></td> -->\n",
       "</tr><tr>\n",
       "<td><table><tr><td><a href=\"datasets/Solar+Flare\"><img border=\"1\" src=\"assets/MLimages/SmallLarge89.jpg\"/></a> </td><td><p class=\"normal\"><b><a href=\"datasets/Solar+Flare\">Solar Flare</a></b></p></td></tr></table></td>\n",
       "<!-- <td><p class=\"normal\">Each class attribute counts the number of solar flares of a certain class that occur in a 24 hour period&nbsp;</p></td> -->\n",
       "<td><p class=\"normal\">Multivariate </p></td>\n",
       "<td><p class=\"normal\">Regression </p></td>\n",
       "<td><p class=\"normal\">Categorical </p></td>\n",
       "<td><p class=\"normal\">1389 </p></td>\n",
       "<td><p class=\"normal\">10 </p></td>\n",
       "<td><p class=\"normal\">1989 </p></td>\n",
       "<!-- <td><p class=\"normal\">Physical&nbsp;</p></td> -->\n",
       "</tr><tr bgcolor=\"DDEEFF\">\n",
       "<td><table><tr><td><a href=\"datasets/Soybean+%28Large%29\"><img border=\"1\" src=\"assets/MLimages/SmallLarge90.jpg\"/></a> </td><td><p class=\"normal\"><b><a href=\"datasets/Soybean+%28Large%29\">Soybean (Large)</a></b></p></td></tr></table></td>\n",
       "<!-- <td><p class=\"normal\">Michalski's famous soybean disease database&nbsp;</p></td> -->\n",
       "<td><p class=\"normal\">Multivariate </p></td>\n",
       "<td><p class=\"normal\">Classification </p></td>\n",
       "<td><p class=\"normal\">Categorical </p></td>\n",
       "<td><p class=\"normal\">307 </p></td>\n",
       "<td><p class=\"normal\">35 </p></td>\n",
       "<td><p class=\"normal\">1988 </p></td>\n",
       "<!-- <td><p class=\"normal\">Life&nbsp;</p></td> -->\n",
       "</tr><tr>\n",
       "<td><table><tr><td><a href=\"datasets/Soybean+%28Small%29\"><img border=\"1\" src=\"assets/MLimages/SmallLarge90.jpg\"/></a> </td><td><p class=\"normal\"><b><a href=\"datasets/Soybean+%28Small%29\">Soybean (Small)</a></b></p></td></tr></table></td>\n",
       "<!-- <td><p class=\"normal\">Michalski's famous soybean disease database&nbsp;</p></td> -->\n",
       "<td><p class=\"normal\">Multivariate </p></td>\n",
       "<td><p class=\"normal\">Classification </p></td>\n",
       "<td><p class=\"normal\">Categorical </p></td>\n",
       "<td><p class=\"normal\">47 </p></td>\n",
       "<td><p class=\"normal\">35 </p></td>\n",
       "<td><p class=\"normal\">1987 </p></td>\n",
       "<!-- <td><p class=\"normal\">Life&nbsp;</p></td> -->\n",
       "</tr><tr bgcolor=\"DDEEFF\">\n",
       "<td><table><tr><td><a href=\"datasets/Challenger+USA+Space+Shuttle+O-Ring\"><img border=\"1\" src=\"assets/MLimages/SmallLarge92.jpg\"/></a> </td><td><p class=\"normal\"><b><a href=\"datasets/Challenger+USA+Space+Shuttle+O-Ring\">Challenger USA Space Shuttle O-Ring</a></b></p></td></tr></table></td>\n",
       "<!-- <td><p class=\"normal\">Task: predict the number of O-rings that experience thermal distress on a flight at 31 degrees F given data on the previous 23 shuttle flights&nbsp;</p></td> -->\n",
       "<td><p class=\"normal\">Multivariate </p></td>\n",
       "<td><p class=\"normal\">Regression </p></td>\n",
       "<td><p class=\"normal\">Integer </p></td>\n",
       "<td><p class=\"normal\">23 </p></td>\n",
       "<td><p class=\"normal\">4 </p></td>\n",
       "<td><p class=\"normal\">1993 </p></td>\n",
       "<!-- <td><p class=\"normal\">Physical&nbsp;</p></td> -->\n",
       "</tr><tr>\n",
       "<td><table><tr><td><a href=\"datasets/Low+Resolution+Spectrometer\"><img border=\"1\" src=\"assets/MLimages/SmallLargedefault.jpg\"/></a> </td><td><p class=\"normal\"><b><a href=\"datasets/Low+Resolution+Spectrometer\">Low Resolution Spectrometer</a></b></p></td></tr></table></td>\n",
       "<!-- <td><p class=\"normal\">From IRAS data -- NASA Ames Research Center&nbsp;</p></td> -->\n",
       "<td><p class=\"normal\">Multivariate </p></td>\n",
       "<td><p class=\"normal\">Classification </p></td>\n",
       "<td><p class=\"normal\">Integer, Real </p></td>\n",
       "<td><p class=\"normal\">531 </p></td>\n",
       "<td><p class=\"normal\">102 </p></td>\n",
       "<td><p class=\"normal\">1988 </p></td>\n",
       "<!-- <td><p class=\"normal\">Physical&nbsp;</p></td> -->\n",
       "</tr><tr bgcolor=\"DDEEFF\">\n",
       "<td><table><tr><td><a href=\"datasets/Spambase\"><img border=\"1\" src=\"assets/MLimages/SmallLarge94.jpg\"/></a> </td><td><p class=\"normal\"><b><a href=\"datasets/Spambase\">Spambase</a></b></p></td></tr></table></td>\n",
       "<!-- <td><p class=\"normal\">Classifying Email as Spam or Non-Spam&nbsp;</p></td> -->\n",
       "<td><p class=\"normal\">Multivariate </p></td>\n",
       "<td><p class=\"normal\">Classification </p></td>\n",
       "<td><p class=\"normal\">Integer, Real </p></td>\n",
       "<td><p class=\"normal\">4601 </p></td>\n",
       "<td><p class=\"normal\">57 </p></td>\n",
       "<td><p class=\"normal\">1999 </p></td>\n",
       "<!-- <td><p class=\"normal\">Computer&nbsp;</p></td> -->\n",
       "</tr><tr>\n",
       "<td><table><tr><td><a href=\"datasets/SPECT+Heart\"><img border=\"1\" src=\"assets/MLimages/SmallLarge45.jpg\"/></a> </td><td><p class=\"normal\"><b><a href=\"datasets/SPECT+Heart\">SPECT Heart</a></b></p></td></tr></table></td>\n",
       "<!-- <td><p class=\"normal\">Data on cardiac Single Proton Emission Computed Tomography (SPECT) images. Each patient classified into two categories: normal and abnormal.&nbsp;</p></td> -->\n",
       "<td><p class=\"normal\">Multivariate </p></td>\n",
       "<td><p class=\"normal\">Classification </p></td>\n",
       "<td><p class=\"normal\">Categorical </p></td>\n",
       "<td><p class=\"normal\">267 </p></td>\n",
       "<td><p class=\"normal\">22 </p></td>\n",
       "<td><p class=\"normal\">2001 </p></td>\n",
       "<!-- <td><p class=\"normal\">Life&nbsp;</p></td> -->\n",
       "</tr><tr bgcolor=\"DDEEFF\">\n",
       "<td><table><tr><td><a href=\"datasets/SPECTF+Heart\"><img border=\"1\" src=\"assets/MLimages/SmallLarge45.jpg\"/></a> </td><td><p class=\"normal\"><b><a href=\"datasets/SPECTF+Heart\">SPECTF Heart</a></b></p></td></tr></table></td>\n",
       "<!-- <td><p class=\"normal\">Data on cardiac Single Proton Emission Computed Tomography (SPECT) images. Each patient classified into two categories: normal and abnormal.&nbsp;</p></td> -->\n",
       "<td><p class=\"normal\">Multivariate </p></td>\n",
       "<td><p class=\"normal\">Classification </p></td>\n",
       "<td><p class=\"normal\">Integer </p></td>\n",
       "<td><p class=\"normal\">267 </p></td>\n",
       "<td><p class=\"normal\">44 </p></td>\n",
       "<td><p class=\"normal\">2001 </p></td>\n",
       "<!-- <td><p class=\"normal\">Life&nbsp;</p></td> -->\n",
       "</tr><tr>\n",
       "<td><table><tr><td><a href=\"datasets/Sponge\"><img border=\"1\" src=\"assets/MLimages/SmallLarge97.jpg\"/></a> </td><td><p class=\"normal\"><b><a href=\"datasets/Sponge\">Sponge</a></b></p></td></tr></table></td>\n",
       "<!-- <td><p class=\"normal\">Data on sponges; Attributes in spanish&nbsp;</p></td> -->\n",
       "<td><p class=\"normal\">Multivariate </p></td>\n",
       "<td><p class=\"normal\">Clustering </p></td>\n",
       "<td><p class=\"normal\">Categorical, Integer </p></td>\n",
       "<td><p class=\"normal\">76 </p></td>\n",
       "<td><p class=\"normal\">45 </p></td>\n",
       "<td><p class=\"normal\"> </p></td>\n",
       "<!-- <td><p class=\"normal\">Life&nbsp;</p></td> -->\n",
       "</tr><tr bgcolor=\"DDEEFF\">\n",
       "<td><table><tr><td><a href=\"datasets/Statlog+Project\"><img border=\"1\" src=\"assets/MLimages/SmallLargedefault.jpg\"/></a> </td><td><p class=\"normal\"><b><a href=\"datasets/Statlog+Project\">Statlog Project</a></b></p></td></tr></table></td>\n",
       "<!-- <td><p class=\"normal\">Various Databases: Vehicle silhouttes, Landsat Sattelite, Shuttle, Australian Credit Approval, Heart Disease, Image Segmentation, German Credit&nbsp;</p></td> -->\n",
       "<td><p class=\"normal\"> </p></td>\n",
       "<td><p class=\"normal\"> </p></td>\n",
       "<td><p class=\"normal\"> </p></td>\n",
       "<td><p class=\"normal\"> </p></td>\n",
       "<td><p class=\"normal\"> </p></td>\n",
       "<td><p class=\"normal\">1992 </p></td>\n",
       "<!-- <td><p class=\"normal\">Other&nbsp;</p></td> -->\n",
       "</tr><tr>\n",
       "<td><table><tr><td><a href=\"datasets/Student+Loan+Relational\"><img border=\"1\" src=\"assets/MLimages/SmallLargedefault.jpg\"/></a> </td><td><p class=\"normal\"><b><a href=\"datasets/Student+Loan+Relational\">Student Loan Relational</a></b></p></td></tr></table></td>\n",
       "<!-- <td><p class=\"normal\">Student Loan Relational Domain&nbsp;</p></td> -->\n",
       "<td><p class=\"normal\">Domain-Theory </p></td>\n",
       "<td><p class=\"normal\"> </p></td>\n",
       "<td><p class=\"normal\"> </p></td>\n",
       "<td><p class=\"normal\">1000 </p></td>\n",
       "<td><p class=\"normal\"> </p></td>\n",
       "<td><p class=\"normal\">1993 </p></td>\n",
       "<!-- <td><p class=\"normal\">Social&nbsp;</p></td> -->\n",
       "</tr><tr bgcolor=\"DDEEFF\">\n",
       "<td><table><tr><td><a href=\"datasets/Teaching+Assistant+Evaluation\"><img border=\"1\" src=\"assets/MLimages/SmallLargedefault.jpg\"/></a> </td><td><p class=\"normal\"><b><a href=\"datasets/Teaching+Assistant+Evaluation\">Teaching Assistant Evaluation</a></b></p></td></tr></table></td>\n",
       "<!-- <td><p class=\"normal\">The data consist of evaluations of teaching performance; scores are \"low\", \"medium\", or \"high\"&nbsp;</p></td> -->\n",
       "<td><p class=\"normal\">Multivariate </p></td>\n",
       "<td><p class=\"normal\">Classification </p></td>\n",
       "<td><p class=\"normal\">Categorical, Integer </p></td>\n",
       "<td><p class=\"normal\">151 </p></td>\n",
       "<td><p class=\"normal\">5 </p></td>\n",
       "<td><p class=\"normal\">1997 </p></td>\n",
       "<!-- <td><p class=\"normal\">Other&nbsp;</p></td> -->\n",
       "</tr><tr>\n",
       "<td><table><tr><td><a href=\"datasets/Tic-Tac-Toe+Endgame\"><img border=\"1\" src=\"assets/MLimages/SmallLarge101.jpg\"/></a> </td><td><p class=\"normal\"><b><a href=\"datasets/Tic-Tac-Toe+Endgame\">Tic-Tac-Toe Endgame</a></b></p></td></tr></table></td>\n",
       "<!-- <td><p class=\"normal\">Binary classification task on possible configurations of tic-tac-toe game&nbsp;</p></td> -->\n",
       "<td><p class=\"normal\">Multivariate </p></td>\n",
       "<td><p class=\"normal\">Classification </p></td>\n",
       "<td><p class=\"normal\">Categorical </p></td>\n",
       "<td><p class=\"normal\">958 </p></td>\n",
       "<td><p class=\"normal\">9 </p></td>\n",
       "<td><p class=\"normal\">1991 </p></td>\n",
       "<!-- <td><p class=\"normal\">Game&nbsp;</p></td> -->\n",
       "</tr><tr bgcolor=\"DDEEFF\">\n",
       "<td><table><tr><td><a href=\"datasets/Thyroid+Disease\"><img border=\"1\" src=\"assets/MLimages/SmallLargedefault.jpg\"/></a> </td><td><p class=\"normal\"><b><a href=\"datasets/Thyroid+Disease\">Thyroid Disease</a></b></p></td></tr></table></td>\n",
       "<!-- <td><p class=\"normal\">10 separate databases from Garavan Institute&nbsp;</p></td> -->\n",
       "<td><p class=\"normal\">Multivariate, Domain-Theory </p></td>\n",
       "<td><p class=\"normal\">Classification </p></td>\n",
       "<td><p class=\"normal\">Categorical, Real </p></td>\n",
       "<td><p class=\"normal\">7200 </p></td>\n",
       "<td><p class=\"normal\">21 </p></td>\n",
       "<td><p class=\"normal\">1987 </p></td>\n",
       "<!-- <td><p class=\"normal\">Life&nbsp;</p></td> -->\n",
       "</tr><tr>\n",
       "<td><table><tr><td><a href=\"datasets/Trains\"><img border=\"1\" src=\"assets/MLimages/SmallLarge103.jpg\"/></a> </td><td><p class=\"normal\"><b><a href=\"datasets/Trains\">Trains</a></b></p></td></tr></table></td>\n",
       "<!-- <td><p class=\"normal\">2 data formats (structured, one-instance-per-line)&nbsp;</p></td> -->\n",
       "<td><p class=\"normal\">Multivariate </p></td>\n",
       "<td><p class=\"normal\">Classification </p></td>\n",
       "<td><p class=\"normal\">Categorical </p></td>\n",
       "<td><p class=\"normal\">10 </p></td>\n",
       "<td><p class=\"normal\">32 </p></td>\n",
       "<td><p class=\"normal\">1994 </p></td>\n",
       "<!-- <td><p class=\"normal\">Other&nbsp;</p></td> -->\n",
       "</tr><tr bgcolor=\"DDEEFF\">\n",
       "<td><table><tr><td><a href=\"datasets/University\"><img border=\"1\" src=\"assets/MLimages/SmallLarge104.jpg\"/></a> </td><td><p class=\"normal\"><b><a href=\"datasets/University\">University</a></b></p></td></tr></table></td>\n",
       "<!-- <td><p class=\"normal\">Data in original (LISP-readable) form&nbsp;</p></td> -->\n",
       "<td><p class=\"normal\">Multivariate </p></td>\n",
       "<td><p class=\"normal\">Classification </p></td>\n",
       "<td><p class=\"normal\">Categorical, Integer </p></td>\n",
       "<td><p class=\"normal\">285 </p></td>\n",
       "<td><p class=\"normal\">17 </p></td>\n",
       "<td><p class=\"normal\">1988 </p></td>\n",
       "<!-- <td><p class=\"normal\">Other&nbsp;</p></td> -->\n",
       "</tr><tr>\n",
       "<td><table><tr><td><a href=\"datasets/Congressional+Voting+Records\"><img border=\"1\" src=\"assets/MLimages/SmallLarge105.jpg\"/></a> </td><td><p class=\"normal\"><b><a href=\"datasets/Congressional+Voting+Records\">Congressional Voting Records</a></b></p></td></tr></table></td>\n",
       "<!-- <td><p class=\"normal\">1984 United Stated Congressional Voting Records; Classify as Republican or Democrat&nbsp;</p></td> -->\n",
       "<td><p class=\"normal\">Multivariate </p></td>\n",
       "<td><p class=\"normal\">Classification </p></td>\n",
       "<td><p class=\"normal\">Categorical </p></td>\n",
       "<td><p class=\"normal\">435 </p></td>\n",
       "<td><p class=\"normal\">16 </p></td>\n",
       "<td><p class=\"normal\">1987 </p></td>\n",
       "<!-- <td><p class=\"normal\">Social&nbsp;</p></td> -->\n",
       "</tr><tr bgcolor=\"DDEEFF\">\n",
       "<td><table><tr><td><a href=\"datasets/Water+Treatment+Plant\"><img border=\"1\" src=\"assets/MLimages/SmallLargedefault.jpg\"/></a> </td><td><p class=\"normal\"><b><a href=\"datasets/Water+Treatment+Plant\">Water Treatment Plant</a></b></p></td></tr></table></td>\n",
       "<!-- <td><p class=\"normal\">Multiple classes predict plant state&nbsp;</p></td> -->\n",
       "<td><p class=\"normal\">Multivariate </p></td>\n",
       "<td><p class=\"normal\">Clustering </p></td>\n",
       "<td><p class=\"normal\">Integer, Real </p></td>\n",
       "<td><p class=\"normal\">527 </p></td>\n",
       "<td><p class=\"normal\">38 </p></td>\n",
       "<td><p class=\"normal\">1993 </p></td>\n",
       "<!-- <td><p class=\"normal\">Physical&nbsp;</p></td> -->\n",
       "</tr><tr>\n",
       "<td><table><tr><td><a href=\"datasets/Waveform+Database+Generator+%28Version+1%29\"><img border=\"1\" src=\"assets/MLimages/SmallLargedefault.jpg\"/></a> </td><td><p class=\"normal\"><b><a href=\"datasets/Waveform+Database+Generator+%28Version+1%29\">Waveform Database Generator (Version 1)</a></b></p></td></tr></table></td>\n",
       "<!-- <td><p class=\"normal\">CART book's waveform domains&nbsp;</p></td> -->\n",
       "<td><p class=\"normal\">Multivariate, Data-Generator </p></td>\n",
       "<td><p class=\"normal\">Classification </p></td>\n",
       "<td><p class=\"normal\">Real </p></td>\n",
       "<td><p class=\"normal\">5000 </p></td>\n",
       "<td><p class=\"normal\">21 </p></td>\n",
       "<td><p class=\"normal\">1988 </p></td>\n",
       "<!-- <td><p class=\"normal\">Physical&nbsp;</p></td> -->\n",
       "</tr><tr bgcolor=\"DDEEFF\">\n",
       "<td><table><tr><td><a href=\"datasets/Waveform+Database+Generator+%28Version+2%29\"><img border=\"1\" src=\"assets/MLimages/SmallLargedefault.jpg\"/></a> </td><td><p class=\"normal\"><b><a href=\"datasets/Waveform+Database+Generator+%28Version+2%29\">Waveform Database Generator (Version 2)</a></b></p></td></tr></table></td>\n",
       "<!-- <td><p class=\"normal\">CART book's waveform domains&nbsp;</p></td> -->\n",
       "<td><p class=\"normal\">Multivariate, Data-Generator </p></td>\n",
       "<td><p class=\"normal\">Classification </p></td>\n",
       "<td><p class=\"normal\">Real </p></td>\n",
       "<td><p class=\"normal\">5000 </p></td>\n",
       "<td><p class=\"normal\">40 </p></td>\n",
       "<td><p class=\"normal\">1988 </p></td>\n",
       "<!-- <td><p class=\"normal\">Physical&nbsp;</p></td> -->\n",
       "</tr><tr>\n",
       "<td><table><tr><td><a href=\"datasets/Wine\"><img border=\"1\" src=\"assets/MLimages/SmallLarge109.jpg\"/></a> </td><td><p class=\"normal\"><b><a href=\"datasets/Wine\">Wine</a></b></p></td></tr></table></td>\n",
       "<!-- <td><p class=\"normal\">Using chemical analysis determine the origin of wines&nbsp;</p></td> -->\n",
       "<td><p class=\"normal\">Multivariate </p></td>\n",
       "<td><p class=\"normal\">Classification </p></td>\n",
       "<td><p class=\"normal\">Integer, Real </p></td>\n",
       "<td><p class=\"normal\">178 </p></td>\n",
       "<td><p class=\"normal\">13 </p></td>\n",
       "<td><p class=\"normal\">1991 </p></td>\n",
       "<!-- <td><p class=\"normal\">Physical&nbsp;</p></td> -->\n",
       "</tr><tr bgcolor=\"DDEEFF\">\n",
       "<td><table><tr><td><a href=\"datasets/Yeast\"><img border=\"1\" src=\"assets/MLimages/SmallLarge110.jpg\"/></a> </td><td><p class=\"normal\"><b><a href=\"datasets/Yeast\">Yeast</a></b></p></td></tr></table></td>\n",
       "<!-- <td><p class=\"normal\">Predicting the Cellular Localization Sites of Proteins&nbsp;</p></td> -->\n",
       "<td><p class=\"normal\">Multivariate </p></td>\n",
       "<td><p class=\"normal\">Classification </p></td>\n",
       "<td><p class=\"normal\">Real </p></td>\n",
       "<td><p class=\"normal\">1484 </p></td>\n",
       "<td><p class=\"normal\">8 </p></td>\n",
       "<td><p class=\"normal\">1996 </p></td>\n",
       "<!-- <td><p class=\"normal\">Life&nbsp;</p></td> -->\n",
       "</tr><tr>\n",
       "<td><table><tr><td><a href=\"datasets/Zoo\"><img border=\"1\" src=\"assets/MLimages/SmallLarge111.jpg\"/></a> </td><td><p class=\"normal\"><b><a href=\"datasets/Zoo\">Zoo</a></b></p></td></tr></table></td>\n",
       "<!-- <td><p class=\"normal\">Artificial, 7 classes of animals&nbsp;</p></td> -->\n",
       "<td><p class=\"normal\">Multivariate </p></td>\n",
       "<td><p class=\"normal\">Classification </p></td>\n",
       "<td><p class=\"normal\">Categorical, Integer </p></td>\n",
       "<td><p class=\"normal\">101 </p></td>\n",
       "<td><p class=\"normal\">17 </p></td>\n",
       "<td><p class=\"normal\">1990 </p></td>\n",
       "<!-- <td><p class=\"normal\">Life&nbsp;</p></td> -->\n",
       "</tr><tr bgcolor=\"DDEEFF\">\n",
       "<td><table><tr><td><a href=\"datasets/Undocumented\"><img border=\"1\" src=\"assets/MLimages/SmallLargedefault.jpg\"/></a> </td><td><p class=\"normal\"><b><a href=\"datasets/Undocumented\">Undocumented</a></b></p></td></tr></table></td>\n",
       "<!-- <td><p class=\"normal\">Various datasets without documentation (feel free to explore!)&nbsp;</p></td> -->\n",
       "<td><p class=\"normal\"> </p></td>\n",
       "<td><p class=\"normal\"> </p></td>\n",
       "<td><p class=\"normal\"> </p></td>\n",
       "<td><p class=\"normal\"> </p></td>\n",
       "<td><p class=\"normal\"> </p></td>\n",
       "<td><p class=\"normal\"> </p></td>\n",
       "<!-- <td><p class=\"normal\">Other&nbsp;</p></td> -->\n",
       "</tr><tr>\n",
       "<td><table><tr><td><a href=\"datasets/Twenty+Newsgroups\"><img border=\"1\" src=\"assets/MLimages/SmallLargedefault.jpg\"/></a> </td><td><p class=\"normal\"><b><a href=\"datasets/Twenty+Newsgroups\">Twenty Newsgroups</a></b></p></td></tr></table></td>\n",
       "<!-- <td><p class=\"normal\">This data set consists of 20000 messages taken from 20 newsgroups.&nbsp;</p></td> -->\n",
       "<td><p class=\"normal\">Text </p></td>\n",
       "<td><p class=\"normal\"> </p></td>\n",
       "<td><p class=\"normal\"> </p></td>\n",
       "<td><p class=\"normal\">20000 </p></td>\n",
       "<td><p class=\"normal\"> </p></td>\n",
       "<td><p class=\"normal\">1999 </p></td>\n",
       "<!-- <td><p class=\"normal\">Other&nbsp;</p></td> -->\n",
       "</tr><tr bgcolor=\"DDEEFF\">\n",
       "<td><table><tr><td><a href=\"datasets/Australian+Sign+Language+signs\"><img border=\"1\" src=\"assets/MLimages/SmallLarge114.jpg\"/></a> </td><td><p class=\"normal\"><b><a href=\"datasets/Australian+Sign+Language+signs\">Australian Sign Language signs</a></b></p></td></tr></table></td>\n",
       "<!-- <td><p class=\"normal\">This data consists of sample of Auslan (Australian Sign Language) signs. Examples of 95 signs were collected from five signers with a total of 6650 sign samples.&nbsp;</p></td> -->\n",
       "<td><p class=\"normal\">Multivariate, Time-Series </p></td>\n",
       "<td><p class=\"normal\">Classification </p></td>\n",
       "<td><p class=\"normal\">Categorical, Real </p></td>\n",
       "<td><p class=\"normal\">6650 </p></td>\n",
       "<td><p class=\"normal\">15 </p></td>\n",
       "<td><p class=\"normal\">1999 </p></td>\n",
       "<!-- <td><p class=\"normal\">Other&nbsp;</p></td> -->\n",
       "</tr><tr>\n",
       "<td><table><tr><td><a href=\"datasets/Australian+Sign+Language+signs+%28High+Quality%29\"><img border=\"1\" src=\"assets/MLimages/SmallLarge114.jpg\"/></a> </td><td><p class=\"normal\"><b><a href=\"datasets/Australian+Sign+Language+signs+%28High+Quality%29\">Australian Sign Language signs (High Quality)</a></b></p></td></tr></table></td>\n",
       "<!-- <td><p class=\"normal\">This data consists of sample of Auslan (Australian Sign Language) signs. 27 examples of each of 95 Auslan signs were captured from a native signer using high-quality position trackers&nbsp;</p></td> -->\n",
       "<td><p class=\"normal\">Multivariate, Time-Series </p></td>\n",
       "<td><p class=\"normal\">Classification </p></td>\n",
       "<td><p class=\"normal\">Real </p></td>\n",
       "<td><p class=\"normal\">2565 </p></td>\n",
       "<td><p class=\"normal\">22 </p></td>\n",
       "<td><p class=\"normal\">2002 </p></td>\n",
       "<!-- <td><p class=\"normal\">Other&nbsp;</p></td> -->\n",
       "</tr><tr bgcolor=\"DDEEFF\">\n",
       "<td><table><tr><td><a href=\"datasets/US+Census+Data+%281990%29\"><img border=\"1\" src=\"assets/MLimages/SmallLarge2.jpg\"/></a> </td><td><p class=\"normal\"><b><a href=\"datasets/US+Census+Data+%281990%29\">US Census Data (1990)</a></b></p></td></tr></table></td>\n",
       "<!-- <td><p class=\"normal\">The USCensus1990raw data set contains a one percent sample of the Public Use Microdata Samples (PUMS) person records drawn from the full 1990 census sample.&nbsp;</p></td> -->\n",
       "<td><p class=\"normal\">Multivariate </p></td>\n",
       "<td><p class=\"normal\">Clustering </p></td>\n",
       "<td><p class=\"normal\">Categorical </p></td>\n",
       "<td><p class=\"normal\">2458285 </p></td>\n",
       "<td><p class=\"normal\">68 </p></td>\n",
       "<td><p class=\"normal\"> </p></td>\n",
       "<!-- <td><p class=\"normal\">Social&nbsp;</p></td> -->\n",
       "</tr><tr>\n",
       "<td><table><tr><td><a href=\"datasets/Census-Income+%28KDD%29\"><img border=\"1\" src=\"assets/MLimages/SmallLarge2.jpg\"/></a> </td><td><p class=\"normal\"><b><a href=\"datasets/Census-Income+%28KDD%29\">Census-Income (KDD)</a></b></p></td></tr></table></td>\n",
       "<!-- <td><p class=\"normal\">This data set contains weighted census data extracted from the 1994 and 1995 current population surveys conducted by the U.S. Census Bureau.&nbsp;</p></td> -->\n",
       "<td><p class=\"normal\">Multivariate </p></td>\n",
       "<td><p class=\"normal\">Classification </p></td>\n",
       "<td><p class=\"normal\">Categorical, Integer </p></td>\n",
       "<td><p class=\"normal\">299285 </p></td>\n",
       "<td><p class=\"normal\">40 </p></td>\n",
       "<td><p class=\"normal\">2000 </p></td>\n",
       "<!-- <td><p class=\"normal\">Social&nbsp;</p></td> -->\n",
       "</tr><tr bgcolor=\"DDEEFF\">\n",
       "<td><table><tr><td><a href=\"datasets/Coil+1999+Competition+Data\"><img border=\"1\" src=\"assets/MLimages/SmallLarge118.jpg\"/></a> </td><td><p class=\"normal\"><b><a href=\"datasets/Coil+1999+Competition+Data\">Coil 1999 Competition Data</a></b></p></td></tr></table></td>\n",
       "<!-- <td><p class=\"normal\">This data set is from the 1999 Computational Intelligence and Learning (COIL) competition. The data contains measurements of river chemical concentrations and algae densities.&nbsp;</p></td> -->\n",
       "<td><p class=\"normal\">Multivariate </p></td>\n",
       "<td><p class=\"normal\"> </p></td>\n",
       "<td><p class=\"normal\">Categorical, Real </p></td>\n",
       "<td><p class=\"normal\">340 </p></td>\n",
       "<td><p class=\"normal\">17 </p></td>\n",
       "<td><p class=\"normal\">1999 </p></td>\n",
       "<!-- <td><p class=\"normal\">Physical&nbsp;</p></td> -->\n",
       "</tr><tr>\n",
       "<td><table><tr><td><a href=\"datasets/Corel+Image+Features\"><img border=\"1\" src=\"assets/MLimages/SmallLarge119.jpg\"/></a> </td><td><p class=\"normal\"><b><a href=\"datasets/Corel+Image+Features\">Corel Image Features</a></b></p></td></tr></table></td>\n",
       "<!-- <td><p class=\"normal\">This dataset contains image features extracted from a Corel image collection. Four sets of features are available based on the color histogram, color histogram layout, color moments, and co-occurence&nbsp;</p></td> -->\n",
       "<td><p class=\"normal\">Multivariate </p></td>\n",
       "<td><p class=\"normal\"> </p></td>\n",
       "<td><p class=\"normal\">Real </p></td>\n",
       "<td><p class=\"normal\">68040 </p></td>\n",
       "<td><p class=\"normal\">89 </p></td>\n",
       "<td><p class=\"normal\">1999 </p></td>\n",
       "<!-- <td><p class=\"normal\">Other&nbsp;</p></td> -->\n",
       "</tr><tr bgcolor=\"DDEEFF\">\n",
       "<td><table><tr><td><a href=\"datasets/E.+Coli+Genes\"><img border=\"1\" src=\"assets/MLimages/SmallLarge120.jpg\"/></a> </td><td><p class=\"normal\"><b><a href=\"datasets/E.+Coli+Genes\">E. Coli Genes</a></b></p></td></tr></table></td>\n",
       "<!-- <td><p class=\"normal\">Data giving characteristics of each ORF (potential gene) in the E. coli genome. Sequence, homology (similarity to other genes) and structural information, and function (if known) are provided.&nbsp;</p></td> -->\n",
       "<td><p class=\"normal\">Relational </p></td>\n",
       "<td><p class=\"normal\"> </p></td>\n",
       "<td><p class=\"normal\"> </p></td>\n",
       "<td><p class=\"normal\"> </p></td>\n",
       "<td><p class=\"normal\"> </p></td>\n",
       "<td><p class=\"normal\">2001 </p></td>\n",
       "<!-- <td><p class=\"normal\">Life&nbsp;</p></td> -->\n",
       "</tr><tr>\n",
       "<td><table><tr><td><a href=\"datasets/EEG+Database\"><img border=\"1\" src=\"assets/MLimages/SmallLarge121.jpg\"/></a> </td><td><p class=\"normal\"><b><a href=\"datasets/EEG+Database\">EEG Database</a></b></p></td></tr></table></td>\n",
       "<!-- <td><p class=\"normal\">This data arises from a large study to examine EEG correlates of genetic predisposition to alcoholism. It contains measurements from 64 electrodes placed on the scalp sampled at 256 Hz&nbsp;</p></td> -->\n",
       "<td><p class=\"normal\">Multivariate, Time-Series </p></td>\n",
       "<td><p class=\"normal\"> </p></td>\n",
       "<td><p class=\"normal\">Categorical, Integer, Real </p></td>\n",
       "<td><p class=\"normal\">122 </p></td>\n",
       "<td><p class=\"normal\">4 </p></td>\n",
       "<td><p class=\"normal\">1999 </p></td>\n",
       "<!-- <td><p class=\"normal\">Life&nbsp;</p></td> -->\n",
       "</tr><tr bgcolor=\"DDEEFF\">\n",
       "<td><table><tr><td><a href=\"datasets/El+Nino\"><img border=\"1\" src=\"assets/MLimages/SmallLargedefault.jpg\"/></a> </td><td><p class=\"normal\"><b><a href=\"datasets/El+Nino\">El Nino</a></b></p></td></tr></table></td>\n",
       "<!-- <td><p class=\"normal\">The data set contains oceanographic and surface meteorological readings taken from a series of buoys positioned throughout the equatorial Pacific.&nbsp;</p></td> -->\n",
       "<td><p class=\"normal\">Spatio-temporal </p></td>\n",
       "<td><p class=\"normal\"> </p></td>\n",
       "<td><p class=\"normal\">Integer, Real </p></td>\n",
       "<td><p class=\"normal\">178080 </p></td>\n",
       "<td><p class=\"normal\">12 </p></td>\n",
       "<td><p class=\"normal\">1999 </p></td>\n",
       "<!-- <td><p class=\"normal\">Physical&nbsp;</p></td> -->\n",
       "</tr><tr>\n",
       "<td><table><tr><td><a href=\"datasets/Entree+Chicago+Recommendation+Data\"><img border=\"1\" src=\"assets/MLimages/SmallLarge123.jpg\"/></a> </td><td><p class=\"normal\"><b><a href=\"datasets/Entree+Chicago+Recommendation+Data\">Entree Chicago Recommendation Data</a></b></p></td></tr></table></td>\n",
       "<!-- <td><p class=\"normal\">This data contains a record of user interactions with the Entree Chicago restaurant recommendation system.&nbsp;</p></td> -->\n",
       "<td><p class=\"normal\">Transactional, Sequential </p></td>\n",
       "<td><p class=\"normal\">Recommender-Systems </p></td>\n",
       "<td><p class=\"normal\">Categorical </p></td>\n",
       "<td><p class=\"normal\">50672 </p></td>\n",
       "<td><p class=\"normal\"> </p></td>\n",
       "<td><p class=\"normal\">2000 </p></td>\n",
       "<!-- <td><p class=\"normal\">Other&nbsp;</p></td> -->\n",
       "</tr><tr bgcolor=\"DDEEFF\">\n",
       "<td><table><tr><td><a href=\"datasets/CMU+Face+Images\"><img border=\"1\" src=\"assets/MLimages/SmallLarge124.jpg\"/></a> </td><td><p class=\"normal\"><b><a href=\"datasets/CMU+Face+Images\">CMU Face Images</a></b></p></td></tr></table></td>\n",
       "<!-- <td><p class=\"normal\">This data consists of 640 black and white face images of people taken with varying pose (straight, left, right, up), expression (neutral, happy, sad, angry), eyes (wearing sunglasses or not), and size&nbsp;</p></td> -->\n",
       "<td><p class=\"normal\">Image </p></td>\n",
       "<td><p class=\"normal\">Classification </p></td>\n",
       "<td><p class=\"normal\">Integer </p></td>\n",
       "<td><p class=\"normal\">640 </p></td>\n",
       "<td><p class=\"normal\"> </p></td>\n",
       "<td><p class=\"normal\">1999 </p></td>\n",
       "<!-- <td><p class=\"normal\">Other&nbsp;</p></td> -->\n",
       "</tr><tr>\n",
       "<td><table><tr><td><a href=\"datasets/Insurance+Company+Benchmark+%28COIL+2000%29\"><img border=\"1\" src=\"assets/MLimages/SmallLargedefault.jpg\"/></a> </td><td><p class=\"normal\"><b><a href=\"datasets/Insurance+Company+Benchmark+%28COIL+2000%29\">Insurance Company Benchmark (COIL 2000)</a></b></p></td></tr></table></td>\n",
       "<!-- <td><p class=\"normal\">This data set used in the CoIL 2000 Challenge contains information on customers of an insurance company. The data consists of 86 variables and includes product usage data and socio-demographic data&nbsp;</p></td> -->\n",
       "<td><p class=\"normal\">Multivariate </p></td>\n",
       "<td><p class=\"normal\">Regression, Description </p></td>\n",
       "<td><p class=\"normal\">Categorical, Integer </p></td>\n",
       "<td><p class=\"normal\">9000 </p></td>\n",
       "<td><p class=\"normal\">86 </p></td>\n",
       "<td><p class=\"normal\">2000 </p></td>\n",
       "<!-- <td><p class=\"normal\">Social&nbsp;</p></td> -->\n",
       "</tr><tr bgcolor=\"DDEEFF\">\n",
       "<td><table><tr><td><a href=\"datasets/Internet+Usage+Data\"><img border=\"1\" src=\"assets/MLimages/SmallLargedefault.jpg\"/></a> </td><td><p class=\"normal\"><b><a href=\"datasets/Internet+Usage+Data\">Internet Usage Data</a></b></p></td></tr></table></td>\n",
       "<!-- <td><p class=\"normal\">This data contains general demographic information on internet users in 1997.&nbsp;</p></td> -->\n",
       "<td><p class=\"normal\">Multivariate </p></td>\n",
       "<td><p class=\"normal\"> </p></td>\n",
       "<td><p class=\"normal\">Categorical, Integer </p></td>\n",
       "<td><p class=\"normal\">10104 </p></td>\n",
       "<td><p class=\"normal\">72 </p></td>\n",
       "<td><p class=\"normal\">1999 </p></td>\n",
       "<!-- <td><p class=\"normal\">Computer&nbsp;</p></td> -->\n",
       "</tr><tr>\n",
       "<td><table><tr><td><a href=\"datasets/IPUMS+Census+Database\"><img border=\"1\" src=\"assets/MLimages/SmallLarge2.jpg\"/></a> </td><td><p class=\"normal\"><b><a href=\"datasets/IPUMS+Census+Database\">IPUMS Census Database</a></b></p></td></tr></table></td>\n",
       "<!-- <td><p class=\"normal\">This data set contains unweighted PUMS census data from the Los Angeles and Long Beach areas for the years 1970, 1980, and 1990.&nbsp;</p></td> -->\n",
       "<td><p class=\"normal\">Multivariate </p></td>\n",
       "<td><p class=\"normal\"> </p></td>\n",
       "<td><p class=\"normal\">Categorical, Integer </p></td>\n",
       "<td><p class=\"normal\">256932 </p></td>\n",
       "<td><p class=\"normal\">61 </p></td>\n",
       "<td><p class=\"normal\">1999 </p></td>\n",
       "<!-- <td><p class=\"normal\">Social&nbsp;</p></td> -->\n",
       "</tr><tr bgcolor=\"DDEEFF\">\n",
       "<td><table><tr><td><a href=\"datasets/Japanese+Vowels\"><img border=\"1\" src=\"assets/MLimages/SmallLargedefault.jpg\"/></a> </td><td><p class=\"normal\"><b><a href=\"datasets/Japanese+Vowels\">Japanese Vowels</a></b></p></td></tr></table></td>\n",
       "<!-- <td><p class=\"normal\">This dataset records 640 time series of 12 LPC cepstrum coefficients taken from nine male speakers.&nbsp;</p></td> -->\n",
       "<td><p class=\"normal\">Multivariate, Time-Series </p></td>\n",
       "<td><p class=\"normal\">Classification </p></td>\n",
       "<td><p class=\"normal\">Real </p></td>\n",
       "<td><p class=\"normal\">640 </p></td>\n",
       "<td><p class=\"normal\">12 </p></td>\n",
       "<td><p class=\"normal\"> </p></td>\n",
       "<!-- <td><p class=\"normal\">Other&nbsp;</p></td> -->\n",
       "</tr><tr>\n",
       "<td><table><tr><td><a href=\"datasets/KDD+Cup+1998+Data\"><img border=\"1\" src=\"assets/MLimages/SmallLargedefault.jpg\"/></a> </td><td><p class=\"normal\"><b><a href=\"datasets/KDD+Cup+1998+Data\">KDD Cup 1998 Data</a></b></p></td></tr></table></td>\n",
       "<!-- <td><p class=\"normal\">This is the data set used for The Second International Knowledge Discovery and Data Mining Tools Competition, which was held in conjunction with KDD-98&nbsp;</p></td> -->\n",
       "<td><p class=\"normal\">Multivariate </p></td>\n",
       "<td><p class=\"normal\">Regression </p></td>\n",
       "<td><p class=\"normal\">Categorical, Integer </p></td>\n",
       "<td><p class=\"normal\">191779 </p></td>\n",
       "<td><p class=\"normal\">481 </p></td>\n",
       "<td><p class=\"normal\">1998 </p></td>\n",
       "<!-- <td><p class=\"normal\">Other&nbsp;</p></td> -->\n",
       "</tr><tr bgcolor=\"DDEEFF\">\n",
       "<td><table><tr><td><a href=\"datasets/KDD+Cup+1999+Data\"><img border=\"1\" src=\"assets/MLimages/SmallLargedefault.jpg\"/></a> </td><td><p class=\"normal\"><b><a href=\"datasets/KDD+Cup+1999+Data\">KDD Cup 1999 Data</a></b></p></td></tr></table></td>\n",
       "<!-- <td><p class=\"normal\">This is the data set used for The Third International Knowledge Discovery and Data Mining Tools Competition, which was held in conjunction with KDD-99&nbsp;</p></td> -->\n",
       "<td><p class=\"normal\">Multivariate </p></td>\n",
       "<td><p class=\"normal\">Classification </p></td>\n",
       "<td><p class=\"normal\">Categorical, Integer </p></td>\n",
       "<td><p class=\"normal\">4000000 </p></td>\n",
       "<td><p class=\"normal\">42 </p></td>\n",
       "<td><p class=\"normal\">1999 </p></td>\n",
       "<!-- <td><p class=\"normal\">Computer&nbsp;</p></td> -->\n",
       "</tr><tr>\n",
       "<td><table><tr><td><a href=\"datasets/M.+Tuberculosis+Genes\"><img border=\"1\" src=\"assets/MLimages/SmallLarge131.jpg\"/></a> </td><td><p class=\"normal\"><b><a href=\"datasets/M.+Tuberculosis+Genes\">M. Tuberculosis Genes</a></b></p></td></tr></table></td>\n",
       "<!-- <td><p class=\"normal\"> Data giving characteristics of each ORF (potential gene) in the M. tuberculosis bacterium. Sequence, homology (similarity to other genes) and structural information, and function (if known) are provided&nbsp;</p></td> -->\n",
       "<td><p class=\"normal\">Relational </p></td>\n",
       "<td><p class=\"normal\"> </p></td>\n",
       "<td><p class=\"normal\"> </p></td>\n",
       "<td><p class=\"normal\"> </p></td>\n",
       "<td><p class=\"normal\"> </p></td>\n",
       "<td><p class=\"normal\">2001 </p></td>\n",
       "<!-- <td><p class=\"normal\">Life&nbsp;</p></td> -->\n",
       "</tr><tr bgcolor=\"DDEEFF\">\n",
       "<td><table><tr><td><a href=\"datasets/Movie\"><img border=\"1\" src=\"assets/MLimages/SmallLarge132.jpg\"/></a> </td><td><p class=\"normal\"><b><a href=\"datasets/Movie\">Movie</a></b></p></td></tr></table></td>\n",
       "<!-- <td><p class=\"normal\">This data set contains a list of over 10000 films including many older, odd, and cult films. There is information on actors, casts, directors, producers, studios, etc.&nbsp;</p></td> -->\n",
       "<td><p class=\"normal\">Multivariate, Relational </p></td>\n",
       "<td><p class=\"normal\"> </p></td>\n",
       "<td><p class=\"normal\"> </p></td>\n",
       "<td><p class=\"normal\">10000 </p></td>\n",
       "<td><p class=\"normal\"> </p></td>\n",
       "<td><p class=\"normal\">1999 </p></td>\n",
       "<!-- <td><p class=\"normal\">Other&nbsp;</p></td> -->\n",
       "</tr><tr>\n",
       "<td><table><tr><td><a href=\"datasets/MSNBC.com+Anonymous+Web+Data\"><img border=\"1\" src=\"assets/MLimages/SmallLargedefault.jpg\"/></a> </td><td><p class=\"normal\"><b><a href=\"datasets/MSNBC.com+Anonymous+Web+Data\">MSNBC.com Anonymous Web Data</a></b></p></td></tr></table></td>\n",
       "<!-- <td><p class=\"normal\">This data describes the page visits of users who visited msnbc.com on September 28, 1999. Visits are recorded at the level of URL category (see description) and are recorded in time order.&nbsp;</p></td> -->\n",
       "<td><p class=\"normal\">Sequential </p></td>\n",
       "<td><p class=\"normal\"> </p></td>\n",
       "<td><p class=\"normal\">Categorical </p></td>\n",
       "<td><p class=\"normal\">989818 </p></td>\n",
       "<td><p class=\"normal\"> </p></td>\n",
       "<td><p class=\"normal\"> </p></td>\n",
       "<!-- <td><p class=\"normal\">Computer&nbsp;</p></td> -->\n",
       "</tr><tr bgcolor=\"DDEEFF\">\n",
       "<td><table><tr><td><a href=\"datasets/NSF+Research+Award+Abstracts+1990-2003\"><img border=\"1\" src=\"assets/MLimages/SmallLarge134.jpg\"/></a> </td><td><p class=\"normal\"><b><a href=\"datasets/NSF+Research+Award+Abstracts+1990-2003\">NSF Research Award Abstracts 1990-2003</a></b></p></td></tr></table></td>\n",
       "<!-- <td><p class=\"normal\">This data set consists of (a) 129,000 abstracts describing NSF awards for basic research, (b) bag-of-word data files extracted from the abstracts, (c) a list of words used for indexing the bag-of-word&nbsp;</p></td> -->\n",
       "<td><p class=\"normal\">Text </p></td>\n",
       "<td><p class=\"normal\"> </p></td>\n",
       "<td><p class=\"normal\"> </p></td>\n",
       "<td><p class=\"normal\">129000 </p></td>\n",
       "<td><p class=\"normal\"> </p></td>\n",
       "<td><p class=\"normal\">2003 </p></td>\n",
       "<!-- <td><p class=\"normal\">Other&nbsp;</p></td> -->\n",
       "</tr><tr>\n",
       "<td><table><tr><td><a href=\"datasets/Pioneer-1+Mobile+Robot+Data\"><img border=\"1\" src=\"assets/MLimages/SmallLargedefault.jpg\"/></a> </td><td><p class=\"normal\"><b><a href=\"datasets/Pioneer-1+Mobile+Robot+Data\">Pioneer-1 Mobile Robot Data</a></b></p></td></tr></table></td>\n",
       "<!-- <td><p class=\"normal\">This dataset contains time series sensor readings of the Pioneer-1 mobile robot. The data is broken into \"experiences\" in which the robot takes action for some period of time and experiences a control&nbsp;</p></td> -->\n",
       "<td><p class=\"normal\">Multivariate, Time-Series </p></td>\n",
       "<td><p class=\"normal\"> </p></td>\n",
       "<td><p class=\"normal\">Categorical, Real </p></td>\n",
       "<td><p class=\"normal\"> </p></td>\n",
       "<td><p class=\"normal\"> </p></td>\n",
       "<td><p class=\"normal\">1999 </p></td>\n",
       "<!-- <td><p class=\"normal\">Computer&nbsp;</p></td> -->\n",
       "</tr><tr bgcolor=\"DDEEFF\">\n",
       "<td><table><tr><td><a href=\"datasets/Pseudo+Periodic+Synthetic+Time+Series\"><img border=\"1\" src=\"assets/MLimages/SmallLarge136.jpg\"/></a> </td><td><p class=\"normal\"><b><a href=\"datasets/Pseudo+Periodic+Synthetic+Time+Series\">Pseudo Periodic Synthetic Time Series</a></b></p></td></tr></table></td>\n",
       "<!-- <td><p class=\"normal\">This data set is designed for testing indexing schemes in time series databases. The data appears highly periodic, but never exactly repeats itself.&nbsp;</p></td> -->\n",
       "<td><p class=\"normal\">Univariate, Time-Series </p></td>\n",
       "<td><p class=\"normal\"> </p></td>\n",
       "<td><p class=\"normal\"> </p></td>\n",
       "<td><p class=\"normal\">100000 </p></td>\n",
       "<td><p class=\"normal\"> </p></td>\n",
       "<td><p class=\"normal\">1999 </p></td>\n",
       "<!-- <td><p class=\"normal\">Other&nbsp;</p></td> -->\n",
       "</tr><tr>\n",
       "<td><table><tr><td><a href=\"datasets/Reuters-21578+Text+Categorization+Collection\"><img border=\"1\" src=\"assets/MLimages/SmallLargedefault.jpg\"/></a> </td><td><p class=\"normal\"><b><a href=\"datasets/Reuters-21578+Text+Categorization+Collection\">Reuters-21578 Text Categorization Collection</a></b></p></td></tr></table></td>\n",
       "<!-- <td><p class=\"normal\">This is a collection of documents that appeared on Reuters newswire in 1987. The documents were assembled and indexed with categories.&nbsp;</p></td> -->\n",
       "<td><p class=\"normal\">Text </p></td>\n",
       "<td><p class=\"normal\">Classification </p></td>\n",
       "<td><p class=\"normal\">Categorical </p></td>\n",
       "<td><p class=\"normal\">21578 </p></td>\n",
       "<td><p class=\"normal\">5 </p></td>\n",
       "<td><p class=\"normal\">1997 </p></td>\n",
       "<!-- <td><p class=\"normal\">Other&nbsp;</p></td> -->\n",
       "</tr><tr bgcolor=\"DDEEFF\">\n",
       "<td><table><tr><td><a href=\"datasets/Robot+Execution+Failures\"><img border=\"1\" src=\"assets/MLimages/SmallLarge138.jpg\"/></a> </td><td><p class=\"normal\"><b><a href=\"datasets/Robot+Execution+Failures\">Robot Execution Failures</a></b></p></td></tr></table></td>\n",
       "<!-- <td><p class=\"normal\">This dataset contains force and torque measurements on a robot after failure detection. Each failure is characterized by 15 force/torque samples collected at regular time intervals&nbsp;</p></td> -->\n",
       "<td><p class=\"normal\">Multivariate, Time-Series </p></td>\n",
       "<td><p class=\"normal\">Classification </p></td>\n",
       "<td><p class=\"normal\">Integer </p></td>\n",
       "<td><p class=\"normal\">463 </p></td>\n",
       "<td><p class=\"normal\">90 </p></td>\n",
       "<td><p class=\"normal\">1999 </p></td>\n",
       "<!-- <td><p class=\"normal\">Physical&nbsp;</p></td> -->\n",
       "</tr><tr>\n",
       "<td><table><tr><td><a href=\"datasets/Synthetic+Control+Chart+Time+Series\"><img border=\"1\" src=\"assets/MLimages/SmallLargedefault.jpg\"/></a> </td><td><p class=\"normal\"><b><a href=\"datasets/Synthetic+Control+Chart+Time+Series\">Synthetic Control Chart Time Series</a></b></p></td></tr></table></td>\n",
       "<!-- <td><p class=\"normal\">This data consists of synthetically generated control charts.&nbsp;</p></td> -->\n",
       "<td><p class=\"normal\">Time-Series </p></td>\n",
       "<td><p class=\"normal\">Classification, Clustering </p></td>\n",
       "<td><p class=\"normal\">Real </p></td>\n",
       "<td><p class=\"normal\">600 </p></td>\n",
       "<td><p class=\"normal\"> </p></td>\n",
       "<td><p class=\"normal\">1999 </p></td>\n",
       "<!-- <td><p class=\"normal\">Other&nbsp;</p></td> -->\n",
       "</tr><tr bgcolor=\"DDEEFF\">\n",
       "<td><table><tr><td><a href=\"datasets/Syskill+and+Webert+Web+Page+Ratings\"><img border=\"1\" src=\"assets/MLimages/SmallLargedefault.jpg\"/></a> </td><td><p class=\"normal\"><b><a href=\"datasets/Syskill+and+Webert+Web+Page+Ratings\">Syskill and Webert Web Page Ratings</a></b></p></td></tr></table></td>\n",
       "<!-- <td><p class=\"normal\">This database contains HTML source of web pages plus the ratings of a single user on these web pages. Web pages are on four seperate subjects (Bands- recording artists; Goats; Sheep; and BioMedical)&nbsp;</p></td> -->\n",
       "<td><p class=\"normal\">Multivariate, Text </p></td>\n",
       "<td><p class=\"normal\">Classification </p></td>\n",
       "<td><p class=\"normal\">Categorical </p></td>\n",
       "<td><p class=\"normal\">332 </p></td>\n",
       "<td><p class=\"normal\">5 </p></td>\n",
       "<td><p class=\"normal\">1998 </p></td>\n",
       "<!-- <td><p class=\"normal\">Computer&nbsp;</p></td> -->\n",
       "</tr><tr>\n",
       "<td><table><tr><td><a href=\"datasets/UNIX+User+Data\"><img border=\"1\" src=\"assets/MLimages/SmallLarge141.jpg\"/></a> </td><td><p class=\"normal\"><b><a href=\"datasets/UNIX+User+Data\">UNIX User Data</a></b></p></td></tr></table></td>\n",
       "<!-- <td><p class=\"normal\">This file contains 9 sets of sanitized user data drawn from the command histories of 8 UNIX computer users at Purdue over the course of up to 2 years.&nbsp;</p></td> -->\n",
       "<td><p class=\"normal\">Text, Sequential </p></td>\n",
       "<td><p class=\"normal\"> </p></td>\n",
       "<td><p class=\"normal\"> </p></td>\n",
       "<td><p class=\"normal\"> </p></td>\n",
       "<td><p class=\"normal\"> </p></td>\n",
       "<td><p class=\"normal\"> </p></td>\n",
       "<!-- <td><p class=\"normal\">Computer&nbsp;</p></td> -->\n",
       "</tr><tr bgcolor=\"DDEEFF\">\n",
       "<td><table><tr><td><a href=\"datasets/Volcanoes+on+Venus+-+JARtool+experiment\"><img border=\"1\" src=\"assets/MLimages/SmallLarge142.jpg\"/></a> </td><td><p class=\"normal\"><b><a href=\"datasets/Volcanoes+on+Venus+-+JARtool+experiment\">Volcanoes on Venus - JARtool experiment</a></b></p></td></tr></table></td>\n",
       "<!-- <td><p class=\"normal\">The JARtool project was a pioneering effort to develop an automatic system for cataloging small volcanoes in the large set of Venus images returned by the Magellan spacecraft.&nbsp;</p></td> -->\n",
       "<td><p class=\"normal\">Image </p></td>\n",
       "<td><p class=\"normal\">Classification </p></td>\n",
       "<td><p class=\"normal\"> </p></td>\n",
       "<td><p class=\"normal\"> </p></td>\n",
       "<td><p class=\"normal\"> </p></td>\n",
       "<td><p class=\"normal\"> </p></td>\n",
       "<!-- <td><p class=\"normal\">Physical&nbsp;</p></td> -->\n",
       "</tr><tr>\n",
       "<td><table><tr><td><a href=\"datasets/Statlog+%28Australian+Credit+Approval%29\"><img border=\"1\" src=\"assets/MLimages/SmallLargedefault.jpg\"/></a> </td><td><p class=\"normal\"><b><a href=\"datasets/Statlog+%28Australian+Credit+Approval%29\">Statlog (Australian Credit Approval)</a></b></p></td></tr></table></td>\n",
       "<!-- <td><p class=\"normal\">This file concerns credit card applications. This database exists elsewhere in the repository (Credit Screening Database) in a slightly different form&nbsp;</p></td> -->\n",
       "<td><p class=\"normal\">Multivariate </p></td>\n",
       "<td><p class=\"normal\">Classification </p></td>\n",
       "<td><p class=\"normal\">Categorical, Integer, Real </p></td>\n",
       "<td><p class=\"normal\">690 </p></td>\n",
       "<td><p class=\"normal\">14 </p></td>\n",
       "<td><p class=\"normal\"> </p></td>\n",
       "<!-- <td><p class=\"normal\">Financial&nbsp;</p></td> -->\n",
       "</tr><tr bgcolor=\"DDEEFF\">\n",
       "<td><table><tr><td><a href=\"datasets/Statlog+%28German+Credit+Data%29\"><img border=\"1\" src=\"assets/MLimages/SmallLargedefault.jpg\"/></a> </td><td><p class=\"normal\"><b><a href=\"datasets/Statlog+%28German+Credit+Data%29\">Statlog (German Credit Data)</a></b></p></td></tr></table></td>\n",
       "<!-- <td><p class=\"normal\">This dataset classifies people described by a set of attributes as good or bad credit risks. Comes in two formats (one all numeric). Also comes with a cost matrix&nbsp;</p></td> -->\n",
       "<td><p class=\"normal\">Multivariate </p></td>\n",
       "<td><p class=\"normal\">Classification </p></td>\n",
       "<td><p class=\"normal\">Categorical, Integer </p></td>\n",
       "<td><p class=\"normal\">1000 </p></td>\n",
       "<td><p class=\"normal\">20 </p></td>\n",
       "<td><p class=\"normal\">1994 </p></td>\n",
       "<!-- <td><p class=\"normal\">Financial&nbsp;</p></td> -->\n",
       "</tr><tr>\n",
       "<td><table><tr><td><a href=\"datasets/Statlog+%28Heart%29\"><img border=\"1\" src=\"assets/MLimages/SmallLarge45.jpg\"/></a> </td><td><p class=\"normal\"><b><a href=\"datasets/Statlog+%28Heart%29\">Statlog (Heart)</a></b></p></td></tr></table></td>\n",
       "<!-- <td><p class=\"normal\">This dataset is a heart disease database similar to a database already present in the repository (Heart Disease databases) but in a slightly different form&nbsp;</p></td> -->\n",
       "<td><p class=\"normal\">Multivariate </p></td>\n",
       "<td><p class=\"normal\">Classification </p></td>\n",
       "<td><p class=\"normal\">Categorical, Real </p></td>\n",
       "<td><p class=\"normal\">270 </p></td>\n",
       "<td><p class=\"normal\">13 </p></td>\n",
       "<td><p class=\"normal\"> </p></td>\n",
       "<!-- <td><p class=\"normal\">Life&nbsp;</p></td> -->\n",
       "</tr><tr bgcolor=\"DDEEFF\">\n",
       "<td><table><tr><td><a href=\"datasets/Statlog+%28Landsat+Satellite%29\"><img border=\"1\" src=\"assets/MLimages/SmallLarge146.jpg\"/></a> </td><td><p class=\"normal\"><b><a href=\"datasets/Statlog+%28Landsat+Satellite%29\">Statlog (Landsat Satellite)</a></b></p></td></tr></table></td>\n",
       "<!-- <td><p class=\"normal\">Multi-spectral values of pixels in 3x3 neighbourhoods in a satellite image, and the classification associated with the central pixel in each neighbourhood&nbsp;</p></td> -->\n",
       "<td><p class=\"normal\">Multivariate </p></td>\n",
       "<td><p class=\"normal\">Classification </p></td>\n",
       "<td><p class=\"normal\">Integer </p></td>\n",
       "<td><p class=\"normal\">6435 </p></td>\n",
       "<td><p class=\"normal\">36 </p></td>\n",
       "<td><p class=\"normal\">1993 </p></td>\n",
       "<!-- <td><p class=\"normal\">Physical&nbsp;</p></td> -->\n",
       "</tr><tr>\n",
       "<td><table><tr><td><a href=\"datasets/Statlog+%28Image+Segmentation%29\"><img border=\"1\" src=\"assets/MLimages/SmallLargedefault.jpg\"/></a> </td><td><p class=\"normal\"><b><a href=\"datasets/Statlog+%28Image+Segmentation%29\">Statlog (Image Segmentation)</a></b></p></td></tr></table></td>\n",
       "<!-- <td><p class=\"normal\">This dataset is an image segmentation database similar to a database already present in the repository (Image segmentation database) but in a slightly different form.&nbsp;</p></td> -->\n",
       "<td><p class=\"normal\">Multivariate </p></td>\n",
       "<td><p class=\"normal\">Classification </p></td>\n",
       "<td><p class=\"normal\">Real </p></td>\n",
       "<td><p class=\"normal\">2310 </p></td>\n",
       "<td><p class=\"normal\">19 </p></td>\n",
       "<td><p class=\"normal\">1990 </p></td>\n",
       "<!-- <td><p class=\"normal\">Other&nbsp;</p></td> -->\n",
       "</tr><tr bgcolor=\"DDEEFF\">\n",
       "<td><table><tr><td><a href=\"datasets/Statlog+%28Shuttle%29\"><img border=\"1\" src=\"assets/MLimages/SmallLarge92.jpg\"/></a> </td><td><p class=\"normal\"><b><a href=\"datasets/Statlog+%28Shuttle%29\">Statlog (Shuttle)</a></b></p></td></tr></table></td>\n",
       "<!-- <td><p class=\"normal\">The shuttle dataset contains 9 attributes all of which are numerical. Approximately 80% of the data belongs to class 1&nbsp;</p></td> -->\n",
       "<td><p class=\"normal\">Multivariate </p></td>\n",
       "<td><p class=\"normal\">Classification </p></td>\n",
       "<td><p class=\"normal\">Integer </p></td>\n",
       "<td><p class=\"normal\">58000 </p></td>\n",
       "<td><p class=\"normal\">9 </p></td>\n",
       "<td><p class=\"normal\"> </p></td>\n",
       "<!-- <td><p class=\"normal\">Physical&nbsp;</p></td> -->\n",
       "</tr><tr>\n",
       "<td><table><tr><td><a href=\"datasets/Statlog+%28Vehicle+Silhouettes%29\"><img border=\"1\" src=\"assets/MLimages/SmallLarge149.jpg\"/></a> </td><td><p class=\"normal\"><b><a href=\"datasets/Statlog+%28Vehicle+Silhouettes%29\">Statlog (Vehicle Silhouettes)</a></b></p></td></tr></table></td>\n",
       "<!-- <td><p class=\"normal\">3D objects within a 2D image by application of an ensemble of shape feature extractors to the 2D silhouettes of the objects.&nbsp;</p></td> -->\n",
       "<td><p class=\"normal\">Multivariate </p></td>\n",
       "<td><p class=\"normal\">Classification </p></td>\n",
       "<td><p class=\"normal\">Integer </p></td>\n",
       "<td><p class=\"normal\">946 </p></td>\n",
       "<td><p class=\"normal\">18 </p></td>\n",
       "<td><p class=\"normal\"> </p></td>\n",
       "<!-- <td><p class=\"normal\">Other&nbsp;</p></td> -->\n",
       "</tr><tr bgcolor=\"DDEEFF\">\n",
       "<td><table><tr><td><a href=\"datasets/Connectionist+Bench+%28Nettalk+Corpus%29\"><img border=\"1\" src=\"assets/MLimages/SmallLargedefault.jpg\"/></a> </td><td><p class=\"normal\"><b><a href=\"datasets/Connectionist+Bench+%28Nettalk+Corpus%29\">Connectionist Bench (Nettalk Corpus)</a></b></p></td></tr></table></td>\n",
       "<!-- <td><p class=\"normal\">The file \"nettalk.data\" contains a list of 20,008 English words, along with a phonetic transcription for each word. The task is to train a network to produce the proper phonemes&nbsp;</p></td> -->\n",
       "<td><p class=\"normal\">Multivariate </p></td>\n",
       "<td><p class=\"normal\"> </p></td>\n",
       "<td><p class=\"normal\">Categorical </p></td>\n",
       "<td><p class=\"normal\">20008 </p></td>\n",
       "<td><p class=\"normal\">4 </p></td>\n",
       "<td><p class=\"normal\"> </p></td>\n",
       "<!-- <td><p class=\"normal\">Other&nbsp;</p></td> -->\n",
       "</tr><tr>\n",
       "<td><table><tr><td><a href=\"datasets/Connectionist+Bench+%28Sonar%2C+Mines+vs.+Rocks%29\"><img border=\"1\" src=\"assets/MLimages/SmallLargedefault.jpg\"/></a> </td><td><p class=\"normal\"><b><a href=\"datasets/Connectionist+Bench+%28Sonar%2C+Mines+vs.+Rocks%29\">Connectionist Bench (Sonar, Mines vs. Rocks)</a></b></p></td></tr></table></td>\n",
       "<!-- <td><p class=\"normal\">The task is to train a network to discriminate between sonar signals bounced off a metal cylinder and those bounced off a roughly cylindrical rock.&nbsp;</p></td> -->\n",
       "<td><p class=\"normal\">Multivariate </p></td>\n",
       "<td><p class=\"normal\">Classification </p></td>\n",
       "<td><p class=\"normal\">Real </p></td>\n",
       "<td><p class=\"normal\">208 </p></td>\n",
       "<td><p class=\"normal\">60 </p></td>\n",
       "<td><p class=\"normal\"> </p></td>\n",
       "<!-- <td><p class=\"normal\">Physical&nbsp;</p></td> -->\n",
       "</tr><tr bgcolor=\"DDEEFF\">\n",
       "<td><table><tr><td><a href=\"datasets/Connectionist+Bench+%28Vowel+Recognition+-+Deterding+Data%29\"><img border=\"1\" src=\"assets/MLimages/SmallLargedefault.jpg\"/></a> </td><td><p class=\"normal\"><b><a href=\"datasets/Connectionist+Bench+%28Vowel+Recognition+-+Deterding+Data%29\">Connectionist Bench (Vowel Recognition - Deterding Data)</a></b></p></td></tr></table></td>\n",
       "<!-- <td><p class=\"normal\">Speaker independent recognition of the eleven steady state vowels of British English using a specified training set of lpc derived log area ratios.&nbsp;</p></td> -->\n",
       "<td><p class=\"normal\"> </p></td>\n",
       "<td><p class=\"normal\">Classification </p></td>\n",
       "<td><p class=\"normal\">Real </p></td>\n",
       "<td><p class=\"normal\">528 </p></td>\n",
       "<td><p class=\"normal\">10 </p></td>\n",
       "<td><p class=\"normal\"> </p></td>\n",
       "<!-- <td><p class=\"normal\">Other&nbsp;</p></td> -->\n",
       "</tr><tr>\n",
       "<td><table><tr><td><a href=\"datasets/Economic+Sanctions\"><img border=\"1\" src=\"assets/MLimages/SmallLarge153.jpg\"/></a> </td><td><p class=\"normal\"><b><a href=\"datasets/Economic+Sanctions\">Economic Sanctions</a></b></p></td></tr></table></td>\n",
       "<!-- <td><p class=\"normal\">Domain Theory on Economic Sanctions; Undocumented&nbsp;</p></td> -->\n",
       "<td><p class=\"normal\">Domain-Theory </p></td>\n",
       "<td><p class=\"normal\"> </p></td>\n",
       "<td><p class=\"normal\"> </p></td>\n",
       "<td><p class=\"normal\"> </p></td>\n",
       "<td><p class=\"normal\"> </p></td>\n",
       "<td><p class=\"normal\"> </p></td>\n",
       "<!-- <td><p class=\"normal\">Financial&nbsp;</p></td> -->\n",
       "</tr><tr bgcolor=\"DDEEFF\">\n",
       "<td><table><tr><td><a href=\"datasets/Protein+Data\"><img border=\"1\" src=\"assets/MLimages/SmallLarge154.jpg\"/></a> </td><td><p class=\"normal\"><b><a href=\"datasets/Protein+Data\">Protein Data</a></b></p></td></tr></table></td>\n",
       "<!-- <td><p class=\"normal\">Undocumented&nbsp;</p></td> -->\n",
       "<td><p class=\"normal\"> </p></td>\n",
       "<td><p class=\"normal\"> </p></td>\n",
       "<td><p class=\"normal\"> </p></td>\n",
       "<td><p class=\"normal\"> </p></td>\n",
       "<td><p class=\"normal\"> </p></td>\n",
       "<td><p class=\"normal\"> </p></td>\n",
       "<!-- <td><p class=\"normal\">Life&nbsp;</p></td> -->\n",
       "</tr><tr>\n",
       "<td><table><tr><td><a href=\"datasets/Cloud\"><img border=\"1\" src=\"assets/MLimages/SmallLarge155.jpg\"/></a> </td><td><p class=\"normal\"><b><a href=\"datasets/Cloud\">Cloud</a></b></p></td></tr></table></td>\n",
       "<!-- <td><p class=\"normal\">Little Documentation&nbsp;</p></td> -->\n",
       "<td><p class=\"normal\">Multivariate </p></td>\n",
       "<td><p class=\"normal\"> </p></td>\n",
       "<td><p class=\"normal\">Real </p></td>\n",
       "<td><p class=\"normal\">1024 </p></td>\n",
       "<td><p class=\"normal\">10 </p></td>\n",
       "<td><p class=\"normal\">1989 </p></td>\n",
       "<!-- <td><p class=\"normal\">Physical&nbsp;</p></td> -->\n",
       "</tr><tr bgcolor=\"DDEEFF\">\n",
       "<td><table><tr><td><a href=\"datasets/CalIt2+Building+People+Counts\"><img border=\"1\" src=\"assets/MLimages/SmallLarge156.jpg\"/></a> </td><td><p class=\"normal\"><b><a href=\"datasets/CalIt2+Building+People+Counts\">CalIt2 Building People Counts</a></b></p></td></tr></table></td>\n",
       "<!-- <td><p class=\"normal\">This data comes from the main door of the CalIt2 building at UCI.&nbsp;</p></td> -->\n",
       "<td><p class=\"normal\">Multivariate, Time-Series </p></td>\n",
       "<td><p class=\"normal\"> </p></td>\n",
       "<td><p class=\"normal\">Categorical, Integer </p></td>\n",
       "<td><p class=\"normal\">10080 </p></td>\n",
       "<td><p class=\"normal\">4 </p></td>\n",
       "<td><p class=\"normal\">2006 </p></td>\n",
       "<!-- <td><p class=\"normal\">Other&nbsp;</p></td> -->\n",
       "</tr><tr>\n",
       "<td><table><tr><td><a href=\"datasets/Dodgers+Loop+Sensor\"><img border=\"1\" src=\"assets/MLimages/SmallLarge157.jpg\"/></a> </td><td><p class=\"normal\"><b><a href=\"datasets/Dodgers+Loop+Sensor\">Dodgers Loop Sensor</a></b></p></td></tr></table></td>\n",
       "<!-- <td><p class=\"normal\">Loop sensor data was collected for the Glendale on ramp for the 101 North freeway in Los Angeles&nbsp;</p></td> -->\n",
       "<td><p class=\"normal\">Multivariate, Time-Series </p></td>\n",
       "<td><p class=\"normal\"> </p></td>\n",
       "<td><p class=\"normal\">Categorical, Integer </p></td>\n",
       "<td><p class=\"normal\">50400 </p></td>\n",
       "<td><p class=\"normal\">3 </p></td>\n",
       "<td><p class=\"normal\">2006 </p></td>\n",
       "<!-- <td><p class=\"normal\">Other&nbsp;</p></td> -->\n",
       "</tr><tr bgcolor=\"DDEEFF\">\n",
       "<td><table><tr><td><a href=\"datasets/Poker+Hand\"><img border=\"1\" src=\"assets/MLimages/SmallLarge158.jpg\"/></a> </td><td><p class=\"normal\"><b><a href=\"datasets/Poker+Hand\">Poker Hand</a></b></p></td></tr></table></td>\n",
       "<!-- <td><p class=\"normal\">Purpose is to predict poker hands&nbsp;</p></td> -->\n",
       "<td><p class=\"normal\">Multivariate </p></td>\n",
       "<td><p class=\"normal\">Classification </p></td>\n",
       "<td><p class=\"normal\">Categorical, Integer </p></td>\n",
       "<td><p class=\"normal\">1025010 </p></td>\n",
       "<td><p class=\"normal\">11 </p></td>\n",
       "<td><p class=\"normal\">2007 </p></td>\n",
       "<!-- <td><p class=\"normal\">Game&nbsp;</p></td> -->\n",
       "</tr><tr>\n",
       "<td><table><tr><td><a href=\"datasets/MAGIC+Gamma+Telescope\"><img border=\"1\" src=\"assets/MLimages/SmallLarge159.jpg\"/></a> </td><td><p class=\"normal\"><b><a href=\"datasets/MAGIC+Gamma+Telescope\">MAGIC Gamma Telescope</a></b></p></td></tr></table></td>\n",
       "<!-- <td><p class=\"normal\">Data are MC generated to simulate registration of high energy gamma particles in an atmospheric Cherenkov telescope&nbsp;</p></td> -->\n",
       "<td><p class=\"normal\">Multivariate </p></td>\n",
       "<td><p class=\"normal\">Classification </p></td>\n",
       "<td><p class=\"normal\">Real </p></td>\n",
       "<td><p class=\"normal\">19020 </p></td>\n",
       "<td><p class=\"normal\">11 </p></td>\n",
       "<td><p class=\"normal\">2007 </p></td>\n",
       "<!-- <td><p class=\"normal\">Physical&nbsp;</p></td> -->\n",
       "</tr><tr bgcolor=\"DDEEFF\">\n",
       "<td><table><tr><td><a href=\"datasets/UJI+Pen+Characters\"><img border=\"1\" src=\"assets/MLimages/SmallLarge160.jpg\"/></a> </td><td><p class=\"normal\"><b><a href=\"datasets/UJI+Pen+Characters\">UJI Pen Characters</a></b></p></td></tr></table></td>\n",
       "<!-- <td><p class=\"normal\">Data consists of written characters in a UNIPEN-like format&nbsp;</p></td> -->\n",
       "<td><p class=\"normal\">Multivariate, Sequential </p></td>\n",
       "<td><p class=\"normal\">Classification </p></td>\n",
       "<td><p class=\"normal\">Integer </p></td>\n",
       "<td><p class=\"normal\">1364 </p></td>\n",
       "<td><p class=\"normal\"> </p></td>\n",
       "<td><p class=\"normal\">2007 </p></td>\n",
       "<!-- <td><p class=\"normal\">Computer&nbsp;</p></td> -->\n",
       "</tr><tr>\n",
       "<td><table><tr><td><a href=\"datasets/Mammographic+Mass\"><img border=\"1\" src=\"assets/MLimages/SmallLargedefault.jpg\"/></a> </td><td><p class=\"normal\"><b><a href=\"datasets/Mammographic+Mass\">Mammographic Mass</a></b></p></td></tr></table></td>\n",
       "<!-- <td><p class=\"normal\">Discrimination of benign and malignant mammographic masses based on BI-RADS attributes and the patient's age.&nbsp;</p></td> -->\n",
       "<td><p class=\"normal\">Multivariate </p></td>\n",
       "<td><p class=\"normal\">Classification </p></td>\n",
       "<td><p class=\"normal\">Integer </p></td>\n",
       "<td><p class=\"normal\">961 </p></td>\n",
       "<td><p class=\"normal\">6 </p></td>\n",
       "<td><p class=\"normal\">2007 </p></td>\n",
       "<!-- <td><p class=\"normal\">Life&nbsp;</p></td> -->\n",
       "</tr><tr bgcolor=\"DDEEFF\">\n",
       "<td><table><tr><td><a href=\"datasets/Forest+Fires\"><img border=\"1\" src=\"assets/MLimages/SmallLarge162.jpg\"/></a> </td><td><p class=\"normal\"><b><a href=\"datasets/Forest+Fires\">Forest Fires</a></b></p></td></tr></table></td>\n",
       "<!-- <td><p class=\"normal\">This is a difficult regression task, where the aim is to predict the burned area of forest fires, in the northeast region of Portugal, by using meteorological and other data (see details at: http://www.dsi.uminho.pt/~pcortez/forestfires).&nbsp;</p></td> -->\n",
       "<td><p class=\"normal\">Multivariate </p></td>\n",
       "<td><p class=\"normal\">Regression </p></td>\n",
       "<td><p class=\"normal\">Real </p></td>\n",
       "<td><p class=\"normal\">517 </p></td>\n",
       "<td><p class=\"normal\">13 </p></td>\n",
       "<td><p class=\"normal\">2008 </p></td>\n",
       "<!-- <td><p class=\"normal\">Physical&nbsp;</p></td> -->\n",
       "</tr><tr>\n",
       "<td><table><tr><td><a href=\"datasets/Reuters+Transcribed+Subset\"><img border=\"1\" src=\"assets/MLimages/SmallLargedefault.jpg\"/></a> </td><td><p class=\"normal\"><b><a href=\"datasets/Reuters+Transcribed+Subset\">Reuters Transcribed Subset</a></b></p></td></tr></table></td>\n",
       "<!-- <td><p class=\"normal\">This dataset is created by reading out 200 files from the 10 largest Reuters \n",
       "classes and using an Automatic Speech Recognition system to create \n",
       "corresponding transcriptions.&nbsp;</p></td> -->\n",
       "<td><p class=\"normal\">Text </p></td>\n",
       "<td><p class=\"normal\">Classification </p></td>\n",
       "<td><p class=\"normal\"> </p></td>\n",
       "<td><p class=\"normal\">200 </p></td>\n",
       "<td><p class=\"normal\"> </p></td>\n",
       "<td><p class=\"normal\">2008 </p></td>\n",
       "<!-- <td><p class=\"normal\">Business&nbsp;</p></td> -->\n",
       "</tr><tr bgcolor=\"DDEEFF\">\n",
       "<td><table><tr><td><a href=\"datasets/Bag+of+Words\"><img border=\"1\" src=\"assets/MLimages/SmallLargedefault.jpg\"/></a> </td><td><p class=\"normal\"><b><a href=\"datasets/Bag+of+Words\">Bag of Words</a></b></p></td></tr></table></td>\n",
       "<!-- <td><p class=\"normal\">This data set contains five text collections in the form of bags-of-words.&nbsp;</p></td> -->\n",
       "<td><p class=\"normal\">Text </p></td>\n",
       "<td><p class=\"normal\">Clustering </p></td>\n",
       "<td><p class=\"normal\">Integer </p></td>\n",
       "<td><p class=\"normal\">8000000 </p></td>\n",
       "<td><p class=\"normal\">100000 </p></td>\n",
       "<td><p class=\"normal\">2008 </p></td>\n",
       "<!-- <td><p class=\"normal\">Other&nbsp;</p></td> -->\n",
       "</tr><tr>\n",
       "<td><table><tr><td><a href=\"datasets/Concrete+Compressive+Strength\"><img border=\"1\" src=\"assets/MLimages/SmallLarge165.jpg\"/></a> </td><td><p class=\"normal\"><b><a href=\"datasets/Concrete+Compressive+Strength\">Concrete Compressive Strength</a></b></p></td></tr></table></td>\n",
       "<!-- <td><p class=\"normal\">Concrete is the most important material in civil engineering. The concrete compressive strength is a highly nonlinear function of age and ingredients. &nbsp;</p></td> -->\n",
       "<td><p class=\"normal\">Multivariate </p></td>\n",
       "<td><p class=\"normal\">Regression </p></td>\n",
       "<td><p class=\"normal\">Real </p></td>\n",
       "<td><p class=\"normal\">1030 </p></td>\n",
       "<td><p class=\"normal\">9 </p></td>\n",
       "<td><p class=\"normal\">2007 </p></td>\n",
       "<!-- <td><p class=\"normal\">Physical&nbsp;</p></td> -->\n",
       "</tr><tr bgcolor=\"DDEEFF\">\n",
       "<td><table><tr><td><a href=\"datasets/Hill-Valley\"><img border=\"1\" src=\"assets/MLimages/SmallLarge166.jpg\"/></a> </td><td><p class=\"normal\"><b><a href=\"datasets/Hill-Valley\">Hill-Valley</a></b></p></td></tr></table></td>\n",
       "<!-- <td><p class=\"normal\">Each record represents 100 points on a two-dimensional graph. When plotted in order (from 1 through 100) as the Y co-ordinate, the points will create either a Hill (a “bump” in the terrain) or a Valley (a “dip” in the terrain).&nbsp;</p></td> -->\n",
       "<td><p class=\"normal\">Sequential </p></td>\n",
       "<td><p class=\"normal\">Classification </p></td>\n",
       "<td><p class=\"normal\">Real </p></td>\n",
       "<td><p class=\"normal\">606 </p></td>\n",
       "<td><p class=\"normal\">101 </p></td>\n",
       "<td><p class=\"normal\">2008 </p></td>\n",
       "<!-- <td><p class=\"normal\">Other&nbsp;</p></td> -->\n",
       "</tr><tr>\n",
       "<td><table><tr><td><a href=\"datasets/Arcene\"><img border=\"1\" src=\"assets/MLimages/SmallLarge167.jpg\"/></a> </td><td><p class=\"normal\"><b><a href=\"datasets/Arcene\">Arcene</a></b></p></td></tr></table></td>\n",
       "<!-- <td><p class=\"normal\">ARCENE's task is to distinguish cancer versus normal patterns from mass-spectrometric data. This is a two-class classification problem with continuous input variables. This dataset is one of 5 datasets of the NIPS 2003 feature selection challenge.&nbsp;</p></td> -->\n",
       "<td><p class=\"normal\">Multivariate </p></td>\n",
       "<td><p class=\"normal\">Classification </p></td>\n",
       "<td><p class=\"normal\">Real </p></td>\n",
       "<td><p class=\"normal\">900 </p></td>\n",
       "<td><p class=\"normal\">10000 </p></td>\n",
       "<td><p class=\"normal\">2008 </p></td>\n",
       "<!-- <td><p class=\"normal\">Life&nbsp;</p></td> -->\n",
       "</tr><tr bgcolor=\"DDEEFF\">\n",
       "<td><table><tr><td><a href=\"datasets/Dexter\"><img border=\"1\" src=\"assets/MLimages/SmallLarge168.jpg\"/></a> </td><td><p class=\"normal\"><b><a href=\"datasets/Dexter\">Dexter</a></b></p></td></tr></table></td>\n",
       "<!-- <td><p class=\"normal\">DEXTER is a text classification problem in a bag-of-word representation. This is a two-class classification problem with sparse continuous input variables. This dataset is one of five datasets of the NIPS 2003 feature selection challenge.\n",
       "&nbsp;</p></td> -->\n",
       "<td><p class=\"normal\">Multivariate </p></td>\n",
       "<td><p class=\"normal\">Classification </p></td>\n",
       "<td><p class=\"normal\">Integer </p></td>\n",
       "<td><p class=\"normal\">2600 </p></td>\n",
       "<td><p class=\"normal\">20000 </p></td>\n",
       "<td><p class=\"normal\">2008 </p></td>\n",
       "<!-- <td><p class=\"normal\">Other&nbsp;</p></td> -->\n",
       "</tr><tr>\n",
       "<td><table><tr><td><a href=\"datasets/Dorothea\"><img border=\"1\" src=\"assets/MLimages/SmallLarge169.jpg\"/></a> </td><td><p class=\"normal\"><b><a href=\"datasets/Dorothea\">Dorothea</a></b></p></td></tr></table></td>\n",
       "<!-- <td><p class=\"normal\">DOROTHEA is a drug discovery dataset. Chemical compounds represented by structural molecular features must be classified as active (binding to thrombin) or inactive. This is one of 5 datasets of the NIPS 2003 feature selection challenge.&nbsp;</p></td> -->\n",
       "<td><p class=\"normal\">Multivariate </p></td>\n",
       "<td><p class=\"normal\">Classification </p></td>\n",
       "<td><p class=\"normal\">Integer </p></td>\n",
       "<td><p class=\"normal\">1950 </p></td>\n",
       "<td><p class=\"normal\">100000 </p></td>\n",
       "<td><p class=\"normal\">2008 </p></td>\n",
       "<!-- <td><p class=\"normal\">Life&nbsp;</p></td> -->\n",
       "</tr><tr bgcolor=\"DDEEFF\">\n",
       "<td><table><tr><td><a href=\"datasets/Gisette\"><img border=\"1\" src=\"assets/MLimages/SmallLarge170.jpg\"/></a> </td><td><p class=\"normal\"><b><a href=\"datasets/Gisette\">Gisette</a></b></p></td></tr></table></td>\n",
       "<!-- <td><p class=\"normal\">GISETTE is a handwritten digit recognition problem. The problem is to separate the highly confusible digits '4' and '9'. This dataset is one of five datasets of the NIPS 2003 feature selection challenge.\n",
       "&nbsp;</p></td> -->\n",
       "<td><p class=\"normal\">Multivariate </p></td>\n",
       "<td><p class=\"normal\">Classification </p></td>\n",
       "<td><p class=\"normal\">Integer </p></td>\n",
       "<td><p class=\"normal\">13500 </p></td>\n",
       "<td><p class=\"normal\">5000 </p></td>\n",
       "<td><p class=\"normal\">2008 </p></td>\n",
       "<!-- <td><p class=\"normal\">Computer&nbsp;</p></td> -->\n",
       "</tr><tr>\n",
       "<td><table><tr><td><a href=\"datasets/Madelon\"><img border=\"1\" src=\"assets/MLimages/SmallLarge171.jpg\"/></a> </td><td><p class=\"normal\"><b><a href=\"datasets/Madelon\">Madelon</a></b></p></td></tr></table></td>\n",
       "<!-- <td><p class=\"normal\">MADELON is an artificial dataset, which was part of the NIPS 2003 feature selection challenge. This is a two-class classification problem with continuous input variables. The difficulty is that the problem is multivariate and highly non-linear. &nbsp;</p></td> -->\n",
       "<td><p class=\"normal\">Multivariate </p></td>\n",
       "<td><p class=\"normal\">Classification </p></td>\n",
       "<td><p class=\"normal\">Real </p></td>\n",
       "<td><p class=\"normal\">4400 </p></td>\n",
       "<td><p class=\"normal\">500 </p></td>\n",
       "<td><p class=\"normal\">2008 </p></td>\n",
       "<!-- <td><p class=\"normal\">Other&nbsp;</p></td> -->\n",
       "</tr><tr bgcolor=\"DDEEFF\">\n",
       "<td><table><tr><td><a href=\"datasets/Ozone+Level+Detection\"><img border=\"1\" src=\"assets/MLimages/SmallLarge172.jpg\"/></a> </td><td><p class=\"normal\"><b><a href=\"datasets/Ozone+Level+Detection\">Ozone Level Detection</a></b></p></td></tr></table></td>\n",
       "<!-- <td><p class=\"normal\">Two ground ozone level data sets are included in this collection. One is the eight hour peak set (eighthr.data), the other is the one hour peak set (onehr.data). Those data were collected from 1998 to 2004 at the Houston, Galveston and Brazoria area.&nbsp;</p></td> -->\n",
       "<td><p class=\"normal\">Multivariate, Sequential, Time-Series </p></td>\n",
       "<td><p class=\"normal\">Classification </p></td>\n",
       "<td><p class=\"normal\">Real </p></td>\n",
       "<td><p class=\"normal\">2536 </p></td>\n",
       "<td><p class=\"normal\">73 </p></td>\n",
       "<td><p class=\"normal\">2008 </p></td>\n",
       "<!-- <td><p class=\"normal\">Physical&nbsp;</p></td> -->\n",
       "</tr><tr>\n",
       "<td><table><tr><td><a href=\"datasets/Abscisic+Acid+Signaling+Network\"><img border=\"1\" src=\"assets/MLimages/SmallLargedefault.jpg\"/></a> </td><td><p class=\"normal\"><b><a href=\"datasets/Abscisic+Acid+Signaling+Network\">Abscisic Acid Signaling Network</a></b></p></td></tr></table></td>\n",
       "<!-- <td><p class=\"normal\">The objective is to determine the set of boolean rules that describe the interactions of the nodes within this plant signaling network.  The dataset includes 300 separate boolean pseudodynamic simulations using an asynchronous update scheme. &nbsp;</p></td> -->\n",
       "<td><p class=\"normal\">Multivariate </p></td>\n",
       "<td><p class=\"normal\">Causal-Discovery </p></td>\n",
       "<td><p class=\"normal\">Integer </p></td>\n",
       "<td><p class=\"normal\">300 </p></td>\n",
       "<td><p class=\"normal\">43 </p></td>\n",
       "<td><p class=\"normal\">2008 </p></td>\n",
       "<!-- <td><p class=\"normal\">Life&nbsp;</p></td> -->\n",
       "</tr><tr bgcolor=\"DDEEFF\">\n",
       "<td><table><tr><td><a href=\"datasets/Parkinsons\"><img border=\"1\" src=\"assets/MLimages/SmallLarge174.jpg\"/></a> </td><td><p class=\"normal\"><b><a href=\"datasets/Parkinsons\">Parkinsons</a></b></p></td></tr></table></td>\n",
       "<!-- <td><p class=\"normal\">Oxford Parkinson's Disease Detection Dataset&nbsp;</p></td> -->\n",
       "<td><p class=\"normal\">Multivariate </p></td>\n",
       "<td><p class=\"normal\">Classification </p></td>\n",
       "<td><p class=\"normal\">Real </p></td>\n",
       "<td><p class=\"normal\">197 </p></td>\n",
       "<td><p class=\"normal\">23 </p></td>\n",
       "<td><p class=\"normal\">2008 </p></td>\n",
       "<!-- <td><p class=\"normal\">Life&nbsp;</p></td> -->\n",
       "</tr><tr>\n",
       "<td><table><tr><td><a href=\"datasets/Character+Trajectories\"><img border=\"1\" src=\"assets/MLimages/SmallLarge175.jpg\"/></a> </td><td><p class=\"normal\"><b><a href=\"datasets/Character+Trajectories\">Character Trajectories</a></b></p></td></tr></table></td>\n",
       "<!-- <td><p class=\"normal\">Multiple, labelled samples of pen tip trajectories recorded whilst writing individual characters. All samples are from the same writer, for the purposes of primitive extraction. Only characters with a single pen-down segment were considered.&nbsp;</p></td> -->\n",
       "<td><p class=\"normal\">Time-Series </p></td>\n",
       "<td><p class=\"normal\">Classification, Clustering </p></td>\n",
       "<td><p class=\"normal\">Real </p></td>\n",
       "<td><p class=\"normal\">2858 </p></td>\n",
       "<td><p class=\"normal\">3 </p></td>\n",
       "<td><p class=\"normal\">2008 </p></td>\n",
       "<!-- <td><p class=\"normal\">Computer&nbsp;</p></td> -->\n",
       "</tr><tr bgcolor=\"DDEEFF\">\n",
       "<td><table><tr><td><a href=\"datasets/Blood+Transfusion+Service+Center\"><img border=\"1\" src=\"assets/MLimages/SmallLarge176.jpg\"/></a> </td><td><p class=\"normal\"><b><a href=\"datasets/Blood+Transfusion+Service+Center\">Blood Transfusion Service Center</a></b></p></td></tr></table></td>\n",
       "<!-- <td><p class=\"normal\">Data taken from the Blood Transfusion Service Center in Hsin-Chu City in Taiwan -- this is a classification problem. &nbsp;</p></td> -->\n",
       "<td><p class=\"normal\">Multivariate </p></td>\n",
       "<td><p class=\"normal\">Classification </p></td>\n",
       "<td><p class=\"normal\">Real </p></td>\n",
       "<td><p class=\"normal\">748 </p></td>\n",
       "<td><p class=\"normal\">5 </p></td>\n",
       "<td><p class=\"normal\">2008 </p></td>\n",
       "<!-- <td><p class=\"normal\">Business&nbsp;</p></td> -->\n",
       "</tr><tr>\n",
       "<td><table><tr><td><a href=\"datasets/UJI+Pen+Characters+%28Version+2%29\"><img border=\"1\" src=\"assets/MLimages/SmallLarge160.jpg\"/></a> </td><td><p class=\"normal\"><b><a href=\"datasets/UJI+Pen+Characters+%28Version+2%29\">UJI Pen Characters (Version 2)</a></b></p></td></tr></table></td>\n",
       "<!-- <td><p class=\"normal\">A pen-based database with more than 11k isolated handwritten characters&nbsp;</p></td> -->\n",
       "<td><p class=\"normal\">Multivariate, Sequential </p></td>\n",
       "<td><p class=\"normal\">Classification </p></td>\n",
       "<td><p class=\"normal\">Integer </p></td>\n",
       "<td><p class=\"normal\">11640 </p></td>\n",
       "<td><p class=\"normal\"> </p></td>\n",
       "<td><p class=\"normal\">2009 </p></td>\n",
       "<!-- <td><p class=\"normal\">Computer&nbsp;</p></td> -->\n",
       "</tr><tr bgcolor=\"DDEEFF\">\n",
       "<td><table><tr><td><a href=\"datasets/Semeion+Handwritten+Digit\"><img border=\"1\" src=\"assets/MLimages/SmallLarge178.jpg\"/></a> </td><td><p class=\"normal\"><b><a href=\"datasets/Semeion+Handwritten+Digit\">Semeion Handwritten Digit</a></b></p></td></tr></table></td>\n",
       "<!-- <td><p class=\"normal\">1593 handwritten digits from around 80 persons were scanned, stretched in a rectangular box 16x16 in a gray scale of 256 values.&nbsp;</p></td> -->\n",
       "<td><p class=\"normal\">Multivariate </p></td>\n",
       "<td><p class=\"normal\">Classification </p></td>\n",
       "<td><p class=\"normal\">Integer </p></td>\n",
       "<td><p class=\"normal\">1593 </p></td>\n",
       "<td><p class=\"normal\">256 </p></td>\n",
       "<td><p class=\"normal\">2008 </p></td>\n",
       "<!-- <td><p class=\"normal\">Computer&nbsp;</p></td> -->\n",
       "</tr><tr>\n",
       "<td><table><tr><td><a href=\"datasets/SECOM\"><img border=\"1\" src=\"assets/MLimages/SmallLarge179.jpg\"/></a> </td><td><p class=\"normal\"><b><a href=\"datasets/SECOM\">SECOM</a></b></p></td></tr></table></td>\n",
       "<!-- <td><p class=\"normal\">Data from a semi-conductor manufacturing process&nbsp;</p></td> -->\n",
       "<td><p class=\"normal\">Multivariate </p></td>\n",
       "<td><p class=\"normal\">Classification, Causal-Discovery </p></td>\n",
       "<td><p class=\"normal\">Real </p></td>\n",
       "<td><p class=\"normal\">1567 </p></td>\n",
       "<td><p class=\"normal\">591 </p></td>\n",
       "<td><p class=\"normal\">2008 </p></td>\n",
       "<!-- <td><p class=\"normal\">Computer&nbsp;</p></td> -->\n",
       "</tr><tr bgcolor=\"DDEEFF\">\n",
       "<td><table><tr><td><a href=\"datasets/Plants\"><img border=\"1\" src=\"assets/MLimages/SmallLarge180.jpg\"/></a> </td><td><p class=\"normal\"><b><a href=\"datasets/Plants\">Plants</a></b></p></td></tr></table></td>\n",
       "<!-- <td><p class=\"normal\">Data has been extracted from the USDA plants database. It contains all plants (species and genera) in the database and the states of USA and Canada where they occur.&nbsp;</p></td> -->\n",
       "<td><p class=\"normal\">Multivariate </p></td>\n",
       "<td><p class=\"normal\">Clustering </p></td>\n",
       "<td><p class=\"normal\">Categorical </p></td>\n",
       "<td><p class=\"normal\">22632 </p></td>\n",
       "<td><p class=\"normal\">70 </p></td>\n",
       "<td><p class=\"normal\">2008 </p></td>\n",
       "<!-- <td><p class=\"normal\">Life&nbsp;</p></td> -->\n",
       "</tr><tr>\n",
       "<td><table><tr><td><a href=\"datasets/Libras+Movement\"><img border=\"1\" src=\"assets/MLimages/SmallLarge181.jpg\"/></a> </td><td><p class=\"normal\"><b><a href=\"datasets/Libras+Movement\">Libras Movement</a></b></p></td></tr></table></td>\n",
       "<!-- <td><p class=\"normal\">The data set contains 15 classes of 24 instances each. Each class references to a hand movement type in LIBRAS (Portuguese\n",
       "name 'LÍngua BRAsileira de Sinais', oficial brazilian signal language).&nbsp;</p></td> -->\n",
       "<td><p class=\"normal\">Multivariate, Sequential </p></td>\n",
       "<td><p class=\"normal\">Classification, Clustering </p></td>\n",
       "<td><p class=\"normal\">Real </p></td>\n",
       "<td><p class=\"normal\">360 </p></td>\n",
       "<td><p class=\"normal\">91 </p></td>\n",
       "<td><p class=\"normal\">2009 </p></td>\n",
       "<!-- <td><p class=\"normal\">Other&nbsp;</p></td> -->\n",
       "</tr><tr bgcolor=\"DDEEFF\">\n",
       "<td><table><tr><td><a href=\"datasets/Concrete+Slump+Test\"><img border=\"1\" src=\"assets/MLimages/SmallLarge165.jpg\"/></a> </td><td><p class=\"normal\"><b><a href=\"datasets/Concrete+Slump+Test\">Concrete Slump Test</a></b></p></td></tr></table></td>\n",
       "<!-- <td><p class=\"normal\">Concrete is a highly complex material. The slump flow of concrete is not only determined by the water content, but that is also influenced by other concrete ingredients.&nbsp;</p></td> -->\n",
       "<td><p class=\"normal\">Multivariate </p></td>\n",
       "<td><p class=\"normal\">Regression </p></td>\n",
       "<td><p class=\"normal\">Real </p></td>\n",
       "<td><p class=\"normal\">103 </p></td>\n",
       "<td><p class=\"normal\">10 </p></td>\n",
       "<td><p class=\"normal\">2009 </p></td>\n",
       "<!-- <td><p class=\"normal\">Computer&nbsp;</p></td> -->\n",
       "</tr><tr>\n",
       "<td><table><tr><td><a href=\"datasets/Communities+and+Crime\"><img border=\"1\" src=\"assets/MLimages/SmallLarge183.jpg\"/></a> </td><td><p class=\"normal\"><b><a href=\"datasets/Communities+and+Crime\">Communities and Crime</a></b></p></td></tr></table></td>\n",
       "<!-- <td><p class=\"normal\">Communities within the United States. The data combines socio-economic data from the 1990 US Census, law enforcement data from the 1990 US LEMAS survey, and crime data from the 1995 FBI UCR.&nbsp;</p></td> -->\n",
       "<td><p class=\"normal\">Multivariate </p></td>\n",
       "<td><p class=\"normal\">Regression </p></td>\n",
       "<td><p class=\"normal\">Real </p></td>\n",
       "<td><p class=\"normal\">1994 </p></td>\n",
       "<td><p class=\"normal\">128 </p></td>\n",
       "<td><p class=\"normal\">2009 </p></td>\n",
       "<!-- <td><p class=\"normal\">Social&nbsp;</p></td> -->\n",
       "</tr><tr bgcolor=\"DDEEFF\">\n",
       "<td><table><tr><td><a href=\"datasets/Acute+Inflammations\"><img border=\"1\" src=\"assets/MLimages/SmallLarge184.jpg\"/></a> </td><td><p class=\"normal\"><b><a href=\"datasets/Acute+Inflammations\">Acute Inflammations</a></b></p></td></tr></table></td>\n",
       "<!-- <td><p class=\"normal\">The data was created by a medical expert as a data set to test the expert system, \n",
       "which will perform the presumptive diagnosis of two diseases of the urinary system.\n",
       "&nbsp;</p></td> -->\n",
       "<td><p class=\"normal\">Multivariate </p></td>\n",
       "<td><p class=\"normal\">Classification </p></td>\n",
       "<td><p class=\"normal\">Categorical, Integer </p></td>\n",
       "<td><p class=\"normal\">120 </p></td>\n",
       "<td><p class=\"normal\">6 </p></td>\n",
       "<td><p class=\"normal\">2009 </p></td>\n",
       "<!-- <td><p class=\"normal\">Life&nbsp;</p></td> -->\n",
       "</tr><tr>\n",
       "<td><table><tr><td><a href=\"datasets/Wine+Quality\"><img border=\"1\" src=\"assets/MLimages/SmallLarge186.jpg\"/></a> </td><td><p class=\"normal\"><b><a href=\"datasets/Wine+Quality\">Wine Quality</a></b></p></td></tr></table></td>\n",
       "<!-- <td><p class=\"normal\">Two datasets are included, related to red and white vinho verde wine samples, from the north of Portugal. The goal is to model wine quality based on physicochemical tests (see [Cortez et al., 2009], http://www3.dsi.uminho.pt/pcortez/wine/).&nbsp;</p></td> -->\n",
       "<td><p class=\"normal\">Multivariate </p></td>\n",
       "<td><p class=\"normal\">Classification, Regression </p></td>\n",
       "<td><p class=\"normal\">Real </p></td>\n",
       "<td><p class=\"normal\">4898 </p></td>\n",
       "<td><p class=\"normal\">12 </p></td>\n",
       "<td><p class=\"normal\">2009 </p></td>\n",
       "<!-- <td><p class=\"normal\">Business&nbsp;</p></td> -->\n",
       "</tr><tr bgcolor=\"DDEEFF\">\n",
       "<td><table><tr><td><a href=\"datasets/URL+Reputation\"><img border=\"1\" src=\"assets/MLimages/SmallLarge187.jpg\"/></a> </td><td><p class=\"normal\"><b><a href=\"datasets/URL+Reputation\">URL Reputation</a></b></p></td></tr></table></td>\n",
       "<!-- <td><p class=\"normal\">Anonymized 120-day subset of the ICML-09 URL data containing 2.4 million examples and 3.2 million features.&nbsp;</p></td> -->\n",
       "<td><p class=\"normal\">Multivariate, Time-Series </p></td>\n",
       "<td><p class=\"normal\">Classification </p></td>\n",
       "<td><p class=\"normal\">Integer, Real </p></td>\n",
       "<td><p class=\"normal\">2396130 </p></td>\n",
       "<td><p class=\"normal\">3231961 </p></td>\n",
       "<td><p class=\"normal\">2009 </p></td>\n",
       "<!-- <td><p class=\"normal\">Computer&nbsp;</p></td> -->\n",
       "</tr><tr>\n",
       "<td><table><tr><td><a href=\"datasets/p53+Mutants\"><img border=\"1\" src=\"assets/MLimages/SmallLarge188.jpg\"/></a> </td><td><p class=\"normal\"><b><a href=\"datasets/p53+Mutants\">p53 Mutants</a></b></p></td></tr></table></td>\n",
       "<!-- <td><p class=\"normal\">The goal is to model mutant p53 transcriptional activity (active vs inactive) based on data extracted from biophysical simulations.\n",
       "&nbsp;</p></td> -->\n",
       "<td><p class=\"normal\">Multivariate </p></td>\n",
       "<td><p class=\"normal\">Classification </p></td>\n",
       "<td><p class=\"normal\">Real </p></td>\n",
       "<td><p class=\"normal\">16772 </p></td>\n",
       "<td><p class=\"normal\">5409 </p></td>\n",
       "<td><p class=\"normal\">2010 </p></td>\n",
       "<!-- <td><p class=\"normal\">Life&nbsp;</p></td> -->\n",
       "</tr><tr bgcolor=\"DDEEFF\">\n",
       "<td><table><tr><td><a href=\"datasets/Parkinsons+Telemonitoring\"><img border=\"1\" src=\"assets/MLimages/SmallLarge174.jpg\"/></a> </td><td><p class=\"normal\"><b><a href=\"datasets/Parkinsons+Telemonitoring\">Parkinsons Telemonitoring</a></b></p></td></tr></table></td>\n",
       "</tr></table></td></tr></table></body></html>"
      ]
     },
     "execution_count": 473,
     "metadata": {},
     "output_type": "execute_result"
    }
   ],
   "source": [
    "soup = BeautifulSoup(page.content)\n",
    "soup"
   ]
  },
  {
   "cell_type": "code",
   "execution_count": 474,
   "id": "76aa24ce",
   "metadata": {
    "scrolled": true
   },
   "outputs": [],
   "source": [
    "title =[]\n",
    "for i in soup.find_all('p',class_=\"normal\"):\n",
    "    title.append(i.text.splitlines())"
   ]
  },
  {
   "cell_type": "markdown",
   "id": "d5672b30",
   "metadata": {},
   "source": [
    "### Extracting  Dataset Name"
   ]
  },
  {
   "cell_type": "code",
   "execution_count": 475,
   "id": "5e1a4d81",
   "metadata": {},
   "outputs": [],
   "source": [
    "len(title)\n",
    "na=[]\n",
    "i=8"
   ]
  },
  {
   "cell_type": "code",
   "execution_count": 476,
   "id": "8573f068",
   "metadata": {},
   "outputs": [],
   "source": [
    "while i < len(title):\n",
    "    na.append(title[i])\n",
    "    i=i+7"
   ]
  },
  {
   "cell_type": "code",
   "execution_count": 477,
   "id": "abb65f19",
   "metadata": {},
   "outputs": [
    {
     "data": {
      "text/plain": [
       "186"
      ]
     },
     "execution_count": 477,
     "metadata": {},
     "output_type": "execute_result"
    }
   ],
   "source": [
    "len(na)"
   ]
  },
  {
   "cell_type": "markdown",
   "id": "5614e8d5",
   "metadata": {},
   "source": [
    "### Extracting Data type"
   ]
  },
  {
   "cell_type": "code",
   "execution_count": 478,
   "id": "292ee30f",
   "metadata": {},
   "outputs": [],
   "source": [
    "dt=[]\n",
    "i=9"
   ]
  },
  {
   "cell_type": "code",
   "execution_count": 479,
   "id": "3c15c537",
   "metadata": {},
   "outputs": [],
   "source": [
    "while i < len(title):\n",
    "    dt.append(title[i])\n",
    "    i=i+7"
   ]
  },
  {
   "cell_type": "code",
   "execution_count": 480,
   "id": "8df2db59",
   "metadata": {},
   "outputs": [
    {
     "data": {
      "text/plain": [
       "185"
      ]
     },
     "execution_count": 480,
     "metadata": {},
     "output_type": "execute_result"
    }
   ],
   "source": [
    "len(dt)"
   ]
  },
  {
   "cell_type": "markdown",
   "id": "6f197391",
   "metadata": {},
   "source": [
    "### Extracting Default task"
   ]
  },
  {
   "cell_type": "code",
   "execution_count": 481,
   "id": "f91075d8",
   "metadata": {},
   "outputs": [],
   "source": [
    "task=[]\n",
    "i=10"
   ]
  },
  {
   "cell_type": "code",
   "execution_count": 482,
   "id": "13a55708",
   "metadata": {},
   "outputs": [],
   "source": [
    "while i < len(title):\n",
    "    task.append(title[i])\n",
    "    i=i+7"
   ]
  },
  {
   "cell_type": "code",
   "execution_count": 483,
   "id": "64721043",
   "metadata": {},
   "outputs": [
    {
     "data": {
      "text/plain": [
       "185"
      ]
     },
     "execution_count": 483,
     "metadata": {},
     "output_type": "execute_result"
    }
   ],
   "source": [
    "len(task)"
   ]
  },
  {
   "cell_type": "markdown",
   "id": "651ff488",
   "metadata": {},
   "source": [
    "### Extracting Attribute type"
   ]
  },
  {
   "cell_type": "code",
   "execution_count": 484,
   "id": "2f396a1d",
   "metadata": {},
   "outputs": [],
   "source": [
    "at=[]\n",
    "i=11"
   ]
  },
  {
   "cell_type": "code",
   "execution_count": 485,
   "id": "b10830df",
   "metadata": {},
   "outputs": [],
   "source": [
    "while i < len(title):\n",
    "    at.append(title[i])\n",
    "    i=i+7"
   ]
  },
  {
   "cell_type": "code",
   "execution_count": 486,
   "id": "972db848",
   "metadata": {},
   "outputs": [
    {
     "data": {
      "text/plain": [
       "185"
      ]
     },
     "execution_count": 486,
     "metadata": {},
     "output_type": "execute_result"
    }
   ],
   "source": [
    "len(at)"
   ]
  },
  {
   "cell_type": "markdown",
   "id": "39f54795",
   "metadata": {},
   "source": [
    "### Extracting Instances"
   ]
  },
  {
   "cell_type": "code",
   "execution_count": 487,
   "id": "6ca5b886",
   "metadata": {},
   "outputs": [],
   "source": [
    "ins=[]\n",
    "i=12"
   ]
  },
  {
   "cell_type": "code",
   "execution_count": 488,
   "id": "e6e59881",
   "metadata": {},
   "outputs": [],
   "source": [
    "while i < len(title):\n",
    "    ins.append(title[i])\n",
    "    i=i+7"
   ]
  },
  {
   "cell_type": "code",
   "execution_count": 489,
   "id": "8ae59085",
   "metadata": {},
   "outputs": [
    {
     "data": {
      "text/plain": [
       "185"
      ]
     },
     "execution_count": 489,
     "metadata": {},
     "output_type": "execute_result"
    }
   ],
   "source": [
    "len(ins)"
   ]
  },
  {
   "cell_type": "markdown",
   "id": "b19cbc93",
   "metadata": {},
   "source": [
    "### Extracting Attributes"
   ]
  },
  {
   "cell_type": "code",
   "execution_count": 490,
   "id": "fd217818",
   "metadata": {},
   "outputs": [],
   "source": [
    "att=[]\n",
    "i=13"
   ]
  },
  {
   "cell_type": "code",
   "execution_count": 491,
   "id": "99f686bf",
   "metadata": {},
   "outputs": [],
   "source": [
    "while i < len(title):\n",
    "    att.append(title[i])\n",
    "    i=i+7"
   ]
  },
  {
   "cell_type": "code",
   "execution_count": 492,
   "id": "8ab426bc",
   "metadata": {},
   "outputs": [
    {
     "data": {
      "text/plain": [
       "185"
      ]
     },
     "execution_count": 492,
     "metadata": {},
     "output_type": "execute_result"
    }
   ],
   "source": [
    "len(att)"
   ]
  },
  {
   "cell_type": "markdown",
   "id": "230c9777",
   "metadata": {},
   "source": [
    "### Extracting year"
   ]
  },
  {
   "cell_type": "code",
   "execution_count": 493,
   "id": "a127f69c",
   "metadata": {},
   "outputs": [],
   "source": [
    "yr=[]\n",
    "i=14"
   ]
  },
  {
   "cell_type": "code",
   "execution_count": 494,
   "id": "c0e2ffd5",
   "metadata": {},
   "outputs": [],
   "source": [
    "while i < len(title):\n",
    "    yr.append(title[i])\n",
    "    i=i+7"
   ]
  },
  {
   "cell_type": "code",
   "execution_count": 495,
   "id": "3873aa70",
   "metadata": {},
   "outputs": [
    {
     "data": {
      "text/plain": [
       "185"
      ]
     },
     "execution_count": 495,
     "metadata": {},
     "output_type": "execute_result"
    }
   ],
   "source": [
    "len(yr)"
   ]
  },
  {
   "cell_type": "markdown",
   "id": "d1c1d8ec",
   "metadata": {},
   "source": [
    "### Creating the Final Dataset"
   ]
  },
  {
   "cell_type": "code",
   "execution_count": 496,
   "id": "546779b7",
   "metadata": {},
   "outputs": [],
   "source": [
    "uci = pd.DataFrame({'Name' :na[:185],'Data Types':dt,'Default Task':task,'Attribute Type': at,'Instances':ins,'Attributes':att,'Year':yr })"
   ]
  },
  {
   "cell_type": "code",
   "execution_count": 497,
   "id": "a53ac398",
   "metadata": {},
   "outputs": [
    {
     "data": {
      "text/html": [
       "<div>\n",
       "<style scoped>\n",
       "    .dataframe tbody tr th:only-of-type {\n",
       "        vertical-align: middle;\n",
       "    }\n",
       "\n",
       "    .dataframe tbody tr th {\n",
       "        vertical-align: top;\n",
       "    }\n",
       "\n",
       "    .dataframe thead th {\n",
       "        text-align: right;\n",
       "    }\n",
       "</style>\n",
       "<table border=\"1\" class=\"dataframe\">\n",
       "  <thead>\n",
       "    <tr style=\"text-align: right;\">\n",
       "      <th></th>\n",
       "      <th>Name</th>\n",
       "      <th>Data Types</th>\n",
       "      <th>Default Task</th>\n",
       "      <th>Attribute Type</th>\n",
       "      <th>Instances</th>\n",
       "      <th>Attributes</th>\n",
       "      <th>Year</th>\n",
       "    </tr>\n",
       "  </thead>\n",
       "  <tbody>\n",
       "    <tr>\n",
       "      <th>0</th>\n",
       "      <td>[Abalone]</td>\n",
       "      <td>[Multivariate ]</td>\n",
       "      <td>[Classification ]</td>\n",
       "      <td>[Categorical, Integer, Real ]</td>\n",
       "      <td>[4177 ]</td>\n",
       "      <td>[8 ]</td>\n",
       "      <td>[1995 ]</td>\n",
       "    </tr>\n",
       "    <tr>\n",
       "      <th>1</th>\n",
       "      <td>[Adult]</td>\n",
       "      <td>[Multivariate ]</td>\n",
       "      <td>[Classification ]</td>\n",
       "      <td>[Categorical, Integer ]</td>\n",
       "      <td>[48842 ]</td>\n",
       "      <td>[14 ]</td>\n",
       "      <td>[1996 ]</td>\n",
       "    </tr>\n",
       "    <tr>\n",
       "      <th>2</th>\n",
       "      <td>[Annealing]</td>\n",
       "      <td>[Multivariate ]</td>\n",
       "      <td>[Classification ]</td>\n",
       "      <td>[Categorical, Integer, Real ]</td>\n",
       "      <td>[798 ]</td>\n",
       "      <td>[38 ]</td>\n",
       "      <td>[ ]</td>\n",
       "    </tr>\n",
       "    <tr>\n",
       "      <th>3</th>\n",
       "      <td>[Anonymous Microsoft Web Data]</td>\n",
       "      <td>[ ]</td>\n",
       "      <td>[Recommender-Systems ]</td>\n",
       "      <td>[Categorical ]</td>\n",
       "      <td>[37711 ]</td>\n",
       "      <td>[294 ]</td>\n",
       "      <td>[1998 ]</td>\n",
       "    </tr>\n",
       "    <tr>\n",
       "      <th>4</th>\n",
       "      <td>[Arrhythmia]</td>\n",
       "      <td>[Multivariate ]</td>\n",
       "      <td>[Classification ]</td>\n",
       "      <td>[Categorical, Integer, Real ]</td>\n",
       "      <td>[452 ]</td>\n",
       "      <td>[279 ]</td>\n",
       "      <td>[1998 ]</td>\n",
       "    </tr>\n",
       "    <tr>\n",
       "      <th>...</th>\n",
       "      <td>...</td>\n",
       "      <td>...</td>\n",
       "      <td>...</td>\n",
       "      <td>...</td>\n",
       "      <td>...</td>\n",
       "      <td>...</td>\n",
       "      <td>...</td>\n",
       "    </tr>\n",
       "    <tr>\n",
       "      <th>180</th>\n",
       "      <td>[Communities and Crime]</td>\n",
       "      <td>[Multivariate ]</td>\n",
       "      <td>[Regression ]</td>\n",
       "      <td>[Real ]</td>\n",
       "      <td>[1994 ]</td>\n",
       "      <td>[128 ]</td>\n",
       "      <td>[2009 ]</td>\n",
       "    </tr>\n",
       "    <tr>\n",
       "      <th>181</th>\n",
       "      <td>[Acute Inflammations]</td>\n",
       "      <td>[Multivariate ]</td>\n",
       "      <td>[Classification ]</td>\n",
       "      <td>[Categorical, Integer ]</td>\n",
       "      <td>[120 ]</td>\n",
       "      <td>[6 ]</td>\n",
       "      <td>[2009 ]</td>\n",
       "    </tr>\n",
       "    <tr>\n",
       "      <th>182</th>\n",
       "      <td>[Wine Quality]</td>\n",
       "      <td>[Multivariate ]</td>\n",
       "      <td>[Classification, Regression ]</td>\n",
       "      <td>[Real ]</td>\n",
       "      <td>[4898 ]</td>\n",
       "      <td>[12 ]</td>\n",
       "      <td>[2009 ]</td>\n",
       "    </tr>\n",
       "    <tr>\n",
       "      <th>183</th>\n",
       "      <td>[URL Reputation]</td>\n",
       "      <td>[Multivariate, Time-Series ]</td>\n",
       "      <td>[Classification ]</td>\n",
       "      <td>[Integer, Real ]</td>\n",
       "      <td>[2396130 ]</td>\n",
       "      <td>[3231961 ]</td>\n",
       "      <td>[2009 ]</td>\n",
       "    </tr>\n",
       "    <tr>\n",
       "      <th>184</th>\n",
       "      <td>[p53 Mutants]</td>\n",
       "      <td>[Multivariate ]</td>\n",
       "      <td>[Classification ]</td>\n",
       "      <td>[Real ]</td>\n",
       "      <td>[16772 ]</td>\n",
       "      <td>[5409 ]</td>\n",
       "      <td>[2010 ]</td>\n",
       "    </tr>\n",
       "  </tbody>\n",
       "</table>\n",
       "<p>185 rows × 7 columns</p>\n",
       "</div>"
      ],
      "text/plain": [
       "                               Name                    Data Types  \\\n",
       "0                         [Abalone]               [Multivariate ]   \n",
       "1                           [Adult]               [Multivariate ]   \n",
       "2                       [Annealing]               [Multivariate ]   \n",
       "3    [Anonymous Microsoft Web Data]                           [ ]   \n",
       "4                      [Arrhythmia]               [Multivariate ]   \n",
       "..                              ...                           ...   \n",
       "180         [Communities and Crime]               [Multivariate ]   \n",
       "181           [Acute Inflammations]               [Multivariate ]   \n",
       "182                  [Wine Quality]               [Multivariate ]   \n",
       "183                [URL Reputation]  [Multivariate, Time-Series ]   \n",
       "184                   [p53 Mutants]               [Multivariate ]   \n",
       "\n",
       "                      Default Task                 Attribute Type   Instances  \\\n",
       "0                [Classification ]  [Categorical, Integer, Real ]     [4177 ]   \n",
       "1                [Classification ]        [Categorical, Integer ]    [48842 ]   \n",
       "2                [Classification ]  [Categorical, Integer, Real ]      [798 ]   \n",
       "3           [Recommender-Systems ]                 [Categorical ]    [37711 ]   \n",
       "4                [Classification ]  [Categorical, Integer, Real ]      [452 ]   \n",
       "..                             ...                            ...         ...   \n",
       "180                  [Regression ]                        [Real ]     [1994 ]   \n",
       "181              [Classification ]        [Categorical, Integer ]      [120 ]   \n",
       "182  [Classification, Regression ]                        [Real ]     [4898 ]   \n",
       "183              [Classification ]               [Integer, Real ]  [2396130 ]   \n",
       "184              [Classification ]                        [Real ]    [16772 ]   \n",
       "\n",
       "     Attributes     Year  \n",
       "0          [8 ]  [1995 ]  \n",
       "1         [14 ]  [1996 ]  \n",
       "2         [38 ]      [ ]  \n",
       "3        [294 ]  [1998 ]  \n",
       "4        [279 ]  [1998 ]  \n",
       "..          ...      ...  \n",
       "180      [128 ]  [2009 ]  \n",
       "181        [6 ]  [2009 ]  \n",
       "182       [12 ]  [2009 ]  \n",
       "183  [3231961 ]  [2009 ]  \n",
       "184     [5409 ]  [2010 ]  \n",
       "\n",
       "[185 rows x 7 columns]"
      ]
     },
     "execution_count": 497,
     "metadata": {},
     "output_type": "execute_result"
    }
   ],
   "source": [
    "uci"
   ]
  }
 ],
 "metadata": {
  "kernelspec": {
   "display_name": "Python 3",
   "language": "python",
   "name": "python3"
  },
  "language_info": {
   "codemirror_mode": {
    "name": "ipython",
    "version": 3
   },
   "file_extension": ".py",
   "mimetype": "text/x-python",
   "name": "python",
   "nbconvert_exporter": "python",
   "pygments_lexer": "ipython3",
   "version": "3.8.8"
  }
 },
 "nbformat": 4,
 "nbformat_minor": 5
}
