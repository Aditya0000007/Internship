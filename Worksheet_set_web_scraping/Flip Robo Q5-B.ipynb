{
 "cells": [
  {
   "cell_type": "code",
   "execution_count": null,
   "id": "8537ef4d",
   "metadata": {},
   "outputs": [],
   "source": [
    "#importing the requiredlibraries\n",
    "from bs4 import BeautifulSoup\n",
    "import requests\n"
   ]
  },
  {
   "cell_type": "code",
   "execution_count": null,
   "id": "098edc40",
   "metadata": {},
   "outputs": [],
   "source": [
    "page = requests.get('https://www.icc-cricket.com/rankings/mens/player-rankings/odi')\n",
    "page"
   ]
  },
  {
   "cell_type": "code",
   "execution_count": null,
   "id": "8f7ea25f",
   "metadata": {},
   "outputs": [],
   "source": [
    "soup = BeautifulSoup(page.content)\n",
    "soup"
   ]
  },
  {
   "cell_type": "code",
   "execution_count": null,
   "id": "2ea8a574",
   "metadata": {},
   "outputs": [],
   "source": [
    "title =[]\n",
    "converted_list=[]\n",
    "count = 0\n",
    "t = soup.find('div',class_=\"rankings-block__banner--name\")\n",
    "title.append(t.text)\n",
    "\n",
    "for i in soup.find_all('td',class_= \"table-body__cell name\"):\n",
    "    if count < 9:\n",
    "        title.append(i.text)\n",
    "    count = count +1\n",
    "\n",
    "for element in title:\n",
    "    converted_list.append(element.strip())\n",
    "converted_list"
   ]
  },
  {
   "cell_type": "code",
   "execution_count": null,
   "id": "ba71463e",
   "metadata": {},
   "outputs": [],
   "source": [
    "country =[]\n",
    "converted_list1=[]\n",
    "count1 = 0\n",
    "c = soup.find('div',class_=\"rankings-block__banner--nationality\")\n",
    "country.append(c.text.split()[0])\n"
   ]
  },
  {
   "cell_type": "code",
   "execution_count": null,
   "id": "995d3652",
   "metadata": {},
   "outputs": [],
   "source": [
    "country"
   ]
  },
  {
   "cell_type": "code",
   "execution_count": null,
   "id": "e5089db3",
   "metadata": {},
   "outputs": [],
   "source": [
    "for c1 in soup.find_all('span',class_= \"table-body__logo-text\"):\n",
    "    if count1 < 9:\n",
    "        country.append(c1.text)\n",
    "    count1 = count1 +1\n"
   ]
  },
  {
   "cell_type": "code",
   "execution_count": null,
   "id": "55e9d719",
   "metadata": {},
   "outputs": [],
   "source": [
    "country"
   ]
  },
  {
   "cell_type": "code",
   "execution_count": null,
   "id": "1658e45a",
   "metadata": {},
   "outputs": [],
   "source": [
    "rating =[]\n",
    "converted_list2=[]\n",
    "count2 = 0\n",
    "r = soup.find('div',class_=\"rankings-block__banner--rating\")\n",
    "rating.append(r.text)\n",
    "rating"
   ]
  },
  {
   "cell_type": "code",
   "execution_count": null,
   "id": "deabc0a2",
   "metadata": {},
   "outputs": [],
   "source": [
    "for r1 in soup.find_all('td',class_= \"table-body__cell u-text-right rating\"):\n",
    "    if count2 < 9:\n",
    "        rating.append(r1.text)\n",
    "    count2 = count2 +1"
   ]
  },
  {
   "cell_type": "code",
   "execution_count": null,
   "id": "33dde4e7",
   "metadata": {},
   "outputs": [],
   "source": [
    "rating"
   ]
  },
  {
   "cell_type": "code",
   "execution_count": null,
   "id": "3401ef0c",
   "metadata": {},
   "outputs": [],
   "source": [
    "import pandas as pd\n",
    "df = pd.DataFrame({'Player Name':converted_list,'Team':country,'Rating':rating})"
   ]
  },
  {
   "cell_type": "code",
   "execution_count": null,
   "id": "054f4683",
   "metadata": {},
   "outputs": [],
   "source": [
    "df"
   ]
  },
  {
   "cell_type": "code",
   "execution_count": null,
   "id": "7ae35b91",
   "metadata": {},
   "outputs": [],
   "source": []
  }
 ],
 "metadata": {
  "kernelspec": {
   "display_name": "Python 3",
   "language": "python",
   "name": "python3"
  },
  "language_info": {
   "codemirror_mode": {
    "name": "ipython",
    "version": 3
   },
   "file_extension": ".py",
   "mimetype": "text/x-python",
   "name": "python",
   "nbconvert_exporter": "python",
   "pygments_lexer": "ipython3",
   "version": "3.8.8"
  }
 },
 "nbformat": 4,
 "nbformat_minor": 5
}
