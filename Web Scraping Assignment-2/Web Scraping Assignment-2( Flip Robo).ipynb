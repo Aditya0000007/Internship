{
 "cells": [
  {
   "cell_type": "code",
   "execution_count": 1,
   "id": "37fdaaf6",
   "metadata": {},
   "outputs": [
    {
     "name": "stdout",
     "output_type": "stream",
     "text": [
      "Collecting selenium\n",
      "  Downloading selenium-4.1.0-py3-none-any.whl (958 kB)\n",
      "Requirement already satisfied: urllib3[secure]~=1.26 in c:\\programdata\\anaconda3\\lib\\site-packages (from selenium) (1.26.4)\n",
      "Collecting trio~=0.17\n",
      "  Downloading trio-0.19.0-py3-none-any.whl (356 kB)\n",
      "Collecting trio-websocket~=0.9\n",
      "  Downloading trio_websocket-0.9.2-py3-none-any.whl (16 kB)\n",
      "Collecting outcome\n",
      "  Downloading outcome-1.1.0-py2.py3-none-any.whl (9.7 kB)\n",
      "Requirement already satisfied: cffi>=1.14 in c:\\programdata\\anaconda3\\lib\\site-packages (from trio~=0.17->selenium) (1.14.5)\n",
      "Requirement already satisfied: async-generator>=1.9 in c:\\programdata\\anaconda3\\lib\\site-packages (from trio~=0.17->selenium) (1.10)\n",
      "Requirement already satisfied: sortedcontainers in c:\\programdata\\anaconda3\\lib\\site-packages (from trio~=0.17->selenium) (2.3.0)\n",
      "Requirement already satisfied: attrs>=19.2.0 in c:\\programdata\\anaconda3\\lib\\site-packages (from trio~=0.17->selenium) (20.3.0)\n",
      "Requirement already satisfied: idna in c:\\programdata\\anaconda3\\lib\\site-packages (from trio~=0.17->selenium) (2.10)\n",
      "Requirement already satisfied: sniffio in c:\\programdata\\anaconda3\\lib\\site-packages (from trio~=0.17->selenium) (1.2.0)\n",
      "Requirement already satisfied: pycparser in c:\\programdata\\anaconda3\\lib\\site-packages (from cffi>=1.14->trio~=0.17->selenium) (2.20)\n",
      "Collecting wsproto>=0.14\n",
      "  Downloading wsproto-1.0.0-py3-none-any.whl (24 kB)\n",
      "Requirement already satisfied: certifi in c:\\programdata\\anaconda3\\lib\\site-packages (from urllib3[secure]~=1.26->selenium) (2020.12.5)\n",
      "Requirement already satisfied: cryptography>=1.3.4 in c:\\programdata\\anaconda3\\lib\\site-packages (from urllib3[secure]~=1.26->selenium) (3.4.7)\n",
      "Requirement already satisfied: pyOpenSSL>=0.14 in c:\\programdata\\anaconda3\\lib\\site-packages (from urllib3[secure]~=1.26->selenium) (20.0.1)\n",
      "Requirement already satisfied: six>=1.5.2 in c:\\programdata\\anaconda3\\lib\\site-packages (from pyOpenSSL>=0.14->urllib3[secure]~=1.26->selenium) (1.15.0)\n",
      "Collecting h11<1,>=0.9.0\n",
      "  Downloading h11-0.13.0-py3-none-any.whl (58 kB)\n",
      "Installing collected packages: outcome, h11, wsproto, trio, trio-websocket, selenium\n",
      "Successfully installed h11-0.13.0 outcome-1.1.0 selenium-4.1.0 trio-0.19.0 trio-websocket-0.9.2 wsproto-1.0.0\n"
     ]
    }
   ],
   "source": [
    "!pip install selenium"
   ]
  },
  {
   "cell_type": "markdown",
   "id": "55db9e3f",
   "metadata": {},
   "source": [
    "# Question Number 1:"
   ]
  },
  {
   "cell_type": "code",
   "execution_count": 536,
   "id": "49cb6cae",
   "metadata": {},
   "outputs": [],
   "source": [
    "import selenium\n",
    "from selenium import webdriver\n",
    "import pandas as pd\n",
    "import warnings\n",
    "warnings.filterwarnings(\"ignore\")"
   ]
  },
  {
   "cell_type": "code",
   "execution_count": 537,
   "id": "2c883270",
   "metadata": {},
   "outputs": [],
   "source": [
    "driver = webdriver.Chrome(r'C:\\Users\\Blade\\Desktop\\Flip Robo\\chromedriver_win32\\chromedriver.exe')"
   ]
  },
  {
   "cell_type": "code",
   "execution_count": 5,
   "id": "66984970",
   "metadata": {},
   "outputs": [],
   "source": [
    "url = 'https://www.naukri.com/'\n",
    "driver.get(url)"
   ]
  },
  {
   "cell_type": "code",
   "execution_count": 6,
   "id": "7b50b9d0",
   "metadata": {},
   "outputs": [
    {
     "data": {
      "text/plain": [
       "<selenium.webdriver.remote.webelement.WebElement (session=\"74f7bd92d1109407778aaffbb4c17e2a\", element=\"769a7b2b-7da8-4912-8d16-b4046396ee3f\")>"
      ]
     },
     "execution_count": 6,
     "metadata": {},
     "output_type": "execute_result"
    }
   ],
   "source": [
    "#find the web element for search job bar using class name\n",
    "search_job= driver.find_element_by_xpath('/html/body/div/div[2]/div[3]/div/div/div[1]/div/div/div/input')\n",
    "search_job"
   ]
  },
  {
   "cell_type": "code",
   "execution_count": 8,
   "id": "71f4c08f",
   "metadata": {},
   "outputs": [],
   "source": [
    "# write on search bar\n",
    "search_job.send_keys(\"Data Scientist\")"
   ]
  },
  {
   "cell_type": "code",
   "execution_count": 9,
   "id": "c2ccfa98",
   "metadata": {},
   "outputs": [
    {
     "data": {
      "text/plain": [
       "<selenium.webdriver.remote.webelement.WebElement (session=\"74f7bd92d1109407778aaffbb4c17e2a\", element=\"80b1d425-e5bb-4029-9bf4-99c9c545dbf6\")>"
      ]
     },
     "execution_count": 9,
     "metadata": {},
     "output_type": "execute_result"
    }
   ],
   "source": [
    "search_loc= driver.find_element_by_xpath('/html/body/div/div[2]/div[3]/div/div/div[3]/div/div/div/input')\n",
    "search_loc"
   ]
  },
  {
   "cell_type": "code",
   "execution_count": 10,
   "id": "24dc0577",
   "metadata": {},
   "outputs": [],
   "source": [
    "# write on search bar\n",
    "search_loc.send_keys(\"Bangalore\")"
   ]
  },
  {
   "cell_type": "code",
   "execution_count": 15,
   "id": "775c4a7d",
   "metadata": {},
   "outputs": [
    {
     "data": {
      "text/plain": [
       "<selenium.webdriver.remote.webelement.WebElement (session=\"74f7bd92d1109407778aaffbb4c17e2a\", element=\"3d86501c-060e-42ca-94d2-34229eedd5ec\")>"
      ]
     },
     "execution_count": 15,
     "metadata": {},
     "output_type": "execute_result"
    }
   ],
   "source": [
    "search_btn= driver.find_element_by_class_name(\"qsbSubmit\")\n",
    "search_btn"
   ]
  },
  {
   "cell_type": "code",
   "execution_count": 16,
   "id": "28f7a7ec",
   "metadata": {},
   "outputs": [],
   "source": [
    "search_btn.click()"
   ]
  },
  {
   "cell_type": "markdown",
   "id": "e9b609cc",
   "metadata": {},
   "source": [
    "# Extracting Title of Job"
   ]
  },
  {
   "cell_type": "code",
   "execution_count": 18,
   "id": "40688bd3",
   "metadata": {},
   "outputs": [
    {
     "data": {
      "text/plain": [
       "20"
      ]
     },
     "execution_count": 18,
     "metadata": {},
     "output_type": "execute_result"
    }
   ],
   "source": [
    "title_tags= driver.find_elements_by_xpath('//a[@class=\"title fw500 ellipsis\"]')\n",
    "len(title_tags)"
   ]
  },
  {
   "cell_type": "code",
   "execution_count": 21,
   "id": "0def293c",
   "metadata": {},
   "outputs": [
    {
     "data": {
      "text/plain": [
       "20"
      ]
     },
     "execution_count": 21,
     "metadata": {},
     "output_type": "execute_result"
    }
   ],
   "source": [
    "job_titles = []\n",
    "for t in title_tags:\n",
    "    job_titles.append(t.text)\n",
    "len(job_titles)"
   ]
  },
  {
   "cell_type": "code",
   "execution_count": 22,
   "id": "283c01fa",
   "metadata": {},
   "outputs": [
    {
     "data": {
      "text/plain": [
       "['Global Tax Automation & Operations - Data Scientist Senior Analyst',\n",
       " 'Senior Data Scientist I',\n",
       " 'Data Scientist / Analyst',\n",
       " 'Data Scientist: Advanced Analytics',\n",
       " 'Data Scientist: Artificial Intelligence',\n",
       " 'Global Tax Automation & Operations / Data Scientist Advisor',\n",
       " 'Data Scientist',\n",
       " 'Data Scientist: Artificial Intelligence',\n",
       " 'Data Scientist I',\n",
       " 'Data Scientist: Artificial Intelligence',\n",
       " 'Data Scientist / ML Engineer',\n",
       " 'Data Scientist /Senior Data Scientist',\n",
       " 'Senior Data Scientist',\n",
       " 'Senior Data Scientist',\n",
       " 'Senior Data Scientist',\n",
       " 'Senior Data Scientist',\n",
       " 'Sr Applied Data Scientist',\n",
       " 'Senior Risk Data Scientist',\n",
       " 'Data Scientist - Lead / Architect - Looking For Early Joiners - Wipro',\n",
       " 'Deputy Manager - Data Scientist']"
      ]
     },
     "execution_count": 22,
     "metadata": {},
     "output_type": "execute_result"
    }
   ],
   "source": [
    "job_titles"
   ]
  },
  {
   "cell_type": "markdown",
   "id": "045e4847",
   "metadata": {},
   "source": [
    "# Extracting Location\n"
   ]
  },
  {
   "cell_type": "code",
   "execution_count": 23,
   "id": "ff14ebd3",
   "metadata": {},
   "outputs": [
    {
     "data": {
      "text/plain": [
       "20"
      ]
     },
     "execution_count": 23,
     "metadata": {},
     "output_type": "execute_result"
    }
   ],
   "source": [
    "loc_tags= driver.find_elements_by_xpath('//li[@class=\"fleft grey-text br2 placeHolderLi location\"]')\n",
    "len(loc_tags)"
   ]
  },
  {
   "cell_type": "code",
   "execution_count": 24,
   "id": "4fd58f9c",
   "metadata": {},
   "outputs": [
    {
     "data": {
      "text/plain": [
       "20"
      ]
     },
     "execution_count": 24,
     "metadata": {},
     "output_type": "execute_result"
    }
   ],
   "source": [
    "loc_titles = []\n",
    "for l in loc_tags:\n",
    "    loc_titles.append(l.text)\n",
    "len(loc_titles)"
   ]
  },
  {
   "cell_type": "code",
   "execution_count": 25,
   "id": "17f0abac",
   "metadata": {},
   "outputs": [
    {
     "data": {
      "text/plain": [
       "['Bangalore/Bengaluru',\n",
       " 'Bangalore/Bengaluru',\n",
       " 'Hyderabad/Secunderabad, Bangalore/Bengaluru, Delhi / NCR',\n",
       " 'Bangalore/Bengaluru',\n",
       " 'Bangalore/Bengaluru',\n",
       " 'Bangalore/Bengaluru',\n",
       " 'Bangalore/Bengaluru',\n",
       " 'Bangalore/Bengaluru',\n",
       " 'Bangalore/Bengaluru',\n",
       " 'Bangalore/Bengaluru',\n",
       " 'Noida, Kota, Mumbai, Chandigarh, Lucknow, Agra, Gurgaon/Gurugram, Jaipur, Bangalore/Bengaluru',\n",
       " 'Chennai, Bangalore/Bengaluru\\n(WFH during Covid)',\n",
       " 'Bangalore/Bengaluru',\n",
       " 'Gurgaon/Gurugram, Bangalore/Bengaluru',\n",
       " 'Bangalore/Bengaluru',\n",
       " 'Bangalore/Bengaluru',\n",
       " 'Bangalore/Bengaluru',\n",
       " 'Bangalore/Bengaluru',\n",
       " 'Kochi/Cochin, Kolkata, Pune, Gurgaon/Gurugram, Chennai, Coimbatore, Bangalore/Bengaluru, Mumbai (All Areas), Hyderabad',\n",
       " 'Bangalore/Bengaluru']"
      ]
     },
     "execution_count": 25,
     "metadata": {},
     "output_type": "execute_result"
    }
   ],
   "source": [
    "loc_titles"
   ]
  },
  {
   "cell_type": "markdown",
   "id": "735d6627",
   "metadata": {},
   "source": [
    "# Company name Extraction\n"
   ]
  },
  {
   "cell_type": "code",
   "execution_count": 26,
   "id": "90ad0b72",
   "metadata": {},
   "outputs": [
    {
     "data": {
      "text/plain": [
       "20"
      ]
     },
     "execution_count": 26,
     "metadata": {},
     "output_type": "execute_result"
    }
   ],
   "source": [
    "comp_tags= driver.find_elements_by_xpath('//a[@class=\"subTitle ellipsis fleft\"]')\n",
    "len(comp_tags)"
   ]
  },
  {
   "cell_type": "code",
   "execution_count": 27,
   "id": "1e412597",
   "metadata": {},
   "outputs": [
    {
     "data": {
      "text/plain": [
       "20"
      ]
     },
     "execution_count": 27,
     "metadata": {},
     "output_type": "execute_result"
    }
   ],
   "source": [
    "comp_titles = []\n",
    "for c in comp_tags:\n",
    "    comp_titles.append(c.text)\n",
    "len(comp_titles)"
   ]
  },
  {
   "cell_type": "code",
   "execution_count": 28,
   "id": "311549a6",
   "metadata": {},
   "outputs": [
    {
     "data": {
      "text/plain": [
       "['Dell',\n",
       " 'Delhivery',\n",
       " 'Talentify',\n",
       " 'IBM',\n",
       " 'IBM',\n",
       " 'Dell',\n",
       " 'IBM',\n",
       " 'IBM',\n",
       " 'Delhivery',\n",
       " 'IBM',\n",
       " 'AVE-Promagne',\n",
       " 'Dun & Bradstreet',\n",
       " 'Gsn Games India',\n",
       " 'GREAT LAKES E-LEARNING SERVICES PRIVATE LIMITED',\n",
       " 'Walmart',\n",
       " 'Spiceworks',\n",
       " 'Tesco Bengaluru',\n",
       " 'GSK India',\n",
       " 'Wipro',\n",
       " 'HDFC LIFE INSURANCE COMPANY LIMITED']"
      ]
     },
     "execution_count": 28,
     "metadata": {},
     "output_type": "execute_result"
    }
   ],
   "source": [
    "comp_titles"
   ]
  },
  {
   "cell_type": "markdown",
   "id": "4efba52e",
   "metadata": {},
   "source": [
    "# Experience required extraction"
   ]
  },
  {
   "cell_type": "code",
   "execution_count": 29,
   "id": "8019bb98",
   "metadata": {},
   "outputs": [
    {
     "data": {
      "text/plain": [
       "20"
      ]
     },
     "execution_count": 29,
     "metadata": {},
     "output_type": "execute_result"
    }
   ],
   "source": [
    "exp_tags= driver.find_elements_by_xpath('//li[@class=\"fleft grey-text br2 placeHolderLi experience\"]')\n",
    "len(exp_tags)"
   ]
  },
  {
   "cell_type": "code",
   "execution_count": 30,
   "id": "8f067069",
   "metadata": {},
   "outputs": [
    {
     "data": {
      "text/plain": [
       "20"
      ]
     },
     "execution_count": 30,
     "metadata": {},
     "output_type": "execute_result"
    }
   ],
   "source": [
    "exp_titles = []\n",
    "for e in exp_tags:\n",
    "    exp_titles.append(e.text)\n",
    "len(exp_titles)"
   ]
  },
  {
   "cell_type": "code",
   "execution_count": 31,
   "id": "051b7a47",
   "metadata": {},
   "outputs": [
    {
     "data": {
      "text/plain": [
       "['3-5 Yrs',\n",
       " '3-7 Yrs',\n",
       " '0-1 Yrs',\n",
       " '5-10 Yrs',\n",
       " '12-15 Yrs',\n",
       " '5-7 Yrs',\n",
       " '3-4 Yrs',\n",
       " '12-15 Yrs',\n",
       " '2-5 Yrs',\n",
       " '3-7 Yrs',\n",
       " '3-8 Yrs',\n",
       " '2-5 Yrs',\n",
       " '3-5 Yrs',\n",
       " '5-8 Yrs',\n",
       " '5-9 Yrs',\n",
       " '5-9 Yrs',\n",
       " '3-6 Yrs',\n",
       " '5-10 Yrs',\n",
       " '5-10 Yrs',\n",
       " '3-7 Yrs']"
      ]
     },
     "execution_count": 31,
     "metadata": {},
     "output_type": "execute_result"
    }
   ],
   "source": [
    "exp_titles"
   ]
  },
  {
   "cell_type": "code",
   "execution_count": 39,
   "id": "9456c7fd",
   "metadata": {},
   "outputs": [],
   "source": [
    "naukri_job = pd.DataFrame({'Job Title' :job_titles,'Location':loc_titles,'Company Name':comp_titles,'Expirence':exp_titles})"
   ]
  },
  {
   "cell_type": "markdown",
   "id": "dd9675da",
   "metadata": {},
   "source": [
    "# Final Data Frame for Naukri.com"
   ]
  },
  {
   "cell_type": "raw",
   "id": "48c49472",
   "metadata": {},
   "source": [
    "naukri_final = naukri_job.head(10)"
   ]
  },
  {
   "cell_type": "code",
   "execution_count": 43,
   "id": "a1b5525b",
   "metadata": {},
   "outputs": [
    {
     "data": {
      "text/html": [
       "<div>\n",
       "<style scoped>\n",
       "    .dataframe tbody tr th:only-of-type {\n",
       "        vertical-align: middle;\n",
       "    }\n",
       "\n",
       "    .dataframe tbody tr th {\n",
       "        vertical-align: top;\n",
       "    }\n",
       "\n",
       "    .dataframe thead th {\n",
       "        text-align: right;\n",
       "    }\n",
       "</style>\n",
       "<table border=\"1\" class=\"dataframe\">\n",
       "  <thead>\n",
       "    <tr style=\"text-align: right;\">\n",
       "      <th></th>\n",
       "      <th>Job Title</th>\n",
       "      <th>Location</th>\n",
       "      <th>Company Name</th>\n",
       "      <th>Expirence</th>\n",
       "    </tr>\n",
       "  </thead>\n",
       "  <tbody>\n",
       "    <tr>\n",
       "      <th>0</th>\n",
       "      <td>Global Tax Automation &amp; Operations - Data Scie...</td>\n",
       "      <td>Bangalore/Bengaluru</td>\n",
       "      <td>Dell</td>\n",
       "      <td>3-5 Yrs</td>\n",
       "    </tr>\n",
       "    <tr>\n",
       "      <th>1</th>\n",
       "      <td>Senior Data Scientist I</td>\n",
       "      <td>Bangalore/Bengaluru</td>\n",
       "      <td>Delhivery</td>\n",
       "      <td>3-7 Yrs</td>\n",
       "    </tr>\n",
       "    <tr>\n",
       "      <th>2</th>\n",
       "      <td>Data Scientist / Analyst</td>\n",
       "      <td>Hyderabad/Secunderabad, Bangalore/Bengaluru, D...</td>\n",
       "      <td>Talentify</td>\n",
       "      <td>0-1 Yrs</td>\n",
       "    </tr>\n",
       "    <tr>\n",
       "      <th>3</th>\n",
       "      <td>Data Scientist: Advanced Analytics</td>\n",
       "      <td>Bangalore/Bengaluru</td>\n",
       "      <td>IBM</td>\n",
       "      <td>5-10 Yrs</td>\n",
       "    </tr>\n",
       "    <tr>\n",
       "      <th>4</th>\n",
       "      <td>Data Scientist: Artificial Intelligence</td>\n",
       "      <td>Bangalore/Bengaluru</td>\n",
       "      <td>IBM</td>\n",
       "      <td>12-15 Yrs</td>\n",
       "    </tr>\n",
       "    <tr>\n",
       "      <th>5</th>\n",
       "      <td>Global Tax Automation &amp; Operations / Data Scie...</td>\n",
       "      <td>Bangalore/Bengaluru</td>\n",
       "      <td>Dell</td>\n",
       "      <td>5-7 Yrs</td>\n",
       "    </tr>\n",
       "    <tr>\n",
       "      <th>6</th>\n",
       "      <td>Data Scientist</td>\n",
       "      <td>Bangalore/Bengaluru</td>\n",
       "      <td>IBM</td>\n",
       "      <td>3-4 Yrs</td>\n",
       "    </tr>\n",
       "    <tr>\n",
       "      <th>7</th>\n",
       "      <td>Data Scientist: Artificial Intelligence</td>\n",
       "      <td>Bangalore/Bengaluru</td>\n",
       "      <td>IBM</td>\n",
       "      <td>12-15 Yrs</td>\n",
       "    </tr>\n",
       "    <tr>\n",
       "      <th>8</th>\n",
       "      <td>Data Scientist I</td>\n",
       "      <td>Bangalore/Bengaluru</td>\n",
       "      <td>Delhivery</td>\n",
       "      <td>2-5 Yrs</td>\n",
       "    </tr>\n",
       "    <tr>\n",
       "      <th>9</th>\n",
       "      <td>Data Scientist: Artificial Intelligence</td>\n",
       "      <td>Bangalore/Bengaluru</td>\n",
       "      <td>IBM</td>\n",
       "      <td>3-7 Yrs</td>\n",
       "    </tr>\n",
       "  </tbody>\n",
       "</table>\n",
       "</div>"
      ],
      "text/plain": [
       "                                           Job Title  \\\n",
       "0  Global Tax Automation & Operations - Data Scie...   \n",
       "1                            Senior Data Scientist I   \n",
       "2                           Data Scientist / Analyst   \n",
       "3                 Data Scientist: Advanced Analytics   \n",
       "4            Data Scientist: Artificial Intelligence   \n",
       "5  Global Tax Automation & Operations / Data Scie...   \n",
       "6                                     Data Scientist   \n",
       "7            Data Scientist: Artificial Intelligence   \n",
       "8                                   Data Scientist I   \n",
       "9            Data Scientist: Artificial Intelligence   \n",
       "\n",
       "                                            Location Company Name  Expirence  \n",
       "0                                Bangalore/Bengaluru         Dell    3-5 Yrs  \n",
       "1                                Bangalore/Bengaluru    Delhivery    3-7 Yrs  \n",
       "2  Hyderabad/Secunderabad, Bangalore/Bengaluru, D...    Talentify    0-1 Yrs  \n",
       "3                                Bangalore/Bengaluru          IBM   5-10 Yrs  \n",
       "4                                Bangalore/Bengaluru          IBM  12-15 Yrs  \n",
       "5                                Bangalore/Bengaluru         Dell    5-7 Yrs  \n",
       "6                                Bangalore/Bengaluru          IBM    3-4 Yrs  \n",
       "7                                Bangalore/Bengaluru          IBM  12-15 Yrs  \n",
       "8                                Bangalore/Bengaluru    Delhivery    2-5 Yrs  \n",
       "9                                Bangalore/Bengaluru          IBM    3-7 Yrs  "
      ]
     },
     "execution_count": 43,
     "metadata": {},
     "output_type": "execute_result"
    }
   ],
   "source": [
    "naukri_final"
   ]
  },
  {
   "cell_type": "markdown",
   "id": "33ba6b0e",
   "metadata": {},
   "source": [
    "# Question number 2 :"
   ]
  },
  {
   "cell_type": "code",
   "execution_count": 42,
   "id": "1bad722c",
   "metadata": {},
   "outputs": [],
   "source": [
    "    # I have already scraped the Data in question 1. So, only dropping the Experience column "
   ]
  },
  {
   "cell_type": "code",
   "execution_count": 44,
   "id": "8db099cc",
   "metadata": {},
   "outputs": [],
   "source": [
    "naukri_final_2 = naukri_final.drop(['Expirence'], axis='columns')"
   ]
  },
  {
   "cell_type": "code",
   "execution_count": 45,
   "id": "c3d189e5",
   "metadata": {},
   "outputs": [
    {
     "data": {
      "text/html": [
       "<div>\n",
       "<style scoped>\n",
       "    .dataframe tbody tr th:only-of-type {\n",
       "        vertical-align: middle;\n",
       "    }\n",
       "\n",
       "    .dataframe tbody tr th {\n",
       "        vertical-align: top;\n",
       "    }\n",
       "\n",
       "    .dataframe thead th {\n",
       "        text-align: right;\n",
       "    }\n",
       "</style>\n",
       "<table border=\"1\" class=\"dataframe\">\n",
       "  <thead>\n",
       "    <tr style=\"text-align: right;\">\n",
       "      <th></th>\n",
       "      <th>Job Title</th>\n",
       "      <th>Location</th>\n",
       "      <th>Company Name</th>\n",
       "    </tr>\n",
       "  </thead>\n",
       "  <tbody>\n",
       "    <tr>\n",
       "      <th>0</th>\n",
       "      <td>Global Tax Automation &amp; Operations - Data Scie...</td>\n",
       "      <td>Bangalore/Bengaluru</td>\n",
       "      <td>Dell</td>\n",
       "    </tr>\n",
       "    <tr>\n",
       "      <th>1</th>\n",
       "      <td>Senior Data Scientist I</td>\n",
       "      <td>Bangalore/Bengaluru</td>\n",
       "      <td>Delhivery</td>\n",
       "    </tr>\n",
       "    <tr>\n",
       "      <th>2</th>\n",
       "      <td>Data Scientist / Analyst</td>\n",
       "      <td>Hyderabad/Secunderabad, Bangalore/Bengaluru, D...</td>\n",
       "      <td>Talentify</td>\n",
       "    </tr>\n",
       "    <tr>\n",
       "      <th>3</th>\n",
       "      <td>Data Scientist: Advanced Analytics</td>\n",
       "      <td>Bangalore/Bengaluru</td>\n",
       "      <td>IBM</td>\n",
       "    </tr>\n",
       "    <tr>\n",
       "      <th>4</th>\n",
       "      <td>Data Scientist: Artificial Intelligence</td>\n",
       "      <td>Bangalore/Bengaluru</td>\n",
       "      <td>IBM</td>\n",
       "    </tr>\n",
       "    <tr>\n",
       "      <th>5</th>\n",
       "      <td>Global Tax Automation &amp; Operations / Data Scie...</td>\n",
       "      <td>Bangalore/Bengaluru</td>\n",
       "      <td>Dell</td>\n",
       "    </tr>\n",
       "    <tr>\n",
       "      <th>6</th>\n",
       "      <td>Data Scientist</td>\n",
       "      <td>Bangalore/Bengaluru</td>\n",
       "      <td>IBM</td>\n",
       "    </tr>\n",
       "    <tr>\n",
       "      <th>7</th>\n",
       "      <td>Data Scientist: Artificial Intelligence</td>\n",
       "      <td>Bangalore/Bengaluru</td>\n",
       "      <td>IBM</td>\n",
       "    </tr>\n",
       "    <tr>\n",
       "      <th>8</th>\n",
       "      <td>Data Scientist I</td>\n",
       "      <td>Bangalore/Bengaluru</td>\n",
       "      <td>Delhivery</td>\n",
       "    </tr>\n",
       "    <tr>\n",
       "      <th>9</th>\n",
       "      <td>Data Scientist: Artificial Intelligence</td>\n",
       "      <td>Bangalore/Bengaluru</td>\n",
       "      <td>IBM</td>\n",
       "    </tr>\n",
       "  </tbody>\n",
       "</table>\n",
       "</div>"
      ],
      "text/plain": [
       "                                           Job Title  \\\n",
       "0  Global Tax Automation & Operations - Data Scie...   \n",
       "1                            Senior Data Scientist I   \n",
       "2                           Data Scientist / Analyst   \n",
       "3                 Data Scientist: Advanced Analytics   \n",
       "4            Data Scientist: Artificial Intelligence   \n",
       "5  Global Tax Automation & Operations / Data Scie...   \n",
       "6                                     Data Scientist   \n",
       "7            Data Scientist: Artificial Intelligence   \n",
       "8                                   Data Scientist I   \n",
       "9            Data Scientist: Artificial Intelligence   \n",
       "\n",
       "                                            Location Company Name  \n",
       "0                                Bangalore/Bengaluru         Dell  \n",
       "1                                Bangalore/Bengaluru    Delhivery  \n",
       "2  Hyderabad/Secunderabad, Bangalore/Bengaluru, D...    Talentify  \n",
       "3                                Bangalore/Bengaluru          IBM  \n",
       "4                                Bangalore/Bengaluru          IBM  \n",
       "5                                Bangalore/Bengaluru         Dell  \n",
       "6                                Bangalore/Bengaluru          IBM  \n",
       "7                                Bangalore/Bengaluru          IBM  \n",
       "8                                Bangalore/Bengaluru    Delhivery  \n",
       "9                                Bangalore/Bengaluru          IBM  "
      ]
     },
     "execution_count": 45,
     "metadata": {},
     "output_type": "execute_result"
    }
   ],
   "source": [
    "naukri_final_2"
   ]
  },
  {
   "cell_type": "markdown",
   "id": "59378d92",
   "metadata": {},
   "source": [
    "# Question number 3 :"
   ]
  },
  {
   "cell_type": "code",
   "execution_count": 46,
   "id": "acd3a198",
   "metadata": {},
   "outputs": [],
   "source": [
    "url1 = 'https://www.naukri.com/'\n",
    "driver.get(url1)"
   ]
  },
  {
   "cell_type": "code",
   "execution_count": 47,
   "id": "ab0a4c81",
   "metadata": {},
   "outputs": [
    {
     "data": {
      "text/plain": [
       "<selenium.webdriver.remote.webelement.WebElement (session=\"74f7bd92d1109407778aaffbb4c17e2a\", element=\"95b6aa80-798d-4fa1-952e-0f5c823e60dd\")>"
      ]
     },
     "execution_count": 47,
     "metadata": {},
     "output_type": "execute_result"
    }
   ],
   "source": [
    "search_job1= driver.find_element_by_xpath('/html/body/div/div[2]/div[3]/div/div/div[1]/div/div/div/input')\n",
    "search_job1"
   ]
  },
  {
   "cell_type": "code",
   "execution_count": 48,
   "id": "e79870de",
   "metadata": {},
   "outputs": [],
   "source": [
    "# write on search bar\n",
    "search_job1.send_keys(\"Data Scientist\")"
   ]
  },
  {
   "cell_type": "code",
   "execution_count": 49,
   "id": "ab828ed9",
   "metadata": {},
   "outputs": [
    {
     "data": {
      "text/plain": [
       "<selenium.webdriver.remote.webelement.WebElement (session=\"74f7bd92d1109407778aaffbb4c17e2a\", element=\"e9b18916-5f88-4d57-8102-0b5ab9dc61d1\")>"
      ]
     },
     "execution_count": 49,
     "metadata": {},
     "output_type": "execute_result"
    }
   ],
   "source": [
    "search_btn1= driver.find_element_by_class_name(\"qsbSubmit\")\n",
    "search_btn1"
   ]
  },
  {
   "cell_type": "code",
   "execution_count": 51,
   "id": "f355378e",
   "metadata": {},
   "outputs": [],
   "source": [
    "search_btn1.click()"
   ]
  },
  {
   "cell_type": "code",
   "execution_count": 52,
   "id": "a5a32a7f",
   "metadata": {},
   "outputs": [
    {
     "data": {
      "text/plain": [
       "<selenium.webdriver.remote.webelement.WebElement (session=\"74f7bd92d1109407778aaffbb4c17e2a\", element=\"9827c709-d310-43fe-b4b1-f6246e0ef888\")>"
      ]
     },
     "execution_count": 52,
     "metadata": {},
     "output_type": "execute_result"
    }
   ],
   "source": [
    "search_loc1= driver.find_element_by_xpath('/html/body/div[1]/div[3]/div[2]/section[1]/div[2]/div[3]/div[2]/div[3]/label/p/span[1]')\n",
    "search_loc1"
   ]
  },
  {
   "cell_type": "code",
   "execution_count": 53,
   "id": "ac300bd8",
   "metadata": {},
   "outputs": [],
   "source": [
    "search_loc1.click()"
   ]
  },
  {
   "cell_type": "code",
   "execution_count": 55,
   "id": "34116697",
   "metadata": {},
   "outputs": [
    {
     "data": {
      "text/plain": [
       "<selenium.webdriver.remote.webelement.WebElement (session=\"74f7bd92d1109407778aaffbb4c17e2a\", element=\"c8d00d7d-f6ad-4e05-a6a6-6ba858a23866\")>"
      ]
     },
     "execution_count": 55,
     "metadata": {},
     "output_type": "execute_result"
    }
   ],
   "source": [
    "search_sal1=driver.find_element_by_xpath('/html/body/div[1]/div[3]/div[2]/section[1]/div[2]/div[4]/div[2]/div[2]/label/i')\n",
    "search_sal1"
   ]
  },
  {
   "cell_type": "code",
   "execution_count": 56,
   "id": "83735912",
   "metadata": {},
   "outputs": [],
   "source": [
    "search_sal1.click()"
   ]
  },
  {
   "cell_type": "markdown",
   "id": "558ca003",
   "metadata": {},
   "source": [
    "# Extracting the Job titles"
   ]
  },
  {
   "cell_type": "code",
   "execution_count": 57,
   "id": "dcc6252e",
   "metadata": {},
   "outputs": [
    {
     "data": {
      "text/plain": [
       "20"
      ]
     },
     "execution_count": 57,
     "metadata": {},
     "output_type": "execute_result"
    }
   ],
   "source": [
    "title_tags= driver.find_elements_by_xpath('//a[@class=\"title fw500 ellipsis\"]')\n",
    "len(title_tags)"
   ]
  },
  {
   "cell_type": "code",
   "execution_count": 58,
   "id": "84c0a9db",
   "metadata": {},
   "outputs": [
    {
     "data": {
      "text/plain": [
       "20"
      ]
     },
     "execution_count": 58,
     "metadata": {},
     "output_type": "execute_result"
    }
   ],
   "source": [
    "job_titles1 = []\n",
    "for t1 in title_tags:\n",
    "    job_titles1.append(t1.text)\n",
    "len(job_titles1)"
   ]
  },
  {
   "cell_type": "code",
   "execution_count": 59,
   "id": "44c9b9ed",
   "metadata": {},
   "outputs": [
    {
     "data": {
      "text/plain": [
       "['Opening For Data Scientist',\n",
       " 'Data Scientist II',\n",
       " 'Data Scientist',\n",
       " 'Data & Applied Scientist',\n",
       " 'Data and applied Scientist',\n",
       " 'Junior Data Scientist - Goods & Service Tax Network, Delhi',\n",
       " 'Associate Data Scientist - Java/ Scala/ Apache Server',\n",
       " 'Data Scientist',\n",
       " 'Data Scientist',\n",
       " 'Data Scientist',\n",
       " 'Data Scientist / Senior DS/ Team Lead',\n",
       " 'Data Scientist (ML AI Engineer) / InfoObjects Inc.',\n",
       " 'Urgent Requirement || Data Scientist || Noida',\n",
       " 'Data Analyst / Data Scientist / Business Analytics / Fresher - MNC',\n",
       " 'Data Scientist',\n",
       " 'Senior Data Scientist',\n",
       " 'Lead Data Scientist - KYC/Fraud/Marketing',\n",
       " 'Data Scientist',\n",
       " 'Data Scientist',\n",
       " 'Data Scientist']"
      ]
     },
     "execution_count": 59,
     "metadata": {},
     "output_type": "execute_result"
    }
   ],
   "source": [
    "job_titles1"
   ]
  },
  {
   "cell_type": "markdown",
   "id": "f8240e24",
   "metadata": {},
   "source": [
    "# Extract Location of Job :"
   ]
  },
  {
   "cell_type": "code",
   "execution_count": 60,
   "id": "f1161eef",
   "metadata": {},
   "outputs": [
    {
     "data": {
      "text/plain": [
       "20"
      ]
     },
     "execution_count": 60,
     "metadata": {},
     "output_type": "execute_result"
    }
   ],
   "source": [
    "loc_tags= driver.find_elements_by_xpath('//li[@class=\"fleft grey-text br2 placeHolderLi location\"]')\n",
    "len(loc_tags)"
   ]
  },
  {
   "cell_type": "code",
   "execution_count": 61,
   "id": "8f9f46c9",
   "metadata": {},
   "outputs": [
    {
     "data": {
      "text/plain": [
       "20"
      ]
     },
     "execution_count": 61,
     "metadata": {},
     "output_type": "execute_result"
    }
   ],
   "source": [
    "loc_titles1 = []\n",
    "for l1 in loc_tags:\n",
    "    loc_titles1.append(l1.text)\n",
    "len(loc_titles1)"
   ]
  },
  {
   "cell_type": "code",
   "execution_count": 62,
   "id": "14e69503",
   "metadata": {},
   "outputs": [
    {
     "data": {
      "text/plain": [
       "['Gurgaon/Gurugram',\n",
       " 'Delhi / NCR',\n",
       " 'Noida',\n",
       " 'Noida, Hyderabad/Secunderabad, Bangalore/Bengaluru',\n",
       " 'Noida, Hyderabad/Secunderabad, Bangalore/Bengaluru',\n",
       " 'Delhi / NCR',\n",
       " 'Noida',\n",
       " 'New Delhi, Delhi / NCR, Mumbai (All Areas)',\n",
       " 'Gurgaon/Gurugram\\n(WFH during Covid)',\n",
       " 'New Delhi',\n",
       " 'Mumbai, Gurgaon/Gurugram(Cyber City +1)',\n",
       " 'Indore, Jaipur, Delhi / NCR\\n(WFH during Covid)',\n",
       " 'Noida, Delhi / NCR',\n",
       " 'Noida, New Delhi, Delhi / NCR',\n",
       " 'New Delhi',\n",
       " 'Delhi',\n",
       " 'New Delhi',\n",
       " 'Gurgaon, Bengaluru',\n",
       " 'Delhi',\n",
       " 'Delhi']"
      ]
     },
     "execution_count": 62,
     "metadata": {},
     "output_type": "execute_result"
    }
   ],
   "source": [
    "loc_titles1"
   ]
  },
  {
   "cell_type": "markdown",
   "id": "49e875c7",
   "metadata": {},
   "source": [
    "# Extracting of Company name :"
   ]
  },
  {
   "cell_type": "code",
   "execution_count": 63,
   "id": "29453ba2",
   "metadata": {},
   "outputs": [
    {
     "data": {
      "text/plain": [
       "20"
      ]
     },
     "execution_count": 63,
     "metadata": {},
     "output_type": "execute_result"
    }
   ],
   "source": [
    "comp_tags= driver.find_elements_by_xpath('//a[@class=\"subTitle ellipsis fleft\"]')\n",
    "len(comp_tags)"
   ]
  },
  {
   "cell_type": "code",
   "execution_count": 64,
   "id": "683c1cca",
   "metadata": {},
   "outputs": [
    {
     "data": {
      "text/plain": [
       "20"
      ]
     },
     "execution_count": 64,
     "metadata": {},
     "output_type": "execute_result"
    }
   ],
   "source": [
    "comp_titles1 = []\n",
    "for c1 in comp_tags:\n",
    "    comp_titles1.append(c1.text)\n",
    "len(comp_titles1)"
   ]
  },
  {
   "cell_type": "code",
   "execution_count": 65,
   "id": "8ca20953",
   "metadata": {},
   "outputs": [
    {
     "data": {
      "text/plain": [
       "['Care Health Insurance',\n",
       " 'Chegg',\n",
       " 'Stefanini',\n",
       " 'Microsoft',\n",
       " 'Microsoft',\n",
       " 'NISG (National Institute for Smart Government)',\n",
       " 'Smart work Consultants',\n",
       " 'Cloudstrats Technologies Private Limited',\n",
       " 'Zekardo Automotive Solutions',\n",
       " 'Team Computers Pvt Ltd',\n",
       " 'NebulARC Technologies Private Limited',\n",
       " 'INFOOBJECTS SOFTWARE ( INDIA) PRIVATE LIMITED',\n",
       " 'HCL',\n",
       " 'GABA Consultancy services',\n",
       " 'Boston Consulting Group',\n",
       " 'iNICU',\n",
       " 'Tide Software',\n",
       " 'BlackBuck',\n",
       " 'Mahajan Imaging',\n",
       " 'Mahajan Imaging']"
      ]
     },
     "execution_count": 65,
     "metadata": {},
     "output_type": "execute_result"
    }
   ],
   "source": [
    "comp_titles1"
   ]
  },
  {
   "cell_type": "markdown",
   "id": "b7941dc4",
   "metadata": {},
   "source": [
    "# Expirence required for Job :"
   ]
  },
  {
   "cell_type": "code",
   "execution_count": 66,
   "id": "b7e7bac8",
   "metadata": {},
   "outputs": [
    {
     "data": {
      "text/plain": [
       "20"
      ]
     },
     "execution_count": 66,
     "metadata": {},
     "output_type": "execute_result"
    }
   ],
   "source": [
    "exp_tags= driver.find_elements_by_xpath('//li[@class=\"fleft grey-text br2 placeHolderLi experience\"]')\n",
    "len(exp_tags)"
   ]
  },
  {
   "cell_type": "code",
   "execution_count": 67,
   "id": "8a80c002",
   "metadata": {},
   "outputs": [
    {
     "data": {
      "text/plain": [
       "20"
      ]
     },
     "execution_count": 67,
     "metadata": {},
     "output_type": "execute_result"
    }
   ],
   "source": [
    "exp_titles1 = []\n",
    "for e1 in exp_tags:\n",
    "    exp_titles1.append(e1.text)\n",
    "len(exp_titles1)"
   ]
  },
  {
   "cell_type": "code",
   "execution_count": 68,
   "id": "db13f88a",
   "metadata": {},
   "outputs": [
    {
     "data": {
      "text/plain": [
       "['1-5 Yrs',\n",
       " '2-6 Yrs',\n",
       " '3-8 Yrs',\n",
       " '3-7 Yrs',\n",
       " '3-7 Yrs',\n",
       " '3-8 Yrs',\n",
       " '1-4 Yrs',\n",
       " '3-5 Yrs',\n",
       " '5-8 Yrs',\n",
       " '2-6 Yrs',\n",
       " '0-4 Yrs',\n",
       " '3-7 Yrs',\n",
       " '3-8 Yrs',\n",
       " '0-0 Yrs',\n",
       " '2-5 Yrs',\n",
       " '1-5 Yrs',\n",
       " '1-6 Yrs',\n",
       " '3-7 Yrs',\n",
       " '2-6 Yrs',\n",
       " '2-6 Yrs']"
      ]
     },
     "execution_count": 68,
     "metadata": {},
     "output_type": "execute_result"
    }
   ],
   "source": [
    "exp_titles1"
   ]
  },
  {
   "cell_type": "markdown",
   "id": "3a9e53b0",
   "metadata": {},
   "source": [
    "# Creating the Dataset with the extracted data "
   ]
  },
  {
   "cell_type": "code",
   "execution_count": 69,
   "id": "5d6fd583",
   "metadata": {},
   "outputs": [],
   "source": [
    "naukri_job1 = pd.DataFrame({'Job Title' :job_titles1,'Location':loc_titles1,'Company Name':comp_titles1,'Expirence':exp_titles1})"
   ]
  },
  {
   "cell_type": "code",
   "execution_count": 70,
   "id": "f822c701",
   "metadata": {},
   "outputs": [],
   "source": [
    "naukri_final1 = naukri_job1.head(10)"
   ]
  },
  {
   "cell_type": "code",
   "execution_count": 71,
   "id": "8b9794dd",
   "metadata": {},
   "outputs": [
    {
     "data": {
      "text/html": [
       "<div>\n",
       "<style scoped>\n",
       "    .dataframe tbody tr th:only-of-type {\n",
       "        vertical-align: middle;\n",
       "    }\n",
       "\n",
       "    .dataframe tbody tr th {\n",
       "        vertical-align: top;\n",
       "    }\n",
       "\n",
       "    .dataframe thead th {\n",
       "        text-align: right;\n",
       "    }\n",
       "</style>\n",
       "<table border=\"1\" class=\"dataframe\">\n",
       "  <thead>\n",
       "    <tr style=\"text-align: right;\">\n",
       "      <th></th>\n",
       "      <th>Job Title</th>\n",
       "      <th>Location</th>\n",
       "      <th>Company Name</th>\n",
       "      <th>Expirence</th>\n",
       "    </tr>\n",
       "  </thead>\n",
       "  <tbody>\n",
       "    <tr>\n",
       "      <th>0</th>\n",
       "      <td>Opening For Data Scientist</td>\n",
       "      <td>Gurgaon/Gurugram</td>\n",
       "      <td>Care Health Insurance</td>\n",
       "      <td>1-5 Yrs</td>\n",
       "    </tr>\n",
       "    <tr>\n",
       "      <th>1</th>\n",
       "      <td>Data Scientist II</td>\n",
       "      <td>Delhi / NCR</td>\n",
       "      <td>Chegg</td>\n",
       "      <td>2-6 Yrs</td>\n",
       "    </tr>\n",
       "    <tr>\n",
       "      <th>2</th>\n",
       "      <td>Data Scientist</td>\n",
       "      <td>Noida</td>\n",
       "      <td>Stefanini</td>\n",
       "      <td>3-8 Yrs</td>\n",
       "    </tr>\n",
       "    <tr>\n",
       "      <th>3</th>\n",
       "      <td>Data &amp; Applied Scientist</td>\n",
       "      <td>Noida, Hyderabad/Secunderabad, Bangalore/Benga...</td>\n",
       "      <td>Microsoft</td>\n",
       "      <td>3-7 Yrs</td>\n",
       "    </tr>\n",
       "    <tr>\n",
       "      <th>4</th>\n",
       "      <td>Data and applied Scientist</td>\n",
       "      <td>Noida, Hyderabad/Secunderabad, Bangalore/Benga...</td>\n",
       "      <td>Microsoft</td>\n",
       "      <td>3-7 Yrs</td>\n",
       "    </tr>\n",
       "    <tr>\n",
       "      <th>5</th>\n",
       "      <td>Junior Data Scientist - Goods &amp; Service Tax Ne...</td>\n",
       "      <td>Delhi / NCR</td>\n",
       "      <td>NISG (National Institute for Smart Government)</td>\n",
       "      <td>3-8 Yrs</td>\n",
       "    </tr>\n",
       "    <tr>\n",
       "      <th>6</th>\n",
       "      <td>Associate Data Scientist - Java/ Scala/ Apache...</td>\n",
       "      <td>Noida</td>\n",
       "      <td>Smart work Consultants</td>\n",
       "      <td>1-4 Yrs</td>\n",
       "    </tr>\n",
       "    <tr>\n",
       "      <th>7</th>\n",
       "      <td>Data Scientist</td>\n",
       "      <td>New Delhi, Delhi / NCR, Mumbai (All Areas)</td>\n",
       "      <td>Cloudstrats Technologies Private Limited</td>\n",
       "      <td>3-5 Yrs</td>\n",
       "    </tr>\n",
       "    <tr>\n",
       "      <th>8</th>\n",
       "      <td>Data Scientist</td>\n",
       "      <td>Gurgaon/Gurugram\\n(WFH during Covid)</td>\n",
       "      <td>Zekardo Automotive Solutions</td>\n",
       "      <td>5-8 Yrs</td>\n",
       "    </tr>\n",
       "    <tr>\n",
       "      <th>9</th>\n",
       "      <td>Data Scientist</td>\n",
       "      <td>New Delhi</td>\n",
       "      <td>Team Computers Pvt Ltd</td>\n",
       "      <td>2-6 Yrs</td>\n",
       "    </tr>\n",
       "  </tbody>\n",
       "</table>\n",
       "</div>"
      ],
      "text/plain": [
       "                                           Job Title  \\\n",
       "0                         Opening For Data Scientist   \n",
       "1                                  Data Scientist II   \n",
       "2                                     Data Scientist   \n",
       "3                           Data & Applied Scientist   \n",
       "4                         Data and applied Scientist   \n",
       "5  Junior Data Scientist - Goods & Service Tax Ne...   \n",
       "6  Associate Data Scientist - Java/ Scala/ Apache...   \n",
       "7                                     Data Scientist   \n",
       "8                                     Data Scientist   \n",
       "9                                     Data Scientist   \n",
       "\n",
       "                                            Location  \\\n",
       "0                                   Gurgaon/Gurugram   \n",
       "1                                        Delhi / NCR   \n",
       "2                                              Noida   \n",
       "3  Noida, Hyderabad/Secunderabad, Bangalore/Benga...   \n",
       "4  Noida, Hyderabad/Secunderabad, Bangalore/Benga...   \n",
       "5                                        Delhi / NCR   \n",
       "6                                              Noida   \n",
       "7         New Delhi, Delhi / NCR, Mumbai (All Areas)   \n",
       "8               Gurgaon/Gurugram\\n(WFH during Covid)   \n",
       "9                                          New Delhi   \n",
       "\n",
       "                                     Company Name Expirence  \n",
       "0                           Care Health Insurance   1-5 Yrs  \n",
       "1                                           Chegg   2-6 Yrs  \n",
       "2                                       Stefanini   3-8 Yrs  \n",
       "3                                       Microsoft   3-7 Yrs  \n",
       "4                                       Microsoft   3-7 Yrs  \n",
       "5  NISG (National Institute for Smart Government)   3-8 Yrs  \n",
       "6                          Smart work Consultants   1-4 Yrs  \n",
       "7        Cloudstrats Technologies Private Limited   3-5 Yrs  \n",
       "8                    Zekardo Automotive Solutions   5-8 Yrs  \n",
       "9                          Team Computers Pvt Ltd   2-6 Yrs  "
      ]
     },
     "execution_count": 71,
     "metadata": {},
     "output_type": "execute_result"
    }
   ],
   "source": [
    "naukri_final1"
   ]
  },
  {
   "cell_type": "markdown",
   "id": "758be499",
   "metadata": {},
   "source": [
    "# Question number 4:"
   ]
  },
  {
   "cell_type": "code",
   "execution_count": 432,
   "id": "cf397450",
   "metadata": {},
   "outputs": [],
   "source": [
    "url2 = 'http://www.flipkart.com/'\n",
    "driver.get(url2)"
   ]
  },
  {
   "cell_type": "code",
   "execution_count": 433,
   "id": "752c9397",
   "metadata": {},
   "outputs": [],
   "source": [
    "import time"
   ]
  },
  {
   "cell_type": "code",
   "execution_count": 473,
   "id": "be8ba67b",
   "metadata": {},
   "outputs": [
    {
     "data": {
      "text/plain": [
       "<selenium.webdriver.remote.webelement.WebElement (session=\"8850c995dca65cba9e923d20bdbca5f0\", element=\"0fa342d4-8aab-41c0-b8b5-5bf7a64e3f57\")>"
      ]
     },
     "execution_count": 473,
     "metadata": {},
     "output_type": "execute_result"
    }
   ],
   "source": [
    "search_item= driver.find_element_by_xpath('/html/body/div[1]/div/div[1]/div[1]/div[2]/div[2]/form/div/div/input')\n",
    "search_item"
   ]
  },
  {
   "cell_type": "code",
   "execution_count": 240,
   "id": "ed735ef9",
   "metadata": {},
   "outputs": [],
   "source": [
    "# write on search bar\n",
    "search_item.send_keys(\"Sunglasses\")"
   ]
  },
  {
   "cell_type": "code",
   "execution_count": 241,
   "id": "d382accb",
   "metadata": {},
   "outputs": [
    {
     "data": {
      "text/plain": [
       "<selenium.webdriver.remote.webelement.WebElement (session=\"82c7ee63d6855681bcc15d3e5face5cb\", element=\"06e9f831-c982-4730-95e6-f9a93d5116ef\")>"
      ]
     },
     "execution_count": 241,
     "metadata": {},
     "output_type": "execute_result"
    }
   ],
   "source": [
    "# Search button click\n",
    "search_btn2= driver.find_element_by_class_name('L0Z3Pu')\n",
    "search_btn2"
   ]
  },
  {
   "cell_type": "code",
   "execution_count": 242,
   "id": "a3cf3e99",
   "metadata": {},
   "outputs": [],
   "source": [
    "search_btn2.click()"
   ]
  },
  {
   "cell_type": "code",
   "execution_count": 243,
   "id": "abbf6598",
   "metadata": {},
   "outputs": [],
   "source": [
    "# Scrapping the brand of sunglasses from 1st page"
   ]
  },
  {
   "cell_type": "code",
   "execution_count": 244,
   "id": "ec9dcaec",
   "metadata": {},
   "outputs": [
    {
     "data": {
      "text/plain": [
       "40"
      ]
     },
     "execution_count": 244,
     "metadata": {},
     "output_type": "execute_result"
    }
   ],
   "source": [
    "brand_tags= driver.find_elements_by_xpath('//div[@class=\"_2WkVRV\"]')\n",
    "len(brand_tags)"
   ]
  },
  {
   "cell_type": "code",
   "execution_count": 245,
   "id": "d13ff8f7",
   "metadata": {},
   "outputs": [
    {
     "data": {
      "text/plain": [
       "40"
      ]
     },
     "execution_count": 245,
     "metadata": {},
     "output_type": "execute_result"
    }
   ],
   "source": [
    "# Scrapping the Product description of sunglasses from 1st page\n",
    "pro_tags= driver.find_elements_by_xpath('//a[starts-with(@class,\"IRpwTa\")]')\n",
    "len(pro_tags)"
   ]
  },
  {
   "cell_type": "code",
   "execution_count": 246,
   "id": "90b46390",
   "metadata": {},
   "outputs": [],
   "source": [
    "# Scrapping the Price of sunglasses from 1st page\n",
    "price_tags= driver.find_elements_by_xpath('//*[@class=\"_30jeq3\"]')"
   ]
  },
  {
   "cell_type": "code",
   "execution_count": 247,
   "id": "819c7fed",
   "metadata": {},
   "outputs": [],
   "source": [
    "#brand title list\n",
    "brand_titles = []\n",
    "for br in brand_tags:\n",
    "    brand_titles.append(br.text)\n",
    "total_len=len(brand_titles)"
   ]
  },
  {
   "cell_type": "code",
   "execution_count": 248,
   "id": "3b4cc4d3",
   "metadata": {},
   "outputs": [],
   "source": [
    "# Product description list\n",
    "pro_titles = []\n",
    "for pr in pro_tags:\n",
    "    pro_titles.append(pr.text)\n",
    "total_len1=len(pro_titles)"
   ]
  },
  {
   "cell_type": "code",
   "execution_count": 249,
   "id": "73a62ac5",
   "metadata": {},
   "outputs": [],
   "source": [
    "# Product price list\n",
    "price_titles = []\n",
    "for pri in price_tags:\n",
    "    price_titles.append(pri.text)\n",
    "total_len2=len(price_titles)"
   ]
  },
  {
   "cell_type": "code",
   "execution_count": 254,
   "id": "e586b620",
   "metadata": {},
   "outputs": [],
   "source": [
    "# assigning the next button \n",
    "a22= '/html/body/div/div/div[3]/div[1]/div[2]/div[12]/div/div/nav/a[11]'"
   ]
  },
  {
   "cell_type": "code",
   "execution_count": 255,
   "id": "7d12b632",
   "metadata": {},
   "outputs": [],
   "source": [
    "it = 2"
   ]
  },
  {
   "cell_type": "markdown",
   "id": "7d6a7110",
   "metadata": {},
   "source": [
    "## Extracting the Product Name, Product description and Price till 100 items :"
   ]
  },
  {
   "cell_type": "code",
   "execution_count": 256,
   "id": "5ffdaeed",
   "metadata": {},
   "outputs": [],
   "source": [
    "while total_len < 100:\n",
    "        nxt_btn =''\n",
    "        nxt_btn= driver.find_element_by_xpath(a22)\n",
    "        nxt_btn.click()\n",
    "        time.sleep(10)\n",
    "        brand_tags= driver.find_elements_by_xpath('//div[@class=\"_2WkVRV\"]')\n",
    "        pro_tags = driver.find_elements_by_xpath('//a[starts-with(@class,\"IRpwTa\")]')\n",
    "        price_tags = driver.find_elements_by_xpath('//*[@class=\"_30jeq3\"]')\n",
    "        for btt in brand_tags:\n",
    "            brand_titles.append(btt.text)\n",
    "          \n",
    "        for ptt in pro_tags:\n",
    "            pro_titles.append(ptt.text)\n",
    "           \n",
    "        for prc in price_tags:\n",
    "            price_titles.append(prc.text)\n",
    "        total_len=len(brand_titles)  \n",
    "        a22 =a22[:-2] + str(it) +']'\n",
    "        it+=1"
   ]
  },
  {
   "cell_type": "code",
   "execution_count": 257,
   "id": "4be14d5d",
   "metadata": {},
   "outputs": [
    {
     "data": {
      "text/plain": [
       "120"
      ]
     },
     "execution_count": 257,
     "metadata": {},
     "output_type": "execute_result"
    }
   ],
   "source": [
    "len(brand_titles)"
   ]
  },
  {
   "cell_type": "code",
   "execution_count": 258,
   "id": "0acf0662",
   "metadata": {},
   "outputs": [
    {
     "data": {
      "text/plain": [
       "120"
      ]
     },
     "execution_count": 258,
     "metadata": {},
     "output_type": "execute_result"
    }
   ],
   "source": [
    "len(pro_titles)"
   ]
  },
  {
   "cell_type": "code",
   "execution_count": 259,
   "id": "fd0c48c7",
   "metadata": {},
   "outputs": [
    {
     "data": {
      "text/plain": [
       "120"
      ]
     },
     "execution_count": 259,
     "metadata": {},
     "output_type": "execute_result"
    }
   ],
   "source": [
    "len(price_titles)"
   ]
  },
  {
   "cell_type": "code",
   "execution_count": 260,
   "id": "71f0f52e",
   "metadata": {},
   "outputs": [],
   "source": [
    "sunglass_details = pd.DataFrame({'Title' :brand_titles,'Product description':pro_titles,'Price':price_titles})"
   ]
  },
  {
   "cell_type": "code",
   "execution_count": 261,
   "id": "797c8ab4",
   "metadata": {},
   "outputs": [],
   "source": [
    "sunglass_details_final = sunglass_details.head(100)"
   ]
  },
  {
   "cell_type": "markdown",
   "id": "73605c2f",
   "metadata": {},
   "source": [
    "## Final dataset for Sunglass Details for first 100 records :"
   ]
  },
  {
   "cell_type": "code",
   "execution_count": 262,
   "id": "1f374adf",
   "metadata": {},
   "outputs": [
    {
     "data": {
      "text/html": [
       "<div>\n",
       "<style scoped>\n",
       "    .dataframe tbody tr th:only-of-type {\n",
       "        vertical-align: middle;\n",
       "    }\n",
       "\n",
       "    .dataframe tbody tr th {\n",
       "        vertical-align: top;\n",
       "    }\n",
       "\n",
       "    .dataframe thead th {\n",
       "        text-align: right;\n",
       "    }\n",
       "</style>\n",
       "<table border=\"1\" class=\"dataframe\">\n",
       "  <thead>\n",
       "    <tr style=\"text-align: right;\">\n",
       "      <th></th>\n",
       "      <th>Title</th>\n",
       "      <th>Product description</th>\n",
       "      <th>Price</th>\n",
       "    </tr>\n",
       "  </thead>\n",
       "  <tbody>\n",
       "    <tr>\n",
       "      <th>0</th>\n",
       "      <td>VILLAIN</td>\n",
       "      <td>Others Wayfarer Sunglasses (Free Size)</td>\n",
       "      <td>₹1,099</td>\n",
       "    </tr>\n",
       "    <tr>\n",
       "      <th>1</th>\n",
       "      <td>VINCENT CHASE</td>\n",
       "      <td>by Lenskart Polarized, UV Protection Round Sun...</td>\n",
       "      <td>₹1,179</td>\n",
       "    </tr>\n",
       "    <tr>\n",
       "      <th>2</th>\n",
       "      <td>Elligator</td>\n",
       "      <td>UV Protection Round Sunglasses (54)</td>\n",
       "      <td>₹248</td>\n",
       "    </tr>\n",
       "    <tr>\n",
       "      <th>3</th>\n",
       "      <td>Fastrack</td>\n",
       "      <td>UV Protection Rectangular Sunglasses (Free Size)</td>\n",
       "      <td>₹639</td>\n",
       "    </tr>\n",
       "    <tr>\n",
       "      <th>4</th>\n",
       "      <td>SHAAH COLLECTIONS</td>\n",
       "      <td>UV Protection, Polarized, Mirrored Rectangular...</td>\n",
       "      <td>₹165</td>\n",
       "    </tr>\n",
       "    <tr>\n",
       "      <th>...</th>\n",
       "      <td>...</td>\n",
       "      <td>...</td>\n",
       "      <td>...</td>\n",
       "    </tr>\n",
       "    <tr>\n",
       "      <th>95</th>\n",
       "      <td>Billion</td>\n",
       "      <td>Polarized, UV Protection Aviator Sunglasses (55)</td>\n",
       "      <td>₹279</td>\n",
       "    </tr>\n",
       "    <tr>\n",
       "      <th>96</th>\n",
       "      <td>kingsunglasses</td>\n",
       "      <td>Mirrored, UV Protection Aviator Sunglasses (56)</td>\n",
       "      <td>₹209</td>\n",
       "    </tr>\n",
       "    <tr>\n",
       "      <th>97</th>\n",
       "      <td>ROYAL SON</td>\n",
       "      <td>UV Protection, Gradient Butterfly Sunglasses (57)</td>\n",
       "      <td>₹664</td>\n",
       "    </tr>\n",
       "    <tr>\n",
       "      <th>98</th>\n",
       "      <td>ROYAL SON</td>\n",
       "      <td>UV Protection Retro Square Sunglasses (58)</td>\n",
       "      <td>₹449</td>\n",
       "    </tr>\n",
       "    <tr>\n",
       "      <th>99</th>\n",
       "      <td>VINCENT CHASE</td>\n",
       "      <td>by Lenskart UV Protection Round Sunglasses (48)</td>\n",
       "      <td>₹1,415</td>\n",
       "    </tr>\n",
       "  </tbody>\n",
       "</table>\n",
       "<p>100 rows × 3 columns</p>\n",
       "</div>"
      ],
      "text/plain": [
       "                Title                                Product description  \\\n",
       "0             VILLAIN             Others Wayfarer Sunglasses (Free Size)   \n",
       "1       VINCENT CHASE  by Lenskart Polarized, UV Protection Round Sun...   \n",
       "2           Elligator                UV Protection Round Sunglasses (54)   \n",
       "3            Fastrack   UV Protection Rectangular Sunglasses (Free Size)   \n",
       "4   SHAAH COLLECTIONS  UV Protection, Polarized, Mirrored Rectangular...   \n",
       "..                ...                                                ...   \n",
       "95            Billion   Polarized, UV Protection Aviator Sunglasses (55)   \n",
       "96     kingsunglasses    Mirrored, UV Protection Aviator Sunglasses (56)   \n",
       "97          ROYAL SON  UV Protection, Gradient Butterfly Sunglasses (57)   \n",
       "98          ROYAL SON         UV Protection Retro Square Sunglasses (58)   \n",
       "99      VINCENT CHASE    by Lenskart UV Protection Round Sunglasses (48)   \n",
       "\n",
       "     Price  \n",
       "0   ₹1,099  \n",
       "1   ₹1,179  \n",
       "2     ₹248  \n",
       "3     ₹639  \n",
       "4     ₹165  \n",
       "..     ...  \n",
       "95    ₹279  \n",
       "96    ₹209  \n",
       "97    ₹664  \n",
       "98    ₹449  \n",
       "99  ₹1,415  \n",
       "\n",
       "[100 rows x 3 columns]"
      ]
     },
     "execution_count": 262,
     "metadata": {},
     "output_type": "execute_result"
    }
   ],
   "source": [
    "sunglass_details_final"
   ]
  },
  {
   "cell_type": "markdown",
   "id": "e094bd14",
   "metadata": {},
   "source": [
    "# Question number 5 :"
   ]
  },
  {
   "cell_type": "code",
   "execution_count": 521,
   "id": "88749066",
   "metadata": {},
   "outputs": [],
   "source": [
    "url3 = 'https://www.flipkart.com/apple-iphone-11-black-64-gb-includes- earpods-poweradapter/p/itm0f37c2240b217?pid=MOBFKCTSVZAXUHGR&lid=LSTMOBFKCTSVZAXUHGREPBFGI&marketplace.'\n",
    "driver.get(url3)"
   ]
  },
  {
   "cell_type": "code",
   "execution_count": 522,
   "id": "a009c319",
   "metadata": {},
   "outputs": [],
   "source": [
    "review_btn = driver.find_element_by_xpath('/html/body/div[1]/div/div[3]/div[1]/div[2]/div[8]/div/div/div[5]/div/a/div/span')\n",
    "review_btn.click()"
   ]
  },
  {
   "cell_type": "code",
   "execution_count": 523,
   "id": "9f1bd682",
   "metadata": {},
   "outputs": [
    {
     "data": {
      "text/plain": [
       "10"
      ]
     },
     "execution_count": 523,
     "metadata": {},
     "output_type": "execute_result"
    }
   ],
   "source": [
    "rating_tags= driver.find_elements_by_xpath('//div[starts-with(@class,\"_3LWZlK \")]')\n",
    "len(rating_tags)"
   ]
  },
  {
   "cell_type": "code",
   "execution_count": 524,
   "id": "9a77472f",
   "metadata": {},
   "outputs": [
    {
     "data": {
      "text/plain": [
       "10"
      ]
     },
     "execution_count": 524,
     "metadata": {},
     "output_type": "execute_result"
    }
   ],
   "source": [
    "summ_tags= driver.find_elements_by_xpath('//p[@class=\"_2-N8zT\"]')\n",
    "len(summ_tags)"
   ]
  },
  {
   "cell_type": "code",
   "execution_count": 525,
   "id": "887d42eb",
   "metadata": {},
   "outputs": [
    {
     "data": {
      "text/plain": [
       "10"
      ]
     },
     "execution_count": 525,
     "metadata": {},
     "output_type": "execute_result"
    }
   ],
   "source": [
    "fullreview_tags= driver.find_elements_by_xpath('//div[@class=\"t-ZTKy\"]')\n",
    "len(fullreview_tags)"
   ]
  },
  {
   "cell_type": "code",
   "execution_count": 526,
   "id": "d4739bbb",
   "metadata": {},
   "outputs": [],
   "source": [
    "#Review title list\n",
    "rating_titles = []\n",
    "for rt in rating_tags:\n",
    "    rating_titles.append(rt.text)\n",
    "total_len5=len(rating_titles)"
   ]
  },
  {
   "cell_type": "code",
   "execution_count": 527,
   "id": "5acdcec9",
   "metadata": {},
   "outputs": [],
   "source": [
    "#Review title list\n",
    "summ_titles = []\n",
    "for st in summ_tags:\n",
    "    summ_titles.append(st.text)"
   ]
  },
  {
   "cell_type": "code",
   "execution_count": 528,
   "id": "53dde153",
   "metadata": {},
   "outputs": [],
   "source": [
    "#Review title list\n",
    "fr_titles = []\n",
    "for fr in fullreview_tags:\n",
    "    fr_titles.append(fr.text)"
   ]
  },
  {
   "cell_type": "code",
   "execution_count": 529,
   "id": "d8b77862",
   "metadata": {},
   "outputs": [],
   "source": [
    "# assigning the next button \n",
    "a5 ='/html/body/div[1]/div/div[3]/div/div/div[2]/div[13]/div/div/nav/a[11]'"
   ]
  },
  {
   "cell_type": "code",
   "execution_count": 530,
   "id": "2f5432d0",
   "metadata": {},
   "outputs": [],
   "source": [
    "while total_len5 < 100:\n",
    "        nxt_btn5 =''\n",
    "        nxt_btn5= driver.find_element_by_xpath(a5)\n",
    "        nxt_btn5.click()\n",
    "        time.sleep(10)\n",
    "        a5 = \" \"\n",
    "        rating_tags= driver.find_elements_by_xpath('//div[starts-with(@class,\"_3LWZlK \")]')\n",
    "        summ_tags = driver.find_elements_by_xpath('//p[@class=\"_2-N8zT\"]')\n",
    "        fullreview_tags = driver.find_elements_by_xpath('//div[@class=\"t-ZTKy\"]')\n",
    "        for rtt in rating_tags:\n",
    "            rating_titles.append(rtt.text)\n",
    "          \n",
    "        for summa in summ_tags:\n",
    "            summ_titles.append(summa.text)\n",
    "           \n",
    "        for fur in fullreview_tags:\n",
    "            fr_titles.append(fur.text)\n",
    "        total_len5=len(rating_titles)\n",
    "        a5='/html/body/div[1]/div/div[3]/div/div/div[2]/div[13]/div/div/nav/a[12]'\n",
    "      "
   ]
  },
  {
   "cell_type": "code",
   "execution_count": 531,
   "id": "7a7a634a",
   "metadata": {},
   "outputs": [
    {
     "data": {
      "text/plain": [
       "100"
      ]
     },
     "execution_count": 531,
     "metadata": {},
     "output_type": "execute_result"
    }
   ],
   "source": [
    "len(rating_titles)"
   ]
  },
  {
   "cell_type": "code",
   "execution_count": 532,
   "id": "c8ba29c4",
   "metadata": {},
   "outputs": [
    {
     "data": {
      "text/plain": [
       "100"
      ]
     },
     "execution_count": 532,
     "metadata": {},
     "output_type": "execute_result"
    }
   ],
   "source": [
    "len(summ_titles)"
   ]
  },
  {
   "cell_type": "code",
   "execution_count": 533,
   "id": "752c2791",
   "metadata": {},
   "outputs": [
    {
     "data": {
      "text/plain": [
       "100"
      ]
     },
     "execution_count": 533,
     "metadata": {},
     "output_type": "execute_result"
    }
   ],
   "source": [
    "len(fr_titles)"
   ]
  },
  {
   "cell_type": "code",
   "execution_count": 534,
   "id": "0d07bfce",
   "metadata": {},
   "outputs": [],
   "source": [
    "review_details = pd.DataFrame({'Rating' :rating_titles,'Summary':summ_titles,'Full Review':fr_titles})"
   ]
  },
  {
   "cell_type": "code",
   "execution_count": 535,
   "id": "ebca5408",
   "metadata": {},
   "outputs": [
    {
     "data": {
      "text/html": [
       "<div>\n",
       "<style scoped>\n",
       "    .dataframe tbody tr th:only-of-type {\n",
       "        vertical-align: middle;\n",
       "    }\n",
       "\n",
       "    .dataframe tbody tr th {\n",
       "        vertical-align: top;\n",
       "    }\n",
       "\n",
       "    .dataframe thead th {\n",
       "        text-align: right;\n",
       "    }\n",
       "</style>\n",
       "<table border=\"1\" class=\"dataframe\">\n",
       "  <thead>\n",
       "    <tr style=\"text-align: right;\">\n",
       "      <th></th>\n",
       "      <th>Rating</th>\n",
       "      <th>Summary</th>\n",
       "      <th>Full Review</th>\n",
       "    </tr>\n",
       "  </thead>\n",
       "  <tbody>\n",
       "    <tr>\n",
       "      <th>0</th>\n",
       "      <td>5</td>\n",
       "      <td>Brilliant</td>\n",
       "      <td>The Best Phone for the Money\\n\\nThe iPhone 11 ...</td>\n",
       "    </tr>\n",
       "    <tr>\n",
       "      <th>1</th>\n",
       "      <td>5</td>\n",
       "      <td>Simply awesome</td>\n",
       "      <td>Really satisfied with the Product I received.....</td>\n",
       "    </tr>\n",
       "    <tr>\n",
       "      <th>2</th>\n",
       "      <td>5</td>\n",
       "      <td>Best in the market!</td>\n",
       "      <td>Great iPhone very snappy experience as apple k...</td>\n",
       "    </tr>\n",
       "    <tr>\n",
       "      <th>3</th>\n",
       "      <td>5</td>\n",
       "      <td>Perfect product!</td>\n",
       "      <td>Amazing phone with great cameras and better ba...</td>\n",
       "    </tr>\n",
       "    <tr>\n",
       "      <th>4</th>\n",
       "      <td>5</td>\n",
       "      <td>Worth every penny</td>\n",
       "      <td>Previously I was using one plus 3t it was a gr...</td>\n",
       "    </tr>\n",
       "    <tr>\n",
       "      <th>...</th>\n",
       "      <td>...</td>\n",
       "      <td>...</td>\n",
       "      <td>...</td>\n",
       "    </tr>\n",
       "    <tr>\n",
       "      <th>95</th>\n",
       "      <td>5</td>\n",
       "      <td>Terrific</td>\n",
       "      <td>I got this beast today. And I must say the pic...</td>\n",
       "    </tr>\n",
       "    <tr>\n",
       "      <th>96</th>\n",
       "      <td>5</td>\n",
       "      <td>Highly recommended</td>\n",
       "      <td>Amazing camera quality as expected, battery al...</td>\n",
       "    </tr>\n",
       "    <tr>\n",
       "      <th>97</th>\n",
       "      <td>5</td>\n",
       "      <td>Must buy!</td>\n",
       "      <td>Dear friends... I want to share my experience ...</td>\n",
       "    </tr>\n",
       "    <tr>\n",
       "      <th>98</th>\n",
       "      <td>5</td>\n",
       "      <td>Must buy!</td>\n",
       "      <td>Camera is excellent just lack of telephoto mod...</td>\n",
       "    </tr>\n",
       "    <tr>\n",
       "      <th>99</th>\n",
       "      <td>5</td>\n",
       "      <td>Excellent</td>\n",
       "      <td>It was amazing experience for me. Honestly i a...</td>\n",
       "    </tr>\n",
       "  </tbody>\n",
       "</table>\n",
       "<p>100 rows × 3 columns</p>\n",
       "</div>"
      ],
      "text/plain": [
       "   Rating              Summary  \\\n",
       "0       5            Brilliant   \n",
       "1       5       Simply awesome   \n",
       "2       5  Best in the market!   \n",
       "3       5     Perfect product!   \n",
       "4       5    Worth every penny   \n",
       "..    ...                  ...   \n",
       "95      5             Terrific   \n",
       "96      5   Highly recommended   \n",
       "97      5            Must buy!   \n",
       "98      5            Must buy!   \n",
       "99      5            Excellent   \n",
       "\n",
       "                                          Full Review  \n",
       "0   The Best Phone for the Money\\n\\nThe iPhone 11 ...  \n",
       "1   Really satisfied with the Product I received.....  \n",
       "2   Great iPhone very snappy experience as apple k...  \n",
       "3   Amazing phone with great cameras and better ba...  \n",
       "4   Previously I was using one plus 3t it was a gr...  \n",
       "..                                                ...  \n",
       "95  I got this beast today. And I must say the pic...  \n",
       "96  Amazing camera quality as expected, battery al...  \n",
       "97  Dear friends... I want to share my experience ...  \n",
       "98  Camera is excellent just lack of telephoto mod...  \n",
       "99  It was amazing experience for me. Honestly i a...  \n",
       "\n",
       "[100 rows x 3 columns]"
      ]
     },
     "execution_count": 535,
     "metadata": {},
     "output_type": "execute_result"
    }
   ],
   "source": [
    "review_details"
   ]
  },
  {
   "cell_type": "markdown",
   "id": "9fd65b6a",
   "metadata": {},
   "source": [
    "# Question number 6 :"
   ]
  },
  {
   "cell_type": "code",
   "execution_count": 542,
   "id": "20253669",
   "metadata": {},
   "outputs": [],
   "source": [
    "url6 = 'http://www.flipkart.com/'\n",
    "driver.get(url6)"
   ]
  },
  {
   "cell_type": "code",
   "execution_count": 543,
   "id": "5ee9b860",
   "metadata": {},
   "outputs": [],
   "source": [
    "import time"
   ]
  },
  {
   "cell_type": "code",
   "execution_count": 544,
   "id": "c4e9cfe9",
   "metadata": {},
   "outputs": [
    {
     "data": {
      "text/plain": [
       "<selenium.webdriver.remote.webelement.WebElement (session=\"d9f21bceeafc69e227e363c421683083\", element=\"1f54d782-639a-440a-a79f-df6c364c59ad\")>"
      ]
     },
     "execution_count": 544,
     "metadata": {},
     "output_type": "execute_result"
    }
   ],
   "source": [
    "search_item= driver.find_element_by_xpath('/html/body/div[1]/div/div[1]/div[1]/div[2]/div[2]/form/div/div/input')\n",
    "search_item"
   ]
  },
  {
   "cell_type": "code",
   "execution_count": 545,
   "id": "d62b94e0",
   "metadata": {},
   "outputs": [],
   "source": [
    "# write on search bar\n",
    "search_item.send_keys(\"Sneakers\")"
   ]
  },
  {
   "cell_type": "code",
   "execution_count": 546,
   "id": "0a8d92f1",
   "metadata": {},
   "outputs": [
    {
     "data": {
      "text/plain": [
       "<selenium.webdriver.remote.webelement.WebElement (session=\"d9f21bceeafc69e227e363c421683083\", element=\"0f053634-82c0-40f7-aff4-ab114e769daa\")>"
      ]
     },
     "execution_count": 546,
     "metadata": {},
     "output_type": "execute_result"
    }
   ],
   "source": [
    "# Search button click\n",
    "search_btn6= driver.find_element_by_class_name('L0Z3Pu')\n",
    "search_btn6"
   ]
  },
  {
   "cell_type": "code",
   "execution_count": 547,
   "id": "42264e88",
   "metadata": {},
   "outputs": [],
   "source": [
    "search_btn6.click()"
   ]
  },
  {
   "cell_type": "code",
   "execution_count": 548,
   "id": "1d37025a",
   "metadata": {},
   "outputs": [
    {
     "data": {
      "text/plain": [
       "40"
      ]
     },
     "execution_count": 548,
     "metadata": {},
     "output_type": "execute_result"
    }
   ],
   "source": [
    "brand_tags= driver.find_elements_by_xpath('//div[@class=\"_2WkVRV\"]')\n",
    "len(brand_tags)\n"
   ]
  },
  {
   "cell_type": "code",
   "execution_count": 549,
   "id": "805c194f",
   "metadata": {},
   "outputs": [
    {
     "data": {
      "text/plain": [
       "40"
      ]
     },
     "execution_count": 549,
     "metadata": {},
     "output_type": "execute_result"
    }
   ],
   "source": [
    "# Scrapping the Product description of sunglasses from 1st page\n",
    "pro_tags= driver.find_elements_by_xpath('//a[starts-with(@class,\"IRpwTa\")]')\n",
    "len(pro_tags)"
   ]
  },
  {
   "cell_type": "code",
   "execution_count": 551,
   "id": "b075ba1b",
   "metadata": {},
   "outputs": [
    {
     "data": {
      "text/plain": [
       "40"
      ]
     },
     "execution_count": 551,
     "metadata": {},
     "output_type": "execute_result"
    }
   ],
   "source": [
    "# Scrapping the Price of sunglasses from 1st page\n",
    "price_tags= driver.find_elements_by_xpath('//*[@class=\"_30jeq3\"]')\n",
    "len(price_tags)"
   ]
  },
  {
   "cell_type": "code",
   "execution_count": 552,
   "id": "03b65e4f",
   "metadata": {},
   "outputs": [],
   "source": [
    "#brand title list\n",
    "brand_titles = []\n",
    "for br in brand_tags:\n",
    "    brand_titles.append(br.text)\n",
    "total_len=len(brand_titles)\n"
   ]
  },
  {
   "cell_type": "code",
   "execution_count": 553,
   "id": "75ef179f",
   "metadata": {},
   "outputs": [],
   "source": [
    "# Product description list\n",
    "pro_titles = []\n",
    "for pr in pro_tags:\n",
    "    pro_titles.append(pr.text)\n",
    "total_len1=len(pro_titles)"
   ]
  },
  {
   "cell_type": "code",
   "execution_count": 554,
   "id": "db089f69",
   "metadata": {},
   "outputs": [],
   "source": [
    "# Product price list\n",
    "price_titles = []\n",
    "for pri in price_tags:\n",
    "    price_titles.append(pri.text)\n",
    "total_len2=len(price_titles)"
   ]
  },
  {
   "cell_type": "code",
   "execution_count": 555,
   "id": "c7efebac",
   "metadata": {},
   "outputs": [],
   "source": [
    "# assigning the next button \n",
    "a22= '/html/body/div/div/div[3]/div[1]/div[2]/div[12]/div/div/nav/a[11]'\n",
    "it = 2"
   ]
  },
  {
   "cell_type": "code",
   "execution_count": 556,
   "id": "36f2e002",
   "metadata": {},
   "outputs": [],
   "source": [
    "\n",
    "while total_len < 100:\n",
    "        nxt_btn =''\n",
    "        nxt_btn= driver.find_element_by_xpath(a22)\n",
    "        nxt_btn.click()\n",
    "        time.sleep(10)\n",
    "        brand_tags= driver.find_elements_by_xpath('//div[@class=\"_2WkVRV\"]')\n",
    "        pro_tags = driver.find_elements_by_xpath('//a[starts-with(@class,\"IRpwTa\")]')\n",
    "        price_tags = driver.find_elements_by_xpath('//*[@class=\"_30jeq3\"]')\n",
    "        for btt in brand_tags:\n",
    "            brand_titles.append(btt.text)\n",
    "          \n",
    "        for ptt in pro_tags:\n",
    "            pro_titles.append(ptt.text)\n",
    "           \n",
    "        for prc in price_tags:\n",
    "            price_titles.append(prc.text)\n",
    "        total_len=len(brand_titles)  \n",
    "        a22 =a22[:-2] + str(it) +']'\n",
    "        it+=1\n"
   ]
  },
  {
   "cell_type": "code",
   "execution_count": 557,
   "id": "59fff928",
   "metadata": {},
   "outputs": [],
   "source": [
    "sneakers_details = pd.DataFrame({'Title' :brand_titles,'Product description':pro_titles,'Price':price_titles})"
   ]
  },
  {
   "cell_type": "code",
   "execution_count": 558,
   "id": "0e40b47d",
   "metadata": {},
   "outputs": [],
   "source": [
    "sneakers_details_final = sneakers_details.head(100)"
   ]
  },
  {
   "cell_type": "code",
   "execution_count": 559,
   "id": "5dde5e18",
   "metadata": {},
   "outputs": [
    {
     "data": {
      "text/html": [
       "<div>\n",
       "<style scoped>\n",
       "    .dataframe tbody tr th:only-of-type {\n",
       "        vertical-align: middle;\n",
       "    }\n",
       "\n",
       "    .dataframe tbody tr th {\n",
       "        vertical-align: top;\n",
       "    }\n",
       "\n",
       "    .dataframe thead th {\n",
       "        text-align: right;\n",
       "    }\n",
       "</style>\n",
       "<table border=\"1\" class=\"dataframe\">\n",
       "  <thead>\n",
       "    <tr style=\"text-align: right;\">\n",
       "      <th></th>\n",
       "      <th>Title</th>\n",
       "      <th>Product description</th>\n",
       "      <th>Price</th>\n",
       "    </tr>\n",
       "  </thead>\n",
       "  <tbody>\n",
       "    <tr>\n",
       "      <th>0</th>\n",
       "      <td>RapidBox</td>\n",
       "      <td>Stylish &amp; Trendy Sneakers For Men</td>\n",
       "      <td>₹630</td>\n",
       "    </tr>\n",
       "    <tr>\n",
       "      <th>1</th>\n",
       "      <td>PACIFIKOT</td>\n",
       "      <td>Sneakers For Men</td>\n",
       "      <td>₹399</td>\n",
       "    </tr>\n",
       "    <tr>\n",
       "      <th>2</th>\n",
       "      <td>PUMA</td>\n",
       "      <td>Smash v2 L White- Black Sneakers For Men</td>\n",
       "      <td>₹1,799</td>\n",
       "    </tr>\n",
       "    <tr>\n",
       "      <th>3</th>\n",
       "      <td>Elevarse</td>\n",
       "      <td>Stylish Comfortable shoes Sneakers For Men</td>\n",
       "      <td>₹349</td>\n",
       "    </tr>\n",
       "    <tr>\n",
       "      <th>4</th>\n",
       "      <td>BRUTON</td>\n",
       "      <td>Combo Pack Of 4 Casual Shoes Loafer Shoes Snea...</td>\n",
       "      <td>₹499</td>\n",
       "    </tr>\n",
       "    <tr>\n",
       "      <th>...</th>\n",
       "      <td>...</td>\n",
       "      <td>...</td>\n",
       "      <td>...</td>\n",
       "    </tr>\n",
       "    <tr>\n",
       "      <th>95</th>\n",
       "      <td>Roadster</td>\n",
       "      <td>Men White Sneakers Sneakers For Men</td>\n",
       "      <td>₹1,692</td>\n",
       "    </tr>\n",
       "    <tr>\n",
       "      <th>96</th>\n",
       "      <td>RODDICK SHOES</td>\n",
       "      <td>Fashion Outdoor Canvas Casual Light Weight Lac...</td>\n",
       "      <td>₹428</td>\n",
       "    </tr>\n",
       "    <tr>\n",
       "      <th>97</th>\n",
       "      <td>Magnolia</td>\n",
       "      <td>Sneakers For Men</td>\n",
       "      <td>₹472</td>\n",
       "    </tr>\n",
       "    <tr>\n",
       "      <th>98</th>\n",
       "      <td>SPARX</td>\n",
       "      <td>SM-439 Sneakers For Men</td>\n",
       "      <td>₹849</td>\n",
       "    </tr>\n",
       "    <tr>\n",
       "      <th>99</th>\n",
       "      <td>CLYMB</td>\n",
       "      <td>Perfect Sports Shoes for Men's Running ,Cyclin...</td>\n",
       "      <td>₹249</td>\n",
       "    </tr>\n",
       "  </tbody>\n",
       "</table>\n",
       "<p>100 rows × 3 columns</p>\n",
       "</div>"
      ],
      "text/plain": [
       "            Title                                Product description   Price\n",
       "0        RapidBox                  Stylish & Trendy Sneakers For Men    ₹630\n",
       "1       PACIFIKOT                                   Sneakers For Men    ₹399\n",
       "2            PUMA           Smash v2 L White- Black Sneakers For Men  ₹1,799\n",
       "3        Elevarse         Stylish Comfortable shoes Sneakers For Men    ₹349\n",
       "4          BRUTON  Combo Pack Of 4 Casual Shoes Loafer Shoes Snea...    ₹499\n",
       "..            ...                                                ...     ...\n",
       "95       Roadster                Men White Sneakers Sneakers For Men  ₹1,692\n",
       "96  RODDICK SHOES  Fashion Outdoor Canvas Casual Light Weight Lac...    ₹428\n",
       "97       Magnolia                                   Sneakers For Men    ₹472\n",
       "98          SPARX                            SM-439 Sneakers For Men    ₹849\n",
       "99          CLYMB  Perfect Sports Shoes for Men's Running ,Cyclin...    ₹249\n",
       "\n",
       "[100 rows x 3 columns]"
      ]
     },
     "execution_count": 559,
     "metadata": {},
     "output_type": "execute_result"
    }
   ],
   "source": [
    "sneakers_details_final"
   ]
  },
  {
   "cell_type": "markdown",
   "id": "4968aca0",
   "metadata": {},
   "source": [
    "# Question number 7"
   ]
  },
  {
   "cell_type": "code",
   "execution_count": 698,
   "id": "3fdf3ab9",
   "metadata": {},
   "outputs": [],
   "source": [
    "url7 = 'http://www.myntra.com/shoes'\n",
    "driver.get(url7)"
   ]
  },
  {
   "cell_type": "code",
   "execution_count": 699,
   "id": "0c49419f",
   "metadata": {},
   "outputs": [
    {
     "data": {
      "text/plain": [
       "<selenium.webdriver.remote.webelement.WebElement (session=\"d9f21bceeafc69e227e363c421683083\", element=\"727d5d81-525c-4750-809c-02253c42c0f2\")>"
      ]
     },
     "execution_count": 699,
     "metadata": {},
     "output_type": "execute_result"
    }
   ],
   "source": [
    "# Filter for price\n",
    "search_price= driver.find_element_by_xpath('/html/body/div[2]/div/div[1]/main/div[3]/div[1]/section/div/div[5]/ul/li[2]/label/div')\n",
    "search_price"
   ]
  },
  {
   "cell_type": "code",
   "execution_count": 700,
   "id": "7377795d",
   "metadata": {},
   "outputs": [],
   "source": [
    "search_price.click()"
   ]
  },
  {
   "cell_type": "code",
   "execution_count": 701,
   "id": "097e78d6",
   "metadata": {},
   "outputs": [
    {
     "data": {
      "text/plain": [
       "<selenium.webdriver.remote.webelement.WebElement (session=\"d9f21bceeafc69e227e363c421683083\", element=\"cb167a0a-8db8-4293-80b7-4cd652faff6b\")>"
      ]
     },
     "execution_count": 701,
     "metadata": {},
     "output_type": "execute_result"
    }
   ],
   "source": [
    "#Filter for colour\n",
    "search_colour= driver.find_element_by_xpath('/html/body/div[2]/div/div[1]/main/div[3]/div[1]/section/div/div[6]/ul/li[1]/label/div')\n",
    "search_colour"
   ]
  },
  {
   "cell_type": "code",
   "execution_count": 702,
   "id": "bcafac09",
   "metadata": {},
   "outputs": [],
   "source": [
    "search_colour.click()"
   ]
  },
  {
   "cell_type": "code",
   "execution_count": 703,
   "id": "52366aa0",
   "metadata": {},
   "outputs": [
    {
     "data": {
      "text/plain": [
       "50"
      ]
     },
     "execution_count": 703,
     "metadata": {},
     "output_type": "execute_result"
    }
   ],
   "source": [
    "brand_tags= driver.find_elements_by_xpath('//div[@class=\"product-productMetaInfo\"]')\n",
    "len(brand_tags)"
   ]
  },
  {
   "cell_type": "code",
   "execution_count": 704,
   "id": "185f15ac",
   "metadata": {},
   "outputs": [
    {
     "data": {
      "text/plain": [
       "[<selenium.webdriver.remote.webelement.WebElement (session=\"d9f21bceeafc69e227e363c421683083\", element=\"c834cec6-d8dc-4384-90b5-72c1e853ab9a\")>,\n",
       " <selenium.webdriver.remote.webelement.WebElement (session=\"d9f21bceeafc69e227e363c421683083\", element=\"90122933-e77d-4911-8774-99abac5a25a8\")>,\n",
       " <selenium.webdriver.remote.webelement.WebElement (session=\"d9f21bceeafc69e227e363c421683083\", element=\"fe36c796-356b-40cf-9a7c-1bbe5ed982bf\")>,\n",
       " <selenium.webdriver.remote.webelement.WebElement (session=\"d9f21bceeafc69e227e363c421683083\", element=\"a1c3dbc9-66aa-4c9b-8fbc-3423b3584d6b\")>,\n",
       " <selenium.webdriver.remote.webelement.WebElement (session=\"d9f21bceeafc69e227e363c421683083\", element=\"021d2efd-c10f-4d9d-9767-79545eff3c88\")>,\n",
       " <selenium.webdriver.remote.webelement.WebElement (session=\"d9f21bceeafc69e227e363c421683083\", element=\"c13e0963-e9f9-46fa-a1c7-d01e4b0e3651\")>,\n",
       " <selenium.webdriver.remote.webelement.WebElement (session=\"d9f21bceeafc69e227e363c421683083\", element=\"50abaf3c-0d7a-484f-9bff-a909ac0fd99e\")>,\n",
       " <selenium.webdriver.remote.webelement.WebElement (session=\"d9f21bceeafc69e227e363c421683083\", element=\"f38d05e2-1845-4c76-bf7d-ddd906bea9bd\")>,\n",
       " <selenium.webdriver.remote.webelement.WebElement (session=\"d9f21bceeafc69e227e363c421683083\", element=\"f3cf4905-3100-4e00-b1c0-51c92b540142\")>,\n",
       " <selenium.webdriver.remote.webelement.WebElement (session=\"d9f21bceeafc69e227e363c421683083\", element=\"93a8236b-8b57-440d-8e0d-7a32ef4b6e11\")>,\n",
       " <selenium.webdriver.remote.webelement.WebElement (session=\"d9f21bceeafc69e227e363c421683083\", element=\"668bb183-25ac-4b49-afe3-6a9f3bb7511c\")>,\n",
       " <selenium.webdriver.remote.webelement.WebElement (session=\"d9f21bceeafc69e227e363c421683083\", element=\"21471762-0487-44e9-95e8-9206e8ee29d4\")>,\n",
       " <selenium.webdriver.remote.webelement.WebElement (session=\"d9f21bceeafc69e227e363c421683083\", element=\"afdfa105-3057-4a66-818e-38b27a3ba440\")>,\n",
       " <selenium.webdriver.remote.webelement.WebElement (session=\"d9f21bceeafc69e227e363c421683083\", element=\"b1d6f954-4680-4253-b9e6-b027cdccb338\")>,\n",
       " <selenium.webdriver.remote.webelement.WebElement (session=\"d9f21bceeafc69e227e363c421683083\", element=\"872973a4-e0dc-41b9-8284-2fae322e3f05\")>,\n",
       " <selenium.webdriver.remote.webelement.WebElement (session=\"d9f21bceeafc69e227e363c421683083\", element=\"c667a1ce-ec5e-4eb7-a11f-000d09859c84\")>,\n",
       " <selenium.webdriver.remote.webelement.WebElement (session=\"d9f21bceeafc69e227e363c421683083\", element=\"62edd776-3719-4774-a82c-9abb90c7ff2d\")>,\n",
       " <selenium.webdriver.remote.webelement.WebElement (session=\"d9f21bceeafc69e227e363c421683083\", element=\"8f340121-15f8-441d-bc3d-5dd2f997c481\")>,\n",
       " <selenium.webdriver.remote.webelement.WebElement (session=\"d9f21bceeafc69e227e363c421683083\", element=\"ae52ae0d-74eb-4129-a4ed-76f8d4a5d409\")>,\n",
       " <selenium.webdriver.remote.webelement.WebElement (session=\"d9f21bceeafc69e227e363c421683083\", element=\"fed47ade-c9f4-447e-8ef8-69769aea5354\")>,\n",
       " <selenium.webdriver.remote.webelement.WebElement (session=\"d9f21bceeafc69e227e363c421683083\", element=\"1c81ae26-ba3a-4608-adea-f2f5c2a7d1af\")>,\n",
       " <selenium.webdriver.remote.webelement.WebElement (session=\"d9f21bceeafc69e227e363c421683083\", element=\"35c173a8-48a0-4b25-bc39-fd0eaf9b4c2c\")>,\n",
       " <selenium.webdriver.remote.webelement.WebElement (session=\"d9f21bceeafc69e227e363c421683083\", element=\"3c9cf09c-69e5-4e38-a68e-52768aa9f68b\")>,\n",
       " <selenium.webdriver.remote.webelement.WebElement (session=\"d9f21bceeafc69e227e363c421683083\", element=\"f90a3642-d8d5-43a7-ba60-3aab350b3e6f\")>,\n",
       " <selenium.webdriver.remote.webelement.WebElement (session=\"d9f21bceeafc69e227e363c421683083\", element=\"e1843394-7283-4a42-9d4f-4543b797ddc0\")>,\n",
       " <selenium.webdriver.remote.webelement.WebElement (session=\"d9f21bceeafc69e227e363c421683083\", element=\"132d9e50-bf98-4016-996e-bd471f7cd33f\")>,\n",
       " <selenium.webdriver.remote.webelement.WebElement (session=\"d9f21bceeafc69e227e363c421683083\", element=\"f66fa167-7241-4d55-8d1e-470fa1826a6d\")>,\n",
       " <selenium.webdriver.remote.webelement.WebElement (session=\"d9f21bceeafc69e227e363c421683083\", element=\"6bc33934-2eaf-45be-a641-78af0a79aa4f\")>,\n",
       " <selenium.webdriver.remote.webelement.WebElement (session=\"d9f21bceeafc69e227e363c421683083\", element=\"ba97ada1-85cf-4815-9c65-1ef5692c8132\")>,\n",
       " <selenium.webdriver.remote.webelement.WebElement (session=\"d9f21bceeafc69e227e363c421683083\", element=\"d3eee8ec-38b6-4387-8324-799cc49e39e4\")>,\n",
       " <selenium.webdriver.remote.webelement.WebElement (session=\"d9f21bceeafc69e227e363c421683083\", element=\"1dbee4ed-5374-4a29-9120-f703d8efe48b\")>,\n",
       " <selenium.webdriver.remote.webelement.WebElement (session=\"d9f21bceeafc69e227e363c421683083\", element=\"4c70964b-bbe1-4d81-b82b-bea46bc8ddb8\")>,\n",
       " <selenium.webdriver.remote.webelement.WebElement (session=\"d9f21bceeafc69e227e363c421683083\", element=\"07c5258e-f9bd-4496-8ce8-c29e519d660c\")>,\n",
       " <selenium.webdriver.remote.webelement.WebElement (session=\"d9f21bceeafc69e227e363c421683083\", element=\"6ef14914-8072-4783-84f9-587ebcdb01e1\")>,\n",
       " <selenium.webdriver.remote.webelement.WebElement (session=\"d9f21bceeafc69e227e363c421683083\", element=\"d881d874-4af5-4aa3-83bf-dc8cf8aa8aa6\")>,\n",
       " <selenium.webdriver.remote.webelement.WebElement (session=\"d9f21bceeafc69e227e363c421683083\", element=\"e5b8b10f-bc9b-41cd-be95-e2aaef78f28b\")>,\n",
       " <selenium.webdriver.remote.webelement.WebElement (session=\"d9f21bceeafc69e227e363c421683083\", element=\"4f4c3e46-3dbe-4052-a896-ad845f4f0c0e\")>,\n",
       " <selenium.webdriver.remote.webelement.WebElement (session=\"d9f21bceeafc69e227e363c421683083\", element=\"9e466363-4a8c-4a42-aa88-5bb049f34db1\")>,\n",
       " <selenium.webdriver.remote.webelement.WebElement (session=\"d9f21bceeafc69e227e363c421683083\", element=\"c65ec5ab-98e6-42ea-b487-7497b7cdf196\")>,\n",
       " <selenium.webdriver.remote.webelement.WebElement (session=\"d9f21bceeafc69e227e363c421683083\", element=\"4c44c4dd-54aa-4c28-ba6c-9f16e7123b2f\")>,\n",
       " <selenium.webdriver.remote.webelement.WebElement (session=\"d9f21bceeafc69e227e363c421683083\", element=\"38307df6-0b71-458f-8a39-86dd58d78039\")>,\n",
       " <selenium.webdriver.remote.webelement.WebElement (session=\"d9f21bceeafc69e227e363c421683083\", element=\"2ee03b7a-a608-4bd0-a535-b689bd82151f\")>,\n",
       " <selenium.webdriver.remote.webelement.WebElement (session=\"d9f21bceeafc69e227e363c421683083\", element=\"8b1f4b00-8f5b-4a38-acc3-ce32954a689e\")>,\n",
       " <selenium.webdriver.remote.webelement.WebElement (session=\"d9f21bceeafc69e227e363c421683083\", element=\"0e0ef83e-b6f8-44df-8ac0-83a3ba2b2776\")>,\n",
       " <selenium.webdriver.remote.webelement.WebElement (session=\"d9f21bceeafc69e227e363c421683083\", element=\"58437481-fc8c-4ad0-a738-2f1f06e7afba\")>,\n",
       " <selenium.webdriver.remote.webelement.WebElement (session=\"d9f21bceeafc69e227e363c421683083\", element=\"fb20176b-0beb-45b5-aa3b-54a59b8169be\")>,\n",
       " <selenium.webdriver.remote.webelement.WebElement (session=\"d9f21bceeafc69e227e363c421683083\", element=\"9e380a83-e631-4079-af58-9289a4986c21\")>,\n",
       " <selenium.webdriver.remote.webelement.WebElement (session=\"d9f21bceeafc69e227e363c421683083\", element=\"4942bfe5-e713-4838-8c81-d08c8bc76e25\")>,\n",
       " <selenium.webdriver.remote.webelement.WebElement (session=\"d9f21bceeafc69e227e363c421683083\", element=\"45997d06-d6d0-481e-a13f-a9045b9cfd09\")>,\n",
       " <selenium.webdriver.remote.webelement.WebElement (session=\"d9f21bceeafc69e227e363c421683083\", element=\"f8233221-bd69-4dbd-8fbd-401219cbf7b8\")>]"
      ]
     },
     "execution_count": 704,
     "metadata": {},
     "output_type": "execute_result"
    }
   ],
   "source": [
    "brand_tags"
   ]
  },
  {
   "cell_type": "code",
   "execution_count": 705,
   "id": "9c2e71a0",
   "metadata": {},
   "outputs": [],
   "source": [
    "#brand title list\n",
    "brand_titles = []\n",
    "for br in brand_tags:\n",
    "    brand_titles.append(br.text.splitlines()[0])\n",
    "total_len=len(brand_titles)"
   ]
  },
  {
   "cell_type": "code",
   "execution_count": 706,
   "id": "af498cb2",
   "metadata": {},
   "outputs": [
    {
     "data": {
      "text/plain": [
       "['Nike',\n",
       " 'Tommy Hilfiger',\n",
       " 'ALDO',\n",
       " 'Nike',\n",
       " 'Tommy Hilfiger',\n",
       " 'DAVINCHI',\n",
       " 'Tommy Hilfiger',\n",
       " 'Puma',\n",
       " 'Puma',\n",
       " 'Puma',\n",
       " 'Puma',\n",
       " 'Puma',\n",
       " 'ASICS',\n",
       " 'RARE RABBIT',\n",
       " 'Skechers',\n",
       " 'Puma',\n",
       " 'PUMA Motorsport',\n",
       " 'Hush Puppies',\n",
       " 'Puma',\n",
       " 'Tommy Hilfiger',\n",
       " 'Hush Puppies',\n",
       " 'New Balance',\n",
       " 'Puma',\n",
       " 'Reebok',\n",
       " 'Bugatti',\n",
       " 'RARE RABBIT',\n",
       " 'Puma',\n",
       " 'Bugatti',\n",
       " 'ALDO',\n",
       " 'Columbia',\n",
       " 'Xtep',\n",
       " 'Saint G',\n",
       " 'ASICS',\n",
       " 'Puma',\n",
       " 'Saint G',\n",
       " 'Hush Puppies',\n",
       " 'Hush Puppies',\n",
       " 'DAVINCHI',\n",
       " 'Hush Puppies',\n",
       " 'MANGO',\n",
       " 'Royal Enfield',\n",
       " 'J.FONTINI',\n",
       " 'Heel & Buckle London',\n",
       " 'Hush Puppies',\n",
       " 'Hush Puppies',\n",
       " 'DAVINCHI',\n",
       " 'Saint G',\n",
       " 'Tommy Hilfiger',\n",
       " 'Clarks',\n",
       " 'Saint G']"
      ]
     },
     "execution_count": 706,
     "metadata": {},
     "output_type": "execute_result"
    }
   ],
   "source": [
    "brand_titles"
   ]
  },
  {
   "cell_type": "code",
   "execution_count": 707,
   "id": "fb2dc1f2",
   "metadata": {},
   "outputs": [],
   "source": [
    "#brand title list\n",
    "brand_desc = []\n",
    "for bd in brand_tags:\n",
    "    brand_desc.append(bd.text.splitlines()[1])"
   ]
  },
  {
   "cell_type": "code",
   "execution_count": 708,
   "id": "261e0aaf",
   "metadata": {},
   "outputs": [
    {
     "data": {
      "text/plain": [
       "['Men AIR ZOOM PEGASUS 38',\n",
       " 'Men Solid Loafers',\n",
       " 'Men Printed Sneakers',\n",
       " 'Men Blazer Court Skateboarding',\n",
       " 'Men Leather Sneakers',\n",
       " 'Men Textured Formal Leather Loafers',\n",
       " 'Men Leather Sneakers',\n",
       " 'Men Jamming 2.0 Running Shoes',\n",
       " 'Men Running Shoes',\n",
       " 'Men Magnify Nitro Running',\n",
       " 'Men Deviate Nitro Running Shoe',\n",
       " 'Men Electrify Nitro Running',\n",
       " 'Women Running Shoes',\n",
       " 'Men Leather Slip-On Sneakers',\n",
       " 'Men Go Run Hyper Burst Running',\n",
       " 'Men Training or Gym Shoes',\n",
       " 'Unisex Ferrari Drift8 Sneakers',\n",
       " 'Men Solid Leather Formal Slip-Ons',\n",
       " 'Women Magnify Nitro Shoes',\n",
       " 'Leather Sandals',\n",
       " 'Men Perforations Leather Slip-On Sneakers',\n",
       " 'Men Woven Design Running Shoes',\n",
       " 'Men Liberate Nitro Running',\n",
       " 'Men Astroride Forever Running',\n",
       " 'Men Black Walking Shoes',\n",
       " 'Men Leather Flat Boots',\n",
       " 'Women Eternity NITRO Shoes',\n",
       " 'Men Textured Leather High-Top Flat Boots',\n",
       " 'Wedge Sandals',\n",
       " 'NEWTON RIDGE PLUS II WATERPROOF',\n",
       " 'Men Running Shoes',\n",
       " 'Men Mid-Top Chelsea Boots',\n",
       " 'Men Colourblocked PU Sneakers',\n",
       " 'Women Velocity NITRO Runners',\n",
       " 'Men Leather Chelsea Boots',\n",
       " 'Men Solid Leather Formal Derbys',\n",
       " 'Men Formal Derbys',\n",
       " 'Ustraa black',\n",
       " 'Men Solid Formal Slip-Ons',\n",
       " 'Women Mid Top Chunky Flat Boot',\n",
       " 'Cabo WP Riding Boots',\n",
       " 'Men Textured Leather Loafers',\n",
       " 'Men Solid Leather Formal Loafers',\n",
       " 'Men Leather Derbys',\n",
       " 'Men Solid Leather Formal Slip-Ons',\n",
       " 'Men Solid Leather Formal Loafers',\n",
       " 'Women Leather Heeled Boots',\n",
       " 'Women ELEVATED Leather Sneaker',\n",
       " 'Men Solid Leather Formal Loafers',\n",
       " 'Leather Block Heeled Boots']"
      ]
     },
     "execution_count": 708,
     "metadata": {},
     "output_type": "execute_result"
    }
   ],
   "source": [
    "brand_desc"
   ]
  },
  {
   "cell_type": "code",
   "execution_count": 709,
   "id": "5ab02f67",
   "metadata": {},
   "outputs": [],
   "source": [
    "#Shoes Price\n",
    "brand_price = []\n",
    "for bp in brand_tags:\n",
    "    brand_price.append(bp.text.splitlines()[2].split()[1])"
   ]
  },
  {
   "cell_type": "code",
   "execution_count": 710,
   "id": "4b333b92",
   "metadata": {},
   "outputs": [
    {
     "data": {
      "text/plain": [
       "['10920Rs.',\n",
       " '8999',\n",
       " '9099Rs.',\n",
       " '7495',\n",
       " '7999',\n",
       " '8990',\n",
       " '7999',\n",
       " '12999',\n",
       " '9749Rs.',\n",
       " '7799Rs.',\n",
       " '10499Rs.',\n",
       " '9999',\n",
       " '7999',\n",
       " '7999',\n",
       " '7649Rs.',\n",
       " '7999',\n",
       " '7999',\n",
       " '8999',\n",
       " '7799Rs.',\n",
       " '7599',\n",
       " '7999',\n",
       " '7699Rs.',\n",
       " '7499Rs.',\n",
       " '7199Rs.',\n",
       " '7199Rs.',\n",
       " '7999Rs.',\n",
       " '12999',\n",
       " '8399Rs.',\n",
       " '7999',\n",
       " '8499',\n",
       " '7699',\n",
       " '10500Rs.',\n",
       " '9999',\n",
       " '7149Rs.',\n",
       " '10710Rs.',\n",
       " '9999',\n",
       " '9999',\n",
       " '8990',\n",
       " '9999',\n",
       " '7191Rs.',\n",
       " '8500',\n",
       " '8490',\n",
       " '11990',\n",
       " '7999',\n",
       " '9999',\n",
       " '8490',\n",
       " '12325Rs.',\n",
       " '7219Rs.',\n",
       " '7999',\n",
       " '9265Rs.']"
      ]
     },
     "execution_count": 710,
     "metadata": {},
     "output_type": "execute_result"
    }
   ],
   "source": [
    "brand_price"
   ]
  },
  {
   "cell_type": "code",
   "execution_count": 711,
   "id": "719eabc0",
   "metadata": {},
   "outputs": [],
   "source": [
    "# assigning the next button \n",
    "a7= '/html/body/div[2]/div/div[1]/main/div[3]/div[2]/div/div[2]/section/div[2]/ul/li[12]/a'\n",
    "it = 2"
   ]
  },
  {
   "cell_type": "code",
   "execution_count": 712,
   "id": "9ccd3205",
   "metadata": {},
   "outputs": [],
   "source": [
    "\n",
    "while total_len < 100:\n",
    "        nxt_btn =''\n",
    "        nxt_btn= driver.find_element_by_xpath(a7)\n",
    "        nxt_btn.click()\n",
    "        time.sleep(20)\n",
    "        brand_tags= driver.find_elements_by_xpath('//div[@class=\"product-productMetaInfo\"]')\n",
    "        for btt6 in brand_tags:\n",
    "            brand_titles.append(btt6.text.splitlines()[0])\n",
    "            brand_desc.append(btt6.text.splitlines()[1])\n",
    "            brand_price.append(btt6.text.splitlines()[2].split()[1])\n",
    "          \n",
    "        total_len=len(brand_titles)  \n",
    "       \n",
    "        it+=1"
   ]
  },
  {
   "cell_type": "code",
   "execution_count": 716,
   "id": "2dbb66b8",
   "metadata": {},
   "outputs": [
    {
     "data": {
      "text/plain": [
       "100"
      ]
     },
     "execution_count": 716,
     "metadata": {},
     "output_type": "execute_result"
    }
   ],
   "source": [
    "len(brand_titles)"
   ]
  },
  {
   "cell_type": "code",
   "execution_count": 717,
   "id": "f5681e16",
   "metadata": {},
   "outputs": [
    {
     "data": {
      "text/plain": [
       "100"
      ]
     },
     "execution_count": 717,
     "metadata": {},
     "output_type": "execute_result"
    }
   ],
   "source": [
    "len(brand_desc)"
   ]
  },
  {
   "cell_type": "code",
   "execution_count": 718,
   "id": "bdea6bd5",
   "metadata": {},
   "outputs": [
    {
     "data": {
      "text/plain": [
       "100"
      ]
     },
     "execution_count": 718,
     "metadata": {},
     "output_type": "execute_result"
    }
   ],
   "source": [
    " len(brand_price)"
   ]
  },
  {
   "cell_type": "code",
   "execution_count": 719,
   "id": "9f0e97ba",
   "metadata": {},
   "outputs": [],
   "source": [
    "import pandas as pd\n",
    "df7 = pd.DataFrame({'Brand':brand_titles,'Shoe Description':brand_desc,'Price':brand_price})"
   ]
  },
  {
   "cell_type": "code",
   "execution_count": 720,
   "id": "992bc129",
   "metadata": {},
   "outputs": [
    {
     "data": {
      "text/html": [
       "<div>\n",
       "<style scoped>\n",
       "    .dataframe tbody tr th:only-of-type {\n",
       "        vertical-align: middle;\n",
       "    }\n",
       "\n",
       "    .dataframe tbody tr th {\n",
       "        vertical-align: top;\n",
       "    }\n",
       "\n",
       "    .dataframe thead th {\n",
       "        text-align: right;\n",
       "    }\n",
       "</style>\n",
       "<table border=\"1\" class=\"dataframe\">\n",
       "  <thead>\n",
       "    <tr style=\"text-align: right;\">\n",
       "      <th></th>\n",
       "      <th>Brand</th>\n",
       "      <th>Shoe Description</th>\n",
       "      <th>Price</th>\n",
       "    </tr>\n",
       "  </thead>\n",
       "  <tbody>\n",
       "    <tr>\n",
       "      <th>0</th>\n",
       "      <td>Nike</td>\n",
       "      <td>Men AIR ZOOM PEGASUS 38</td>\n",
       "      <td>10920Rs.</td>\n",
       "    </tr>\n",
       "    <tr>\n",
       "      <th>1</th>\n",
       "      <td>Tommy Hilfiger</td>\n",
       "      <td>Men Solid Loafers</td>\n",
       "      <td>8999</td>\n",
       "    </tr>\n",
       "    <tr>\n",
       "      <th>2</th>\n",
       "      <td>ALDO</td>\n",
       "      <td>Men Printed Sneakers</td>\n",
       "      <td>9099Rs.</td>\n",
       "    </tr>\n",
       "    <tr>\n",
       "      <th>3</th>\n",
       "      <td>Nike</td>\n",
       "      <td>Men Blazer Court Skateboarding</td>\n",
       "      <td>7495</td>\n",
       "    </tr>\n",
       "    <tr>\n",
       "      <th>4</th>\n",
       "      <td>Tommy Hilfiger</td>\n",
       "      <td>Men Leather Sneakers</td>\n",
       "      <td>7999</td>\n",
       "    </tr>\n",
       "    <tr>\n",
       "      <th>...</th>\n",
       "      <td>...</td>\n",
       "      <td>...</td>\n",
       "      <td>...</td>\n",
       "    </tr>\n",
       "    <tr>\n",
       "      <th>95</th>\n",
       "      <td>Clarks</td>\n",
       "      <td>Men Leather Derbys</td>\n",
       "      <td>9999</td>\n",
       "    </tr>\n",
       "    <tr>\n",
       "      <th>96</th>\n",
       "      <td>Heel &amp; Buckle London</td>\n",
       "      <td>Men Leather Sneakers</td>\n",
       "      <td>13990</td>\n",
       "    </tr>\n",
       "    <tr>\n",
       "      <th>97</th>\n",
       "      <td>Saint G</td>\n",
       "      <td>Women Leather Heeled Boots</td>\n",
       "      <td>12325Rs.</td>\n",
       "    </tr>\n",
       "    <tr>\n",
       "      <th>98</th>\n",
       "      <td>Saint G</td>\n",
       "      <td>Women Leather Heeled Boots</td>\n",
       "      <td>14025Rs.</td>\n",
       "    </tr>\n",
       "    <tr>\n",
       "      <th>99</th>\n",
       "      <td>Saint G</td>\n",
       "      <td>Women Leather Heeled Boots</td>\n",
       "      <td>11815Rs.</td>\n",
       "    </tr>\n",
       "  </tbody>\n",
       "</table>\n",
       "<p>100 rows × 3 columns</p>\n",
       "</div>"
      ],
      "text/plain": [
       "                   Brand                Shoe Description     Price\n",
       "0                   Nike         Men AIR ZOOM PEGASUS 38  10920Rs.\n",
       "1         Tommy Hilfiger               Men Solid Loafers      8999\n",
       "2                   ALDO            Men Printed Sneakers   9099Rs.\n",
       "3                   Nike  Men Blazer Court Skateboarding      7495\n",
       "4         Tommy Hilfiger            Men Leather Sneakers      7999\n",
       "..                   ...                             ...       ...\n",
       "95                Clarks              Men Leather Derbys      9999\n",
       "96  Heel & Buckle London            Men Leather Sneakers     13990\n",
       "97               Saint G      Women Leather Heeled Boots  12325Rs.\n",
       "98               Saint G      Women Leather Heeled Boots  14025Rs.\n",
       "99               Saint G      Women Leather Heeled Boots  11815Rs.\n",
       "\n",
       "[100 rows x 3 columns]"
      ]
     },
     "execution_count": 720,
     "metadata": {},
     "output_type": "execute_result"
    }
   ],
   "source": [
    "df7"
   ]
  },
  {
   "cell_type": "markdown",
   "id": "2d01f947",
   "metadata": {},
   "source": [
    "# Question Number 8 :"
   ]
  },
  {
   "cell_type": "code",
   "execution_count": 986,
   "id": "7e42463f",
   "metadata": {},
   "outputs": [],
   "source": [
    "url8 = 'https://www.amazon.in'\n",
    "driver.get(url8)"
   ]
  },
  {
   "cell_type": "code",
   "execution_count": 987,
   "id": "effa4d24",
   "metadata": {
    "scrolled": true
   },
   "outputs": [
    {
     "data": {
      "text/plain": [
       "<selenium.webdriver.remote.webelement.WebElement (session=\"d9f21bceeafc69e227e363c421683083\", element=\"4d2c2216-b1c0-490d-8070-d46d44dea627\")>"
      ]
     },
     "execution_count": 987,
     "metadata": {},
     "output_type": "execute_result"
    }
   ],
   "source": [
    "search_item= driver.find_element_by_xpath('/html/body/div[1]/header/div/div[1]/div[2]/div/form/div[2]/div[1]/input')\n",
    "search_item"
   ]
  },
  {
   "cell_type": "code",
   "execution_count": 988,
   "id": "1c79b0ea",
   "metadata": {},
   "outputs": [],
   "source": [
    "# write on search bar\n",
    "search_item.send_keys(\"Laptop\")"
   ]
  },
  {
   "cell_type": "code",
   "execution_count": 989,
   "id": "9c5b0faf",
   "metadata": {},
   "outputs": [
    {
     "data": {
      "text/plain": [
       "<selenium.webdriver.remote.webelement.WebElement (session=\"d9f21bceeafc69e227e363c421683083\", element=\"71d1c25c-1c79-45cf-abd9-712be1e159bd\")>"
      ]
     },
     "execution_count": 989,
     "metadata": {},
     "output_type": "execute_result"
    }
   ],
   "source": [
    "# Search button click\n",
    "search_btn8= driver.find_element_by_class_name('nav-right')\n",
    "search_btn8"
   ]
  },
  {
   "cell_type": "code",
   "execution_count": 990,
   "id": "b73cc2a1",
   "metadata": {},
   "outputs": [],
   "source": [
    "search_btn8.click()"
   ]
  },
  {
   "cell_type": "code",
   "execution_count": 991,
   "id": "e3810305",
   "metadata": {},
   "outputs": [
    {
     "data": {
      "text/plain": [
       "<selenium.webdriver.remote.webelement.WebElement (session=\"d9f21bceeafc69e227e363c421683083\", element=\"606f1320-4f90-4939-9dd1-45e5d108ac47\")>"
      ]
     },
     "execution_count": 991,
     "metadata": {},
     "output_type": "execute_result"
    }
   ],
   "source": [
    "# Searching for i7 Laptop:\n",
    "search_i7= driver.find_element_by_xpath('//*[@id=\"p_n_feature_thirteen_browse-bin/12598163031\"]/span/a/span')\n",
    "search_i7 "
   ]
  },
  {
   "cell_type": "code",
   "execution_count": 992,
   "id": "d249ab80",
   "metadata": {},
   "outputs": [],
   "source": [
    "search_i7.click()"
   ]
  },
  {
   "cell_type": "code",
   "execution_count": 993,
   "id": "82883feb",
   "metadata": {},
   "outputs": [
    {
     "data": {
      "text/plain": [
       "30"
      ]
     },
     "execution_count": 993,
     "metadata": {},
     "output_type": "execute_result"
    }
   ],
   "source": [
    "brand_i7= driver.find_elements_by_xpath('//span[@class=\"a-size-medium a-color-base a-text-normal\"]')\n",
    "len(brand_i7)"
   ]
  },
  {
   "cell_type": "code",
   "execution_count": 998,
   "id": "7c32d5bf",
   "metadata": {},
   "outputs": [],
   "source": [
    "\n",
    "#brand title list for i7\n",
    "brand_titles_i7 = []\n",
    "for i7 in brand_i7:\n",
    "    brand_titles_i7.append(i7.text)"
   ]
  },
  {
   "cell_type": "code",
   "execution_count": 999,
   "id": "b0708b94",
   "metadata": {},
   "outputs": [
    {
     "data": {
      "text/plain": [
       "['LG Gram 16 inches Intel Evo 11th Gen Core i7 Ultra-Light Laptop (16 GB RAM, 512 GB SSD, New Windows 11 Home Preload, Iris Xe Graphics, USC -C x 2 (with Power), 1.19 kg, 16Z90P-G.AH85A2, Black)',\n",
       " 'Fujitsu UH-X 11th Gen Intel i7 Core 13.3” (33.78cm) FHD IPS 400Nits Thin & Light Laptop (16GB/512GB SSD/Windows 11/Office 2021/Iris Xe Graphics/Backlit Kb/ Fingerprint Reader/Black/878gms), 4ZR1F38024',\n",
       " 'ASUS VivoBook 14 (2021), 14-inch (35.56 cms) FHD, Intel Core i7-1065G7 10th Gen, Thin and Light Laptop (16GB/512GB SSD/Integrated Graphics/Office 2021/Windows 11/Silver/1.6 Kg), X415JA-EK701WS',\n",
       " 'HP Pavilion x360 11th Gen Intel Core i7 14 inches FHD, IPS, Convertible Laptop (16 GB RAM/512GB SSD, B&O/Win 11 Home/Backlit keyboard/FPR/ Alexa-Built in/MS Office/Natural Silver/1.52 Kg) -14-dy1013TU',\n",
       " 'ASUS TUF Gaming F15 (2021), 15.6\" (39.62 cms) FHD 144Hz, Intel Core i7-11600H 11th Gen, 4GB RTX 3050 Graphics, Gaming Laptop (16GB/512GB SSD/Windows 10/Office 2019/Gray/2.3 Kg), FX566HCB-HN299TS',\n",
       " 'ASUS TUF Gaming F15 (2021) 15.6-inch (39.62 cms) FHD 144Hz, Intel Core i7-11800H 11th Gen, RTX 3050 Ti 4GB Graphics, Gaming Laptop (16GB/1TB SSD/Windows 10/Gray/2.3 Kg), FX566HEB-HN248T',\n",
       " 'Lenovo IdeaPad 5 Pro 11th Gen Intel Core i7 14\" (35.56cm)QHD IPS Thin & Light Laptop(16GB/512GB SSD/Iris Xe Graphics/3Yr Warranty/Windows 11/Office 2021/Backlit/300Nits/Storm Grey/1.41Kg), 82L3006YIN',\n",
       " 'ASUS TUF Gaming F15 (2021) 15.6-inch (39.62 cms) FHD 144Hz, Intel Core i7-11800H 11th Gen, RTX 3050 4GB Graphics, Gaming Laptop (8GB/1TB SSD/Windows 10/Gray/2.3 Kg), FX566HCB-HN231T, Eclipse Gray',\n",
       " 'LG Gram Intel Evo 11th Gen Core i7 17 inches Ultra-Light Laptop (16 GB RAM, 512 GB SSD, New Windows 11 Home Preload, Iris Xe Graphics, USC -C x 2 (with Power), 1.35 kg, 17Z90P-G.AH85A2, Black)',\n",
       " 'HP Pavilion Gaming 11th Gen Intel Core i7 Processor 39.62 cm(15.6-inch) FHD Gaming Laptop (16GB/512GB SSD/Win 11/NVIDIA RTX 3050 Graphics/MS Office/ Shadow Black & Ultra Violet/2.23 Kg), 15-dk2096TX',\n",
       " 'MSI GF75 Thin Gaming, Intel Core i7-10750H, 44cm IPS-Level 144Hz Panel Laptop (8GB/512GB NVMe SSD/Windows 10 Home/Nvidia GeForce GTX 1650/GDDR6 4GB/Black/2.2kg) 10SCXR-654IN',\n",
       " 'HP Pavilion 11th Gen Intel Core i7 15.6 inches FHD Gaming Laptop (16GB RAM/512GB SSD/144Hz/4GB NVIDIA GeForce GTX 1650 Graphics/Windows 10 Home/MS Office/Shadow Black/2.28 Kg), 15-dk2075tx',\n",
       " 'Acer Predator Helios 300 Gaming Laptop 11th Gen Intel Core i9-11900H 15.6\" (39.62cms) FHD IPS Display (16 GB/1TB SSD/Win 11 Home/6 GB Graphics/NVIDIA GeForce RTX 3060/300 Hz, Black, 2.3 kg) PH315-54',\n",
       " 'Lenovo ThinkBook 13s Intel 11th Gen Core i7 13.3\"(33.78 cm) WQXGA IPS 300 nits 100% sRGB Dolby Vision Thin and Light Laptop (16GB/512GB SSD/Windows 10/MS Office/FPR/Mineral Grey/1.26 Kg), 20V9A05FIH',\n",
       " 'ASUS VivoBook 14 (2021), 14-inch (35.56 cms) FHD, Intel Core i7-1065G7 10th Gen, Thin and Light Laptop (16GB/512GB SSD/Integrated Graphics/Office 2021/Windows 11/Silver/1.6 Kg), X415JA-EK701WS',\n",
       " 'Acer Nitro 5 11th Gen Intel Core i5-11400H 15.6 inches FHD 144Hz Gaming Laptop (8GB/512GB SSD/Windows 10/4 GB Graphics/NVIDIA GeForce GTX 1650/Shale Black, 2.2 kg/RGB Backlit Keyboard) AN515-57',\n",
       " 'Fujitsu UH-X 11th Gen Intel i7 Core 13.3” (33.78cm) FHD IPS 400Nits Thin & Light Laptop (16GB/512GB SSD/Windows 11/Office 2021/Iris Xe Graphics/Backlit Kb/ Fingerprint Reader/Black/878gms), 4ZR1F38024',\n",
       " 'ASUS ZenBook 14 (2020) Intel Core i7-1165G7 11th Gen 14 inches FHD Business Laptop (16GB/512GB SSD/Office 2019/Windows 10 Home/Iris Xe Graphics/Pine Grey/1.17 kg), UX425EA-KI701TS',\n",
       " 'ASUS VivoBook K15 OLED (2021), 15.6-inch (39.62 cms) FHD OLED, Intel Core i7-1165G7 11th Gen, Thin and Light Laptop (16GB/512GB SSD/Iris Xe Graphics/Office 2021/Windows 11/Silver/1.8 Kg) K513EA-L712WS',\n",
       " '(Renewed) MI Mi Notebook Horizon Edition 14 Intel 10th Gen Core i7 14-Inch (35.56 cms) 1920x1080 Thin and Light Laptop (8 GB/512 GB SSD/Windows 10 Home/NVIDIA GeForce MX350/Grey/1.35 Kg), XMA1904-AF',\n",
       " 'ASUS TUF Dash F15 (2021) 15.6\" (39.62 cm) FHD 240Hz/3ms, Intel Core i7-11370H, GeForce RTX 3060 6GB Graphics, Gaming Laptop (16GB RAM/1TB SSD/Office 2019/Windows 10 Home/Gray/2 Kg) FX516PM-AZ153TS',\n",
       " 'Acer Predator Helios 300 11th Gen Intel Core i9-11900H 15.6\" (39.62cms) FHD IPS Gaming Laptop (32 GB/1TB SSD/Win 11 Home/8 GB Graphics/NVIDIA GeForce RTX 3070/300 Hz, Black, 2.3 kg) PH315-54',\n",
       " '(Renewed) Dell Intel Core i7 4th Gen 14 Inch(35.56 cms) 1366x768 HD Laptop (8GB RAM/500GB HDD/Windows 10 Pro/MS Office 2019/Intel Integrated HD Graphics 4600/2.1Kg,Silver) Latitude E6440',\n",
       " 'LG Gram 14 Intel Evo 11th Gen Core i7 14 inches Ultralight Laptop (16 GB RAM, 512 GB SSD, Windows 10, Iris Xe Graphics Thunderbolt 4, USC -Cx2 (with Power), 0.999kg, 14Z90P, Black)',\n",
       " 'Dell 14 (2021) Intel i7-1195G7 14.0 inches FHD Display 2in1 Touch Screen Laptop (16GB/512GB SSD/Windows 10 + MS Office Backlit KB, FPR + Active Pen/Platinum Silver, Inspiron 5410, D560596WIN9S), 1.5kg',\n",
       " 'Dell 15 (2021) Intel i7-10870H Gaming Laptop, 16GB DDR4, 512GB SSD, Windows 10 + MS Office, NVIDIA RTX 3050 Ti 4GB, 15.6 inches FHD AG 250 nits 120Hz, Backlit KB Orange (G15 5510, D560534WIN9B), 2.4kg',\n",
       " 'ASUS TUF Dash F15 (2021) 15.6-inch (39.62 cms) FHD 144Hz, Intel Core i7-11370H 11th Gen, RTX 3050 4GB Graphics, Gaming Laptop (16GB/512GB SSD/Windows 10/Gray/2 Kg), FX516PCZ-HN091T',\n",
       " 'Acer Predator Helios 300 Gaming Laptop 11th Gen Intel Core i9-11900H 15.6\" (39.62cms) FHD IPS Display (16 GB/1TB SSD/Win 11 Home/6 GB Graphics/NVIDIA GeForce RTX 3060/300 Hz, Black, 2.3 kg) PH315-54',\n",
       " 'MSI GF75 Thin Gaming, Intel Core i7-10750H, 44cm IPS-Level 144Hz Panel Laptop (8GB/512GB NVMe SSD/Windows 10 Home/Nvidia GeForce GTX 1650/GDDR6 4GB/Black/2.2kg) 10SCXR-654IN',\n",
       " 'Acer Nitro 5 11th Gen Intel Core i5-11400H 15.6 inches FHD 144Hz Gaming Laptop (8GB/512GB SSD/Windows 10/4 GB Graphics/NVIDIA GeForce GTX 1650/Shale Black, 2.2 kg/RGB Backlit Keyboard) AN515-57']"
      ]
     },
     "execution_count": 999,
     "metadata": {},
     "output_type": "execute_result"
    }
   ],
   "source": [
    "brand_titles_i7"
   ]
  },
  {
   "cell_type": "code",
   "execution_count": 1000,
   "id": "3a354e93",
   "metadata": {},
   "outputs": [
    {
     "data": {
      "text/plain": [
       "30"
      ]
     },
     "execution_count": 1000,
     "metadata": {},
     "output_type": "execute_result"
    }
   ],
   "source": [
    "# Price of Laptop for i7\n",
    "price_i7= driver.find_elements_by_xpath('//a[@class=\"a-size-base a-link-normal s-underline-text s-underline-link-text s-link-style a-text-normal\"]')\n",
    "len(price_i7)"
   ]
  },
  {
   "cell_type": "code",
   "execution_count": 1001,
   "id": "a70e0f7b",
   "metadata": {},
   "outputs": [],
   "source": [
    "#brand rating list for i7\n",
    "brand_price_i7 = []\n",
    "for ri7 in price_i7:\n",
    "    brand_price_i7.append(ri7.text.splitlines()[0])\n",
    "   "
   ]
  },
  {
   "cell_type": "code",
   "execution_count": 1002,
   "id": "f7b9344d",
   "metadata": {},
   "outputs": [
    {
     "data": {
      "text/plain": [
       "['₹92,999',\n",
       " '₹92,490',\n",
       " '₹59,990',\n",
       " '₹86,990',\n",
       " '₹88,990',\n",
       " '₹96,990',\n",
       " '₹81,990',\n",
       " '₹89,990',\n",
       " '₹99,499',\n",
       " '₹95,990',\n",
       " '₹70,000',\n",
       " '₹1,02,000',\n",
       " '₹1,39,457',\n",
       " '₹84,990',\n",
       " '₹59,990',\n",
       " '₹65,990',\n",
       " '₹92,490',\n",
       " '₹88,990',\n",
       " '₹82,990',\n",
       " '₹48,990',\n",
       " '₹1,28,990',\n",
       " '₹1,79,990',\n",
       " '₹34,899',\n",
       " '₹1,00,699',\n",
       " '₹94,353',\n",
       " '₹95,990',\n",
       " '₹94,990',\n",
       " '₹1,39,457',\n",
       " '₹70,000',\n",
       " '₹65,990']"
      ]
     },
     "execution_count": 1002,
     "metadata": {},
     "output_type": "execute_result"
    }
   ],
   "source": [
    "brand_price_i7"
   ]
  },
  {
   "cell_type": "code",
   "execution_count": 1003,
   "id": "416d5af5",
   "metadata": {},
   "outputs": [
    {
     "data": {
      "text/plain": [
       "<selenium.webdriver.remote.webelement.WebElement (session=\"d9f21bceeafc69e227e363c421683083\", element=\"abdb50e3-ee0c-41ca-9c48-8964cff0f3af\")>"
      ]
     },
     "execution_count": 1003,
     "metadata": {},
     "output_type": "execute_result"
    }
   ],
   "source": [
    "# Clearing the i7 log and moving to i9 log as Amazon only allows one CPU type to select at a time\n",
    "\n",
    "back_btn= driver.find_element_by_xpath('//*[@id=\"filters\"]/ul[3]/li[1]/span/a/span[2]')\n",
    "back_btn\n"
   ]
  },
  {
   "cell_type": "code",
   "execution_count": 1004,
   "id": "98fed11d",
   "metadata": {},
   "outputs": [],
   "source": [
    "back_btn.click()"
   ]
  },
  {
   "cell_type": "code",
   "execution_count": 1005,
   "id": "94012d59",
   "metadata": {},
   "outputs": [
    {
     "data": {
      "text/plain": [
       "<selenium.webdriver.remote.webelement.WebElement (session=\"d9f21bceeafc69e227e363c421683083\", element=\"a4fef23f-f94f-411c-b74a-ba06bcd1792d\")>"
      ]
     },
     "execution_count": 1005,
     "metadata": {},
     "output_type": "execute_result"
    }
   ],
   "source": [
    "# Searching for i9 Laptops\n",
    "search_i9= driver.find_element_by_xpath('//*[@id=\"p_n_feature_thirteen_browse-bin/16757432031\"]/span/a/span')\n",
    "search_i9 "
   ]
  },
  {
   "cell_type": "code",
   "execution_count": 1006,
   "id": "ca00ebcd",
   "metadata": {},
   "outputs": [],
   "source": [
    "search_i9.click()"
   ]
  },
  {
   "cell_type": "code",
   "execution_count": 1007,
   "id": "15c7cec3",
   "metadata": {},
   "outputs": [
    {
     "data": {
      "text/plain": [
       "10"
      ]
     },
     "execution_count": 1007,
     "metadata": {},
     "output_type": "execute_result"
    }
   ],
   "source": [
    "brand_i9= driver.find_elements_by_xpath('//span[@class=\"a-size-medium a-color-base a-text-normal\"]')\n",
    "len(brand_i9)"
   ]
  },
  {
   "cell_type": "code",
   "execution_count": 1008,
   "id": "c57ac25b",
   "metadata": {},
   "outputs": [],
   "source": [
    "#brand title list for i9\n",
    "brand_titles_i9 = []\n",
    "for i9 in brand_i9:\n",
    "    brand_titles_i9.append(i9.text)"
   ]
  },
  {
   "cell_type": "code",
   "execution_count": 1009,
   "id": "4e50cf69",
   "metadata": {},
   "outputs": [
    {
     "data": {
      "text/plain": [
       "['ASUS TUF Gaming F15 (2021), 15.6-inch (39.62 cms) FHD 144Hz, Intel Core i9-11900H 11th Gen, RTX 3060 6GB Graphics Gaming Laptop (16GB RAM/1TB SSD/Office 2019/Windows 10/Gray/2.3 kg), FX566HM-HN097TS',\n",
       " 'ASUS TUF Gaming F15 (2021), 15.6\" (39.62 cms) FHD 240Hz, Intel Core i9-11900H 11th Gen, GeForce RTX 3060 6GB Graphics, Gaming Laptop(16GB/1TB SSD/Office 2019/Windows 10/Gray/2.3 Kg), FX566HM-AZ096TS',\n",
       " 'ASUS TUF Gaming F15 (2021), 15.6-inch (39.62 cms) FHD 240Hz/3ms, Intel Core i9-11900H 11th Gen, RTX 3060 6GB Graphics Gaming Laptop (16GB/1TB SSD/Office 2019/Windows 10/Black/2.3 kg), FX506HM-AZ099TS',\n",
       " 'HP ZBOOK Power G8/ Intel core i9-11900H 8 Core/32GB DDR4 3200 RAM/1TB PCIe NVMe TLC SSD /15.6” FHD /Nvidia Quadro T1200 Dedicated Graphics 4GB DDR6 /Windows 10 Pro / 3 Year Warranty',\n",
       " '(Renewed) Dell G7 7500 15.6inch FHD 300 Hz Display Gaming Laptop (10th Gen i9-10885H / 16 GB / 1TB SSD / NVIDIA RTX 2070 8GB Graphics / 1Yr Premium Warranty / Win 10 + MS Office H&S 2019) D560233WIN9B, Black',\n",
       " 'HP Zbook - Intel i9, 15 inch(39.6 cm)FHD 400 Nits Display, Thin & Light , Anti-Glare(32GB RAM/1TB M.2 SSD/Nvidia RTX A2000 4GB Graphics/Win10 Pro/IR Camera/ HP Zbook Power G8 Mobile Workstation',\n",
       " '(Renewed) DELL XPS 7590 15.6-inch UHD Display Laptop (9th Gen Core i9-9980HK/32GB/1TB SSD/Win 10 + MS Office/4GB Nvidia Graphics), Abyss Grey',\n",
       " 'Dell Precision 5550 || i9 -10885H || 16GB || 1TB NVMe || T2000 4 GB || Win 10 Pro (Free Upgrade Win 11Pro) / 15.6 FHD+ / 3 Year ADP',\n",
       " 'Z2 G5 Workstation 700W /Core i9-10900 (2.8GHz 10C) /16GB RAM/512GB SSD+1TB SATA/Nvidia RTX 3070 8GB Graphics/DVDRW/Windows 10 Pro/3 Year Warranty',\n",
       " 'HP ZBook Power G8/ Intel Core i9-11950H 2.5GHz 8 Core/64GB DDR4/ 2TB PCIe NVMe SSD /15.6” FHD/Nvidia Quadro RTX A2000 Graphics 4GB DDR6/ 1RJ45/ Windows 10 Pro/ 3 Year Warranty from HP']"
      ]
     },
     "execution_count": 1009,
     "metadata": {},
     "output_type": "execute_result"
    }
   ],
   "source": [
    "brand_titles_i9"
   ]
  },
  {
   "cell_type": "code",
   "execution_count": 1010,
   "id": "daaeabcf",
   "metadata": {},
   "outputs": [
    {
     "data": {
      "text/plain": [
       "10"
      ]
     },
     "execution_count": 1010,
     "metadata": {},
     "output_type": "execute_result"
    }
   ],
   "source": [
    "# Searching for price of i9 Laptop\n",
    "price_i9= driver.find_elements_by_xpath('//a[@class=\"a-size-base a-link-normal s-underline-text s-underline-link-text s-link-style a-text-normal\"]')\n",
    "len(price_i9)"
   ]
  },
  {
   "cell_type": "code",
   "execution_count": 1011,
   "id": "e4206ba9",
   "metadata": {},
   "outputs": [],
   "source": [
    "brand_price_i9 = []\n",
    "for bp9 in price_i9:\n",
    "    brand_price_i9.append(bp9.text.splitlines()[0])"
   ]
  },
  {
   "cell_type": "code",
   "execution_count": 1012,
   "id": "6dc0bff5",
   "metadata": {},
   "outputs": [
    {
     "data": {
      "text/plain": [
       "['₹1,39,990',\n",
       " '₹1,44,990',\n",
       " '₹1,43,990',\n",
       " '₹2,43,000',\n",
       " '₹2,25,000',\n",
       " '₹2,54,563',\n",
       " '₹1,75,000',\n",
       " '₹2,25,000',\n",
       " '₹2,39,000',\n",
       " '₹2,93,000']"
      ]
     },
     "execution_count": 1012,
     "metadata": {},
     "output_type": "execute_result"
    }
   ],
   "source": [
    "brand_price_i9"
   ]
  },
  {
   "cell_type": "code",
   "execution_count": 1026,
   "id": "82ab224a",
   "metadata": {},
   "outputs": [],
   "source": [
    "first10_title_i7 =[]\n",
    "first10_price_i7 =[]"
   ]
  },
  {
   "cell_type": "code",
   "execution_count": 1027,
   "id": "9c7e84b0",
   "metadata": {},
   "outputs": [],
   "source": [
    "first10_title_i7= brand_titles_i7[0:10]\n",
    "first10_price_i7 = brand_price_i7[0:10]"
   ]
  },
  {
   "cell_type": "code",
   "execution_count": 1028,
   "id": "e5e6490e",
   "metadata": {},
   "outputs": [],
   "source": [
    "# Creating Final Dataset for i7 Laptops\n",
    "i7_laptops = pd.DataFrame({'Title' :first10_title_i7,'Price ':first10_price_i7})\n"
   ]
  },
  {
   "cell_type": "code",
   "execution_count": 1029,
   "id": "7eb393bc",
   "metadata": {},
   "outputs": [],
   "source": [
    "first10_title_i9 =[]\n",
    "first10_price_i9 =[]"
   ]
  },
  {
   "cell_type": "code",
   "execution_count": 1030,
   "id": "52a4831e",
   "metadata": {},
   "outputs": [],
   "source": [
    "first10_title_i9= brand_titles_i9[0:10]\n",
    "first10_price_i9 = brand_price_i9[0:10]"
   ]
  },
  {
   "cell_type": "code",
   "execution_count": 1031,
   "id": "c230123c",
   "metadata": {},
   "outputs": [],
   "source": [
    "# Creating Final Dataset for i9 Laptops\n",
    "i9_laptops = pd.DataFrame({'Title' :first10_title_i9,'Price ':first10_price_i9})\n"
   ]
  },
  {
   "cell_type": "code",
   "execution_count": 1032,
   "id": "9f57e0d2",
   "metadata": {},
   "outputs": [
    {
     "data": {
      "text/html": [
       "<div>\n",
       "<style scoped>\n",
       "    .dataframe tbody tr th:only-of-type {\n",
       "        vertical-align: middle;\n",
       "    }\n",
       "\n",
       "    .dataframe tbody tr th {\n",
       "        vertical-align: top;\n",
       "    }\n",
       "\n",
       "    .dataframe thead th {\n",
       "        text-align: right;\n",
       "    }\n",
       "</style>\n",
       "<table border=\"1\" class=\"dataframe\">\n",
       "  <thead>\n",
       "    <tr style=\"text-align: right;\">\n",
       "      <th></th>\n",
       "      <th>Title</th>\n",
       "      <th>Price</th>\n",
       "    </tr>\n",
       "  </thead>\n",
       "  <tbody>\n",
       "    <tr>\n",
       "      <th>0</th>\n",
       "      <td>LG Gram 16 inches Intel Evo 11th Gen Core i7 U...</td>\n",
       "      <td>₹92,999</td>\n",
       "    </tr>\n",
       "    <tr>\n",
       "      <th>1</th>\n",
       "      <td>Fujitsu UH-X 11th Gen Intel i7 Core 13.3” (33....</td>\n",
       "      <td>₹92,490</td>\n",
       "    </tr>\n",
       "    <tr>\n",
       "      <th>2</th>\n",
       "      <td>ASUS VivoBook 14 (2021), 14-inch (35.56 cms) F...</td>\n",
       "      <td>₹59,990</td>\n",
       "    </tr>\n",
       "    <tr>\n",
       "      <th>3</th>\n",
       "      <td>HP Pavilion x360 11th Gen Intel Core i7 14 inc...</td>\n",
       "      <td>₹86,990</td>\n",
       "    </tr>\n",
       "    <tr>\n",
       "      <th>4</th>\n",
       "      <td>ASUS TUF Gaming F15 (2021), 15.6\" (39.62 cms) ...</td>\n",
       "      <td>₹88,990</td>\n",
       "    </tr>\n",
       "    <tr>\n",
       "      <th>5</th>\n",
       "      <td>ASUS TUF Gaming F15 (2021) 15.6-inch (39.62 cm...</td>\n",
       "      <td>₹96,990</td>\n",
       "    </tr>\n",
       "    <tr>\n",
       "      <th>6</th>\n",
       "      <td>Lenovo IdeaPad 5 Pro 11th Gen Intel Core i7 14...</td>\n",
       "      <td>₹81,990</td>\n",
       "    </tr>\n",
       "    <tr>\n",
       "      <th>7</th>\n",
       "      <td>ASUS TUF Gaming F15 (2021) 15.6-inch (39.62 cm...</td>\n",
       "      <td>₹89,990</td>\n",
       "    </tr>\n",
       "    <tr>\n",
       "      <th>8</th>\n",
       "      <td>LG Gram Intel Evo 11th Gen Core i7 17 inches U...</td>\n",
       "      <td>₹99,499</td>\n",
       "    </tr>\n",
       "    <tr>\n",
       "      <th>9</th>\n",
       "      <td>HP Pavilion Gaming 11th Gen Intel Core i7 Proc...</td>\n",
       "      <td>₹95,990</td>\n",
       "    </tr>\n",
       "  </tbody>\n",
       "</table>\n",
       "</div>"
      ],
      "text/plain": [
       "                                               Title   Price \n",
       "0  LG Gram 16 inches Intel Evo 11th Gen Core i7 U...  ₹92,999\n",
       "1  Fujitsu UH-X 11th Gen Intel i7 Core 13.3” (33....  ₹92,490\n",
       "2  ASUS VivoBook 14 (2021), 14-inch (35.56 cms) F...  ₹59,990\n",
       "3  HP Pavilion x360 11th Gen Intel Core i7 14 inc...  ₹86,990\n",
       "4  ASUS TUF Gaming F15 (2021), 15.6\" (39.62 cms) ...  ₹88,990\n",
       "5  ASUS TUF Gaming F15 (2021) 15.6-inch (39.62 cm...  ₹96,990\n",
       "6  Lenovo IdeaPad 5 Pro 11th Gen Intel Core i7 14...  ₹81,990\n",
       "7  ASUS TUF Gaming F15 (2021) 15.6-inch (39.62 cm...  ₹89,990\n",
       "8  LG Gram Intel Evo 11th Gen Core i7 17 inches U...  ₹99,499\n",
       "9  HP Pavilion Gaming 11th Gen Intel Core i7 Proc...  ₹95,990"
      ]
     },
     "execution_count": 1032,
     "metadata": {},
     "output_type": "execute_result"
    }
   ],
   "source": [
    "i7_laptops"
   ]
  },
  {
   "cell_type": "code",
   "execution_count": 1033,
   "id": "916c9030",
   "metadata": {},
   "outputs": [
    {
     "data": {
      "text/html": [
       "<div>\n",
       "<style scoped>\n",
       "    .dataframe tbody tr th:only-of-type {\n",
       "        vertical-align: middle;\n",
       "    }\n",
       "\n",
       "    .dataframe tbody tr th {\n",
       "        vertical-align: top;\n",
       "    }\n",
       "\n",
       "    .dataframe thead th {\n",
       "        text-align: right;\n",
       "    }\n",
       "</style>\n",
       "<table border=\"1\" class=\"dataframe\">\n",
       "  <thead>\n",
       "    <tr style=\"text-align: right;\">\n",
       "      <th></th>\n",
       "      <th>Title</th>\n",
       "      <th>Price</th>\n",
       "    </tr>\n",
       "  </thead>\n",
       "  <tbody>\n",
       "    <tr>\n",
       "      <th>0</th>\n",
       "      <td>ASUS TUF Gaming F15 (2021), 15.6-inch (39.62 c...</td>\n",
       "      <td>₹1,39,990</td>\n",
       "    </tr>\n",
       "    <tr>\n",
       "      <th>1</th>\n",
       "      <td>ASUS TUF Gaming F15 (2021), 15.6\" (39.62 cms) ...</td>\n",
       "      <td>₹1,44,990</td>\n",
       "    </tr>\n",
       "    <tr>\n",
       "      <th>2</th>\n",
       "      <td>ASUS TUF Gaming F15 (2021), 15.6-inch (39.62 c...</td>\n",
       "      <td>₹1,43,990</td>\n",
       "    </tr>\n",
       "    <tr>\n",
       "      <th>3</th>\n",
       "      <td>HP ZBOOK Power G8/ Intel core i9-11900H 8 Core...</td>\n",
       "      <td>₹2,43,000</td>\n",
       "    </tr>\n",
       "    <tr>\n",
       "      <th>4</th>\n",
       "      <td>(Renewed) Dell G7 7500 15.6inch FHD 300 Hz Dis...</td>\n",
       "      <td>₹2,25,000</td>\n",
       "    </tr>\n",
       "    <tr>\n",
       "      <th>5</th>\n",
       "      <td>HP Zbook - Intel i9, 15 inch(39.6 cm)FHD 400 N...</td>\n",
       "      <td>₹2,54,563</td>\n",
       "    </tr>\n",
       "    <tr>\n",
       "      <th>6</th>\n",
       "      <td>(Renewed) DELL XPS 7590 15.6-inch UHD Display ...</td>\n",
       "      <td>₹1,75,000</td>\n",
       "    </tr>\n",
       "    <tr>\n",
       "      <th>7</th>\n",
       "      <td>Dell Precision 5550 || i9 -10885H || 16GB || 1...</td>\n",
       "      <td>₹2,25,000</td>\n",
       "    </tr>\n",
       "    <tr>\n",
       "      <th>8</th>\n",
       "      <td>Z2 G5 Workstation 700W /Core i9-10900 (2.8GHz ...</td>\n",
       "      <td>₹2,39,000</td>\n",
       "    </tr>\n",
       "    <tr>\n",
       "      <th>9</th>\n",
       "      <td>HP ZBook Power G8/ Intel Core i9-11950H 2.5GHz...</td>\n",
       "      <td>₹2,93,000</td>\n",
       "    </tr>\n",
       "  </tbody>\n",
       "</table>\n",
       "</div>"
      ],
      "text/plain": [
       "                                               Title     Price \n",
       "0  ASUS TUF Gaming F15 (2021), 15.6-inch (39.62 c...  ₹1,39,990\n",
       "1  ASUS TUF Gaming F15 (2021), 15.6\" (39.62 cms) ...  ₹1,44,990\n",
       "2  ASUS TUF Gaming F15 (2021), 15.6-inch (39.62 c...  ₹1,43,990\n",
       "3  HP ZBOOK Power G8/ Intel core i9-11900H 8 Core...  ₹2,43,000\n",
       "4  (Renewed) Dell G7 7500 15.6inch FHD 300 Hz Dis...  ₹2,25,000\n",
       "5  HP Zbook - Intel i9, 15 inch(39.6 cm)FHD 400 N...  ₹2,54,563\n",
       "6  (Renewed) DELL XPS 7590 15.6-inch UHD Display ...  ₹1,75,000\n",
       "7  Dell Precision 5550 || i9 -10885H || 16GB || 1...  ₹2,25,000\n",
       "8  Z2 G5 Workstation 700W /Core i9-10900 (2.8GHz ...  ₹2,39,000\n",
       "9  HP ZBook Power G8/ Intel Core i9-11950H 2.5GHz...  ₹2,93,000"
      ]
     },
     "execution_count": 1033,
     "metadata": {},
     "output_type": "execute_result"
    }
   ],
   "source": [
    "i9_laptops"
   ]
  },
  {
   "cell_type": "markdown",
   "id": "9e8fa288",
   "metadata": {},
   "source": [
    "# Question number 9 :"
   ]
  },
  {
   "cell_type": "code",
   "execution_count": 848,
   "id": "41544b30",
   "metadata": {},
   "outputs": [],
   "source": [
    "from selenium.webdriver.common.keys import Keys\n",
    "from selenium.webdriver.common.by import By"
   ]
  },
  {
   "cell_type": "code",
   "execution_count": 829,
   "id": "af254a52",
   "metadata": {},
   "outputs": [],
   "source": [
    "url9 = 'http://www.ambitionbox.com/'\n",
    "driver.get(url9) "
   ]
  },
  {
   "cell_type": "code",
   "execution_count": 831,
   "id": "2c360ef0",
   "metadata": {},
   "outputs": [
    {
     "data": {
      "text/plain": [
       "<selenium.webdriver.remote.webelement.WebElement (session=\"d9f21bceeafc69e227e363c421683083\", element=\"9aa99cbb-5b8f-4213-902f-d0106d056c87\")>"
      ]
     },
     "execution_count": 831,
     "metadata": {},
     "output_type": "execute_result"
    }
   ],
   "source": [
    "#  Job Search button click\n",
    "job9= driver.find_element_by_xpath('/html/body/div[1]/nav/nav/a[6]')\n",
    "job9"
   ]
  },
  {
   "cell_type": "code",
   "execution_count": 832,
   "id": "57e83c34",
   "metadata": {},
   "outputs": [],
   "source": [
    "job9.click()"
   ]
  },
  {
   "cell_type": "code",
   "execution_count": 841,
   "id": "c52eeecc",
   "metadata": {},
   "outputs": [
    {
     "data": {
      "text/plain": [
       "<selenium.webdriver.remote.webelement.WebElement (session=\"d9f21bceeafc69e227e363c421683083\", element=\"b633e95b-9aa2-4cc4-bbc7-962c3afa6aaa\")>"
      ]
     },
     "execution_count": 841,
     "metadata": {},
     "output_type": "execute_result"
    }
   ],
   "source": [
    "# Search Job- Data scientist\n",
    "search_job= driver.find_element_by_xpath('/html/body/div/div/div/div[2]/div[1]/div/div/div/div/span/input')\n",
    "search_job"
   ]
  },
  {
   "cell_type": "code",
   "execution_count": 842,
   "id": "05e0ad2c",
   "metadata": {},
   "outputs": [],
   "source": [
    "# write on search bar\n",
    "search_job.send_keys(\"Data Scientist\")"
   ]
  },
  {
   "cell_type": "code",
   "execution_count": 852,
   "id": "fc5faa0b",
   "metadata": {},
   "outputs": [],
   "source": [
    "driver.find_element_by_xpath(\"/html/body/div/div/div/div[2]/div[1]/div/div/div/div/span/input\").send_keys('Keys.ENTER')"
   ]
  },
  {
   "cell_type": "code",
   "execution_count": 853,
   "id": "97e8595a",
   "metadata": {},
   "outputs": [],
   "source": [
    "driver.refresh()"
   ]
  },
  {
   "cell_type": "code",
   "execution_count": 854,
   "id": "d6df2473",
   "metadata": {},
   "outputs": [
    {
     "data": {
      "text/plain": [
       "<selenium.webdriver.remote.webelement.WebElement (session=\"d9f21bceeafc69e227e363c421683083\", element=\"e3240d9d-b284-4c47-978f-05ea9cff65e7\")>"
      ]
     },
     "execution_count": 854,
     "metadata": {},
     "output_type": "execute_result"
    }
   ],
   "source": [
    "search_jobd= driver.find_element_by_xpath('/html/body/div/div/div/div[2]/div[2]/div[1]/div/div/div/div[2]/div[1]/i')\n",
    "search_jobd"
   ]
  },
  {
   "cell_type": "code",
   "execution_count": 855,
   "id": "ebd060dc",
   "metadata": {},
   "outputs": [],
   "source": [
    "search_jobd.click()"
   ]
  },
  {
   "cell_type": "code",
   "execution_count": null,
   "id": "73b7e235",
   "metadata": {},
   "outputs": [],
   "source": [
    "/html/body/div/div/div/div[2]/div[2]/div[1]/div/div/div/div[2]/div[2]/div/div[3]/div[1]/div[1]/div/label"
   ]
  },
  {
   "cell_type": "code",
   "execution_count": 856,
   "id": "99bfc376",
   "metadata": {},
   "outputs": [],
   "source": [
    "search_noida= driver.find_element_by_xpath('/html/body/div/div/div/div[2]/div[2]/div[1]/div/div/div/div[2]/div[2]/div/div[2]/input')\n",
    "search_noida.send_keys(\"Noida\")"
   ]
  },
  {
   "cell_type": "code",
   "execution_count": 857,
   "id": "c08b4354",
   "metadata": {},
   "outputs": [],
   "source": [
    "click_noida= driver.find_element_by_xpath('/html/body/div/div/div/div[2]/div[2]/div[1]/div/div/div/div[2]/div[2]/div/div[3]/div[1]/div[1]/div/label')\n",
    "click_noida.click()"
   ]
  },
  {
   "cell_type": "code",
   "execution_count": 862,
   "id": "fe01c697",
   "metadata": {},
   "outputs": [
    {
     "data": {
      "text/plain": [
       "[<selenium.webdriver.remote.webelement.WebElement (session=\"d9f21bceeafc69e227e363c421683083\", element=\"9ac5cb25-2d52-4954-b3b6-8723c3e57c53\")>,\n",
       " <selenium.webdriver.remote.webelement.WebElement (session=\"d9f21bceeafc69e227e363c421683083\", element=\"6682d3dc-ca35-405b-a05d-56ef32de45b7\")>,\n",
       " <selenium.webdriver.remote.webelement.WebElement (session=\"d9f21bceeafc69e227e363c421683083\", element=\"56957579-3f19-4439-a7eb-d3fe74213cb2\")>,\n",
       " <selenium.webdriver.remote.webelement.WebElement (session=\"d9f21bceeafc69e227e363c421683083\", element=\"1cfdf506-f2d3-4195-9586-0599e204f317\")>,\n",
       " <selenium.webdriver.remote.webelement.WebElement (session=\"d9f21bceeafc69e227e363c421683083\", element=\"aa627be7-9fd9-4750-bedc-b3ca1efb3025\")>,\n",
       " <selenium.webdriver.remote.webelement.WebElement (session=\"d9f21bceeafc69e227e363c421683083\", element=\"50a5b722-bad1-4983-a1a8-c80db830b75d\")>,\n",
       " <selenium.webdriver.remote.webelement.WebElement (session=\"d9f21bceeafc69e227e363c421683083\", element=\"a824fbe8-bbde-4689-8221-729164485b4b\")>,\n",
       " <selenium.webdriver.remote.webelement.WebElement (session=\"d9f21bceeafc69e227e363c421683083\", element=\"7ea5c185-f1f9-4efe-bce8-6b35c8fc1d00\")>,\n",
       " <selenium.webdriver.remote.webelement.WebElement (session=\"d9f21bceeafc69e227e363c421683083\", element=\"10f14ed8-5eec-403a-859c-ec81b778344a\")>,\n",
       " <selenium.webdriver.remote.webelement.WebElement (session=\"d9f21bceeafc69e227e363c421683083\", element=\"a5ec9012-febe-48fa-be43-e9ba672d0ca6\")>]"
      ]
     },
     "execution_count": 862,
     "metadata": {},
     "output_type": "execute_result"
    }
   ],
   "source": [
    "Noida_des= driver.find_elements_by_xpath('//a[@class=\"title noclick\"]')\n",
    "Noida_des"
   ]
  },
  {
   "cell_type": "code",
   "execution_count": 863,
   "id": "5e84c663",
   "metadata": {},
   "outputs": [],
   "source": [
    "#Job title list\n",
    "job_titles = []\n",
    "for nd in Noida_des:\n",
    "    job_titles.append(nd.text)"
   ]
  },
  {
   "cell_type": "code",
   "execution_count": 864,
   "id": "d041acce",
   "metadata": {},
   "outputs": [
    {
     "data": {
      "text/plain": [
       "['Data Scientist',\n",
       " 'Urgent Requirement || Data Scientist || Noida',\n",
       " 'EY GDS - Assistant Director - Data Science - AI/ML (15-20 yrs)',\n",
       " 'Opportunity | Tavant India',\n",
       " 'Looking For Senior Data Scientist For Denave',\n",
       " 'Lead Assistant Manager',\n",
       " 'CogniTensor - Data Scientist (1-2 yrs)',\n",
       " 'Data Scientist | Data Engineer | Machine Learning',\n",
       " 'Data Scientist - Machine Learning (5-14 yrs)',\n",
       " 'Manager Data Scientist']"
      ]
     },
     "execution_count": 864,
     "metadata": {},
     "output_type": "execute_result"
    }
   ],
   "source": [
    "job_titles"
   ]
  },
  {
   "cell_type": "code",
   "execution_count": 865,
   "id": "6f7011fa",
   "metadata": {},
   "outputs": [
    {
     "data": {
      "text/plain": [
       "[<selenium.webdriver.remote.webelement.WebElement (session=\"d9f21bceeafc69e227e363c421683083\", element=\"1060f19e-1bca-43c3-8edf-9461e7cfcdfa\")>,\n",
       " <selenium.webdriver.remote.webelement.WebElement (session=\"d9f21bceeafc69e227e363c421683083\", element=\"c9bc6dfe-53ef-445f-bd3f-89357328fed0\")>,\n",
       " <selenium.webdriver.remote.webelement.WebElement (session=\"d9f21bceeafc69e227e363c421683083\", element=\"634f5ab6-22b5-40b5-ba7b-a15d30decef3\")>,\n",
       " <selenium.webdriver.remote.webelement.WebElement (session=\"d9f21bceeafc69e227e363c421683083\", element=\"f3d4dd37-6c4d-485c-b7a3-e6b3e52c1715\")>,\n",
       " <selenium.webdriver.remote.webelement.WebElement (session=\"d9f21bceeafc69e227e363c421683083\", element=\"0ad8ecbd-19e0-40e7-ae13-2d51555f6257\")>,\n",
       " <selenium.webdriver.remote.webelement.WebElement (session=\"d9f21bceeafc69e227e363c421683083\", element=\"acf5ea23-2192-408a-a852-3a1cb059d756\")>,\n",
       " <selenium.webdriver.remote.webelement.WebElement (session=\"d9f21bceeafc69e227e363c421683083\", element=\"a8ffacf5-21d2-4606-a852-6990bd483c2d\")>,\n",
       " <selenium.webdriver.remote.webelement.WebElement (session=\"d9f21bceeafc69e227e363c421683083\", element=\"375fa0ed-732a-4d76-a93f-4cf945c2bfe1\")>,\n",
       " <selenium.webdriver.remote.webelement.WebElement (session=\"d9f21bceeafc69e227e363c421683083\", element=\"aeb78cc8-c5c3-4068-9e95-a206d4e0d200\")>,\n",
       " <selenium.webdriver.remote.webelement.WebElement (session=\"d9f21bceeafc69e227e363c421683083\", element=\"1ae46b58-89c6-47f3-b85f-f512ef9ca4ab\")>]"
      ]
     },
     "execution_count": 865,
     "metadata": {},
     "output_type": "execute_result"
    }
   ],
   "source": [
    "# Company Name list\n",
    "Noida_com= driver.find_elements_by_xpath('//p[@class=\"company body-medium\"]')\n",
    "Noida_com"
   ]
  },
  {
   "cell_type": "code",
   "execution_count": 866,
   "id": "311b302a",
   "metadata": {},
   "outputs": [],
   "source": [
    "#Job Comapny list\n",
    "job_comp = []\n",
    "for jc in Noida_com:\n",
    "    job_comp.append(jc.text)\n"
   ]
  },
  {
   "cell_type": "code",
   "execution_count": 867,
   "id": "99ffdb56",
   "metadata": {},
   "outputs": [
    {
     "data": {
      "text/plain": [
       "['Jubilant Foodworks Limited',\n",
       " 'HCL Technologies',\n",
       " 'EY GDS',\n",
       " 'Tavant Technologies India Pvt. Ltd.',\n",
       " 'Denave India Pvt Ltd.',\n",
       " 'EXL Service',\n",
       " 'CHT Sapiense',\n",
       " 'Pitney Bowes India Pvt ltd',\n",
       " 'Zyoin',\n",
       " 'Ameriprise Financial']"
      ]
     },
     "execution_count": 867,
     "metadata": {},
     "output_type": "execute_result"
    }
   ],
   "source": [
    "job_comp"
   ]
  },
  {
   "cell_type": "code",
   "execution_count": 868,
   "id": "a4b3e149",
   "metadata": {},
   "outputs": [
    {
     "data": {
      "text/plain": [
       "[<selenium.webdriver.remote.webelement.WebElement (session=\"d9f21bceeafc69e227e363c421683083\", element=\"ba96cf9e-de81-4295-a97f-d459077c04ce\")>,\n",
       " <selenium.webdriver.remote.webelement.WebElement (session=\"d9f21bceeafc69e227e363c421683083\", element=\"120e9fa6-f2be-432a-b56d-d058ab01d776\")>,\n",
       " <selenium.webdriver.remote.webelement.WebElement (session=\"d9f21bceeafc69e227e363c421683083\", element=\"969b48bc-9eeb-4183-a07f-b02da0b1293d\")>,\n",
       " <selenium.webdriver.remote.webelement.WebElement (session=\"d9f21bceeafc69e227e363c421683083\", element=\"ba81820c-fe5f-4a70-a7e0-b6f034c78684\")>,\n",
       " <selenium.webdriver.remote.webelement.WebElement (session=\"d9f21bceeafc69e227e363c421683083\", element=\"c272ff5a-a5ef-4b40-99ed-45c91825a036\")>,\n",
       " <selenium.webdriver.remote.webelement.WebElement (session=\"d9f21bceeafc69e227e363c421683083\", element=\"398699ba-5f4a-4d29-a747-27318606dca8\")>,\n",
       " <selenium.webdriver.remote.webelement.WebElement (session=\"d9f21bceeafc69e227e363c421683083\", element=\"a803138e-2fe9-45d6-adf2-b39005f07a77\")>,\n",
       " <selenium.webdriver.remote.webelement.WebElement (session=\"d9f21bceeafc69e227e363c421683083\", element=\"9a284a96-edea-4d6d-a038-d0d3fabc0cd5\")>,\n",
       " <selenium.webdriver.remote.webelement.WebElement (session=\"d9f21bceeafc69e227e363c421683083\", element=\"6598cb8e-e630-441b-9014-cbed32fd3b91\")>,\n",
       " <selenium.webdriver.remote.webelement.WebElement (session=\"d9f21bceeafc69e227e363c421683083\", element=\"18f2b71a-5f96-44c6-952f-53dce7dc4412\")>]"
      ]
     },
     "execution_count": 868,
     "metadata": {},
     "output_type": "execute_result"
    }
   ],
   "source": [
    "# Company expirence required list\n",
    "Noida_exp= driver.find_elements_by_xpath('//div[@class=\"other-info\"]')\n",
    "Noida_exp"
   ]
  },
  {
   "cell_type": "code",
   "execution_count": 871,
   "id": "75959b90",
   "metadata": {},
   "outputs": [],
   "source": [
    "#Comapny Experience list\n",
    "job_exp = []\n",
    "for je in Noida_exp:\n",
    "    job_exp.append(je.text.splitlines()[0])\n"
   ]
  },
  {
   "cell_type": "code",
   "execution_count": 872,
   "id": "dc76c31d",
   "metadata": {},
   "outputs": [
    {
     "data": {
      "text/plain": [
       "['2-5 Yrs',\n",
       " '3-8 Yrs',\n",
       " '15-20 Yrs',\n",
       " '4-9 Yrs',\n",
       " '7-12 Yrs',\n",
       " '0-5 Yrs',\n",
       " '1-2 Yrs',\n",
       " '4-9 Yrs',\n",
       " '5-14 Yrs',\n",
       " '4-6 Yrs']"
      ]
     },
     "execution_count": 872,
     "metadata": {},
     "output_type": "execute_result"
    }
   ],
   "source": [
    "job_exp"
   ]
  },
  {
   "cell_type": "code",
   "execution_count": 873,
   "id": "aecf6608",
   "metadata": {},
   "outputs": [],
   "source": [
    "# FInal Data Frame\n",
    "job_details = pd.DataFrame({'Title' :job_titles,'Company Name':job_comp,'Experience Required':job_exp})\n"
   ]
  },
  {
   "cell_type": "code",
   "execution_count": 874,
   "id": "0c53b6c3",
   "metadata": {},
   "outputs": [
    {
     "data": {
      "text/html": [
       "<div>\n",
       "<style scoped>\n",
       "    .dataframe tbody tr th:only-of-type {\n",
       "        vertical-align: middle;\n",
       "    }\n",
       "\n",
       "    .dataframe tbody tr th {\n",
       "        vertical-align: top;\n",
       "    }\n",
       "\n",
       "    .dataframe thead th {\n",
       "        text-align: right;\n",
       "    }\n",
       "</style>\n",
       "<table border=\"1\" class=\"dataframe\">\n",
       "  <thead>\n",
       "    <tr style=\"text-align: right;\">\n",
       "      <th></th>\n",
       "      <th>Title</th>\n",
       "      <th>Company Name</th>\n",
       "      <th>Experience Required</th>\n",
       "    </tr>\n",
       "  </thead>\n",
       "  <tbody>\n",
       "    <tr>\n",
       "      <th>0</th>\n",
       "      <td>Data Scientist</td>\n",
       "      <td>Jubilant Foodworks Limited</td>\n",
       "      <td>2-5 Yrs</td>\n",
       "    </tr>\n",
       "    <tr>\n",
       "      <th>1</th>\n",
       "      <td>Urgent Requirement || Data Scientist || Noida</td>\n",
       "      <td>HCL Technologies</td>\n",
       "      <td>3-8 Yrs</td>\n",
       "    </tr>\n",
       "    <tr>\n",
       "      <th>2</th>\n",
       "      <td>EY GDS - Assistant Director - Data Science - A...</td>\n",
       "      <td>EY GDS</td>\n",
       "      <td>15-20 Yrs</td>\n",
       "    </tr>\n",
       "    <tr>\n",
       "      <th>3</th>\n",
       "      <td>Opportunity | Tavant India</td>\n",
       "      <td>Tavant Technologies India Pvt. Ltd.</td>\n",
       "      <td>4-9 Yrs</td>\n",
       "    </tr>\n",
       "    <tr>\n",
       "      <th>4</th>\n",
       "      <td>Looking For Senior Data Scientist For Denave</td>\n",
       "      <td>Denave India Pvt Ltd.</td>\n",
       "      <td>7-12 Yrs</td>\n",
       "    </tr>\n",
       "    <tr>\n",
       "      <th>5</th>\n",
       "      <td>Lead Assistant Manager</td>\n",
       "      <td>EXL Service</td>\n",
       "      <td>0-5 Yrs</td>\n",
       "    </tr>\n",
       "    <tr>\n",
       "      <th>6</th>\n",
       "      <td>CogniTensor - Data Scientist (1-2 yrs)</td>\n",
       "      <td>CHT Sapiense</td>\n",
       "      <td>1-2 Yrs</td>\n",
       "    </tr>\n",
       "    <tr>\n",
       "      <th>7</th>\n",
       "      <td>Data Scientist | Data Engineer | Machine Learning</td>\n",
       "      <td>Pitney Bowes India Pvt ltd</td>\n",
       "      <td>4-9 Yrs</td>\n",
       "    </tr>\n",
       "    <tr>\n",
       "      <th>8</th>\n",
       "      <td>Data Scientist - Machine Learning (5-14 yrs)</td>\n",
       "      <td>Zyoin</td>\n",
       "      <td>5-14 Yrs</td>\n",
       "    </tr>\n",
       "    <tr>\n",
       "      <th>9</th>\n",
       "      <td>Manager Data Scientist</td>\n",
       "      <td>Ameriprise Financial</td>\n",
       "      <td>4-6 Yrs</td>\n",
       "    </tr>\n",
       "  </tbody>\n",
       "</table>\n",
       "</div>"
      ],
      "text/plain": [
       "                                               Title  \\\n",
       "0                                     Data Scientist   \n",
       "1      Urgent Requirement || Data Scientist || Noida   \n",
       "2  EY GDS - Assistant Director - Data Science - A...   \n",
       "3                         Opportunity | Tavant India   \n",
       "4       Looking For Senior Data Scientist For Denave   \n",
       "5                             Lead Assistant Manager   \n",
       "6             CogniTensor - Data Scientist (1-2 yrs)   \n",
       "7  Data Scientist | Data Engineer | Machine Learning   \n",
       "8       Data Scientist - Machine Learning (5-14 yrs)   \n",
       "9                             Manager Data Scientist   \n",
       "\n",
       "                          Company Name Experience Required  \n",
       "0           Jubilant Foodworks Limited             2-5 Yrs  \n",
       "1                     HCL Technologies             3-8 Yrs  \n",
       "2                               EY GDS           15-20 Yrs  \n",
       "3  Tavant Technologies India Pvt. Ltd.             4-9 Yrs  \n",
       "4                Denave India Pvt Ltd.            7-12 Yrs  \n",
       "5                          EXL Service             0-5 Yrs  \n",
       "6                         CHT Sapiense             1-2 Yrs  \n",
       "7           Pitney Bowes India Pvt ltd             4-9 Yrs  \n",
       "8                                Zyoin            5-14 Yrs  \n",
       "9                 Ameriprise Financial             4-6 Yrs  "
      ]
     },
     "execution_count": 874,
     "metadata": {},
     "output_type": "execute_result"
    }
   ],
   "source": [
    "job_details"
   ]
  },
  {
   "cell_type": "markdown",
   "id": "0b1dd74e",
   "metadata": {},
   "source": [
    "# Question Number 10:"
   ]
  },
  {
   "cell_type": "code",
   "execution_count": 904,
   "id": "a7257885",
   "metadata": {},
   "outputs": [],
   "source": [
    "url10 = 'http://www.ambitionbox.com/'\n",
    "driver.get(url10) "
   ]
  },
  {
   "cell_type": "code",
   "execution_count": 905,
   "id": "ad163db9",
   "metadata": {},
   "outputs": [
    {
     "data": {
      "text/plain": [
       "<selenium.webdriver.remote.webelement.WebElement (session=\"d9f21bceeafc69e227e363c421683083\", element=\"e231a717-4824-4df1-9ad1-127c0efd3869\")>"
      ]
     },
     "execution_count": 905,
     "metadata": {},
     "output_type": "execute_result"
    }
   ],
   "source": [
    "#  Job Search button click\n",
    "job10= driver.find_element_by_xpath('/html/body/div[1]/nav/nav/a[4]')\n",
    "job10"
   ]
  },
  {
   "cell_type": "code",
   "execution_count": 906,
   "id": "8f26269b",
   "metadata": {},
   "outputs": [],
   "source": [
    "job10.click()"
   ]
  },
  {
   "cell_type": "code",
   "execution_count": 907,
   "id": "a86930dc",
   "metadata": {},
   "outputs": [
    {
     "data": {
      "text/plain": [
       "<selenium.webdriver.remote.webelement.WebElement (session=\"d9f21bceeafc69e227e363c421683083\", element=\"801cac4a-a232-4d44-99a2-6d86cc366d88\")>"
      ]
     },
     "execution_count": 907,
     "metadata": {},
     "output_type": "execute_result"
    }
   ],
   "source": [
    "# Search Job- Data scientist\n",
    "search_job10= driver.find_element_by_xpath('/html/body/div/div/div/main/section[1]/div[2]/div[1]/span/input')\n",
    "search_job10"
   ]
  },
  {
   "cell_type": "code",
   "execution_count": 908,
   "id": "3ade4112",
   "metadata": {},
   "outputs": [],
   "source": [
    "# write on search bar\n",
    "search_job10.send_keys(\"Data Scientist\")"
   ]
  },
  {
   "cell_type": "code",
   "execution_count": 909,
   "id": "f4c0b653",
   "metadata": {},
   "outputs": [
    {
     "data": {
      "text/plain": [
       "<selenium.webdriver.remote.webelement.WebElement (session=\"d9f21bceeafc69e227e363c421683083\", element=\"68448e72-470c-424b-baf8-cd79328afd61\")>"
      ]
     },
     "execution_count": 909,
     "metadata": {},
     "output_type": "execute_result"
    }
   ],
   "source": [
    "# Clicking the search button\n",
    "btn_src= driver.find_element_by_xpath('//div[@class=\"top-row\"]')\n",
    "btn_src"
   ]
  },
  {
   "cell_type": "code",
   "execution_count": 910,
   "id": "c0981f5a",
   "metadata": {},
   "outputs": [],
   "source": [
    "btn_src.click()"
   ]
  },
  {
   "cell_type": "code",
   "execution_count": 911,
   "id": "cca62678",
   "metadata": {},
   "outputs": [
    {
     "data": {
      "text/plain": [
       "[<selenium.webdriver.remote.webelement.WebElement (session=\"d9f21bceeafc69e227e363c421683083\", element=\"3517f71c-acea-42e5-a3e6-a22930f3bc90\")>,\n",
       " <selenium.webdriver.remote.webelement.WebElement (session=\"d9f21bceeafc69e227e363c421683083\", element=\"81f46493-d102-4c51-850b-9a8384619db0\")>,\n",
       " <selenium.webdriver.remote.webelement.WebElement (session=\"d9f21bceeafc69e227e363c421683083\", element=\"ae96f776-f38d-49b3-b7f7-a2f26dae7c45\")>,\n",
       " <selenium.webdriver.remote.webelement.WebElement (session=\"d9f21bceeafc69e227e363c421683083\", element=\"d22f46e2-4970-4a05-a2ef-dbad999071c7\")>,\n",
       " <selenium.webdriver.remote.webelement.WebElement (session=\"d9f21bceeafc69e227e363c421683083\", element=\"eceb50df-2539-4993-91d4-af4852d0387f\")>,\n",
       " <selenium.webdriver.remote.webelement.WebElement (session=\"d9f21bceeafc69e227e363c421683083\", element=\"42b0e079-f612-4894-b33d-9e2f879f30aa\")>,\n",
       " <selenium.webdriver.remote.webelement.WebElement (session=\"d9f21bceeafc69e227e363c421683083\", element=\"46f6090a-afa9-4e8a-83ed-b772d962794b\")>,\n",
       " <selenium.webdriver.remote.webelement.WebElement (session=\"d9f21bceeafc69e227e363c421683083\", element=\"a18536df-5f2f-414d-bc1f-e42c9f60f158\")>,\n",
       " <selenium.webdriver.remote.webelement.WebElement (session=\"d9f21bceeafc69e227e363c421683083\", element=\"93edc725-5226-4b15-bdb0-6317acebb1bf\")>,\n",
       " <selenium.webdriver.remote.webelement.WebElement (session=\"d9f21bceeafc69e227e363c421683083\", element=\"9b84b2ab-2e31-4c4d-9206-f9720f9f360e\")>]"
      ]
     },
     "execution_count": 911,
     "metadata": {},
     "output_type": "execute_result"
    }
   ],
   "source": [
    "# Company expirence required list\n",
    "comp_name= driver.find_elements_by_xpath('//div[@class=\"name\"]')\n",
    "comp_name"
   ]
  },
  {
   "cell_type": "code",
   "execution_count": 917,
   "id": "cd730deb",
   "metadata": {},
   "outputs": [],
   "source": [
    "#Job title list\n",
    "job_titles = []\n",
    "job_total_sal_rec  =[]\n",
    "for jt in comp_name:\n",
    "    job_titles.append(jt.text.splitlines()[0])\n",
    "    job_total_sal_rec.append(jt.text.splitlines()[1])"
   ]
  },
  {
   "cell_type": "code",
   "execution_count": 918,
   "id": "18accc05",
   "metadata": {},
   "outputs": [
    {
     "data": {
      "text/plain": [
       "['Walmart',\n",
       " 'Ab Inbev',\n",
       " 'ZS',\n",
       " 'Optum',\n",
       " 'Fractal Analytics',\n",
       " 'Tiger Analytics',\n",
       " 'UnitedHealth',\n",
       " 'Verizon',\n",
       " 'Ganit Business Solutions',\n",
       " 'Ericsson']"
      ]
     },
     "execution_count": 918,
     "metadata": {},
     "output_type": "execute_result"
    }
   ],
   "source": [
    "job_titles"
   ]
  },
  {
   "cell_type": "code",
   "execution_count": 919,
   "id": "62b0f867",
   "metadata": {},
   "outputs": [
    {
     "data": {
      "text/plain": [
       "['based on 10 salaries',\n",
       " 'based on 25 salaries',\n",
       " 'based on 13 salaries',\n",
       " 'based on 25 salaries',\n",
       " 'based on 75 salaries',\n",
       " 'based on 30 salaries',\n",
       " 'based on 51 salaries',\n",
       " 'based on 14 salaries',\n",
       " 'based on 13 salaries',\n",
       " 'based on 43 salaries']"
      ]
     },
     "execution_count": 919,
     "metadata": {},
     "output_type": "execute_result"
    }
   ],
   "source": [
    "job_total_sal_rec"
   ]
  },
  {
   "cell_type": "code",
   "execution_count": 920,
   "id": "c22c2cb9",
   "metadata": {},
   "outputs": [
    {
     "data": {
      "text/plain": [
       "[<selenium.webdriver.remote.webelement.WebElement (session=\"d9f21bceeafc69e227e363c421683083\", element=\"e1dd9ec5-f5ee-4076-9867-5207b0ca9d91\")>,\n",
       " <selenium.webdriver.remote.webelement.WebElement (session=\"d9f21bceeafc69e227e363c421683083\", element=\"5f14aa77-19be-4cfc-87b9-c4282ad77ce4\")>,\n",
       " <selenium.webdriver.remote.webelement.WebElement (session=\"d9f21bceeafc69e227e363c421683083\", element=\"94f0ad7a-cf94-4a9c-8fb9-23fe2ddb282d\")>,\n",
       " <selenium.webdriver.remote.webelement.WebElement (session=\"d9f21bceeafc69e227e363c421683083\", element=\"28317d65-66ad-4ef7-9dd8-e02b473369c4\")>,\n",
       " <selenium.webdriver.remote.webelement.WebElement (session=\"d9f21bceeafc69e227e363c421683083\", element=\"296e821f-8be3-4c0f-8f22-d76dbc95dbe7\")>,\n",
       " <selenium.webdriver.remote.webelement.WebElement (session=\"d9f21bceeafc69e227e363c421683083\", element=\"71162322-19f6-4f3b-b55d-97d43560128d\")>,\n",
       " <selenium.webdriver.remote.webelement.WebElement (session=\"d9f21bceeafc69e227e363c421683083\", element=\"21647822-5bec-4f0b-8eec-100bf034c098\")>,\n",
       " <selenium.webdriver.remote.webelement.WebElement (session=\"d9f21bceeafc69e227e363c421683083\", element=\"8a8e16d8-1b30-435d-9d7c-587c2a17ebc6\")>,\n",
       " <selenium.webdriver.remote.webelement.WebElement (session=\"d9f21bceeafc69e227e363c421683083\", element=\"1accae7b-2f03-4fea-b210-e0f4d08ea532\")>,\n",
       " <selenium.webdriver.remote.webelement.WebElement (session=\"d9f21bceeafc69e227e363c421683083\", element=\"12ca2abc-8f27-4bab-8640-5c45fd39379f\")>]"
      ]
     },
     "execution_count": 920,
     "metadata": {},
     "output_type": "execute_result"
    }
   ],
   "source": [
    "# Company expirence required list\n",
    "comp_exp= driver.find_elements_by_xpath('//div[@class=\"salaries sbold-list-header\"]')\n",
    "comp_exp"
   ]
  },
  {
   "cell_type": "code",
   "execution_count": 927,
   "id": "c981aea6",
   "metadata": {},
   "outputs": [],
   "source": [
    "#Job Experience list\n",
    "job_exp = []\n",
    "for je in comp_exp:\n",
    "    job_exp.append(je.text.splitlines()[2])"
   ]
  },
  {
   "cell_type": "code",
   "execution_count": 928,
   "id": "cb738ebc",
   "metadata": {},
   "outputs": [
    {
     "data": {
      "text/plain": [
       "['3 yrs exp',\n",
       " '3-4 yrs exp',\n",
       " '2 yrs exp',\n",
       " '3-4 yrs exp',\n",
       " '2-4 yrs exp',\n",
       " '3-4 yrs exp',\n",
       " '2-4 yrs exp',\n",
       " '4 yrs exp',\n",
       " '4 yrs exp',\n",
       " '3-4 yrs exp']"
      ]
     },
     "execution_count": 928,
     "metadata": {},
     "output_type": "execute_result"
    }
   ],
   "source": [
    "job_exp"
   ]
  },
  {
   "cell_type": "code",
   "execution_count": 929,
   "id": "f86db7dc",
   "metadata": {},
   "outputs": [
    {
     "data": {
      "text/plain": [
       "[<selenium.webdriver.remote.webelement.WebElement (session=\"d9f21bceeafc69e227e363c421683083\", element=\"b6d1aaf1-4c95-4973-9124-8d61c1d4ab94\")>,\n",
       " <selenium.webdriver.remote.webelement.WebElement (session=\"d9f21bceeafc69e227e363c421683083\", element=\"ca71cb05-641a-40bf-8f6f-df82bd35400c\")>,\n",
       " <selenium.webdriver.remote.webelement.WebElement (session=\"d9f21bceeafc69e227e363c421683083\", element=\"79ca8e9a-1d11-4a02-b6be-784ccbfcf30e\")>,\n",
       " <selenium.webdriver.remote.webelement.WebElement (session=\"d9f21bceeafc69e227e363c421683083\", element=\"cba84d10-7932-4568-bfd6-552574594fd3\")>,\n",
       " <selenium.webdriver.remote.webelement.WebElement (session=\"d9f21bceeafc69e227e363c421683083\", element=\"c789aae1-a074-4caf-9757-0ccda4007908\")>,\n",
       " <selenium.webdriver.remote.webelement.WebElement (session=\"d9f21bceeafc69e227e363c421683083\", element=\"bb632ce5-8f5e-4c78-a938-b61d96f42ca3\")>,\n",
       " <selenium.webdriver.remote.webelement.WebElement (session=\"d9f21bceeafc69e227e363c421683083\", element=\"9f194ff1-a266-45b3-94c5-def860dcafce\")>,\n",
       " <selenium.webdriver.remote.webelement.WebElement (session=\"d9f21bceeafc69e227e363c421683083\", element=\"7d56cd79-588f-4392-8561-ab90cf9365af\")>,\n",
       " <selenium.webdriver.remote.webelement.WebElement (session=\"d9f21bceeafc69e227e363c421683083\", element=\"e2f31199-f66c-44a4-827f-2126a5d4e6da\")>,\n",
       " <selenium.webdriver.remote.webelement.WebElement (session=\"d9f21bceeafc69e227e363c421683083\", element=\"47ef1cee-b88d-45b5-ae69-2d28c5aa8344\")>]"
      ]
     },
     "execution_count": 929,
     "metadata": {},
     "output_type": "execute_result"
    }
   ],
   "source": [
    "# Salary extraction Min, mAx and Average\n",
    "comp_sal= driver.find_elements_by_xpath('//div[@class=\"result-col salary-range\"]')\n",
    "comp_sal"
   ]
  },
  {
   "cell_type": "code",
   "execution_count": 934,
   "id": "2e008b71",
   "metadata": {},
   "outputs": [],
   "source": [
    "job_sal_min = []\n",
    "job_sal_max = []\n",
    "job_sal_avg = []\n",
    "for js in comp_sal:\n",
    "    job_sal_min.append(js.text.splitlines()[0])\n",
    "    job_sal_avg.append(js.text.splitlines()[1])\n",
    "    job_sal_max.append(js.text.splitlines()[2])"
   ]
  },
  {
   "cell_type": "code",
   "execution_count": 935,
   "id": "61c54b9c",
   "metadata": {},
   "outputs": [
    {
     "data": {
      "text/plain": [
       "['₹ 28.7L',\n",
       " '₹ 20.2L',\n",
       " '₹ 15.5L',\n",
       " '₹ 15.1L',\n",
       " '₹ 15.1L',\n",
       " '₹ 14.2L',\n",
       " '₹ 13.8L',\n",
       " '₹ 12.7L',\n",
       " '₹ 12.4L',\n",
       " '₹ 11.9L']"
      ]
     },
     "execution_count": 935,
     "metadata": {},
     "output_type": "execute_result"
    }
   ],
   "source": [
    "job_sal_min"
   ]
  },
  {
   "cell_type": "code",
   "execution_count": 937,
   "id": "dc58d663",
   "metadata": {},
   "outputs": [
    {
     "data": {
      "text/plain": [
       "['₹ 17.7L',\n",
       " '₹ 15.0L',\n",
       " '₹ 9.8L',\n",
       " '₹ 11.0L',\n",
       " '₹ 9.5L',\n",
       " '₹ 9.0L',\n",
       " '₹ 8.3L',\n",
       " '₹ 10.0L',\n",
       " '₹ 8.5L',\n",
       " '₹ 5.8L']"
      ]
     },
     "execution_count": 937,
     "metadata": {},
     "output_type": "execute_result"
    }
   ],
   "source": [
    "job_sal_avg"
   ]
  },
  {
   "cell_type": "code",
   "execution_count": 938,
   "id": "d62d2b4d",
   "metadata": {},
   "outputs": [
    {
     "data": {
      "text/plain": [
       "['₹ 35.0L',\n",
       " '₹ 25.5L',\n",
       " '₹ 20.0L',\n",
       " '₹ 21.3L',\n",
       " '₹ 22.0L',\n",
       " '₹ 18.5L',\n",
       " '₹ 20.5L',\n",
       " '₹ 21.0L',\n",
       " '₹ 15.0L',\n",
       " '₹ 24.0L']"
      ]
     },
     "execution_count": 938,
     "metadata": {},
     "output_type": "execute_result"
    }
   ],
   "source": [
    "job_sal_max"
   ]
  },
  {
   "cell_type": "code",
   "execution_count": 941,
   "id": "1a88d9a2",
   "metadata": {},
   "outputs": [],
   "source": [
    "# Creating final Data Set\n",
    "\n",
    "# FInal Data Frame\n",
    "job_sal_details = pd.DataFrame({'Company Name' :job_titles,'Total Salary Record':job_total_sal_rec,'Experience Required':job_exp,'Minimun Salary':job_sal_min,'Maximum Salary':job_sal_max,'Average Salary':job_sal_avg})\n"
   ]
  },
  {
   "cell_type": "code",
   "execution_count": 942,
   "id": "40c85b67",
   "metadata": {},
   "outputs": [
    {
     "data": {
      "text/html": [
       "<div>\n",
       "<style scoped>\n",
       "    .dataframe tbody tr th:only-of-type {\n",
       "        vertical-align: middle;\n",
       "    }\n",
       "\n",
       "    .dataframe tbody tr th {\n",
       "        vertical-align: top;\n",
       "    }\n",
       "\n",
       "    .dataframe thead th {\n",
       "        text-align: right;\n",
       "    }\n",
       "</style>\n",
       "<table border=\"1\" class=\"dataframe\">\n",
       "  <thead>\n",
       "    <tr style=\"text-align: right;\">\n",
       "      <th></th>\n",
       "      <th>Company Name</th>\n",
       "      <th>Total Salary Record</th>\n",
       "      <th>Experience Required</th>\n",
       "      <th>Minimun Salary</th>\n",
       "      <th>Maximum Salary</th>\n",
       "      <th>Average Salary</th>\n",
       "    </tr>\n",
       "  </thead>\n",
       "  <tbody>\n",
       "    <tr>\n",
       "      <th>0</th>\n",
       "      <td>Walmart</td>\n",
       "      <td>based on 10 salaries</td>\n",
       "      <td>3 yrs exp</td>\n",
       "      <td>₹ 28.7L</td>\n",
       "      <td>₹ 35.0L</td>\n",
       "      <td>₹ 17.7L</td>\n",
       "    </tr>\n",
       "    <tr>\n",
       "      <th>1</th>\n",
       "      <td>Ab Inbev</td>\n",
       "      <td>based on 25 salaries</td>\n",
       "      <td>3-4 yrs exp</td>\n",
       "      <td>₹ 20.2L</td>\n",
       "      <td>₹ 25.5L</td>\n",
       "      <td>₹ 15.0L</td>\n",
       "    </tr>\n",
       "    <tr>\n",
       "      <th>2</th>\n",
       "      <td>ZS</td>\n",
       "      <td>based on 13 salaries</td>\n",
       "      <td>2 yrs exp</td>\n",
       "      <td>₹ 15.5L</td>\n",
       "      <td>₹ 20.0L</td>\n",
       "      <td>₹ 9.8L</td>\n",
       "    </tr>\n",
       "    <tr>\n",
       "      <th>3</th>\n",
       "      <td>Optum</td>\n",
       "      <td>based on 25 salaries</td>\n",
       "      <td>3-4 yrs exp</td>\n",
       "      <td>₹ 15.1L</td>\n",
       "      <td>₹ 21.3L</td>\n",
       "      <td>₹ 11.0L</td>\n",
       "    </tr>\n",
       "    <tr>\n",
       "      <th>4</th>\n",
       "      <td>Fractal Analytics</td>\n",
       "      <td>based on 75 salaries</td>\n",
       "      <td>2-4 yrs exp</td>\n",
       "      <td>₹ 15.1L</td>\n",
       "      <td>₹ 22.0L</td>\n",
       "      <td>₹ 9.5L</td>\n",
       "    </tr>\n",
       "    <tr>\n",
       "      <th>5</th>\n",
       "      <td>Tiger Analytics</td>\n",
       "      <td>based on 30 salaries</td>\n",
       "      <td>3-4 yrs exp</td>\n",
       "      <td>₹ 14.2L</td>\n",
       "      <td>₹ 18.5L</td>\n",
       "      <td>₹ 9.0L</td>\n",
       "    </tr>\n",
       "    <tr>\n",
       "      <th>6</th>\n",
       "      <td>UnitedHealth</td>\n",
       "      <td>based on 51 salaries</td>\n",
       "      <td>2-4 yrs exp</td>\n",
       "      <td>₹ 13.8L</td>\n",
       "      <td>₹ 20.5L</td>\n",
       "      <td>₹ 8.3L</td>\n",
       "    </tr>\n",
       "    <tr>\n",
       "      <th>7</th>\n",
       "      <td>Verizon</td>\n",
       "      <td>based on 14 salaries</td>\n",
       "      <td>4 yrs exp</td>\n",
       "      <td>₹ 12.7L</td>\n",
       "      <td>₹ 21.0L</td>\n",
       "      <td>₹ 10.0L</td>\n",
       "    </tr>\n",
       "    <tr>\n",
       "      <th>8</th>\n",
       "      <td>Ganit Business Solutions</td>\n",
       "      <td>based on 13 salaries</td>\n",
       "      <td>4 yrs exp</td>\n",
       "      <td>₹ 12.4L</td>\n",
       "      <td>₹ 15.0L</td>\n",
       "      <td>₹ 8.5L</td>\n",
       "    </tr>\n",
       "    <tr>\n",
       "      <th>9</th>\n",
       "      <td>Ericsson</td>\n",
       "      <td>based on 43 salaries</td>\n",
       "      <td>3-4 yrs exp</td>\n",
       "      <td>₹ 11.9L</td>\n",
       "      <td>₹ 24.0L</td>\n",
       "      <td>₹ 5.8L</td>\n",
       "    </tr>\n",
       "  </tbody>\n",
       "</table>\n",
       "</div>"
      ],
      "text/plain": [
       "               Company Name   Total Salary Record Experience Required  \\\n",
       "0                   Walmart  based on 10 salaries           3 yrs exp   \n",
       "1                  Ab Inbev  based on 25 salaries         3-4 yrs exp   \n",
       "2                        ZS  based on 13 salaries           2 yrs exp   \n",
       "3                     Optum  based on 25 salaries         3-4 yrs exp   \n",
       "4         Fractal Analytics  based on 75 salaries         2-4 yrs exp   \n",
       "5           Tiger Analytics  based on 30 salaries         3-4 yrs exp   \n",
       "6              UnitedHealth  based on 51 salaries         2-4 yrs exp   \n",
       "7                   Verizon  based on 14 salaries           4 yrs exp   \n",
       "8  Ganit Business Solutions  based on 13 salaries           4 yrs exp   \n",
       "9                  Ericsson  based on 43 salaries         3-4 yrs exp   \n",
       "\n",
       "  Minimun Salary Maximum Salary Average Salary  \n",
       "0        ₹ 28.7L        ₹ 35.0L        ₹ 17.7L  \n",
       "1        ₹ 20.2L        ₹ 25.5L        ₹ 15.0L  \n",
       "2        ₹ 15.5L        ₹ 20.0L         ₹ 9.8L  \n",
       "3        ₹ 15.1L        ₹ 21.3L        ₹ 11.0L  \n",
       "4        ₹ 15.1L        ₹ 22.0L         ₹ 9.5L  \n",
       "5        ₹ 14.2L        ₹ 18.5L         ₹ 9.0L  \n",
       "6        ₹ 13.8L        ₹ 20.5L         ₹ 8.3L  \n",
       "7        ₹ 12.7L        ₹ 21.0L        ₹ 10.0L  \n",
       "8        ₹ 12.4L        ₹ 15.0L         ₹ 8.5L  \n",
       "9        ₹ 11.9L        ₹ 24.0L         ₹ 5.8L  "
      ]
     },
     "execution_count": 942,
     "metadata": {},
     "output_type": "execute_result"
    }
   ],
   "source": [
    "job_sal_details"
   ]
  },
  {
   "cell_type": "code",
   "execution_count": null,
   "id": "8e1090fe",
   "metadata": {},
   "outputs": [],
   "source": []
  }
 ],
 "metadata": {
  "kernelspec": {
   "display_name": "Python 3",
   "language": "python",
   "name": "python3"
  },
  "language_info": {
   "codemirror_mode": {
    "name": "ipython",
    "version": 3
   },
   "file_extension": ".py",
   "mimetype": "text/x-python",
   "name": "python",
   "nbconvert_exporter": "python",
   "pygments_lexer": "ipython3",
   "version": "3.8.8"
  }
 },
 "nbformat": 4,
 "nbformat_minor": 5
}
